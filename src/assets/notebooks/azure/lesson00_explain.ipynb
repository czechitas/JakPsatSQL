{
    "metadata": {
        "kernelspec": {
            "name": "SQL",
            "display_name": "SQL",
            "language": "sql"
        },
        "language_info": {
            "name": "sql",
            "version": ""
        }
    },
    "nbformat_minor": 2,
    "nbformat": 4,
    "cells": [
        {
            "cell_type": "markdown",
            "source": [
                "## První select\n",
                "\n",
                "- klíčová slova\n",
                "- velikost písmen\n",
                "- kuk"
            ],
            "metadata": {
                "azdata_cell_guid": "3bd66618-8fab-452b-8069-af6eeade228d"
            }
        },
        {
            "cell_type": "code",
            "source": [
                "SELECT 1;   -- vybere 1\n",
                "SELECT '1'; -- vybere '1'"
            ],
            "metadata": {
                "azdata_cell_guid": "ebad57ed-d2d4-4e60-bf83-7d9c3890a309",
                "tags": []
            },
            "outputs": [],
            "execution_count": null
        },
        {
            "cell_type": "markdown",
            "source": [
                "## Kalkulačka?\n",
                "- Sčítání, odčítání, násobení, všechno funguje, jak má"
            ],
            "metadata": {
                "azdata_cell_guid": "e33c91ee-6a44-4473-84af-99a4e62aa01d"
            }
        },
        {
            "cell_type": "code",
            "source": [
                "SELECT 25 * 30; -- 750\n",
                "SELECT 25 * 0;  -- 0\n",
                "SELECT 25 / 2.5; -- 10.0\n",
                "SELECT 25/0; -- division by zero"
            ],
            "metadata": {
                "azdata_cell_guid": "7af01d21-146a-46b2-b954-83e5f3d4aa78",
                "tags": []
            },
            "outputs": [],
            "execution_count": null
        },
        {
            "cell_type": "markdown",
            "source": [
                "## Všechny sloupce a řádky\n",
                "\n",
                "- Prostě vybereme všechno"
            ],
            "metadata": {
                "azdata_cell_guid": "87a82a44-1f8d-4e85-bbd5-18d96a0225ba"
            }
        },
        {
            "cell_type": "code",
            "source": [
                "SELECT * FROM teror; -- vybere vsechny sloupce a radky z tabulky teror"
            ],
            "metadata": {
                "azdata_cell_guid": "e5f1f5f9-936e-4cab-b3b0-d0b1d36997da"
            },
            "outputs": [],
            "execution_count": null
        },
        {
            "cell_type": "markdown",
            "source": [
                "## Omezení výběru sloupce/ů"
            ],
            "metadata": {
                "azdata_cell_guid": "fb0d2531-5714-4fc3-8768-a3afc3ba25b3"
            }
        },
        {
            "cell_type": "code",
            "source": [
                "SELECT nkillter FROM teror; -- vybere pouze sloupec nkillter z tabulky teror"
            ],
            "metadata": {
                "azdata_cell_guid": "4bad50e2-5a44-40b7-b8b2-da558a68ff21"
            },
            "outputs": [],
            "execution_count": null
        },
        {
            "cell_type": "markdown",
            "source": [
                "## TOP"
            ],
            "metadata": {
                "azdata_cell_guid": "0b3caff3-b25d-4c40-8c07-872507567b21"
            }
        },
        {
            "cell_type": "code",
            "source": [
                "SELECT TOP 10 * FROM teror; -- vybere 10 nahodnych radku z tabulky teror"
            ],
            "metadata": {
                "azdata_cell_guid": "18b2eb7a-8c7c-48a5-a9f9-75d2062f96c2"
            },
            "outputs": [],
            "execution_count": null
        },
        {
            "cell_type": "markdown",
            "source": [
                "## DISTINCT"
            ],
            "metadata": {
                "azdata_cell_guid": "511ebb3f-69e5-4273-8e76-fe1b07dff261"
            }
        },
        {
            "cell_type": "code",
            "source": [
                "SELECT DISTINCT(country_txt) FROM teror; -- vybere unikatni hodnoty ve sloupi country_txt z tabulky teror"
            ],
            "metadata": {
                "azdata_cell_guid": "4d472fc2-265e-48ad-8dce-0bda05709e1b"
            },
            "outputs": [],
            "execution_count": null
        },
        {
            "cell_type": "markdown",
            "source": [
                "## COUNT"
            ],
            "metadata": {
                "azdata_cell_guid": "6a4e43bf-6ac8-4147-a786-37635bc9f6b1"
            }
        },
        {
            "cell_type": "code",
            "source": [
                "SELECT COUNT(*) FROM teror; -- spocita pocet radku v tabulce teror"
            ],
            "metadata": {
                "azdata_cell_guid": "10b16c84-97f1-49dc-b481-bf7e9852bd87"
            },
            "outputs": [],
            "execution_count": null
        },
        {
            "cell_type": "markdown",
            "source": [
                "## ORDER BY\n",
                "\n",
                "- DESC\n",
                "- ASC"
            ],
            "metadata": {
                "azdata_cell_guid": "18e04b0c-3847-496c-8a63-cd87af030892"
            }
        },
        {
            "cell_type": "code",
            "source": [
                "SELECT nkillter FROM teror ORDER BY nkillter; -- vypise radky serazene podle sloupce nkillter"
            ],
            "metadata": {
                "azdata_cell_guid": "6c5ac47f-d39a-435b-9499-437c2de538b9"
            },
            "outputs": [],
            "execution_count": null
        },
        {
            "cell_type": "markdown",
            "source": [
                "## Přejmenování sloupce\n",
                "\n",
                "- uvozovky ' vs \""
            ],
            "metadata": {
                "azdata_cell_guid": "d7988b21-40c5-414c-accb-0332295c6bbc"
            }
        },
        {
            "cell_type": "code",
            "source": [
                "SELECT nkillter AS zabito_teroristu FROM teror; -- prejmenuje sloupecek nkillter na zabito_teroristu\n",
                "SELECT nkillter AS \"zabito teroristu\" FROM teror; -- prejmenuje sloupecek nkillter na zabito teroristu"
            ],
            "metadata": {
                "azdata_cell_guid": "567b2953-0959-4632-a1b8-98547cba18d0"
            },
            "outputs": [],
            "execution_count": null
        },
        {
            "cell_type": "markdown",
            "source": [
                "## Výběr vlastní hodnoty do sloupce\n",
                "\n",
                "- nový sloupeček\n",
                "- sloupeček existující v tabulce"
            ],
            "metadata": {
                "azdata_cell_guid": "ba4df01d-5274-4f74-9d34-49182643cee3"
            }
        },
        {
            "cell_type": "code",
            "source": [
                "SELECT 'Indonésie' AS region_txt FROM teror;"
            ],
            "metadata": {
                "azdata_cell_guid": "0e475c9f-0787-4e90-b532-bb21c444c9a3"
            },
            "outputs": [],
            "execution_count": null
        },
        {
            "cell_type": "markdown",
            "source": [
                "## Spojení sloupců\n",
                "\n",
                "- když je hodnota v některém ze sloupců NULL, výsledek spojení pomocí + bude také NULL"
            ],
            "metadata": {
                "azdata_cell_guid": "610db5f5-2aef-405e-a523-63f72048bcce"
            }
        },
        {
            "cell_type": "code",
            "source": [
                "SELECT city + country_txt FROM teror; -- kdyz datovy typ sloupce neni string, tak se muze chovat podivne\n",
                "SELECT CONCAT(city,country_txt) FROM teror;"
            ],
            "metadata": {
                "azdata_cell_guid": "875fffce-6675-418a-8574-36175da3c213",
                "tags": []
            },
            "outputs": [],
            "execution_count": null
        },
        {
            "cell_type": "markdown",
            "source": [
                "## Násobení sloupců"
            ],
            "metadata": {
                "azdata_cell_guid": "8810b9d7-7897-4bec-bc24-415ac2611fa1"
            }
        },
        {
            "cell_type": "code",
            "source": [
                "SELECT nkill * 3 + nwound FROM teror;"
            ],
            "metadata": {
                "azdata_cell_guid": "b283bf13-39c7-4975-833b-767fd63ac017"
            },
            "outputs": [],
            "execution_count": null
        },
        {
            "cell_type": "markdown",
            "source": [
                "## Filtrování řádků"
            ],
            "metadata": {
                "azdata_cell_guid": "3bb1907c-6c94-4c70-a9c5-60d35eeba817"
            }
        },
        {
            "cell_type": "code",
            "source": [
                "SELECT nkillter FROM teror WHERE nkillter > 100; -- vybere vsechny radky, kde je nkillter vetsi jak 100"
            ],
            "metadata": {
                "azdata_cell_guid": "5b5b6ab5-4060-4eac-bea7-ee7be3bbffcd"
            },
            "outputs": [],
            "execution_count": null
        }
    ]
}