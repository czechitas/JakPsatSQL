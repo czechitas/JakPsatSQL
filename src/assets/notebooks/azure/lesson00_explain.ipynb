{
    "metadata": {
        "kernelspec": {
            "name": "SQL",
            "display_name": "SQL",
            "language": "sql"
        },
        "language_info": {
            "name": "sql",
            "version": ""
        }
    },
    "nbformat_minor": 2,
    "nbformat": 4,
    "cells": [
        {
            "cell_type": "markdown",
            "source": [
                "## První select\n",
                "\n",
                "- klíčová slova\n",
                "- velikost písmen\n",
                "- kuk"
            ],
            "metadata": {
                "azdata_cell_guid": "3bd66618-8fab-452b-8069-af6eeade228d"
            }
        },
        {
            "cell_type": "code",
            "source": [
                "SELECT 1;   -- vybere 1\n",
                "SELECT '1'; -- vybere '1'"
            ],
            "metadata": {
                "azdata_cell_guid": "ebad57ed-d2d4-4e60-bf83-7d9c3890a309",
                "tags": []
            },
            "outputs": [],
            "execution_count": null
        },
        {
            "cell_type": "markdown",
            "source": [
                "## Kalkulačka?\n",
                "- Sčítání, odčítání, násobení, všechno funguje, jak má"
            ],
            "metadata": {
                "azdata_cell_guid": "e33c91ee-6a44-4473-84af-99a4e62aa01d"
            }
        },
        {
            "cell_type": "code",
            "source": [
                "SELECT 25 * 30; -- 750\n",
                "SELECT 25 * 0;  -- 0\n",
                "SELECT 25 / 2.5; -- 10.0\n",
                "SELECT 25/0; -- division by zero"
            ],
            "metadata": {
                "azdata_cell_guid": "7af01d21-146a-46b2-b954-83e5f3d4aa78",
                "tags": []
            },
            "outputs": [],
            "execution_count": null
        },
        {
            "cell_type": "markdown",
            "source": [
                "## Všechny sloupce a řádky\n",
                "\n",
                "- Prostě vybereme všechno"
            ],
            "metadata": {
                "azdata_cell_guid": "87a82a44-1f8d-4e85-bbd5-18d96a0225ba"
            }
        },
        {
            "cell_type": "code",
            "source": [
                "SELECT * FROM teror; -- vybere vsechny sloupce a radky z tabulky teror"
            ],
            "metadata": {
                "azdata_cell_guid": "e5f1f5f9-936e-4cab-b3b0-d0b1d36997da"
            },
            "outputs": [],
            "execution_count": null
        },
        {
            "cell_type": "markdown",
            "source": [
                "## Omezení výběru sloupce/ů"
            ],
            "metadata": {
                "azdata_cell_guid": "fb0d2531-5714-4fc3-8768-a3afc3ba25b3"
            }
        },
        {
            "cell_type": "code",
            "source": [
                "SELECT nkillter FROM teror; -- vybere pouze sloupec nkillter z tabulky teror"
            ],
            "metadata": {
                "azdata_cell_guid": "4bad50e2-5a44-40b7-b8b2-da558a68ff21"
            },
            "outputs": [],
            "execution_count": null
        },
        {
            "cell_type": "markdown",
            "source": [
                "## TOP"
            ],
            "metadata": {
                "azdata_cell_guid": "0b3caff3-b25d-4c40-8c07-872507567b21"
            }
        },
        {
            "cell_type": "code",
            "source": [
                "SELECT TOP 10 * FROM teror; -- vybere 10 nahodnych radku z tabulky teror"
            ],
            "metadata": {
                "azdata_cell_guid": "18b2eb7a-8c7c-48a5-a9f9-75d2062f96c2"
            },
            "outputs": [],
            "execution_count": null
        },
        {
            "cell_type": "markdown",
            "source": [
                "## DISTINCT"
            ],
            "metadata": {
                "azdata_cell_guid": "511ebb3f-69e5-4273-8e76-fe1b07dff261"
            }
        },
        {
            "cell_type": "code",
            "source": [
                "SELECT DISTINCT(country_txt) FROM teror; -- vybere unikatni hodnoty ve sloupi country_txt z tabulky teror"
            ],
            "metadata": {
                "azdata_cell_guid": "4d472fc2-265e-48ad-8dce-0bda05709e1b"
            },
            "outputs": [],
            "execution_count": null
        },
        {
            "cell_type": "markdown",
            "source": [
                "## COUNT"
            ],
            "metadata": {
                "azdata_cell_guid": "6a4e43bf-6ac8-4147-a786-37635bc9f6b1"
            }
        },
        {
            "cell_type": "code",
            "source": [
                "SELECT COUNT(*) FROM teror; -- spocita pocet radku v tabulce teror"
            ],
            "metadata": {
                "azdata_cell_guid": "10b16c84-97f1-49dc-b481-bf7e9852bd87"
            },
            "outputs": [],
            "execution_count": null
        },
        {
            "cell_type": "markdown",
            "source": [
                "## ORDER BY\n",
                "\n",
                "- DESC\n",
                "- ASC"
            ],
            "metadata": {
                "azdata_cell_guid": "18e04b0c-3847-496c-8a63-cd87af030892"
            }
        },
        {
            "cell_type": "code",
            "source": [
                "SELECT nkillter FROM teror ORDER BY nkillter; -- vypise radky serazene podle sloupce nkillter"
            ],
            "metadata": {
                "azdata_cell_guid": "6c5ac47f-d39a-435b-9499-437c2de538b9"
            },
            "outputs": [],
            "execution_count": null
        },
        {
            "cell_type": "markdown",
            "source": [
                "## Přejmenování sloupce\n",
                "\n",
                "- uvozovky ' vs \""
            ],
            "metadata": {
                "azdata_cell_guid": "d7988b21-40c5-414c-accb-0332295c6bbc"
            }
        },
        {
            "cell_type": "code",
            "source": [
                "SELECT nkillter AS zabito_teroristu FROM teror; -- prejmenuje sloupecek nkillter na zabito_teroristu\n",
                "SELECT nkillter AS \"zabito teroristu\" FROM teror; -- prejmenuje sloupecek nkillter na zabito teroristu"
            ],
            "metadata": {
                "azdata_cell_guid": "567b2953-0959-4632-a1b8-98547cba18d0"
            },
            "outputs": [],
            "execution_count": null
        },
        {
            "cell_type": "markdown",
            "source": [
                "## Výběr vlastní hodnoty do sloupce\n",
                "\n",
                "- nový sloupeček\n",
                "- sloupeček existující v tabulce"
            ],
            "metadata": {
                "azdata_cell_guid": "ba4df01d-5274-4f74-9d34-49182643cee3"
            }
        },
        {
            "cell_type": "code",
            "source": [
                "SELECT 'Indonésie' AS region_txt FROM teror;"
            ],
            "metadata": {
                "azdata_cell_guid": "0e475c9f-0787-4e90-b532-bb21c444c9a3"
            },
            "outputs": [],
            "execution_count": null
        },
        {
            "cell_type": "markdown",
            "source": [
                "## Spojení sloupců\n",
                "\n",
                "- když je hodnota v některém ze sloupců NULL, výsledek spojení pomocí + bude také NULL"
            ],
            "metadata": {
                "azdata_cell_guid": "610db5f5-2aef-405e-a523-63f72048bcce"
            }
        },
        {
            "cell_type": "code",
            "source": [
                "SELECT city + country_txt FROM teror; -- kdyz datovy typ sloupce neni string, tak se muze chovat podivne\n",
                "SELECT CONCAT(city,country_txt) FROM teror;"
            ],
            "metadata": {
                "azdata_cell_guid": "875fffce-6675-418a-8574-36175da3c213",
                "tags": []
            },
            "outputs": [],
            "execution_count": null
        },
        {
            "cell_type": "markdown",
            "source": [
                "## Násobení sloupců"
            ],
            "metadata": {
                "azdata_cell_guid": "8810b9d7-7897-4bec-bc24-415ac2611fa1"
            }
        },
        {
            "cell_type": "code",
            "source": [
                "SELECT nkill * 3 + nwound FROM teror;"
            ],
            "metadata": {
                "azdata_cell_guid": "b283bf13-39c7-4975-833b-767fd63ac017"
            },
            "outputs": [
{
    "output_type": "display_data",
    "data": {
        "text/html": "(51354 rows affected)"
    },
    "metadata": {}
}, {
    "output_type": "display_data",
    "data": {
        "text/html": "Displaying Top 5000 rows."
    },
    "metadata": {}
}, {
    "output_type": "display_data",
    "data": {
        "text/html": "Total execution time: 00:00:00.410"
    },
    "metadata": {}
}, {
    "output_type": "execute_result",
    "metadata": {},
    "execution_count": 4,
    "data": {
        "application/vnd.dataresource+json": {
            "schema": {
                "fields": [
                    {
                        "name": "(No column name)"
                    }
                ]
            },
            "data": [
                {
                    "0": "0"
                },
                {
                    "0": "41"
                },
                {
                    "0": "16"
                },
                {
                    "0": "163"
                },
                {
                    "0": "17"
                },
                {
                    "0": "32"
                },
                {
                    "0": "NULL"
                },
                {
                    "0": "0"
                },
                {
                    "0": "NULL"
                },
                {
                    "0": "0"
                },
                {
                    "0": "14"
                },
                {
                    "0": "25"
                },
                {
                    "0": "13"
                },
                {
                    "0": "9"
                },
                {
                    "0": "11"
                },
                {
                    "0": "37"
                },
                {
                    "0": "125"
                },
                {
                    "0": "19"
                },
                {
                    "0": "2"
                },
                {
                    "0": "3"
                },
                {
                    "0": "0"
                },
                {
                    "0": "3"
                },
                {
                    "0": "0"
                },
                {
                    "0": "1"
                },
                {
                    "0": "0"
                },
                {
                    "0": "0"
                },
                {
                    "0": "0"
                },
                {
                    "0": "6"
                },
                {
                    "0": "3"
                },
                {
                    "0": "0"
                },
                {
                    "0": "8"
                },
                {
                    "0": "6"
                },
                {
                    "0": "59"
                },
                {
                    "0": "8"
                },
                {
                    "0": "11"
                },
                {
                    "0": "10"
                },
                {
                    "0": "21"
                },
                {
                    "0": "25"
                },
                {
                    "0": "NULL"
                },
                {
                    "0": "12"
                },
                {
                    "0": "2"
                },
                {
                    "0": "100"
                },
                {
                    "0": "12"
                },
                {
                    "0": "9"
                },
                {
                    "0": "NULL"
                },
                {
                    "0": "8"
                },
                {
                    "0": "24"
                },
                {
                    "0": "9"
                },
                {
                    "0": "40"
                },
                {
                    "0": "0"
                },
                {
                    "0": "1"
                },
                {
                    "0": "11"
                },
                {
                    "0": "0"
                },
                {
                    "0": "3"
                },
                {
                    "0": "3"
                },
                {
                    "0": "3"
                },
                {
                    "0": "5"
                },
                {
                    "0": "8"
                },
                {
                    "0": "2"
                },
                {
                    "0": "NULL"
                },
                {
                    "0": "0"
                },
                {
                    "0": "0"
                },
                {
                    "0": "0"
                },
                {
                    "0": "21"
                },
                {
                    "0": "0"
                },
                {
                    "0": "0"
                },
                {
                    "0": "3"
                },
                {
                    "0": "3"
                },
                {
                    "0": "12"
                },
                {
                    "0": "3"
                },
                {
                    "0": "0"
                },
                {
                    "0": "6"
                },
                {
                    "0": "0"
                },
                {
                    "0": "0"
                },
                {
                    "0": "0"
                },
                {
                    "0": "4"
                },
                {
                    "0": "9"
                },
                {
                    "0": "2"
                },
                {
                    "0": "0"
                },
                {
                    "0": "4"
                },
                {
                    "0": "0"
                },
                {
                    "0": "9"
                },
                {
                    "0": "7"
                },
                {
                    "0": "10"
                },
                {
                    "0": "9"
                },
                {
                    "0": "0"
                },
                {
                    "0": "1"
                },
                {
                    "0": "18"
                },
                {
                    "0": "26"
                },
                {
                    "0": "9"
                },
                {
                    "0": "1"
                },
                {
                    "0": "0"
                },
                {
                    "0": "0"
                },
                {
                    "0": "0"
                },
                {
                    "0": "0"
                },
                {
                    "0": "5"
                },
                {
                    "0": "33"
                },
                {
                    "0": "18"
                },
                {
                    "0": "93"
                },
                {
                    "0": "9"
                },
                {
                    "0": "9"
                },
                {
                    "0": "9"
                },
                {
                    "0": "3"
                },
                {
                    "0": "1"
                },
                {
                    "0": "1"
                },
                {
                    "0": "NULL"
                },
                {
                    "0": "63"
                },
                {
                    "0": "0"
                },
                {
                    "0": "2"
                },
                {
                    "0": "3"
                },
                {
                    "0": "NULL"
                },
                {
                    "0": "0"
                },
                {
                    "0": "3"
                },
                {
                    "0": "2"
                },
                {
                    "0": "6"
                },
                {
                    "0": "7"
                },
                {
                    "0": "0"
                },
                {
                    "0": "0"
                },
                {
                    "0": "0"
                },
                {
                    "0": "8"
                },
                {
                    "0": "0"
                },
                {
                    "0": "44"
                },
                {
                    "0": "3"
                },
                {
                    "0": "3"
                },
                {
                    "0": "3"
                },
                {
                    "0": "32"
                },
                {
                    "0": "4"
                },
                {
                    "0": "0"
                },
                {
                    "0": "0"
                },
                {
                    "0": "NULL"
                },
                {
                    "0": "1"
                },
                {
                    "0": "9"
                },
                {
                    "0": "0"
                },
                {
                    "0": "0"
                },
                {
                    "0": "0"
                },
                {
                    "0": "1"
                },
                {
                    "0": "196"
                },
                {
                    "0": "NULL"
                },
                {
                    "0": "0"
                },
                {
                    "0": "0"
                },
                {
                    "0": "NULL"
                },
                {
                    "0": "0"
                },
                {
                    "0": "2"
                },
                {
                    "0": "0"
                },
                {
                    "0": "6"
                },
                {
                    "0": "5"
                },
                {
                    "0": "4"
                },
                {
                    "0": "0"
                },
                {
                    "0": "0"
                },
                {
                    "0": "3"
                },
                {
                    "0": "0"
                },
                {
                    "0": "0"
                },
                {
                    "0": "NULL"
                },
                {
                    "0": "NULL"
                },
                {
                    "0": "NULL"
                },
                {
                    "0": "2"
                },
                {
                    "0": "0"
                },
                {
                    "0": "0"
                },
                {
                    "0": "7"
                },
                {
                    "0": "11"
                },
                {
                    "0": "10"
                },
                {
                    "0": "6"
                },
                {
                    "0": "18"
                },
                {
                    "0": "NULL"
                },
                {
                    "0": "53"
                },
                {
                    "0": "13"
                },
                {
                    "0": "9"
                },
                {
                    "0": "3"
                },
                {
                    "0": "2"
                },
                {
                    "0": "39"
                },
                {
                    "0": "NULL"
                },
                {
                    "0": "14"
                },
                {
                    "0": "1"
                },
                {
                    "0": "3"
                },
                {
                    "0": "1"
                },
                {
                    "0": "4"
                },
                {
                    "0": "3"
                },
                {
                    "0": "NULL"
                },
                {
                    "0": "15"
                },
                {
                    "0": "44"
                },
                {
                    "0": "6"
                },
                {
                    "0": "3"
                },
                {
                    "0": "NULL"
                },
                {
                    "0": "52"
                },
                {
                    "0": "0"
                },
                {
                    "0": "8"
                },
                {
                    "0": "8"
                },
                {
                    "0": "0"
                },
                {
                    "0": "0"
                },
                {
                    "0": "0"
                },
                {
                    "0": "0"
                },
                {
                    "0": "0"
                },
                {
                    "0": "4"
                },
                {
                    "0": "23"
                },
                {
                    "0": "1"
                },
                {
                    "0": "1"
                },
                {
                    "0": "7"
                },
                {
                    "0": "7"
                },
                {
                    "0": "4"
                },
                {
                    "0": "4"
                },
                {
                    "0": "4"
                },
                {
                    "0": "4"
                },
                {
                    "0": "4"
                },
                {
                    "0": "4"
                },
                {
                    "0": "4"
                },
                {
                    "0": "8"
                },
                {
                    "0": "4"
                },
                {
                    "0": "356"
                },
                {
                    "0": "9"
                },
                {
                    "0": "11"
                },
                {
                    "0": "12"
                },
                {
                    "0": "12"
                },
                {
                    "0": "12"
                },
                {
                    "0": "0"
                },
                {
                    "0": "16"
                },
                {
                    "0": "10"
                },
                {
                    "0": "3"
                },
                {
                    "0": "13"
                },
                {
                    "0": "26"
                },
                {
                    "0": "10"
                },
                {
                    "0": "3"
                },
                {
                    "0": "3"
                },
                {
                    "0": "3"
                },
                {
                    "0": "0"
                },
                {
                    "0": "3"
                },
                {
                    "0": "NULL"
                },
                {
                    "0": "NULL"
                },
                {
                    "0": "1"
                },
                {
                    "0": "NULL"
                },
                {
                    "0": "0"
                },
                {
                    "0": "0"
                },
                {
                    "0": "0"
                },
                {
                    "0": "0"
                },
                {
                    "0": "0"
                },
                {
                    "0": "0"
                },
                {
                    "0": "0"
                },
                {
                    "0": "3"
                },
                {
                    "0": "3"
                },
                {
                    "0": "3"
                },
                {
                    "0": "1"
                },
                {
                    "0": "6"
                },
                {
                    "0": "NULL"
                },
                {
                    "0": "6"
                },
                {
                    "0": "1"
                },
                {
                    "0": "20"
                },
                {
                    "0": "0"
                },
                {
                    "0": "4"
                },
                {
                    "0": "1"
                },
                {
                    "0": "21"
                },
                {
                    "0": "9"
                },
                {
                    "0": "10"
                },
                {
                    "0": "1"
                },
                {
                    "0": "8"
                },
                {
                    "0": "8"
                },
                {
                    "0": "12"
                },
                {
                    "0": "NULL"
                },
                {
                    "0": "NULL"
                },
                {
                    "0": "9"
                },
                {
                    "0": "0"
                },
                {
                    "0": "15"
                },
                {
                    "0": "3"
                },
                {
                    "0": "2"
                },
                {
                    "0": "0"
                },
                {
                    "0": "2"
                },
                {
                    "0": "2"
                },
                {
                    "0": "NULL"
                },
                {
                    "0": "NULL"
                },
                {
                    "0": "2"
                },
                {
                    "0": "3"
                },
                {
                    "0": "1"
                },
                {
                    "0": "3"
                },
                {
                    "0": "12"
                },
                {
                    "0": "0"
                },
                {
                    "0": "0"
                },
                {
                    "0": "6"
                },
                {
                    "0": "0"
                },
                {
                    "0": "24"
                },
                {
                    "0": "0"
                },
                {
                    "0": "3"
                },
                {
                    "0": "12"
                },
                {
                    "0": "3"
                },
                {
                    "0": "0"
                },
                {
                    "0": "0"
                },
                {
                    "0": "25"
                },
                {
                    "0": "NULL"
                },
                {
                    "0": "3"
                },
                {
                    "0": "8"
                },
                {
                    "0": "5"
                },
                {
                    "0": "9"
                },
                {
                    "0": "0"
                },
                {
                    "0": "0"
                },
                {
                    "0": "10"
                },
                {
                    "0": "NULL"
                },
                {
                    "0": "65"
                },
                {
                    "0": "10"
                },
                {
                    "0": "22"
                },
                {
                    "0": "115"
                },
                {
                    "0": "NULL"
                },
                {
                    "0": "1"
                },
                {
                    "0": "3"
                },
                {
                    "0": "1"
                },
                {
                    "0": "0"
                },
                {
                    "0": "3"
                },
                {
                    "0": "16"
                },
                {
                    "0": "15"
                },
                {
                    "0": "NULL"
                },
                {
                    "0": "2"
                },
                {
                    "0": "0"
                },
                {
                    "0": "0"
                },
                {
                    "0": "0"
                },
                {
                    "0": "1"
                },
                {
                    "0": "19"
                },
                {
                    "0": "2"
                },
                {
                    "0": "13"
                },
                {
                    "0": "4"
                },
                {
                    "0": "3"
                },
                {
                    "0": "0"
                },
                {
                    "0": "4"
                },
                {
                    "0": "0"
                },
                {
                    "0": "1"
                },
                {
                    "0": "4"
                },
                {
                    "0": "2"
                },
                {
                    "0": "0"
                },
                {
                    "0": "0"
                },
                {
                    "0": "3"
                },
                {
                    "0": "NULL"
                },
                {
                    "0": "7"
                },
                {
                    "0": "24"
                },
                {
                    "0": "0"
                },
                {
                    "0": "6"
                },
                {
                    "0": "15"
                },
                {
                    "0": "83"
                },
                {
                    "0": "14"
                },
                {
                    "0": "NULL"
                },
                {
                    "0": "4"
                },
                {
                    "0": "10"
                },
                {
                    "0": "15"
                },
                {
                    "0": "3"
                },
                {
                    "0": "9"
                },
                {
                    "0": "6"
                },
                {
                    "0": "48"
                },
                {
                    "0": "15"
                },
                {
                    "0": "1"
                },
                {
                    "0": "7"
                },
                {
                    "0": "2"
                },
                {
                    "0": "13"
                },
                {
                    "0": "9"
                },
                {
                    "0": "6"
                },
                {
                    "0": "69"
                },
                {
                    "0": "0"
                },
                {
                    "0": "0"
                },
                {
                    "0": "0"
                },
                {
                    "0": "NULL"
                },
                {
                    "0": "15"
                },
                {
                    "0": "1"
                },
                {
                    "0": "3"
                },
                {
                    "0": "0"
                },
                {
                    "0": "0"
                },
                {
                    "0": "0"
                },
                {
                    "0": "0"
                },
                {
                    "0": "0"
                },
                {
                    "0": "2"
                },
                {
                    "0": "3"
                },
                {
                    "0": "0"
                },
                {
                    "0": "0"
                },
                {
                    "0": "0"
                },
                {
                    "0": "0"
                },
                {
                    "0": "183"
                },
                {
                    "0": "11"
                },
                {
                    "0": "9"
                },
                {
                    "0": "12"
                },
                {
                    "0": "0"
                },
                {
                    "0": "0"
                },
                {
                    "0": "0"
                },
                {
                    "0": "NULL"
                },
                {
                    "0": "12"
                },
                {
                    "0": "0"
                },
                {
                    "0": "4"
                },
                {
                    "0": "0"
                },
                {
                    "0": "21"
                },
                {
                    "0": "NULL"
                },
                {
                    "0": "14"
                },
                {
                    "0": "4"
                },
                {
                    "0": "38"
                },
                {
                    "0": "38"
                },
                {
                    "0": "41"
                },
                {
                    "0": "11"
                },
                {
                    "0": "11"
                },
                {
                    "0": "0"
                },
                {
                    "0": "1"
                },
                {
                    "0": "14"
                },
                {
                    "0": "3"
                },
                {
                    "0": "0"
                },
                {
                    "0": "8"
                },
                {
                    "0": "0"
                },
                {
                    "0": "0"
                },
                {
                    "0": "0"
                },
                {
                    "0": "0"
                },
                {
                    "0": "3"
                },
                {
                    "0": "3"
                },
                {
                    "0": "0"
                },
                {
                    "0": "NULL"
                },
                {
                    "0": "5"
                },
                {
                    "0": "3"
                },
                {
                    "0": "NULL"
                },
                {
                    "0": "0"
                },
                {
                    "0": "6"
                },
                {
                    "0": "3"
                },
                {
                    "0": "4"
                },
                {
                    "0": "15"
                },
                {
                    "0": "11"
                },
                {
                    "0": "7"
                },
                {
                    "0": "0"
                },
                {
                    "0": "0"
                },
                {
                    "0": "9"
                },
                {
                    "0": "4"
                },
                {
                    "0": "5"
                },
                {
                    "0": "NULL"
                },
                {
                    "0": "17"
                },
                {
                    "0": "NULL"
                },
                {
                    "0": "0"
                },
                {
                    "0": "11"
                },
                {
                    "0": "51"
                },
                {
                    "0": "NULL"
                },
                {
                    "0": "70"
                },
                {
                    "0": "5"
                },
                {
                    "0": "0"
                },
                {
                    "0": "2"
                },
                {
                    "0": "0"
                },
                {
                    "0": "3"
                },
                {
                    "0": "NULL"
                },
                {
                    "0": "4"
                },
                {
                    "0": "0"
                },
                {
                    "0": "5"
                },
                {
                    "0": "0"
                },
                {
                    "0": "12"
                },
                {
                    "0": "0"
                },
                {
                    "0": "3"
                },
                {
                    "0": "69"
                },
                {
                    "0": "NULL"
                },
                {
                    "0": "15"
                },
                {
                    "0": "NULL"
                },
                {
                    "0": "31"
                },
                {
                    "0": "1"
                },
                {
                    "0": "10"
                },
                {
                    "0": "9"
                },
                {
                    "0": "3"
                },
                {
                    "0": "0"
                },
                {
                    "0": "12"
                },
                {
                    "0": "12"
                },
                {
                    "0": "12"
                },
                {
                    "0": "27"
                },
                {
                    "0": "17"
                },
                {
                    "0": "0"
                },
                {
                    "0": "0"
                },
                {
                    "0": "3"
                },
                {
                    "0": "7"
                },
                {
                    "0": "9"
                },
                {
                    "0": "65"
                },
                {
                    "0": "3"
                },
                {
                    "0": "6"
                },
                {
                    "0": "1"
                },
                {
                    "0": "3"
                },
                {
                    "0": "1"
                },
                {
                    "0": "3"
                },
                {
                    "0": "14"
                },
                {
                    "0": "NULL"
                },
                {
                    "0": "3"
                },
                {
                    "0": "1"
                },
                {
                    "0": "4"
                },
                {
                    "0": "3"
                },
                {
                    "0": "110"
                },
                {
                    "0": "3"
                },
                {
                    "0": "NULL"
                },
                {
                    "0": "0"
                },
                {
                    "0": "22"
                },
                {
                    "0": "12"
                },
                {
                    "0": "29"
                },
                {
                    "0": "9"
                },
                {
                    "0": "11"
                },
                {
                    "0": "11"
                },
                {
                    "0": "9"
                },
                {
                    "0": "30"
                },
                {
                    "0": "NULL"
                },
                {
                    "0": "4"
                },
                {
                    "0": "14"
                },
                {
                    "0": "6"
                },
                {
                    "0": "3"
                },
                {
                    "0": "33"
                },
                {
                    "0": "36"
                },
                {
                    "0": "3"
                },
                {
                    "0": "4"
                },
                {
                    "0": "1"
                },
                {
                    "0": "0"
                },
                {
                    "0": "0"
                },
                {
                    "0": "0"
                },
                {
                    "0": "0"
                },
                {
                    "0": "4"
                },
                {
                    "0": "1"
                },
                {
                    "0": "6"
                },
                {
                    "0": "15"
                },
                {
                    "0": "4"
                },
                {
                    "0": "15"
                },
                {
                    "0": "0"
                },
                {
                    "0": "NULL"
                },
                {
                    "0": "9"
                },
                {
                    "0": "0"
                },
                {
                    "0": "0"
                },
                {
                    "0": "3"
                },
                {
                    "0": "8"
                },
                {
                    "0": "10"
                },
                {
                    "0": "14"
                },
                {
                    "0": "3"
                },
                {
                    "0": "24"
                },
                {
                    "0": "25"
                },
                {
                    "0": "19"
                },
                {
                    "0": "0"
                },
                {
                    "0": "NULL"
                },
                {
                    "0": "NULL"
                },
                {
                    "0": "15"
                },
                {
                    "0": "2"
                },
                {
                    "0": "6"
                },
                {
                    "0": "4"
                },
                {
                    "0": "8"
                },
                {
                    "0": "3"
                },
                {
                    "0": "7"
                },
                {
                    "0": "1"
                },
                {
                    "0": "2"
                },
                {
                    "0": "NULL"
                },
                {
                    "0": "NULL"
                },
                {
                    "0": "10"
                },
                {
                    "0": "0"
                },
                {
                    "0": "0"
                },
                {
                    "0": "0"
                },
                {
                    "0": "0"
                },
                {
                    "0": "NULL"
                },
                {
                    "0": "0"
                },
                {
                    "0": "2"
                },
                {
                    "0": "0"
                },
                {
                    "0": "0"
                },
                {
                    "0": "0"
                },
                {
                    "0": "0"
                },
                {
                    "0": "0"
                },
                {
                    "0": "0"
                },
                {
                    "0": "0"
                },
                {
                    "0": "0"
                },
                {
                    "0": "0"
                },
                {
                    "0": "0"
                },
                {
                    "0": "0"
                },
                {
                    "0": "0"
                },
                {
                    "0": "0"
                },
                {
                    "0": "2"
                },
                {
                    "0": "3"
                },
                {
                    "0": "3"
                },
                {
                    "0": "100"
                },
                {
                    "0": "0"
                },
                {
                    "0": "111"
                },
                {
                    "0": "25"
                },
                {
                    "0": "13"
                },
                {
                    "0": "9"
                },
                {
                    "0": "0"
                },
                {
                    "0": "14"
                },
                {
                    "0": "NULL"
                },
                {
                    "0": "12"
                },
                {
                    "0": "11"
                },
                {
                    "0": "15"
                },
                {
                    "0": "11"
                },
                {
                    "0": "2"
                },
                {
                    "0": "0"
                },
                {
                    "0": "0"
                },
                {
                    "0": "0"
                },
                {
                    "0": "0"
                },
                {
                    "0": "0"
                },
                {
                    "0": "4"
                },
                {
                    "0": "4"
                },
                {
                    "0": "NULL"
                },
                {
                    "0": "0"
                },
                {
                    "0": "12"
                },
                {
                    "0": "4"
                },
                {
                    "0": "0"
                },
                {
                    "0": "1"
                },
                {
                    "0": "4"
                },
                {
                    "0": "3"
                },
                {
                    "0": "6"
                },
                {
                    "0": "0"
                },
                {
                    "0": "0"
                },
                {
                    "0": "0"
                },
                {
                    "0": "0"
                },
                {
                    "0": "0"
                },
                {
                    "0": "0"
                },
                {
                    "0": "1"
                },
                {
                    "0": "6"
                },
                {
                    "0": "0"
                },
                {
                    "0": "18"
                },
                {
                    "0": "0"
                },
                {
                    "0": "NULL"
                },
                {
                    "0": "0"
                },
                {
                    "0": "NULL"
                },
                {
                    "0": "0"
                },
                {
                    "0": "6"
                },
                {
                    "0": "3"
                },
                {
                    "0": "0"
                },
                {
                    "0": "3"
                },
                {
                    "0": "3"
                },
                {
                    "0": "18"
                },
                {
                    "0": "13"
                },
                {
                    "0": "11"
                },
                {
                    "0": "NULL"
                },
                {
                    "0": "16"
                },
                {
                    "0": "0"
                },
                {
                    "0": "6"
                },
                {
                    "0": "9"
                },
                {
                    "0": "11"
                },
                {
                    "0": "5"
                },
                {
                    "0": "NULL"
                },
                {
                    "0": "NULL"
                },
                {
                    "0": "NULL"
                },
                {
                    "0": "21"
                },
                {
                    "0": "0"
                },
                {
                    "0": "0"
                },
                {
                    "0": "3"
                },
                {
                    "0": "4"
                },
                {
                    "0": "3"
                },
                {
                    "0": "0"
                },
                {
                    "0": "4"
                },
                {
                    "0": "9"
                },
                {
                    "0": "0"
                },
                {
                    "0": "NULL"
                },
                {
                    "0": "NULL"
                },
                {
                    "0": "0"
                },
                {
                    "0": "76"
                },
                {
                    "0": "8"
                },
                {
                    "0": "5"
                },
                {
                    "0": "7"
                },
                {
                    "0": "NULL"
                },
                {
                    "0": "1"
                },
                {
                    "0": "0"
                },
                {
                    "0": "0"
                },
                {
                    "0": "0"
                },
                {
                    "0": "6"
                },
                {
                    "0": "4"
                },
                {
                    "0": "0"
                },
                {
                    "0": "0"
                },
                {
                    "0": "4"
                },
                {
                    "0": "3"
                },
                {
                    "0": "0"
                },
                {
                    "0": "0"
                },
                {
                    "0": "0"
                },
                {
                    "0": "1"
                },
                {
                    "0": "7"
                },
                {
                    "0": "0"
                },
                {
                    "0": "6"
                },
                {
                    "0": "3"
                },
                {
                    "0": "2"
                },
                {
                    "0": "2"
                },
                {
                    "0": "0"
                },
                {
                    "0": "45"
                },
                {
                    "0": "0"
                },
                {
                    "0": "0"
                },
                {
                    "0": "9"
                },
                {
                    "0": "6"
                },
                {
                    "0": "8"
                },
                {
                    "0": "11"
                },
                {
                    "0": "42"
                },
                {
                    "0": "8"
                },
                {
                    "0": "13"
                },
                {
                    "0": "9"
                },
                {
                    "0": "NULL"
                },
                {
                    "0": "0"
                },
                {
                    "0": "10"
                },
                {
                    "0": "6"
                },
                {
                    "0": "0"
                },
                {
                    "0": "0"
                },
                {
                    "0": "9"
                },
                {
                    "0": "5"
                },
                {
                    "0": "39"
                },
                {
                    "0": "3"
                },
                {
                    "0": "21"
                },
                {
                    "0": "0"
                },
                {
                    "0": "0"
                },
                {
                    "0": "1"
                },
                {
                    "0": "1"
                },
                {
                    "0": "0"
                },
                {
                    "0": "4"
                },
                {
                    "0": "4"
                },
                {
                    "0": "4"
                },
                {
                    "0": "4"
                },
                {
                    "0": "30"
                },
                {
                    "0": "0"
                },
                {
                    "0": "0"
                },
                {
                    "0": "3"
                },
                {
                    "0": "0"
                },
                {
                    "0": "0"
                },
                {
                    "0": "115"
                },
                {
                    "0": "24"
                },
                {
                    "0": "4"
                },
                {
                    "0": "12"
                },
                {
                    "0": "11"
                },
                {
                    "0": "4"
                },
                {
                    "0": "3"
                },
                {
                    "0": "0"
                },
                {
                    "0": "5"
                },
                {
                    "0": "0"
                },
                {
                    "0": "3"
                },
                {
                    "0": "4"
                },
                {
                    "0": "4"
                },
                {
                    "0": "6"
                },
                {
                    "0": "NULL"
                },
                {
                    "0": "19"
                },
                {
                    "0": "5"
                },
                {
                    "0": "2"
                },
                {
                    "0": "2"
                },
                {
                    "0": "49"
                },
                {
                    "0": "4"
                },
                {
                    "0": "13"
                },
                {
                    "0": "9"
                },
                {
                    "0": "21"
                },
                {
                    "0": "80"
                },
                {
                    "0": "2"
                },
                {
                    "0": "9"
                },
                {
                    "0": "0"
                },
                {
                    "0": "3"
                },
                {
                    "0": "49"
                },
                {
                    "0": "3"
                },
                {
                    "0": "9"
                },
                {
                    "0": "0"
                },
                {
                    "0": "6"
                },
                {
                    "0": "0"
                },
                {
                    "0": "2"
                },
                {
                    "0": "6"
                },
                {
                    "0": "0"
                },
                {
                    "0": "57"
                },
                {
                    "0": "3"
                },
                {
                    "0": "3"
                },
                {
                    "0": "9"
                },
                {
                    "0": "NULL"
                },
                {
                    "0": "0"
                },
                {
                    "0": "NULL"
                },
                {
                    "0": "0"
                },
                {
                    "0": "NULL"
                },
                {
                    "0": "0"
                },
                {
                    "0": "0"
                },
                {
                    "0": "0"
                },
                {
                    "0": "0"
                },
                {
                    "0": "0"
                },
                {
                    "0": "0"
                },
                {
                    "0": "3"
                },
                {
                    "0": "12"
                },
                {
                    "0": "3"
                },
                {
                    "0": "0"
                },
                {
                    "0": "3"
                },
                {
                    "0": "8"
                },
                {
                    "0": "9"
                },
                {
                    "0": "0"
                },
                {
                    "0": "3"
                },
                {
                    "0": "6"
                },
                {
                    "0": "18"
                },
                {
                    "0": "6"
                },
                {
                    "0": "4"
                },
                {
                    "0": "0"
                },
                {
                    "0": "1"
                },
                {
                    "0": "0"
                },
                {
                    "0": "6"
                },
                {
                    "0": "2"
                },
                {
                    "0": "145"
                },
                {
                    "0": "NULL"
                },
                {
                    "0": "0"
                },
                {
                    "0": "1"
                },
                {
                    "0": "7"
                },
                {
                    "0": "1"
                },
                {
                    "0": "0"
                },
                {
                    "0": "0"
                },
                {
                    "0": "1"
                },
                {
                    "0": "2"
                },
                {
                    "0": "1"
                },
                {
                    "0": "0"
                },
                {
                    "0": "2"
                },
                {
                    "0": "2"
                },
                {
                    "0": "4"
                },
                {
                    "0": "2"
                },
                {
                    "0": "6"
                },
                {
                    "0": "6"
                },
                {
                    "0": "41"
                },
                {
                    "0": "0"
                },
                {
                    "0": "0"
                },
                {
                    "0": "0"
                },
                {
                    "0": "0"
                },
                {
                    "0": "0"
                },
                {
                    "0": "0"
                },
                {
                    "0": "0"
                },
                {
                    "0": "0"
                },
                {
                    "0": "15"
                },
                {
                    "0": "0"
                },
                {
                    "0": "0"
                },
                {
                    "0": "0"
                },
                {
                    "0": "0"
                },
                {
                    "0": "9"
                },
                {
                    "0": "0"
                },
                {
                    "0": "0"
                },
                {
                    "0": "0"
                },
                {
                    "0": "0"
                },
                {
                    "0": "6"
                },
                {
                    "0": "3"
                },
                {
                    "0": "19"
                },
                {
                    "0": "20"
                },
                {
                    "0": "14"
                },
                {
                    "0": "3"
                },
                {
                    "0": "11"
                },
                {
                    "0": "28"
                },
                {
                    "0": "3"
                },
                {
                    "0": "3"
                },
                {
                    "0": "NULL"
                },
                {
                    "0": "3"
                },
                {
                    "0": "NULL"
                },
                {
                    "0": "13"
                },
                {
                    "0": "22"
                },
                {
                    "0": "3"
                },
                {
                    "0": "2"
                },
                {
                    "0": "1"
                },
                {
                    "0": "0"
                },
                {
                    "0": "NULL"
                },
                {
                    "0": "11"
                },
                {
                    "0": "1"
                },
                {
                    "0": "6"
                },
                {
                    "0": "4"
                },
                {
                    "0": "3"
                },
                {
                    "0": "8"
                },
                {
                    "0": "5"
                },
                {
                    "0": "3"
                },
                {
                    "0": "0"
                },
                {
                    "0": "0"
                },
                {
                    "0": "0"
                },
                {
                    "0": "0"
                },
                {
                    "0": "0"
                },
                {
                    "0": "0"
                },
                {
                    "0": "0"
                },
                {
                    "0": "0"
                },
                {
                    "0": "40"
                },
                {
                    "0": "17"
                },
                {
                    "0": "8"
                },
                {
                    "0": "11"
                },
                {
                    "0": "6"
                },
                {
                    "0": "24"
                },
                {
                    "0": "10"
                },
                {
                    "0": "3"
                },
                {
                    "0": "4"
                },
                {
                    "0": "12"
                },
                {
                    "0": "13"
                },
                {
                    "0": "0"
                },
                {
                    "0": "19"
                },
                {
                    "0": "0"
                },
                {
                    "0": "0"
                },
                {
                    "0": "3"
                },
                {
                    "0": "NULL"
                },
                {
                    "0": "3"
                },
                {
                    "0": "0"
                },
                {
                    "0": "19"
                },
                {
                    "0": "3"
                },
                {
                    "0": "3"
                },
                {
                    "0": "0"
                },
                {
                    "0": "3"
                },
                {
                    "0": "0"
                },
                {
                    "0": "3"
                },
                {
                    "0": "10"
                },
                {
                    "0": "3"
                },
                {
                    "0": "0"
                },
                {
                    "0": "13"
                },
                {
                    "0": "0"
                },
                {
                    "0": "NULL"
                },
                {
                    "0": "0"
                },
                {
                    "0": "9"
                },
                {
                    "0": "0"
                },
                {
                    "0": "15"
                },
                {
                    "0": "13"
                },
                {
                    "0": "NULL"
                },
                {
                    "0": "0"
                },
                {
                    "0": "0"
                },
                {
                    "0": "0"
                },
                {
                    "0": "0"
                },
                {
                    "0": "NULL"
                },
                {
                    "0": "6"
                },
                {
                    "0": "12"
                },
                {
                    "0": "7"
                },
                {
                    "0": "3"
                },
                {
                    "0": "1"
                },
                {
                    "0": "0"
                },
                {
                    "0": "30"
                },
                {
                    "0": "8"
                },
                {
                    "0": "12"
                },
                {
                    "0": "0"
                },
                {
                    "0": "3"
                },
                {
                    "0": "0"
                },
                {
                    "0": "NULL"
                },
                {
                    "0": "0"
                },
                {
                    "0": "NULL"
                },
                {
                    "0": "0"
                },
                {
                    "0": "0"
                },
                {
                    "0": "0"
                },
                {
                    "0": "5"
                },
                {
                    "0": "NULL"
                },
                {
                    "0": "0"
                },
                {
                    "0": "0"
                },
                {
                    "0": "2"
                },
                {
                    "0": "7"
                },
                {
                    "0": "3"
                },
                {
                    "0": "3"
                },
                {
                    "0": "0"
                },
                {
                    "0": "3"
                },
                {
                    "0": "4"
                },
                {
                    "0": "6"
                },
                {
                    "0": "7"
                },
                {
                    "0": "4"
                },
                {
                    "0": "0"
                },
                {
                    "0": "15"
                },
                {
                    "0": "6"
                },
                {
                    "0": "10"
                },
                {
                    "0": "8"
                },
                {
                    "0": "3"
                },
                {
                    "0": "NULL"
                },
                {
                    "0": "10"
                },
                {
                    "0": "30"
                },
                {
                    "0": "4"
                },
                {
                    "0": "3"
                },
                {
                    "0": "3"
                },
                {
                    "0": "6"
                },
                {
                    "0": "12"
                },
                {
                    "0": "26"
                },
                {
                    "0": "3"
                },
                {
                    "0": "6"
                },
                {
                    "0": "6"
                },
                {
                    "0": "3"
                },
                {
                    "0": "6"
                },
                {
                    "0": "0"
                },
                {
                    "0": "3"
                },
                {
                    "0": "1"
                },
                {
                    "0": "NULL"
                },
                {
                    "0": "3"
                },
                {
                    "0": "17"
                },
                {
                    "0": "6"
                },
                {
                    "0": "1"
                },
                {
                    "0": "0"
                },
                {
                    "0": "0"
                },
                {
                    "0": "2"
                },
                {
                    "0": "21"
                },
                {
                    "0": "1"
                },
                {
                    "0": "0"
                },
                {
                    "0": "3"
                },
                {
                    "0": "3"
                },
                {
                    "0": "0"
                },
                {
                    "0": "0"
                },
                {
                    "0": "9"
                },
                {
                    "0": "7"
                },
                {
                    "0": "11"
                },
                {
                    "0": "12"
                },
                {
                    "0": "2"
                },
                {
                    "0": "NULL"
                },
                {
                    "0": "3"
                },
                {
                    "0": "9"
                },
                {
                    "0": "6"
                },
                {
                    "0": "3"
                },
                {
                    "0": "0"
                },
                {
                    "0": "2"
                },
                {
                    "0": "30"
                },
                {
                    "0": "149"
                },
                {
                    "0": "101"
                },
                {
                    "0": "18"
                },
                {
                    "0": "5"
                },
                {
                    "0": "0"
                },
                {
                    "0": "10"
                },
                {
                    "0": "1"
                },
                {
                    "0": "NULL"
                },
                {
                    "0": "8"
                },
                {
                    "0": "3"
                },
                {
                    "0": "1"
                },
                {
                    "0": "3"
                },
                {
                    "0": "NULL"
                },
                {
                    "0": "NULL"
                },
                {
                    "0": "17"
                },
                {
                    "0": "0"
                },
                {
                    "0": "0"
                },
                {
                    "0": "0"
                },
                {
                    "0": "0"
                },
                {
                    "0": "0"
                },
                {
                    "0": "0"
                },
                {
                    "0": "0"
                },
                {
                    "0": "0"
                },
                {
                    "0": "0"
                },
                {
                    "0": "0"
                },
                {
                    "0": "0"
                },
                {
                    "0": "3"
                },
                {
                    "0": "3"
                },
                {
                    "0": "0"
                },
                {
                    "0": "1"
                },
                {
                    "0": "3"
                },
                {
                    "0": "1"
                },
                {
                    "0": "3"
                },
                {
                    "0": "3"
                },
                {
                    "0": "0"
                },
                {
                    "0": "4"
                },
                {
                    "0": "5"
                },
                {
                    "0": "8"
                },
                {
                    "0": "15"
                },
                {
                    "0": "NULL"
                },
                {
                    "0": "0"
                },
                {
                    "0": "0"
                },
                {
                    "0": "30"
                },
                {
                    "0": "NULL"
                },
                {
                    "0": "52"
                },
                {
                    "0": "27"
                },
                {
                    "0": "33"
                },
                {
                    "0": "38"
                },
                {
                    "0": "21"
                },
                {
                    "0": "3"
                },
                {
                    "0": "7"
                },
                {
                    "0": "3"
                },
                {
                    "0": "2"
                },
                {
                    "0": "19"
                },
                {
                    "0": "NULL"
                },
                {
                    "0": "58"
                },
                {
                    "0": "21"
                },
                {
                    "0": "7"
                },
                {
                    "0": "7"
                },
                {
                    "0": "11"
                },
                {
                    "0": "3"
                },
                {
                    "0": "4"
                },
                {
                    "0": "NULL"
                },
                {
                    "0": "0"
                },
                {
                    "0": "1"
                },
                {
                    "0": "0"
                },
                {
                    "0": "3"
                },
                {
                    "0": "6"
                },
                {
                    "0": "0"
                },
                {
                    "0": "3"
                },
                {
                    "0": "11"
                },
                {
                    "0": "9"
                },
                {
                    "0": "0"
                },
                {
                    "0": "7"
                },
                {
                    "0": "NULL"
                },
                {
                    "0": "3"
                },
                {
                    "0": "8"
                },
                {
                    "0": "14"
                },
                {
                    "0": "9"
                },
                {
                    "0": "0"
                },
                {
                    "0": "21"
                },
                {
                    "0": "68"
                },
                {
                    "0": "97"
                },
                {
                    "0": "94"
                },
                {
                    "0": "21"
                },
                {
                    "0": "0"
                },
                {
                    "0": "10"
                },
                {
                    "0": "6"
                },
                {
                    "0": "0"
                },
                {
                    "0": "3"
                },
                {
                    "0": "2"
                },
                {
                    "0": "0"
                },
                {
                    "0": "0"
                },
                {
                    "0": "0"
                },
                {
                    "0": "10"
                },
                {
                    "0": "0"
                },
                {
                    "0": "5"
                },
                {
                    "0": "55"
                },
                {
                    "0": "21"
                },
                {
                    "0": "0"
                },
                {
                    "0": "0"
                },
                {
                    "0": "0"
                },
                {
                    "0": "0"
                },
                {
                    "0": "0"
                },
                {
                    "0": "0"
                },
                {
                    "0": "15"
                },
                {
                    "0": "8"
                },
                {
                    "0": "13"
                },
                {
                    "0": "45"
                },
                {
                    "0": "100"
                },
                {
                    "0": "0"
                },
                {
                    "0": "19"
                },
                {
                    "0": "6"
                },
                {
                    "0": "14"
                },
                {
                    "0": "138"
                },
                {
                    "0": "137"
                },
                {
                    "0": "6"
                },
                {
                    "0": "3"
                },
                {
                    "0": "0"
                },
                {
                    "0": "0"
                },
                {
                    "0": "12"
                },
                {
                    "0": "9"
                },
                {
                    "0": "3"
                },
                {
                    "0": "0"
                },
                {
                    "0": "0"
                },
                {
                    "0": "NULL"
                },
                {
                    "0": "38"
                },
                {
                    "0": "9"
                },
                {
                    "0": "7"
                },
                {
                    "0": "0"
                },
                {
                    "0": "0"
                },
                {
                    "0": "18"
                },
                {
                    "0": "6"
                },
                {
                    "0": "NULL"
                },
                {
                    "0": "16"
                },
                {
                    "0": "5"
                },
                {
                    "0": "15"
                },
                {
                    "0": "3"
                },
                {
                    "0": "3"
                },
                {
                    "0": "3"
                },
                {
                    "0": "0"
                },
                {
                    "0": "0"
                },
                {
                    "0": "0"
                },
                {
                    "0": "4"
                },
                {
                    "0": "5"
                },
                {
                    "0": "0"
                },
                {
                    "0": "0"
                },
                {
                    "0": "5"
                },
                {
                    "0": "0"
                },
                {
                    "0": "2"
                },
                {
                    "0": "2"
                },
                {
                    "0": "NULL"
                },
                {
                    "0": "21"
                },
                {
                    "0": "20"
                },
                {
                    "0": "236"
                },
                {
                    "0": "5"
                },
                {
                    "0": "8"
                },
                {
                    "0": "11"
                },
                {
                    "0": "14"
                },
                {
                    "0": "14"
                },
                {
                    "0": "35"
                },
                {
                    "0": "1"
                },
                {
                    "0": "13"
                },
                {
                    "0": "13"
                },
                {
                    "0": "4"
                },
                {
                    "0": "0"
                },
                {
                    "0": "0"
                },
                {
                    "0": "9"
                },
                {
                    "0": "8"
                },
                {
                    "0": "0"
                },
                {
                    "0": "0"
                },
                {
                    "0": "0"
                },
                {
                    "0": "30"
                },
                {
                    "0": "12"
                },
                {
                    "0": "3"
                },
                {
                    "0": "0"
                },
                {
                    "0": "3"
                },
                {
                    "0": "NULL"
                },
                {
                    "0": "18"
                },
                {
                    "0": "33"
                },
                {
                    "0": "459"
                },
                {
                    "0": "12"
                },
                {
                    "0": "0"
                },
                {
                    "0": "3"
                },
                {
                    "0": "NULL"
                },
                {
                    "0": "NULL"
                },
                {
                    "0": "11"
                },
                {
                    "0": "7"
                },
                {
                    "0": "3"
                },
                {
                    "0": "3"
                },
                {
                    "0": "26"
                },
                {
                    "0": "13"
                },
                {
                    "0": "5"
                },
                {
                    "0": "2"
                },
                {
                    "0": "3"
                },
                {
                    "0": "0"
                },
                {
                    "0": "0"
                },
                {
                    "0": "4"
                },
                {
                    "0": "3"
                },
                {
                    "0": "11"
                },
                {
                    "0": "21"
                },
                {
                    "0": "21"
                },
                {
                    "0": "7"
                },
                {
                    "0": "7"
                },
                {
                    "0": "7"
                },
                {
                    "0": "8"
                },
                {
                    "0": "11"
                },
                {
                    "0": "11"
                },
                {
                    "0": "11"
                },
                {
                    "0": "17"
                },
                {
                    "0": "17"
                },
                {
                    "0": "71"
                },
                {
                    "0": "39"
                },
                {
                    "0": "NULL"
                },
                {
                    "0": "4"
                },
                {
                    "0": "30"
                },
                {
                    "0": "21"
                },
                {
                    "0": "44"
                },
                {
                    "0": "9"
                },
                {
                    "0": "10"
                },
                {
                    "0": "0"
                },
                {
                    "0": "4"
                },
                {
                    "0": "4"
                },
                {
                    "0": "0"
                },
                {
                    "0": "0"
                },
                {
                    "0": "0"
                },
                {
                    "0": "3"
                },
                {
                    "0": "8"
                },
                {
                    "0": "7"
                },
                {
                    "0": "3"
                },
                {
                    "0": "NULL"
                },
                {
                    "0": "6"
                },
                {
                    "0": "0"
                },
                {
                    "0": "0"
                },
                {
                    "0": "NULL"
                },
                {
                    "0": "NULL"
                },
                {
                    "0": "NULL"
                },
                {
                    "0": "0"
                },
                {
                    "0": "10"
                },
                {
                    "0": "0"
                },
                {
                    "0": "0"
                },
                {
                    "0": "9"
                },
                {
                    "0": "13"
                },
                {
                    "0": "3"
                },
                {
                    "0": "3"
                },
                {
                    "0": "3"
                },
                {
                    "0": "22"
                },
                {
                    "0": "8"
                },
                {
                    "0": "3"
                },
                {
                    "0": "13"
                },
                {
                    "0": "3"
                },
                {
                    "0": "56"
                },
                {
                    "0": "9"
                },
                {
                    "0": "7"
                },
                {
                    "0": "4"
                },
                {
                    "0": "3"
                },
                {
                    "0": "33"
                },
                {
                    "0": "0"
                },
                {
                    "0": "3"
                },
                {
                    "0": "3"
                },
                {
                    "0": "0"
                },
                {
                    "0": "0"
                },
                {
                    "0": "0"
                },
                {
                    "0": "0"
                },
                {
                    "0": "NULL"
                },
                {
                    "0": "6"
                },
                {
                    "0": "13"
                },
                {
                    "0": "11"
                },
                {
                    "0": "35"
                },
                {
                    "0": "3"
                },
                {
                    "0": "12"
                },
                {
                    "0": "1"
                },
                {
                    "0": "NULL"
                },
                {
                    "0": "NULL"
                },
                {
                    "0": "NULL"
                },
                {
                    "0": "3"
                },
                {
                    "0": "38"
                },
                {
                    "0": "3"
                },
                {
                    "0": "1"
                },
                {
                    "0": "NULL"
                },
                {
                    "0": "90"
                },
                {
                    "0": "131"
                },
                {
                    "0": "11"
                },
                {
                    "0": "5"
                },
                {
                    "0": "3"
                },
                {
                    "0": "0"
                },
                {
                    "0": "2"
                },
                {
                    "0": "0"
                },
                {
                    "0": "3"
                },
                {
                    "0": "51"
                },
                {
                    "0": "NULL"
                },
                {
                    "0": "28"
                },
                {
                    "0": "4"
                },
                {
                    "0": "3"
                },
                {
                    "0": "0"
                },
                {
                    "0": "3"
                },
                {
                    "0": "9"
                },
                {
                    "0": "6"
                },
                {
                    "0": "212"
                },
                {
                    "0": "0"
                },
                {
                    "0": "5"
                },
                {
                    "0": "3"
                },
                {
                    "0": "0"
                },
                {
                    "0": "0"
                },
                {
                    "0": "3"
                },
                {
                    "0": "7"
                },
                {
                    "0": "NULL"
                },
                {
                    "0": "NULL"
                },
                {
                    "0": "4"
                },
                {
                    "0": "0"
                },
                {
                    "0": "3"
                },
                {
                    "0": "3"
                },
                {
                    "0": "1"
                },
                {
                    "0": "37"
                },
                {
                    "0": "NULL"
                },
                {
                    "0": "NULL"
                },
                {
                    "0": "NULL"
                },
                {
                    "0": "3"
                },
                {
                    "0": "3"
                },
                {
                    "0": "0"
                },
                {
                    "0": "0"
                },
                {
                    "0": "NULL"
                },
                {
                    "0": "6"
                },
                {
                    "0": "3"
                },
                {
                    "0": "4"
                },
                {
                    "0": "0"
                },
                {
                    "0": "10"
                },
                {
                    "0": "12"
                },
                {
                    "0": "30"
                },
                {
                    "0": "4"
                },
                {
                    "0": "1"
                },
                {
                    "0": "61"
                },
                {
                    "0": "0"
                },
                {
                    "0": "24"
                },
                {
                    "0": "0"
                },
                {
                    "0": "9"
                },
                {
                    "0": "3"
                },
                {
                    "0": "0"
                },
                {
                    "0": "6"
                },
                {
                    "0": "3"
                },
                {
                    "0": "9"
                },
                {
                    "0": "4"
                },
                {
                    "0": "6"
                },
                {
                    "0": "0"
                },
                {
                    "0": "0"
                },
                {
                    "0": "30"
                },
                {
                    "0": "18"
                },
                {
                    "0": "NULL"
                },
                {
                    "0": "0"
                },
                {
                    "0": "3"
                },
                {
                    "0": "0"
                },
                {
                    "0": "0"
                },
                {
                    "0": "0"
                },
                {
                    "0": "NULL"
                },
                {
                    "0": "9"
                },
                {
                    "0": "7"
                },
                {
                    "0": "0"
                },
                {
                    "0": "0"
                },
                {
                    "0": "3"
                },
                {
                    "0": "3"
                },
                {
                    "0": "9"
                },
                {
                    "0": "10"
                },
                {
                    "0": "NULL"
                },
                {
                    "0": "0"
                },
                {
                    "0": "0"
                },
                {
                    "0": "14"
                },
                {
                    "0": "40"
                },
                {
                    "0": "40"
                },
                {
                    "0": "40"
                },
                {
                    "0": "36"
                },
                {
                    "0": "36"
                },
                {
                    "0": "36"
                },
                {
                    "0": "6"
                },
                {
                    "0": "6"
                },
                {
                    "0": "6"
                },
                {
                    "0": "2"
                },
                {
                    "0": "2"
                },
                {
                    "0": "2"
                },
                {
                    "0": "3"
                },
                {
                    "0": "3"
                },
                {
                    "0": "3"
                },
                {
                    "0": "3"
                },
                {
                    "0": "0"
                },
                {
                    "0": "0"
                },
                {
                    "0": "0"
                },
                {
                    "0": "0"
                },
                {
                    "0": "5"
                },
                {
                    "0": "58"
                },
                {
                    "0": "3"
                },
                {
                    "0": "21"
                },
                {
                    "0": "6"
                },
                {
                    "0": "6"
                },
                {
                    "0": "6"
                },
                {
                    "0": "3"
                },
                {
                    "0": "0"
                },
                {
                    "0": "10"
                },
                {
                    "0": "10"
                },
                {
                    "0": "9"
                },
                {
                    "0": "0"
                },
                {
                    "0": "4"
                },
                {
                    "0": "NULL"
                },
                {
                    "0": "0"
                },
                {
                    "0": "9"
                },
                {
                    "0": "9"
                },
                {
                    "0": "0"
                },
                {
                    "0": "1"
                },
                {
                    "0": "0"
                },
                {
                    "0": "1"
                },
                {
                    "0": "NULL"
                },
                {
                    "0": "0"
                },
                {
                    "0": "0"
                },
                {
                    "0": "0"
                },
                {
                    "0": "0"
                },
                {
                    "0": "0"
                },
                {
                    "0": "0"
                },
                {
                    "0": "15"
                },
                {
                    "0": "9"
                },
                {
                    "0": "5"
                },
                {
                    "0": "10"
                },
                {
                    "0": "1"
                },
                {
                    "0": "0"
                },
                {
                    "0": "0"
                },
                {
                    "0": "0"
                },
                {
                    "0": "3"
                },
                {
                    "0": "8"
                },
                {
                    "0": "44"
                },
                {
                    "0": "1"
                },
                {
                    "0": "2"
                },
                {
                    "0": "0"
                },
                {
                    "0": "0"
                },
                {
                    "0": "3"
                },
                {
                    "0": "43"
                },
                {
                    "0": "0"
                },
                {
                    "0": "3"
                },
                {
                    "0": "0"
                },
                {
                    "0": "1"
                },
                {
                    "0": "0"
                },
                {
                    "0": "0"
                },
                {
                    "0": "3"
                },
                {
                    "0": "4"
                },
                {
                    "0": "0"
                },
                {
                    "0": "0"
                },
                {
                    "0": "NULL"
                },
                {
                    "0": "9"
                },
                {
                    "0": "0"
                },
                {
                    "0": "44"
                },
                {
                    "0": "3"
                },
                {
                    "0": "12"
                },
                {
                    "0": "82"
                },
                {
                    "0": "0"
                },
                {
                    "0": "0"
                },
                {
                    "0": "41"
                },
                {
                    "0": "10"
                },
                {
                    "0": "3"
                },
                {
                    "0": "NULL"
                },
                {
                    "0": "7"
                },
                {
                    "0": "8"
                },
                {
                    "0": "11"
                },
                {
                    "0": "0"
                },
                {
                    "0": "0"
                },
                {
                    "0": "3"
                },
                {
                    "0": "4"
                },
                {
                    "0": "8"
                },
                {
                    "0": "13"
                },
                {
                    "0": "3"
                },
                {
                    "0": "3"
                },
                {
                    "0": "21"
                },
                {
                    "0": "76"
                },
                {
                    "0": "6"
                },
                {
                    "0": "6"
                },
                {
                    "0": "14"
                },
                {
                    "0": "7"
                },
                {
                    "0": "53"
                },
                {
                    "0": "6"
                },
                {
                    "0": "3"
                },
                {
                    "0": "3"
                },
                {
                    "0": "3"
                },
                {
                    "0": "0"
                },
                {
                    "0": "0"
                },
                {
                    "0": "0"
                },
                {
                    "0": "0"
                },
                {
                    "0": "0"
                },
                {
                    "0": "3"
                },
                {
                    "0": "6"
                },
                {
                    "0": "0"
                },
                {
                    "0": "7"
                },
                {
                    "0": "0"
                },
                {
                    "0": "54"
                },
                {
                    "0": "5"
                },
                {
                    "0": "4"
                },
                {
                    "0": "15"
                },
                {
                    "0": "0"
                },
                {
                    "0": "6"
                },
                {
                    "0": "6"
                },
                {
                    "0": "6"
                },
                {
                    "0": "6"
                },
                {
                    "0": "6"
                },
                {
                    "0": "62"
                },
                {
                    "0": "27"
                },
                {
                    "0": "3"
                },
                {
                    "0": "3"
                },
                {
                    "0": "1"
                },
                {
                    "0": "0"
                },
                {
                    "0": "0"
                },
                {
                    "0": "0"
                },
                {
                    "0": "4"
                },
                {
                    "0": "0"
                },
                {
                    "0": "3"
                },
                {
                    "0": "12"
                },
                {
                    "0": "5"
                },
                {
                    "0": "3"
                },
                {
                    "0": "0"
                },
                {
                    "0": "8"
                },
                {
                    "0": "92"
                },
                {
                    "0": "17"
                },
                {
                    "0": "3"
                },
                {
                    "0": "12"
                },
                {
                    "0": "15"
                },
                {
                    "0": "0"
                },
                {
                    "0": "4"
                },
                {
                    "0": "9"
                },
                {
                    "0": "0"
                },
                {
                    "0": "11"
                },
                {
                    "0": "4"
                },
                {
                    "0": "7"
                },
                {
                    "0": "6"
                },
                {
                    "0": "6"
                },
                {
                    "0": "NULL"
                },
                {
                    "0": "2"
                },
                {
                    "0": "9"
                },
                {
                    "0": "6"
                },
                {
                    "0": "17"
                },
                {
                    "0": "NULL"
                },
                {
                    "0": "0"
                },
                {
                    "0": "NULL"
                },
                {
                    "0": "NULL"
                },
                {
                    "0": "0"
                },
                {
                    "0": "15"
                },
                {
                    "0": "3"
                },
                {
                    "0": "0"
                },
                {
                    "0": "13"
                },
                {
                    "0": "0"
                },
                {
                    "0": "0"
                },
                {
                    "0": "3"
                },
                {
                    "0": "62"
                },
                {
                    "0": "0"
                },
                {
                    "0": "0"
                },
                {
                    "0": "0"
                },
                {
                    "0": "32"
                },
                {
                    "0": "6"
                },
                {
                    "0": "5"
                },
                {
                    "0": "3"
                },
                {
                    "0": "13"
                },
                {
                    "0": "1"
                },
                {
                    "0": "0"
                },
                {
                    "0": "0"
                },
                {
                    "0": "4"
                },
                {
                    "0": "0"
                },
                {
                    "0": "2"
                },
                {
                    "0": "0"
                },
                {
                    "0": "9"
                },
                {
                    "0": "10"
                },
                {
                    "0": "2"
                },
                {
                    "0": "0"
                },
                {
                    "0": "0"
                },
                {
                    "0": "9"
                },
                {
                    "0": "0"
                },
                {
                    "0": "0"
                },
                {
                    "0": "18"
                },
                {
                    "0": "4"
                },
                {
                    "0": "0"
                },
                {
                    "0": "3"
                },
                {
                    "0": "77"
                },
                {
                    "0": "3"
                },
                {
                    "0": "3"
                },
                {
                    "0": "9"
                },
                {
                    "0": "9"
                },
                {
                    "0": "9"
                },
                {
                    "0": "9"
                },
                {
                    "0": "9"
                },
                {
                    "0": "9"
                },
                {
                    "0": "6"
                },
                {
                    "0": "NULL"
                },
                {
                    "0": "0"
                },
                {
                    "0": "6"
                },
                {
                    "0": "16"
                },
                {
                    "0": "1"
                },
                {
                    "0": "0"
                },
                {
                    "0": "0"
                },
                {
                    "0": "3"
                },
                {
                    "0": "4"
                },
                {
                    "0": "1"
                },
                {
                    "0": "0"
                },
                {
                    "0": "0"
                },
                {
                    "0": "77"
                },
                {
                    "0": "3"
                },
                {
                    "0": "0"
                },
                {
                    "0": "0"
                },
                {
                    "0": "0"
                },
                {
                    "0": "4"
                },
                {
                    "0": "0"
                },
                {
                    "0": "0"
                },
                {
                    "0": "NULL"
                },
                {
                    "0": "3"
                },
                {
                    "0": "0"
                },
                {
                    "0": "13"
                },
                {
                    "0": "19"
                },
                {
                    "0": "NULL"
                },
                {
                    "0": "0"
                },
                {
                    "0": "9"
                },
                {
                    "0": "13"
                },
                {
                    "0": "6"
                },
                {
                    "0": "0"
                },
                {
                    "0": "0"
                },
                {
                    "0": "NULL"
                },
                {
                    "0": "0"
                },
                {
                    "0": "27"
                },
                {
                    "0": "0"
                },
                {
                    "0": "12"
                },
                {
                    "0": "11"
                },
                {
                    "0": "13"
                },
                {
                    "0": "7"
                },
                {
                    "0": "52"
                },
                {
                    "0": "45"
                },
                {
                    "0": "38"
                },
                {
                    "0": "53"
                },
                {
                    "0": "50"
                },
                {
                    "0": "0"
                },
                {
                    "0": "1"
                },
                {
                    "0": "29"
                },
                {
                    "0": "2"
                },
                {
                    "0": "3"
                },
                {
                    "0": "NULL"
                },
                {
                    "0": "11"
                },
                {
                    "0": "4"
                },
                {
                    "0": "9"
                },
                {
                    "0": "9"
                },
                {
                    "0": "3"
                },
                {
                    "0": "0"
                },
                {
                    "0": "0"
                },
                {
                    "0": "0"
                },
                {
                    "0": "0"
                },
                {
                    "0": "0"
                },
                {
                    "0": "20"
                },
                {
                    "0": "3"
                },
                {
                    "0": "0"
                },
                {
                    "0": "3"
                },
                {
                    "0": "9"
                },
                {
                    "0": "6"
                },
                {
                    "0": "6"
                },
                {
                    "0": "12"
                },
                {
                    "0": "7"
                },
                {
                    "0": "56"
                },
                {
                    "0": "12"
                },
                {
                    "0": "5"
                },
                {
                    "0": "9"
                },
                {
                    "0": "0"
                },
                {
                    "0": "7"
                },
                {
                    "0": "8"
                },
                {
                    "0": "NULL"
                },
                {
                    "0": "0"
                },
                {
                    "0": "0"
                },
                {
                    "0": "NULL"
                },
                {
                    "0": "6"
                },
                {
                    "0": "0"
                },
                {
                    "0": "7"
                },
                {
                    "0": "10"
                },
                {
                    "0": "8"
                },
                {
                    "0": "9"
                },
                {
                    "0": "3"
                },
                {
                    "0": "1"
                },
                {
                    "0": "4"
                },
                {
                    "0": "0"
                },
                {
                    "0": "0"
                },
                {
                    "0": "1"
                },
                {
                    "0": "0"
                },
                {
                    "0": "0"
                },
                {
                    "0": "24"
                },
                {
                    "0": "0"
                },
                {
                    "0": "3"
                },
                {
                    "0": "NULL"
                },
                {
                    "0": "1"
                },
                {
                    "0": "0"
                },
                {
                    "0": "63"
                },
                {
                    "0": "35"
                },
                {
                    "0": "5"
                },
                {
                    "0": "8"
                },
                {
                    "0": "14"
                },
                {
                    "0": "108"
                },
                {
                    "0": "6"
                },
                {
                    "0": "6"
                },
                {
                    "0": "3"
                },
                {
                    "0": "3"
                },
                {
                    "0": "2"
                },
                {
                    "0": "15"
                },
                {
                    "0": "15"
                },
                {
                    "0": "4"
                },
                {
                    "0": "NULL"
                },
                {
                    "0": "16"
                },
                {
                    "0": "27"
                },
                {
                    "0": "0"
                },
                {
                    "0": "3"
                },
                {
                    "0": "12"
                },
                {
                    "0": "0"
                },
                {
                    "0": "3"
                },
                {
                    "0": "1"
                },
                {
                    "0": "0"
                },
                {
                    "0": "1"
                },
                {
                    "0": "2"
                },
                {
                    "0": "1"
                },
                {
                    "0": "4"
                },
                {
                    "0": "0"
                },
                {
                    "0": "95"
                },
                {
                    "0": "7"
                },
                {
                    "0": "9"
                },
                {
                    "0": "0"
                },
                {
                    "0": "153"
                },
                {
                    "0": "9"
                },
                {
                    "0": "148"
                },
                {
                    "0": "0"
                },
                {
                    "0": "35"
                },
                {
                    "0": "0"
                },
                {
                    "0": "21"
                },
                {
                    "0": "15"
                },
                {
                    "0": "10"
                },
                {
                    "0": "4"
                },
                {
                    "0": "24"
                },
                {
                    "0": "19"
                },
                {
                    "0": "7"
                },
                {
                    "0": "7"
                },
                {
                    "0": "13"
                },
                {
                    "0": "3"
                },
                {
                    "0": "4"
                },
                {
                    "0": "1"
                },
                {
                    "0": "NULL"
                },
                {
                    "0": "18"
                },
                {
                    "0": "0"
                },
                {
                    "0": "0"
                },
                {
                    "0": "24"
                },
                {
                    "0": "4"
                },
                {
                    "0": "3"
                },
                {
                    "0": "6"
                },
                {
                    "0": "10"
                },
                {
                    "0": "0"
                },
                {
                    "0": "3"
                },
                {
                    "0": "NULL"
                },
                {
                    "0": "37"
                },
                {
                    "0": "11"
                },
                {
                    "0": "0"
                },
                {
                    "0": "3"
                },
                {
                    "0": "9"
                },
                {
                    "0": "NULL"
                },
                {
                    "0": "NULL"
                },
                {
                    "0": "3"
                },
                {
                    "0": "0"
                },
                {
                    "0": "NULL"
                },
                {
                    "0": "0"
                },
                {
                    "0": "1"
                },
                {
                    "0": "0"
                },
                {
                    "0": "NULL"
                },
                {
                    "0": "4"
                },
                {
                    "0": "0"
                },
                {
                    "0": "0"
                },
                {
                    "0": "0"
                },
                {
                    "0": "17"
                },
                {
                    "0": "11"
                },
                {
                    "0": "11"
                },
                {
                    "0": "6"
                },
                {
                    "0": "9"
                },
                {
                    "0": "9"
                },
                {
                    "0": "6"
                },
                {
                    "0": "20"
                },
                {
                    "0": "0"
                },
                {
                    "0": "0"
                },
                {
                    "0": "0"
                },
                {
                    "0": "0"
                },
                {
                    "0": "3"
                },
                {
                    "0": "6"
                },
                {
                    "0": "1"
                },
                {
                    "0": "0"
                },
                {
                    "0": "NULL"
                },
                {
                    "0": "1"
                },
                {
                    "0": "0"
                },
                {
                    "0": "6"
                },
                {
                    "0": "0"
                },
                {
                    "0": "0"
                },
                {
                    "0": "0"
                },
                {
                    "0": "3"
                },
                {
                    "0": "12"
                },
                {
                    "0": "23"
                },
                {
                    "0": "23"
                },
                {
                    "0": "23"
                },
                {
                    "0": "NULL"
                },
                {
                    "0": "7"
                },
                {
                    "0": "7"
                },
                {
                    "0": "0"
                },
                {
                    "0": "0"
                },
                {
                    "0": "0"
                },
                {
                    "0": "3"
                },
                {
                    "0": "2"
                },
                {
                    "0": "3"
                },
                {
                    "0": "0"
                },
                {
                    "0": "44"
                },
                {
                    "0": "NULL"
                },
                {
                    "0": "8"
                },
                {
                    "0": "8"
                },
                {
                    "0": "11"
                },
                {
                    "0": "6"
                },
                {
                    "0": "7"
                },
                {
                    "0": "12"
                },
                {
                    "0": "12"
                },
                {
                    "0": "5"
                },
                {
                    "0": "NULL"
                },
                {
                    "0": "2"
                },
                {
                    "0": "2"
                },
                {
                    "0": "2"
                },
                {
                    "0": "5"
                },
                {
                    "0": "0"
                },
                {
                    "0": "15"
                },
                {
                    "0": "28"
                },
                {
                    "0": "0"
                },
                {
                    "0": "87"
                },
                {
                    "0": "84"
                },
                {
                    "0": "146"
                },
                {
                    "0": "87"
                },
                {
                    "0": "9"
                },
                {
                    "0": "6"
                },
                {
                    "0": "3"
                },
                {
                    "0": "0"
                },
                {
                    "0": "3"
                },
                {
                    "0": "5"
                },
                {
                    "0": "4"
                },
                {
                    "0": "9"
                },
                {
                    "0": "67"
                },
                {
                    "0": "0"
                },
                {
                    "0": "2"
                },
                {
                    "0": "0"
                },
                {
                    "0": "8"
                },
                {
                    "0": "0"
                },
                {
                    "0": "0"
                },
                {
                    "0": "0"
                },
                {
                    "0": "0"
                },
                {
                    "0": "18"
                },
                {
                    "0": "1"
                },
                {
                    "0": "0"
                },
                {
                    "0": "0"
                },
                {
                    "0": "0"
                },
                {
                    "0": "3"
                },
                {
                    "0": "56"
                },
                {
                    "0": "7"
                },
                {
                    "0": "8"
                },
                {
                    "0": "11"
                },
                {
                    "0": "9"
                },
                {
                    "0": "13"
                },
                {
                    "0": "4"
                },
                {
                    "0": "2"
                },
                {
                    "0": "1"
                },
                {
                    "0": "72"
                },
                {
                    "0": "3"
                },
                {
                    "0": "6"
                },
                {
                    "0": "3"
                },
                {
                    "0": "11"
                },
                {
                    "0": "0"
                },
                {
                    "0": "0"
                },
                {
                    "0": "0"
                },
                {
                    "0": "8"
                },
                {
                    "0": "9"
                },
                {
                    "0": "13"
                },
                {
                    "0": "6"
                },
                {
                    "0": "3"
                },
                {
                    "0": "0"
                },
                {
                    "0": "0"
                },
                {
                    "0": "6"
                },
                {
                    "0": "11"
                },
                {
                    "0": "0"
                },
                {
                    "0": "3"
                },
                {
                    "0": "NULL"
                },
                {
                    "0": "0"
                },
                {
                    "0": "1"
                },
                {
                    "0": "0"
                },
                {
                    "0": "0"
                },
                {
                    "0": "3"
                },
                {
                    "0": "0"
                },
                {
                    "0": "3"
                },
                {
                    "0": "0"
                },
                {
                    "0": "3"
                },
                {
                    "0": "0"
                },
                {
                    "0": "0"
                },
                {
                    "0": "NULL"
                },
                {
                    "0": "NULL"
                },
                {
                    "0": "30"
                },
                {
                    "0": "18"
                },
                {
                    "0": "11"
                },
                {
                    "0": "9"
                },
                {
                    "0": "11"
                },
                {
                    "0": "0"
                },
                {
                    "0": "4"
                },
                {
                    "0": "15"
                },
                {
                    "0": "25"
                },
                {
                    "0": "NULL"
                },
                {
                    "0": "4"
                },
                {
                    "0": "2"
                },
                {
                    "0": "1"
                },
                {
                    "0": "0"
                },
                {
                    "0": "6"
                },
                {
                    "0": "NULL"
                },
                {
                    "0": "16"
                },
                {
                    "0": "NULL"
                },
                {
                    "0": "8"
                },
                {
                    "0": "1"
                },
                {
                    "0": "0"
                },
                {
                    "0": "0"
                },
                {
                    "0": "NULL"
                },
                {
                    "0": "NULL"
                },
                {
                    "0": "3"
                },
                {
                    "0": "23"
                },
                {
                    "0": "4"
                },
                {
                    "0": "3"
                },
                {
                    "0": "8"
                },
                {
                    "0": "15"
                },
                {
                    "0": "NULL"
                },
                {
                    "0": "21"
                },
                {
                    "0": "9"
                },
                {
                    "0": "13"
                },
                {
                    "0": "3"
                },
                {
                    "0": "15"
                },
                {
                    "0": "13"
                },
                {
                    "0": "NULL"
                },
                {
                    "0": "NULL"
                },
                {
                    "0": "10"
                },
                {
                    "0": "3"
                },
                {
                    "0": "3"
                },
                {
                    "0": "2"
                },
                {
                    "0": "4"
                },
                {
                    "0": "28"
                },
                {
                    "0": "6"
                },
                {
                    "0": "0"
                },
                {
                    "0": "0"
                },
                {
                    "0": "3"
                },
                {
                    "0": "3"
                },
                {
                    "0": "3"
                },
                {
                    "0": "3"
                },
                {
                    "0": "0"
                },
                {
                    "0": "0"
                },
                {
                    "0": "3"
                },
                {
                    "0": "0"
                },
                {
                    "0": "0"
                },
                {
                    "0": "NULL"
                },
                {
                    "0": "0"
                },
                {
                    "0": "0"
                },
                {
                    "0": "0"
                },
                {
                    "0": "9"
                },
                {
                    "0": "3"
                },
                {
                    "0": "6"
                },
                {
                    "0": "0"
                },
                {
                    "0": "94"
                },
                {
                    "0": "94"
                },
                {
                    "0": "36"
                },
                {
                    "0": "6"
                },
                {
                    "0": "3"
                },
                {
                    "0": "3"
                },
                {
                    "0": "0"
                },
                {
                    "0": "13"
                },
                {
                    "0": "6"
                },
                {
                    "0": "18"
                },
                {
                    "0": "27"
                },
                {
                    "0": "12"
                },
                {
                    "0": "49"
                },
                {
                    "0": "1"
                },
                {
                    "0": "6"
                },
                {
                    "0": "NULL"
                },
                {
                    "0": "NULL"
                },
                {
                    "0": "3"
                },
                {
                    "0": "1"
                },
                {
                    "0": "6"
                },
                {
                    "0": "3"
                },
                {
                    "0": "6"
                },
                {
                    "0": "0"
                },
                {
                    "0": "0"
                },
                {
                    "0": "3"
                },
                {
                    "0": "23"
                },
                {
                    "0": "NULL"
                },
                {
                    "0": "6"
                },
                {
                    "0": "NULL"
                },
                {
                    "0": "NULL"
                },
                {
                    "0": "6"
                },
                {
                    "0": "15"
                },
                {
                    "0": "6"
                },
                {
                    "0": "3"
                },
                {
                    "0": "NULL"
                },
                {
                    "0": "12"
                },
                {
                    "0": "0"
                },
                {
                    "0": "10"
                },
                {
                    "0": "30"
                },
                {
                    "0": "5"
                },
                {
                    "0": "1"
                },
                {
                    "0": "22"
                },
                {
                    "0": "1"
                },
                {
                    "0": "22"
                },
                {
                    "0": "0"
                },
                {
                    "0": "5"
                },
                {
                    "0": "6"
                },
                {
                    "0": "6"
                },
                {
                    "0": "7"
                },
                {
                    "0": "3"
                },
                {
                    "0": "19"
                },
                {
                    "0": "19"
                },
                {
                    "0": "4"
                },
                {
                    "0": "0"
                },
                {
                    "0": "7"
                },
                {
                    "0": "7"
                },
                {
                    "0": "11"
                },
                {
                    "0": "0"
                },
                {
                    "0": "NULL"
                },
                {
                    "0": "0"
                },
                {
                    "0": "1"
                },
                {
                    "0": "3"
                },
                {
                    "0": "0"
                },
                {
                    "0": "4"
                },
                {
                    "0": "0"
                },
                {
                    "0": "0"
                },
                {
                    "0": "NULL"
                },
                {
                    "0": "NULL"
                },
                {
                    "0": "10"
                },
                {
                    "0": "1"
                },
                {
                    "0": "1"
                },
                {
                    "0": "NULL"
                },
                {
                    "0": "3"
                },
                {
                    "0": "54"
                },
                {
                    "0": "8"
                },
                {
                    "0": "10"
                },
                {
                    "0": "13"
                },
                {
                    "0": "4"
                },
                {
                    "0": "0"
                },
                {
                    "0": "0"
                },
                {
                    "0": "1"
                },
                {
                    "0": "1"
                },
                {
                    "0": "1"
                },
                {
                    "0": "1"
                },
                {
                    "0": "1"
                },
                {
                    "0": "4"
                },
                {
                    "0": "4"
                },
                {
                    "0": "12"
                },
                {
                    "0": "0"
                },
                {
                    "0": "0"
                },
                {
                    "0": "0"
                },
                {
                    "0": "4"
                },
                {
                    "0": "NULL"
                },
                {
                    "0": "37"
                },
                {
                    "0": "0"
                },
                {
                    "0": "3"
                },
                {
                    "0": "NULL"
                },
                {
                    "0": "1"
                },
                {
                    "0": "NULL"
                },
                {
                    "0": "8"
                },
                {
                    "0": "1"
                },
                {
                    "0": "1"
                },
                {
                    "0": "3"
                },
                {
                    "0": "0"
                },
                {
                    "0": "0"
                },
                {
                    "0": "3"
                },
                {
                    "0": "20"
                },
                {
                    "0": "0"
                },
                {
                    "0": "5"
                },
                {
                    "0": "6"
                },
                {
                    "0": "0"
                },
                {
                    "0": "13"
                },
                {
                    "0": "12"
                },
                {
                    "0": "NULL"
                },
                {
                    "0": "NULL"
                },
                {
                    "0": "2"
                },
                {
                    "0": "23"
                },
                {
                    "0": "4"
                },
                {
                    "0": "1016"
                },
                {
                    "0": "3"
                },
                {
                    "0": "34"
                },
                {
                    "0": "NULL"
                },
                {
                    "0": "3"
                },
                {
                    "0": "0"
                },
                {
                    "0": "2"
                },
                {
                    "0": "0"
                },
                {
                    "0": "4"
                },
                {
                    "0": "NULL"
                },
                {
                    "0": "4"
                },
                {
                    "0": "0"
                },
                {
                    "0": "57"
                },
                {
                    "0": "53"
                },
                {
                    "0": "0"
                },
                {
                    "0": "0"
                },
                {
                    "0": "5"
                },
                {
                    "0": "14"
                },
                {
                    "0": "3"
                },
                {
                    "0": "12"
                },
                {
                    "0": "11"
                },
                {
                    "0": "40"
                },
                {
                    "0": "4"
                },
                {
                    "0": "21"
                },
                {
                    "0": "0"
                },
                {
                    "0": "6"
                },
                {
                    "0": "NULL"
                },
                {
                    "0": "84"
                },
                {
                    "0": "87"
                },
                {
                    "0": "88"
                },
                {
                    "0": "88"
                },
                {
                    "0": "27"
                },
                {
                    "0": "1"
                },
                {
                    "0": "3"
                },
                {
                    "0": "0"
                },
                {
                    "0": "0"
                },
                {
                    "0": "0"
                },
                {
                    "0": "7"
                },
                {
                    "0": "1"
                },
                {
                    "0": "0"
                },
                {
                    "0": "4"
                },
                {
                    "0": "3"
                },
                {
                    "0": "0"
                },
                {
                    "0": "6"
                },
                {
                    "0": "3"
                },
                {
                    "0": "12"
                },
                {
                    "0": "1"
                },
                {
                    "0": "5"
                },
                {
                    "0": "9"
                },
                {
                    "0": "0"
                },
                {
                    "0": "0"
                },
                {
                    "0": "6"
                },
                {
                    "0": "11"
                },
                {
                    "0": "11"
                },
                {
                    "0": "10"
                },
                {
                    "0": "2"
                },
                {
                    "0": "9"
                },
                {
                    "0": "0"
                },
                {
                    "0": "0"
                },
                {
                    "0": "NULL"
                },
                {
                    "0": "16"
                },
                {
                    "0": "11"
                },
                {
                    "0": "7"
                },
                {
                    "0": "0"
                },
                {
                    "0": "18"
                },
                {
                    "0": "NULL"
                },
                {
                    "0": "NULL"
                },
                {
                    "0": "0"
                },
                {
                    "0": "0"
                },
                {
                    "0": "2"
                },
                {
                    "0": "9"
                },
                {
                    "0": "6"
                },
                {
                    "0": "0"
                },
                {
                    "0": "11"
                },
                {
                    "0": "3"
                },
                {
                    "0": "9"
                },
                {
                    "0": "0"
                },
                {
                    "0": "0"
                },
                {
                    "0": "0"
                },
                {
                    "0": "0"
                },
                {
                    "0": "0"
                },
                {
                    "0": "0"
                },
                {
                    "0": "0"
                },
                {
                    "0": "0"
                },
                {
                    "0": "3"
                },
                {
                    "0": "0"
                },
                {
                    "0": "NULL"
                },
                {
                    "0": "9"
                },
                {
                    "0": "3"
                },
                {
                    "0": "9"
                },
                {
                    "0": "3"
                },
                {
                    "0": "3"
                },
                {
                    "0": "23"
                },
                {
                    "0": "7"
                },
                {
                    "0": "12"
                },
                {
                    "0": "11"
                },
                {
                    "0": "9"
                },
                {
                    "0": "0"
                },
                {
                    "0": "6"
                },
                {
                    "0": "3"
                },
                {
                    "0": "41"
                },
                {
                    "0": "40"
                },
                {
                    "0": "NULL"
                },
                {
                    "0": "7"
                },
                {
                    "0": "6"
                },
                {
                    "0": "4"
                },
                {
                    "0": "6"
                },
                {
                    "0": "12"
                },
                {
                    "0": "9"
                },
                {
                    "0": "5"
                },
                {
                    "0": "NULL"
                },
                {
                    "0": "1"
                },
                {
                    "0": "0"
                },
                {
                    "0": "0"
                },
                {
                    "0": "NULL"
                },
                {
                    "0": "1"
                },
                {
                    "0": "5"
                },
                {
                    "0": "12"
                },
                {
                    "0": "NULL"
                },
                {
                    "0": "0"
                },
                {
                    "0": "3"
                },
                {
                    "0": "15"
                },
                {
                    "0": "18"
                },
                {
                    "0": "3"
                },
                {
                    "0": "52"
                },
                {
                    "0": "50"
                },
                {
                    "0": "21"
                },
                {
                    "0": "37"
                },
                {
                    "0": "0"
                },
                {
                    "0": "73"
                },
                {
                    "0": "13"
                },
                {
                    "0": "8"
                },
                {
                    "0": "31"
                },
                {
                    "0": "32"
                },
                {
                    "0": "38"
                },
                {
                    "0": "13"
                },
                {
                    "0": "0"
                },
                {
                    "0": "NULL"
                },
                {
                    "0": "NULL"
                },
                {
                    "0": "6"
                },
                {
                    "0": "0"
                },
                {
                    "0": "6"
                },
                {
                    "0": "23"
                },
                {
                    "0": "0"
                },
                {
                    "0": "24"
                },
                {
                    "0": "12"
                },
                {
                    "0": "0"
                },
                {
                    "0": "0"
                },
                {
                    "0": "0"
                },
                {
                    "0": "NULL"
                },
                {
                    "0": "0"
                },
                {
                    "0": "3"
                },
                {
                    "0": "0"
                },
                {
                    "0": "8"
                },
                {
                    "0": "11"
                },
                {
                    "0": "2"
                },
                {
                    "0": "12"
                },
                {
                    "0": "7"
                },
                {
                    "0": "69"
                },
                {
                    "0": "4"
                },
                {
                    "0": "0"
                },
                {
                    "0": "0"
                },
                {
                    "0": "9"
                },
                {
                    "0": "0"
                },
                {
                    "0": "1"
                },
                {
                    "0": "0"
                },
                {
                    "0": "0"
                },
                {
                    "0": "6"
                },
                {
                    "0": "0"
                },
                {
                    "0": "4"
                },
                {
                    "0": "3"
                },
                {
                    "0": "1"
                },
                {
                    "0": "3"
                },
                {
                    "0": "1"
                },
                {
                    "0": "3"
                },
                {
                    "0": "5"
                },
                {
                    "0": "3"
                },
                {
                    "0": "0"
                },
                {
                    "0": "12"
                },
                {
                    "0": "4"
                },
                {
                    "0": "0"
                },
                {
                    "0": "NULL"
                },
                {
                    "0": "0"
                },
                {
                    "0": "0"
                },
                {
                    "0": "0"
                },
                {
                    "0": "NULL"
                },
                {
                    "0": "30"
                },
                {
                    "0": "6"
                },
                {
                    "0": "63"
                },
                {
                    "0": "12"
                },
                {
                    "0": "0"
                },
                {
                    "0": "4"
                },
                {
                    "0": "5"
                },
                {
                    "0": "8"
                },
                {
                    "0": "3"
                },
                {
                    "0": "18"
                },
                {
                    "0": "2"
                },
                {
                    "0": "12"
                },
                {
                    "0": "0"
                },
                {
                    "0": "NULL"
                },
                {
                    "0": "0"
                },
                {
                    "0": "9"
                },
                {
                    "0": "3"
                },
                {
                    "0": "11"
                },
                {
                    "0": "6"
                },
                {
                    "0": "34"
                },
                {
                    "0": "8"
                },
                {
                    "0": "0"
                },
                {
                    "0": "0"
                },
                {
                    "0": "12"
                },
                {
                    "0": "0"
                },
                {
                    "0": "3"
                },
                {
                    "0": "4"
                },
                {
                    "0": "0"
                },
                {
                    "0": "0"
                },
                {
                    "0": "0"
                },
                {
                    "0": "0"
                },
                {
                    "0": "2"
                },
                {
                    "0": "0"
                },
                {
                    "0": "NULL"
                },
                {
                    "0": "0"
                },
                {
                    "0": "0"
                },
                {
                    "0": "0"
                },
                {
                    "0": "8"
                },
                {
                    "0": "0"
                },
                {
                    "0": "6"
                },
                {
                    "0": "0"
                },
                {
                    "0": "17"
                },
                {
                    "0": "42"
                },
                {
                    "0": "24"
                },
                {
                    "0": "0"
                },
                {
                    "0": "3"
                },
                {
                    "0": "2"
                },
                {
                    "0": "8"
                },
                {
                    "0": "0"
                },
                {
                    "0": "4"
                },
                {
                    "0": "3"
                },
                {
                    "0": "1"
                },
                {
                    "0": "7"
                },
                {
                    "0": "1"
                },
                {
                    "0": "NULL"
                },
                {
                    "0": "4"
                },
                {
                    "0": "3"
                },
                {
                    "0": "0"
                },
                {
                    "0": "0"
                },
                {
                    "0": "1"
                },
                {
                    "0": "0"
                },
                {
                    "0": "0"
                },
                {
                    "0": "0"
                },
                {
                    "0": "0"
                },
                {
                    "0": "2"
                },
                {
                    "0": "3"
                },
                {
                    "0": "4"
                },
                {
                    "0": "1"
                },
                {
                    "0": "0"
                },
                {
                    "0": "2"
                },
                {
                    "0": "0"
                },
                {
                    "0": "3"
                },
                {
                    "0": "66"
                },
                {
                    "0": "12"
                },
                {
                    "0": "1"
                },
                {
                    "0": "NULL"
                },
                {
                    "0": "102"
                },
                {
                    "0": "6"
                },
                {
                    "0": "0"
                },
                {
                    "0": "1"
                },
                {
                    "0": "3"
                },
                {
                    "0": "3"
                },
                {
                    "0": "9"
                },
                {
                    "0": "0"
                },
                {
                    "0": "0"
                },
                {
                    "0": "3"
                },
                {
                    "0": "5"
                },
                {
                    "0": "NULL"
                },
                {
                    "0": "4"
                },
                {
                    "0": "0"
                },
                {
                    "0": "1"
                },
                {
                    "0": "3"
                },
                {
                    "0": "10"
                },
                {
                    "0": "11"
                },
                {
                    "0": "3"
                },
                {
                    "0": "9"
                },
                {
                    "0": "4"
                },
                {
                    "0": "9"
                },
                {
                    "0": "8"
                },
                {
                    "0": "23"
                },
                {
                    "0": "NULL"
                },
                {
                    "0": "20"
                },
                {
                    "0": "0"
                },
                {
                    "0": "0"
                },
                {
                    "0": "0"
                },
                {
                    "0": "0"
                },
                {
                    "0": "8"
                },
                {
                    "0": "3"
                },
                {
                    "0": "12"
                },
                {
                    "0": "NULL"
                },
                {
                    "0": "33"
                },
                {
                    "0": "21"
                },
                {
                    "0": "21"
                },
                {
                    "0": "24"
                },
                {
                    "0": "14"
                },
                {
                    "0": "17"
                },
                {
                    "0": "0"
                },
                {
                    "0": "3"
                },
                {
                    "0": "3"
                },
                {
                    "0": "0"
                },
                {
                    "0": "0"
                },
                {
                    "0": "0"
                },
                {
                    "0": "6"
                },
                {
                    "0": "0"
                },
                {
                    "0": "0"
                },
                {
                    "0": "1"
                },
                {
                    "0": "9"
                },
                {
                    "0": "4"
                },
                {
                    "0": "NULL"
                },
                {
                    "0": "5"
                },
                {
                    "0": "3"
                },
                {
                    "0": "6"
                },
                {
                    "0": "2"
                },
                {
                    "0": "16"
                },
                {
                    "0": "59"
                },
                {
                    "0": "12"
                },
                {
                    "0": "2"
                },
                {
                    "0": "15"
                },
                {
                    "0": "15"
                },
                {
                    "0": "14"
                },
                {
                    "0": "9"
                },
                {
                    "0": "0"
                },
                {
                    "0": "8"
                },
                {
                    "0": "11"
                },
                {
                    "0": "0"
                },
                {
                    "0": "39"
                },
                {
                    "0": "40"
                },
                {
                    "0": "3"
                },
                {
                    "0": "16"
                },
                {
                    "0": "0"
                },
                {
                    "0": "4"
                },
                {
                    "0": "0"
                },
                {
                    "0": "0"
                },
                {
                    "0": "0"
                },
                {
                    "0": "0"
                },
                {
                    "0": "0"
                },
                {
                    "0": "0"
                },
                {
                    "0": "0"
                },
                {
                    "0": "0"
                },
                {
                    "0": "0"
                },
                {
                    "0": "3"
                },
                {
                    "0": "4"
                },
                {
                    "0": "114"
                },
                {
                    "0": "0"
                },
                {
                    "0": "0"
                },
                {
                    "0": "25"
                },
                {
                    "0": "0"
                },
                {
                    "0": "34"
                },
                {
                    "0": "4"
                },
                {
                    "0": "4"
                },
                {
                    "0": "3"
                },
                {
                    "0": "0"
                },
                {
                    "0": "11"
                },
                {
                    "0": "16"
                },
                {
                    "0": "10"
                },
                {
                    "0": "0"
                },
                {
                    "0": "7"
                },
                {
                    "0": "3"
                },
                {
                    "0": "3"
                },
                {
                    "0": "2"
                },
                {
                    "0": "24"
                },
                {
                    "0": "6"
                },
                {
                    "0": "10"
                },
                {
                    "0": "12"
                },
                {
                    "0": "5"
                },
                {
                    "0": "3"
                },
                {
                    "0": "0"
                },
                {
                    "0": "1"
                },
                {
                    "0": "0"
                },
                {
                    "0": "3"
                },
                {
                    "0": "0"
                },
                {
                    "0": "NULL"
                },
                {
                    "0": "1"
                },
                {
                    "0": "1"
                },
                {
                    "0": "0"
                },
                {
                    "0": "0"
                },
                {
                    "0": "NULL"
                },
                {
                    "0": "59"
                },
                {
                    "0": "7"
                },
                {
                    "0": "5"
                },
                {
                    "0": "4"
                },
                {
                    "0": "1"
                },
                {
                    "0": "0"
                },
                {
                    "0": "1"
                },
                {
                    "0": "0"
                },
                {
                    "0": "0"
                },
                {
                    "0": "1"
                },
                {
                    "0": "0"
                },
                {
                    "0": "0"
                },
                {
                    "0": "0"
                },
                {
                    "0": "0"
                },
                {
                    "0": "3"
                },
                {
                    "0": "17"
                },
                {
                    "0": "20"
                },
                {
                    "0": "0"
                },
                {
                    "0": "0"
                },
                {
                    "0": "14"
                },
                {
                    "0": "3"
                },
                {
                    "0": "1"
                },
                {
                    "0": "NULL"
                },
                {
                    "0": "22"
                },
                {
                    "0": "0"
                },
                {
                    "0": "21"
                },
                {
                    "0": "NULL"
                },
                {
                    "0": "33"
                },
                {
                    "0": "0"
                },
                {
                    "0": "1"
                },
                {
                    "0": "3"
                },
                {
                    "0": "56"
                },
                {
                    "0": "5"
                },
                {
                    "0": "0"
                },
                {
                    "0": "4"
                },
                {
                    "0": "0"
                },
                {
                    "0": "1"
                },
                {
                    "0": "1"
                },
                {
                    "0": "4"
                },
                {
                    "0": "4"
                },
                {
                    "0": "5"
                },
                {
                    "0": "11"
                },
                {
                    "0": "18"
                },
                {
                    "0": "3"
                },
                {
                    "0": "56"
                },
                {
                    "0": "0"
                },
                {
                    "0": "0"
                },
                {
                    "0": "11"
                },
                {
                    "0": "0"
                },
                {
                    "0": "1"
                },
                {
                    "0": "0"
                },
                {
                    "0": "0"
                },
                {
                    "0": "51"
                },
                {
                    "0": "0"
                },
                {
                    "0": "6"
                },
                {
                    "0": "1"
                },
                {
                    "0": "4"
                },
                {
                    "0": "14"
                },
                {
                    "0": "10"
                },
                {
                    "0": "9"
                },
                {
                    "0": "15"
                },
                {
                    "0": "13"
                },
                {
                    "0": "NULL"
                },
                {
                    "0": "0"
                },
                {
                    "0": "12"
                },
                {
                    "0": "45"
                },
                {
                    "0": "3"
                },
                {
                    "0": "6"
                },
                {
                    "0": "0"
                },
                {
                    "0": "0"
                },
                {
                    "0": "0"
                },
                {
                    "0": "0"
                },
                {
                    "0": "0"
                },
                {
                    "0": "1"
                },
                {
                    "0": "2"
                },
                {
                    "0": "75"
                },
                {
                    "0": "103"
                },
                {
                    "0": "6"
                },
                {
                    "0": "4"
                },
                {
                    "0": "8"
                },
                {
                    "0": "8"
                },
                {
                    "0": "14"
                },
                {
                    "0": "3"
                },
                {
                    "0": "9"
                },
                {
                    "0": "4"
                },
                {
                    "0": "0"
                },
                {
                    "0": "0"
                },
                {
                    "0": "0"
                },
                {
                    "0": "0"
                },
                {
                    "0": "0"
                },
                {
                    "0": "0"
                },
                {
                    "0": "0"
                },
                {
                    "0": "0"
                },
                {
                    "0": "0"
                },
                {
                    "0": "0"
                },
                {
                    "0": "44"
                },
                {
                    "0": "180"
                },
                {
                    "0": "0"
                },
                {
                    "0": "6"
                },
                {
                    "0": "3"
                },
                {
                    "0": "6"
                },
                {
                    "0": "3"
                },
                {
                    "0": "0"
                },
                {
                    "0": "0"
                },
                {
                    "0": "0"
                },
                {
                    "0": "3"
                },
                {
                    "0": "2"
                },
                {
                    "0": "0"
                },
                {
                    "0": "NULL"
                },
                {
                    "0": "13"
                },
                {
                    "0": "NULL"
                },
                {
                    "0": "0"
                },
                {
                    "0": "NULL"
                },
                {
                    "0": "0"
                },
                {
                    "0": "0"
                },
                {
                    "0": "1"
                },
                {
                    "0": "0"
                },
                {
                    "0": "1"
                },
                {
                    "0": "0"
                },
                {
                    "0": "107"
                },
                {
                    "0": "3"
                },
                {
                    "0": "18"
                },
                {
                    "0": "0"
                },
                {
                    "0": "0"
                },
                {
                    "0": "0"
                },
                {
                    "0": "11"
                },
                {
                    "0": "18"
                },
                {
                    "0": "10"
                },
                {
                    "0": "10"
                },
                {
                    "0": "0"
                },
                {
                    "0": "6"
                },
                {
                    "0": "15"
                },
                {
                    "0": "0"
                },
                {
                    "0": "0"
                },
                {
                    "0": "15"
                },
                {
                    "0": "8"
                },
                {
                    "0": "0"
                },
                {
                    "0": "22"
                },
                {
                    "0": "48"
                },
                {
                    "0": "NULL"
                },
                {
                    "0": "1"
                },
                {
                    "0": "3"
                },
                {
                    "0": "3"
                },
                {
                    "0": "0"
                },
                {
                    "0": "31"
                },
                {
                    "0": "3"
                },
                {
                    "0": "0"
                },
                {
                    "0": "0"
                },
                {
                    "0": "0"
                },
                {
                    "0": "3"
                },
                {
                    "0": "0"
                },
                {
                    "0": "NULL"
                },
                {
                    "0": "3"
                },
                {
                    "0": "16"
                },
                {
                    "0": "13"
                },
                {
                    "0": "5"
                },
                {
                    "0": "12"
                },
                {
                    "0": "8"
                },
                {
                    "0": "6"
                },
                {
                    "0": "3"
                },
                {
                    "0": "3"
                },
                {
                    "0": "5"
                },
                {
                    "0": "5"
                },
                {
                    "0": "0"
                },
                {
                    "0": "4"
                },
                {
                    "0": "9"
                },
                {
                    "0": "2"
                },
                {
                    "0": "0"
                },
                {
                    "0": "12"
                },
                {
                    "0": "75"
                },
                {
                    "0": "40"
                },
                {
                    "0": "3"
                },
                {
                    "0": "18"
                },
                {
                    "0": "18"
                },
                {
                    "0": "0"
                },
                {
                    "0": "0"
                },
                {
                    "0": "1"
                },
                {
                    "0": "1"
                },
                {
                    "0": "3"
                },
                {
                    "0": "21"
                },
                {
                    "0": "18"
                },
                {
                    "0": "2"
                },
                {
                    "0": "0"
                },
                {
                    "0": "0"
                },
                {
                    "0": "0"
                },
                {
                    "0": "0"
                },
                {
                    "0": "0"
                },
                {
                    "0": "0"
                },
                {
                    "0": "0"
                },
                {
                    "0": "2"
                },
                {
                    "0": "NULL"
                },
                {
                    "0": "0"
                },
                {
                    "0": "10"
                },
                {
                    "0": "0"
                },
                {
                    "0": "0"
                },
                {
                    "0": "1"
                },
                {
                    "0": "11"
                },
                {
                    "0": "12"
                },
                {
                    "0": "7"
                },
                {
                    "0": "15"
                },
                {
                    "0": "245"
                },
                {
                    "0": "NULL"
                },
                {
                    "0": "0"
                },
                {
                    "0": "1"
                },
                {
                    "0": "2"
                },
                {
                    "0": "12"
                },
                {
                    "0": "2"
                },
                {
                    "0": "1"
                },
                {
                    "0": "5"
                },
                {
                    "0": "3"
                },
                {
                    "0": "15"
                },
                {
                    "0": "220"
                },
                {
                    "0": "NULL"
                },
                {
                    "0": "NULL"
                },
                {
                    "0": "4"
                },
                {
                    "0": "10"
                },
                {
                    "0": "0"
                },
                {
                    "0": "1"
                },
                {
                    "0": "50"
                },
                {
                    "0": "50"
                },
                {
                    "0": "7"
                },
                {
                    "0": "0"
                },
                {
                    "0": "19"
                },
                {
                    "0": "19"
                },
                {
                    "0": "NULL"
                },
                {
                    "0": "0"
                },
                {
                    "0": "8"
                },
                {
                    "0": "5"
                },
                {
                    "0": "0"
                },
                {
                    "0": "13"
                },
                {
                    "0": "11"
                },
                {
                    "0": "6"
                },
                {
                    "0": "NULL"
                },
                {
                    "0": "6"
                },
                {
                    "0": "NULL"
                },
                {
                    "0": "11"
                },
                {
                    "0": "0"
                },
                {
                    "0": "1"
                },
                {
                    "0": "3"
                },
                {
                    "0": "1"
                },
                {
                    "0": "5"
                },
                {
                    "0": "3"
                },
                {
                    "0": "0"
                },
                {
                    "0": "0"
                },
                {
                    "0": "NULL"
                },
                {
                    "0": "NULL"
                },
                {
                    "0": "4"
                },
                {
                    "0": "0"
                },
                {
                    "0": "20"
                },
                {
                    "0": "NULL"
                },
                {
                    "0": "27"
                },
                {
                    "0": "27"
                },
                {
                    "0": "30"
                },
                {
                    "0": "9"
                },
                {
                    "0": "0"
                },
                {
                    "0": "3"
                },
                {
                    "0": "NULL"
                },
                {
                    "0": "3"
                },
                {
                    "0": "1"
                },
                {
                    "0": "1"
                },
                {
                    "0": "1"
                },
                {
                    "0": "1"
                },
                {
                    "0": "3"
                },
                {
                    "0": "1"
                },
                {
                    "0": "0"
                },
                {
                    "0": "1"
                },
                {
                    "0": "1"
                },
                {
                    "0": "1"
                },
                {
                    "0": "3"
                },
                {
                    "0": "3"
                },
                {
                    "0": "24"
                },
                {
                    "0": "0"
                },
                {
                    "0": "9"
                },
                {
                    "0": "7"
                },
                {
                    "0": "13"
                },
                {
                    "0": "2"
                },
                {
                    "0": "11"
                },
                {
                    "0": "6"
                },
                {
                    "0": "6"
                },
                {
                    "0": "5"
                },
                {
                    "0": "6"
                },
                {
                    "0": "12"
                },
                {
                    "0": "1"
                },
                {
                    "0": "210"
                },
                {
                    "0": "42"
                },
                {
                    "0": "0"
                },
                {
                    "0": "4"
                },
                {
                    "0": "9"
                },
                {
                    "0": "9"
                },
                {
                    "0": "6"
                },
                {
                    "0": "4"
                },
                {
                    "0": "0"
                },
                {
                    "0": "0"
                },
                {
                    "0": "0"
                },
                {
                    "0": "0"
                },
                {
                    "0": "0"
                },
                {
                    "0": "0"
                },
                {
                    "0": "11"
                },
                {
                    "0": "3"
                },
                {
                    "0": "3"
                },
                {
                    "0": "3"
                },
                {
                    "0": "2"
                },
                {
                    "0": "6"
                },
                {
                    "0": "0"
                },
                {
                    "0": "82"
                },
                {
                    "0": "4"
                },
                {
                    "0": "0"
                },
                {
                    "0": "0"
                },
                {
                    "0": "NULL"
                },
                {
                    "0": "21"
                },
                {
                    "0": "39"
                },
                {
                    "0": "NULL"
                },
                {
                    "0": "5"
                },
                {
                    "0": "198"
                },
                {
                    "0": "1"
                },
                {
                    "0": "0"
                },
                {
                    "0": "0"
                },
                {
                    "0": "0"
                },
                {
                    "0": "52"
                },
                {
                    "0": "181"
                },
                {
                    "0": "67"
                },
                {
                    "0": "12"
                },
                {
                    "0": "10"
                },
                {
                    "0": "11"
                },
                {
                    "0": "13"
                },
                {
                    "0": "23"
                },
                {
                    "0": "1"
                },
                {
                    "0": "12"
                },
                {
                    "0": "3"
                },
                {
                    "0": "0"
                },
                {
                    "0": "0"
                },
                {
                    "0": "0"
                },
                {
                    "0": "0"
                },
                {
                    "0": "3"
                },
                {
                    "0": "3"
                },
                {
                    "0": "7"
                },
                {
                    "0": "0"
                },
                {
                    "0": "3"
                },
                {
                    "0": "NULL"
                },
                {
                    "0": "0"
                },
                {
                    "0": "0"
                },
                {
                    "0": "4"
                },
                {
                    "0": "0"
                },
                {
                    "0": "0"
                },
                {
                    "0": "0"
                },
                {
                    "0": "0"
                },
                {
                    "0": "0"
                },
                {
                    "0": "0"
                },
                {
                    "0": "6"
                },
                {
                    "0": "NULL"
                },
                {
                    "0": "3"
                },
                {
                    "0": "3"
                },
                {
                    "0": "0"
                },
                {
                    "0": "9"
                },
                {
                    "0": "3"
                },
                {
                    "0": "10"
                },
                {
                    "0": "4"
                },
                {
                    "0": "30"
                },
                {
                    "0": "22"
                },
                {
                    "0": "22"
                },
                {
                    "0": "22"
                },
                {
                    "0": "9"
                },
                {
                    "0": "97"
                },
                {
                    "0": "30"
                },
                {
                    "0": "0"
                },
                {
                    "0": "0"
                },
                {
                    "0": "NULL"
                },
                {
                    "0": "NULL"
                },
                {
                    "0": "8"
                },
                {
                    "0": "0"
                },
                {
                    "0": "0"
                },
                {
                    "0": "23"
                },
                {
                    "0": "0"
                },
                {
                    "0": "NULL"
                },
                {
                    "0": "0"
                },
                {
                    "0": "NULL"
                },
                {
                    "0": "2"
                },
                {
                    "0": "4"
                },
                {
                    "0": "2"
                },
                {
                    "0": "3"
                },
                {
                    "0": "20"
                },
                {
                    "0": "0"
                },
                {
                    "0": "0"
                },
                {
                    "0": "3"
                },
                {
                    "0": "7"
                },
                {
                    "0": "8"
                },
                {
                    "0": "8"
                },
                {
                    "0": "NULL"
                },
                {
                    "0": "NULL"
                },
                {
                    "0": "4"
                },
                {
                    "0": "0"
                },
                {
                    "0": "8"
                },
                {
                    "0": "6"
                },
                {
                    "0": "0"
                },
                {
                    "0": "3"
                },
                {
                    "0": "18"
                },
                {
                    "0": "9"
                },
                {
                    "0": "34"
                },
                {
                    "0": "NULL"
                },
                {
                    "0": "NULL"
                },
                {
                    "0": "333"
                },
                {
                    "0": "9"
                },
                {
                    "0": "2"
                },
                {
                    "0": "4"
                },
                {
                    "0": "1"
                },
                {
                    "0": "3"
                },
                {
                    "0": "0"
                },
                {
                    "0": "0"
                },
                {
                    "0": "1"
                },
                {
                    "0": "NULL"
                },
                {
                    "0": "0"
                },
                {
                    "0": "NULL"
                },
                {
                    "0": "6"
                },
                {
                    "0": "0"
                },
                {
                    "0": "0"
                },
                {
                    "0": "NULL"
                },
                {
                    "0": "NULL"
                },
                {
                    "0": "0"
                },
                {
                    "0": "0"
                },
                {
                    "0": "0"
                },
                {
                    "0": "3"
                },
                {
                    "0": "0"
                },
                {
                    "0": "0"
                },
                {
                    "0": "0"
                },
                {
                    "0": "0"
                },
                {
                    "0": "3"
                },
                {
                    "0": "0"
                },
                {
                    "0": "3"
                },
                {
                    "0": "5"
                },
                {
                    "0": "17"
                },
                {
                    "0": "0"
                },
                {
                    "0": "1"
                },
                {
                    "0": "24"
                },
                {
                    "0": "0"
                },
                {
                    "0": "6"
                },
                {
                    "0": "0"
                },
                {
                    "0": "0"
                },
                {
                    "0": "1"
                },
                {
                    "0": "2"
                },
                {
                    "0": "6"
                },
                {
                    "0": "4"
                },
                {
                    "0": "15"
                },
                {
                    "0": "12"
                },
                {
                    "0": "11"
                },
                {
                    "0": "6"
                },
                {
                    "0": "8"
                },
                {
                    "0": "1"
                },
                {
                    "0": "1"
                },
                {
                    "0": "3"
                },
                {
                    "0": "1"
                },
                {
                    "0": "3"
                },
                {
                    "0": "1"
                },
                {
                    "0": "0"
                },
                {
                    "0": "3"
                },
                {
                    "0": "6"
                },
                {
                    "0": "0"
                },
                {
                    "0": "1"
                },
                {
                    "0": "87"
                },
                {
                    "0": "93"
                },
                {
                    "0": "8"
                },
                {
                    "0": "NULL"
                },
                {
                    "0": "5"
                },
                {
                    "0": "6"
                },
                {
                    "0": "2"
                },
                {
                    "0": "1"
                },
                {
                    "0": "NULL"
                },
                {
                    "0": "0"
                },
                {
                    "0": "NULL"
                },
                {
                    "0": "2"
                },
                {
                    "0": "1"
                },
                {
                    "0": "NULL"
                },
                {
                    "0": "3"
                },
                {
                    "0": "3"
                },
                {
                    "0": "28"
                },
                {
                    "0": "4"
                },
                {
                    "0": "32"
                },
                {
                    "0": "NULL"
                },
                {
                    "0": "NULL"
                },
                {
                    "0": "3"
                },
                {
                    "0": "16"
                },
                {
                    "0": "6"
                },
                {
                    "0": "3"
                },
                {
                    "0": "10"
                },
                {
                    "0": "10"
                },
                {
                    "0": "15"
                },
                {
                    "0": "15"
                },
                {
                    "0": "15"
                },
                {
                    "0": "15"
                },
                {
                    "0": "15"
                },
                {
                    "0": "57"
                },
                {
                    "0": "0"
                },
                {
                    "0": "0"
                },
                {
                    "0": "0"
                },
                {
                    "0": "0"
                },
                {
                    "0": "0"
                },
                {
                    "0": "3"
                },
                {
                    "0": "0"
                },
                {
                    "0": "3"
                },
                {
                    "0": "0"
                },
                {
                    "0": "0"
                },
                {
                    "0": "0"
                },
                {
                    "0": "1"
                },
                {
                    "0": "NULL"
                },
                {
                    "0": "13"
                },
                {
                    "0": "0"
                },
                {
                    "0": "0"
                },
                {
                    "0": "3"
                },
                {
                    "0": "3"
                },
                {
                    "0": "1"
                },
                {
                    "0": "4"
                },
                {
                    "0": "1"
                },
                {
                    "0": "4"
                },
                {
                    "0": "1"
                },
                {
                    "0": "3"
                },
                {
                    "0": "38"
                },
                {
                    "0": "3"
                },
                {
                    "0": "12"
                },
                {
                    "0": "11"
                },
                {
                    "0": "NULL"
                },
                {
                    "0": "0"
                },
                {
                    "0": "3"
                },
                {
                    "0": "3"
                },
                {
                    "0": "NULL"
                },
                {
                    "0": "560"
                },
                {
                    "0": "12"
                },
                {
                    "0": "20"
                },
                {
                    "0": "0"
                },
                {
                    "0": "3"
                },
                {
                    "0": "15"
                },
                {
                    "0": "9"
                },
                {
                    "0": "NULL"
                },
                {
                    "0": "93"
                },
                {
                    "0": "73"
                },
                {
                    "0": "0"
                },
                {
                    "0": "0"
                },
                {
                    "0": "2"
                },
                {
                    "0": "11"
                },
                {
                    "0": "0"
                },
                {
                    "0": "6"
                },
                {
                    "0": "0"
                },
                {
                    "0": "0"
                },
                {
                    "0": "6"
                },
                {
                    "0": "9"
                },
                {
                    "0": "9"
                },
                {
                    "0": "1"
                },
                {
                    "0": "0"
                },
                {
                    "0": "16"
                },
                {
                    "0": "3"
                },
                {
                    "0": "0"
                },
                {
                    "0": "0"
                },
                {
                    "0": "0"
                },
                {
                    "0": "4"
                },
                {
                    "0": "2"
                },
                {
                    "0": "0"
                },
                {
                    "0": "0"
                },
                {
                    "0": "6"
                },
                {
                    "0": "4"
                },
                {
                    "0": "NULL"
                },
                {
                    "0": "20"
                },
                {
                    "0": "6"
                },
                {
                    "0": "15"
                },
                {
                    "0": "NULL"
                },
                {
                    "0": "0"
                },
                {
                    "0": "1"
                },
                {
                    "0": "0"
                },
                {
                    "0": "6"
                },
                {
                    "0": "11"
                },
                {
                    "0": "9"
                },
                {
                    "0": "14"
                },
                {
                    "0": "13"
                },
                {
                    "0": "15"
                },
                {
                    "0": "62"
                },
                {
                    "0": "1"
                },
                {
                    "0": "0"
                },
                {
                    "0": "2"
                },
                {
                    "0": "3"
                },
                {
                    "0": "NULL"
                },
                {
                    "0": "4"
                },
                {
                    "0": "0"
                },
                {
                    "0": "NULL"
                },
                {
                    "0": "3"
                },
                {
                    "0": "27"
                },
                {
                    "0": "28"
                },
                {
                    "0": "0"
                },
                {
                    "0": "3"
                },
                {
                    "0": "2"
                },
                {
                    "0": "3"
                },
                {
                    "0": "5"
                },
                {
                    "0": "1"
                },
                {
                    "0": "0"
                },
                {
                    "0": "1"
                },
                {
                    "0": "0"
                },
                {
                    "0": "7"
                },
                {
                    "0": "3"
                },
                {
                    "0": "13"
                },
                {
                    "0": "5"
                },
                {
                    "0": "4"
                },
                {
                    "0": "3"
                },
                {
                    "0": "6"
                },
                {
                    "0": "NULL"
                },
                {
                    "0": "26"
                },
                {
                    "0": "0"
                },
                {
                    "0": "8"
                },
                {
                    "0": "6"
                },
                {
                    "0": "0"
                },
                {
                    "0": "10"
                },
                {
                    "0": "25"
                },
                {
                    "0": "0"
                },
                {
                    "0": "6"
                },
                {
                    "0": "3"
                },
                {
                    "0": "NULL"
                },
                {
                    "0": "3"
                },
                {
                    "0": "3"
                },
                {
                    "0": "0"
                },
                {
                    "0": "1"
                },
                {
                    "0": "351"
                },
                {
                    "0": "9"
                },
                {
                    "0": "7"
                },
                {
                    "0": "38"
                },
                {
                    "0": "0"
                },
                {
                    "0": "0"
                },
                {
                    "0": "3"
                },
                {
                    "0": "2"
                },
                {
                    "0": "0"
                },
                {
                    "0": "0"
                },
                {
                    "0": "0"
                },
                {
                    "0": "0"
                },
                {
                    "0": "0"
                },
                {
                    "0": "0"
                },
                {
                    "0": "4"
                },
                {
                    "0": "0"
                },
                {
                    "0": "3"
                },
                {
                    "0": "2"
                },
                {
                    "0": "6"
                },
                {
                    "0": "4"
                },
                {
                    "0": "0"
                },
                {
                    "0": "8"
                },
                {
                    "0": "8"
                },
                {
                    "0": "0"
                },
                {
                    "0": "3"
                },
                {
                    "0": "1"
                },
                {
                    "0": "0"
                },
                {
                    "0": "NULL"
                },
                {
                    "0": "0"
                },
                {
                    "0": "0"
                },
                {
                    "0": "0"
                },
                {
                    "0": "8"
                },
                {
                    "0": "3"
                },
                {
                    "0": "14"
                },
                {
                    "0": "9"
                },
                {
                    "0": "10"
                },
                {
                    "0": "0"
                },
                {
                    "0": "0"
                },
                {
                    "0": "8"
                },
                {
                    "0": "4"
                },
                {
                    "0": "75"
                },
                {
                    "0": "10"
                },
                {
                    "0": "4"
                },
                {
                    "0": "9"
                },
                {
                    "0": "10"
                },
                {
                    "0": "13"
                },
                {
                    "0": "7"
                },
                {
                    "0": "0"
                },
                {
                    "0": "0"
                },
                {
                    "0": "0"
                },
                {
                    "0": "0"
                },
                {
                    "0": "6"
                },
                {
                    "0": "24"
                },
                {
                    "0": "6"
                },
                {
                    "0": "1"
                },
                {
                    "0": "5"
                },
                {
                    "0": "1"
                },
                {
                    "0": "0"
                },
                {
                    "0": "8"
                },
                {
                    "0": "0"
                },
                {
                    "0": "20"
                },
                {
                    "0": "0"
                },
                {
                    "0": "14"
                },
                {
                    "0": "NULL"
                },
                {
                    "0": "0"
                },
                {
                    "0": "0"
                },
                {
                    "0": "28"
                },
                {
                    "0": "3"
                },
                {
                    "0": "0"
                },
                {
                    "0": "1"
                },
                {
                    "0": "5"
                },
                {
                    "0": "NULL"
                },
                {
                    "0": "0"
                },
                {
                    "0": "0"
                },
                {
                    "0": "7"
                },
                {
                    "0": "0"
                },
                {
                    "0": "0"
                },
                {
                    "0": "0"
                },
                {
                    "0": "0"
                },
                {
                    "0": "45"
                },
                {
                    "0": "15"
                },
                {
                    "0": "9"
                },
                {
                    "0": "8"
                },
                {
                    "0": "3"
                },
                {
                    "0": "10"
                },
                {
                    "0": "NULL"
                },
                {
                    "0": "NULL"
                },
                {
                    "0": "3"
                },
                {
                    "0": "14"
                },
                {
                    "0": "6"
                },
                {
                    "0": "4"
                },
                {
                    "0": "12"
                },
                {
                    "0": "12"
                },
                {
                    "0": "6"
                },
                {
                    "0": "0"
                },
                {
                    "0": "5"
                },
                {
                    "0": "9"
                },
                {
                    "0": "4"
                },
                {
                    "0": "3"
                },
                {
                    "0": "0"
                },
                {
                    "0": "2"
                },
                {
                    "0": "8"
                },
                {
                    "0": "7"
                },
                {
                    "0": "2"
                },
                {
                    "0": "1"
                },
                {
                    "0": "0"
                },
                {
                    "0": "0"
                },
                {
                    "0": "6"
                },
                {
                    "0": "7"
                },
                {
                    "0": "9"
                },
                {
                    "0": "9"
                },
                {
                    "0": "0"
                },
                {
                    "0": "0"
                },
                {
                    "0": "10"
                },
                {
                    "0": "13"
                },
                {
                    "0": "36"
                },
                {
                    "0": "37"
                },
                {
                    "0": "3"
                },
                {
                    "0": "6"
                },
                {
                    "0": "0"
                },
                {
                    "0": "7"
                },
                {
                    "0": "NULL"
                },
                {
                    "0": "0"
                },
                {
                    "0": "0"
                },
                {
                    "0": "0"
                },
                {
                    "0": "0"
                },
                {
                    "0": "0"
                },
                {
                    "0": "0"
                },
                {
                    "0": "0"
                },
                {
                    "0": "0"
                },
                {
                    "0": "6"
                },
                {
                    "0": "1"
                },
                {
                    "0": "2"
                },
                {
                    "0": "9"
                },
                {
                    "0": "36"
                },
                {
                    "0": "0"
                },
                {
                    "0": "0"
                },
                {
                    "0": "0"
                },
                {
                    "0": "0"
                },
                {
                    "0": "0"
                },
                {
                    "0": "0"
                },
                {
                    "0": "3"
                },
                {
                    "0": "7"
                },
                {
                    "0": "8"
                },
                {
                    "0": "0"
                },
                {
                    "0": "0"
                },
                {
                    "0": "0"
                },
                {
                    "0": "0"
                },
                {
                    "0": "0"
                },
                {
                    "0": "0"
                },
                {
                    "0": "1"
                },
                {
                    "0": "0"
                },
                {
                    "0": "15"
                },
                {
                    "0": "0"
                },
                {
                    "0": "0"
                },
                {
                    "0": "3"
                },
                {
                    "0": "2"
                },
                {
                    "0": "6"
                },
                {
                    "0": "8"
                },
                {
                    "0": "27"
                },
                {
                    "0": "4"
                },
                {
                    "0": "8"
                },
                {
                    "0": "9"
                },
                {
                    "0": "0"
                },
                {
                    "0": "3"
                },
                {
                    "0": "6"
                },
                {
                    "0": "0"
                },
                {
                    "0": "12"
                },
                {
                    "0": "0"
                },
                {
                    "0": "4"
                },
                {
                    "0": "2"
                },
                {
                    "0": "0"
                },
                {
                    "0": "0"
                },
                {
                    "0": "3"
                },
                {
                    "0": "1"
                },
                {
                    "0": "80"
                },
                {
                    "0": "4"
                },
                {
                    "0": "3"
                },
                {
                    "0": "4"
                },
                {
                    "0": "NULL"
                },
                {
                    "0": "12"
                },
                {
                    "0": "0"
                },
                {
                    "0": "0"
                },
                {
                    "0": "2"
                },
                {
                    "0": "0"
                },
                {
                    "0": "0"
                },
                {
                    "0": "6"
                },
                {
                    "0": "6"
                },
                {
                    "0": "6"
                },
                {
                    "0": "5"
                },
                {
                    "0": "14"
                },
                {
                    "0": "NULL"
                },
                {
                    "0": "7"
                },
                {
                    "0": "9"
                },
                {
                    "0": "0"
                },
                {
                    "0": "0"
                },
                {
                    "0": "0"
                },
                {
                    "0": "0"
                },
                {
                    "0": "0"
                },
                {
                    "0": "0"
                },
                {
                    "0": "4"
                },
                {
                    "0": "1"
                },
                {
                    "0": "NULL"
                },
                {
                    "0": "4"
                },
                {
                    "0": "11"
                },
                {
                    "0": "8"
                },
                {
                    "0": "10"
                },
                {
                    "0": "7"
                },
                {
                    "0": "NULL"
                },
                {
                    "0": "3"
                },
                {
                    "0": "0"
                },
                {
                    "0": "NULL"
                },
                {
                    "0": "2"
                },
                {
                    "0": "NULL"
                },
                {
                    "0": "3"
                },
                {
                    "0": "17"
                },
                {
                    "0": "NULL"
                },
                {
                    "0": "7"
                },
                {
                    "0": "0"
                },
                {
                    "0": "2"
                },
                {
                    "0": "40"
                },
                {
                    "0": "86"
                },
                {
                    "0": "3"
                },
                {
                    "0": "1"
                },
                {
                    "0": "0"
                },
                {
                    "0": "0"
                },
                {
                    "0": "0"
                },
                {
                    "0": "NULL"
                },
                {
                    "0": "NULL"
                },
                {
                    "0": "0"
                },
                {
                    "0": "0"
                },
                {
                    "0": "0"
                },
                {
                    "0": "4"
                },
                {
                    "0": "3"
                },
                {
                    "0": "3"
                },
                {
                    "0": "NULL"
                },
                {
                    "0": "2"
                },
                {
                    "0": "3"
                },
                {
                    "0": "4"
                },
                {
                    "0": "3"
                },
                {
                    "0": "4"
                },
                {
                    "0": "0"
                },
                {
                    "0": "0"
                },
                {
                    "0": "5"
                },
                {
                    "0": "0"
                },
                {
                    "0": "0"
                },
                {
                    "0": "3"
                },
                {
                    "0": "NULL"
                },
                {
                    "0": "NULL"
                },
                {
                    "0": "0"
                },
                {
                    "0": "NULL"
                },
                {
                    "0": "4"
                },
                {
                    "0": "15"
                },
                {
                    "0": "4"
                },
                {
                    "0": "31"
                },
                {
                    "0": "0"
                },
                {
                    "0": "3"
                },
                {
                    "0": "NULL"
                },
                {
                    "0": "NULL"
                },
                {
                    "0": "0"
                },
                {
                    "0": "0"
                },
                {
                    "0": "0"
                },
                {
                    "0": "0"
                },
                {
                    "0": "4"
                },
                {
                    "0": "6"
                },
                {
                    "0": "NULL"
                },
                {
                    "0": "NULL"
                },
                {
                    "0": "3"
                },
                {
                    "0": "1"
                },
                {
                    "0": "1"
                },
                {
                    "0": "1"
                },
                {
                    "0": "6"
                },
                {
                    "0": "1"
                },
                {
                    "0": "0"
                },
                {
                    "0": "0"
                },
                {
                    "0": "7"
                },
                {
                    "0": "3"
                },
                {
                    "0": "5"
                },
                {
                    "0": "0"
                },
                {
                    "0": "1"
                },
                {
                    "0": "13"
                },
                {
                    "0": "1"
                },
                {
                    "0": "9"
                },
                {
                    "0": "0"
                },
                {
                    "0": "6"
                },
                {
                    "0": "9"
                },
                {
                    "0": "3"
                },
                {
                    "0": "2"
                },
                {
                    "0": "3"
                },
                {
                    "0": "12"
                },
                {
                    "0": "NULL"
                },
                {
                    "0": "NULL"
                },
                {
                    "0": "1"
                },
                {
                    "0": "3"
                },
                {
                    "0": "0"
                },
                {
                    "0": "0"
                },
                {
                    "0": "0"
                },
                {
                    "0": "4"
                },
                {
                    "0": "33"
                },
                {
                    "0": "12"
                },
                {
                    "0": "NULL"
                },
                {
                    "0": "NULL"
                },
                {
                    "0": "NULL"
                },
                {
                    "0": "NULL"
                },
                {
                    "0": "NULL"
                },
                {
                    "0": "NULL"
                },
                {
                    "0": "NULL"
                },
                {
                    "0": "NULL"
                },
                {
                    "0": "NULL"
                },
                {
                    "0": "NULL"
                },
                {
                    "0": "NULL"
                },
                {
                    "0": "1"
                },
                {
                    "0": "0"
                },
                {
                    "0": "0"
                },
                {
                    "0": "3"
                },
                {
                    "0": "12"
                },
                {
                    "0": "0"
                },
                {
                    "0": "0"
                },
                {
                    "0": "39"
                },
                {
                    "0": "5"
                },
                {
                    "0": "NULL"
                },
                {
                    "0": "3"
                },
                {
                    "0": "1"
                },
                {
                    "0": "1261"
                },
                {
                    "0": "NULL"
                },
                {
                    "0": "NULL"
                },
                {
                    "0": "NULL"
                },
                {
                    "0": "138"
                },
                {
                    "0": "0"
                },
                {
                    "0": "1"
                },
                {
                    "0": "0"
                },
                {
                    "0": "0"
                },
                {
                    "0": "0"
                },
                {
                    "0": "0"
                },
                {
                    "0": "0"
                },
                {
                    "0": "0"
                },
                {
                    "0": "0"
                },
                {
                    "0": "0"
                },
                {
                    "0": "6"
                },
                {
                    "0": "0"
                },
                {
                    "0": "0"
                },
                {
                    "0": "0"
                },
                {
                    "0": "1"
                },
                {
                    "0": "3"
                },
                {
                    "0": "28"
                },
                {
                    "0": "13"
                },
                {
                    "0": "12"
                },
                {
                    "0": "NULL"
                },
                {
                    "0": "0"
                },
                {
                    "0": "6"
                },
                {
                    "0": "NULL"
                },
                {
                    "0": "8"
                },
                {
                    "0": "5"
                },
                {
                    "0": "2"
                },
                {
                    "0": "15"
                },
                {
                    "0": "15"
                },
                {
                    "0": "4"
                },
                {
                    "0": "6"
                },
                {
                    "0": "17"
                },
                {
                    "0": "6"
                },
                {
                    "0": "8"
                },
                {
                    "0": "8"
                },
                {
                    "0": "1"
                },
                {
                    "0": "2"
                },
                {
                    "0": "12"
                },
                {
                    "0": "1"
                },
                {
                    "0": "0"
                },
                {
                    "0": "9"
                },
                {
                    "0": "0"
                },
                {
                    "0": "0"
                },
                {
                    "0": "0"
                },
                {
                    "0": "1"
                },
                {
                    "0": "4"
                },
                {
                    "0": "0"
                },
                {
                    "0": "22"
                },
                {
                    "0": "0"
                },
                {
                    "0": "0"
                },
                {
                    "0": "3"
                },
                {
                    "0": "0"
                },
                {
                    "0": "NULL"
                },
                {
                    "0": "0"
                },
                {
                    "0": "0"
                },
                {
                    "0": "5"
                },
                {
                    "0": "6"
                },
                {
                    "0": "1"
                },
                {
                    "0": "1"
                },
                {
                    "0": "0"
                },
                {
                    "0": "0"
                },
                {
                    "0": "18"
                },
                {
                    "0": "69"
                },
                {
                    "0": "0"
                },
                {
                    "0": "0"
                },
                {
                    "0": "0"
                },
                {
                    "0": "0"
                },
                {
                    "0": "NULL"
                },
                {
                    "0": "NULL"
                },
                {
                    "0": "34"
                },
                {
                    "0": "4"
                },
                {
                    "0": "0"
                },
                {
                    "0": "3"
                },
                {
                    "0": "0"
                },
                {
                    "0": "19"
                },
                {
                    "0": "10"
                },
                {
                    "0": "0"
                },
                {
                    "0": "0"
                },
                {
                    "0": "3"
                },
                {
                    "0": "6"
                },
                {
                    "0": "3"
                },
                {
                    "0": "3"
                },
                {
                    "0": "2"
                },
                {
                    "0": "3"
                },
                {
                    "0": "0"
                },
                {
                    "0": "4"
                },
                {
                    "0": "1"
                },
                {
                    "0": "0"
                },
                {
                    "0": "0"
                },
                {
                    "0": "0"
                },
                {
                    "0": "0"
                },
                {
                    "0": "0"
                },
                {
                    "0": "0"
                },
                {
                    "0": "0"
                },
                {
                    "0": "0"
                },
                {
                    "0": "NULL"
                },
                {
                    "0": "4"
                },
                {
                    "0": "0"
                },
                {
                    "0": "0"
                },
                {
                    "0": "0"
                },
                {
                    "0": "6"
                },
                {
                    "0": "3"
                },
                {
                    "0": "NULL"
                },
                {
                    "0": "10"
                },
                {
                    "0": "3"
                },
                {
                    "0": "0"
                },
                {
                    "0": "3"
                },
                {
                    "0": "NULL"
                },
                {
                    "0": "0"
                },
                {
                    "0": "NULL"
                },
                {
                    "0": "2"
                },
                {
                    "0": "3"
                },
                {
                    "0": "0"
                },
                {
                    "0": "0"
                },
                {
                    "0": "0"
                },
                {
                    "0": "0"
                },
                {
                    "0": "9"
                },
                {
                    "0": "NULL"
                },
                {
                    "0": "286"
                },
                {
                    "0": "4"
                },
                {
                    "0": "0"
                },
                {
                    "0": "13"
                },
                {
                    "0": "3"
                },
                {
                    "0": "7"
                },
                {
                    "0": "3"
                },
                {
                    "0": "10"
                },
                {
                    "0": "0"
                },
                {
                    "0": "2"
                },
                {
                    "0": "4"
                },
                {
                    "0": "4"
                },
                {
                    "0": "0"
                },
                {
                    "0": "14"
                },
                {
                    "0": "6"
                },
                {
                    "0": "1"
                },
                {
                    "0": "0"
                },
                {
                    "0": "4"
                },
                {
                    "0": "48"
                },
                {
                    "0": "9"
                },
                {
                    "0": "0"
                },
                {
                    "0": "0"
                },
                {
                    "0": "3"
                },
                {
                    "0": "0"
                },
                {
                    "0": "NULL"
                },
                {
                    "0": "0"
                },
                {
                    "0": "4"
                },
                {
                    "0": "0"
                },
                {
                    "0": "0"
                },
                {
                    "0": "3"
                },
                {
                    "0": "0"
                },
                {
                    "0": "0"
                },
                {
                    "0": "13"
                },
                {
                    "0": "1"
                },
                {
                    "0": "0"
                },
                {
                    "0": "0"
                },
                {
                    "0": "3"
                },
                {
                    "0": "9"
                },
                {
                    "0": "1"
                },
                {
                    "0": "4"
                },
                {
                    "0": "0"
                },
                {
                    "0": "38"
                },
                {
                    "0": "NULL"
                },
                {
                    "0": "7"
                },
                {
                    "0": "3"
                },
                {
                    "0": "10"
                },
                {
                    "0": "17"
                },
                {
                    "0": "25"
                },
                {
                    "0": "26"
                },
                {
                    "0": "11"
                },
                {
                    "0": "NULL"
                },
                {
                    "0": "3"
                },
                {
                    "0": "24"
                },
                {
                    "0": "NULL"
                },
                {
                    "0": "13"
                },
                {
                    "0": "5"
                },
                {
                    "0": "1"
                },
                {
                    "0": "0"
                },
                {
                    "0": "16"
                },
                {
                    "0": "4"
                },
                {
                    "0": "14"
                },
                {
                    "0": "6"
                },
                {
                    "0": "4"
                },
                {
                    "0": "3"
                },
                {
                    "0": "NULL"
                },
                {
                    "0": "0"
                },
                {
                    "0": "0"
                },
                {
                    "0": "3"
                },
                {
                    "0": "0"
                },
                {
                    "0": "0"
                },
                {
                    "0": "0"
                },
                {
                    "0": "0"
                },
                {
                    "0": "NULL"
                },
                {
                    "0": "8"
                },
                {
                    "0": "NULL"
                },
                {
                    "0": "0"
                },
                {
                    "0": "26"
                },
                {
                    "0": "13"
                },
                {
                    "0": "3"
                },
                {
                    "0": "4"
                },
                {
                    "0": "1"
                },
                {
                    "0": "3"
                },
                {
                    "0": "4"
                },
                {
                    "0": "45"
                },
                {
                    "0": "6"
                },
                {
                    "0": "3"
                },
                {
                    "0": "7"
                },
                {
                    "0": "15"
                },
                {
                    "0": "3"
                },
                {
                    "0": "3"
                },
                {
                    "0": "NULL"
                },
                {
                    "0": "0"
                },
                {
                    "0": "0"
                },
                {
                    "0": "3"
                },
                {
                    "0": "0"
                },
                {
                    "0": "0"
                },
                {
                    "0": "0"
                },
                {
                    "0": "10"
                },
                {
                    "0": "NULL"
                },
                {
                    "0": "3"
                },
                {
                    "0": "15"
                },
                {
                    "0": "10"
                },
                {
                    "0": "0"
                },
                {
                    "0": "0"
                },
                {
                    "0": "NULL"
                },
                {
                    "0": "3"
                },
                {
                    "0": "2"
                },
                {
                    "0": "1"
                },
                {
                    "0": "0"
                },
                {
                    "0": "0"
                },
                {
                    "0": "0"
                },
                {
                    "0": "0"
                },
                {
                    "0": "NULL"
                },
                {
                    "0": "2"
                },
                {
                    "0": "5"
                },
                {
                    "0": "6"
                },
                {
                    "0": "3"
                },
                {
                    "0": "6"
                },
                {
                    "0": "2"
                },
                {
                    "0": "4"
                },
                {
                    "0": "3"
                },
                {
                    "0": "9"
                },
                {
                    "0": "17"
                },
                {
                    "0": "0"
                },
                {
                    "0": "5"
                },
                {
                    "0": "NULL"
                },
                {
                    "0": "0"
                },
                {
                    "0": "51"
                },
                {
                    "0": "14"
                },
                {
                    "0": "6"
                },
                {
                    "0": "5"
                },
                {
                    "0": "27"
                },
                {
                    "0": "15"
                },
                {
                    "0": "5"
                },
                {
                    "0": "7"
                },
                {
                    "0": "3"
                },
                {
                    "0": "6"
                },
                {
                    "0": "0"
                },
                {
                    "0": "0"
                },
                {
                    "0": "0"
                },
                {
                    "0": "3"
                },
                {
                    "0": "1"
                },
                {
                    "0": "4"
                },
                {
                    "0": "3"
                },
                {
                    "0": "0"
                },
                {
                    "0": "3"
                },
                {
                    "0": "4"
                },
                {
                    "0": "3"
                },
                {
                    "0": "3"
                },
                {
                    "0": "NULL"
                },
                {
                    "0": "0"
                },
                {
                    "0": "0"
                },
                {
                    "0": "0"
                },
                {
                    "0": "2"
                },
                {
                    "0": "3"
                },
                {
                    "0": "39"
                },
                {
                    "0": "3"
                },
                {
                    "0": "17"
                },
                {
                    "0": "15"
                },
                {
                    "0": "15"
                },
                {
                    "0": "6"
                },
                {
                    "0": "3"
                },
                {
                    "0": "3"
                },
                {
                    "0": "9"
                },
                {
                    "0": "NULL"
                },
                {
                    "0": "3"
                },
                {
                    "0": "13"
                },
                {
                    "0": "0"
                },
                {
                    "0": "55"
                },
                {
                    "0": "4"
                },
                {
                    "0": "0"
                },
                {
                    "0": "6"
                },
                {
                    "0": "3"
                },
                {
                    "0": "7"
                },
                {
                    "0": "21"
                },
                {
                    "0": "7"
                },
                {
                    "0": "36"
                },
                {
                    "0": "24"
                },
                {
                    "0": "13"
                },
                {
                    "0": "5"
                },
                {
                    "0": "0"
                },
                {
                    "0": "7"
                },
                {
                    "0": "4"
                },
                {
                    "0": "0"
                },
                {
                    "0": "2"
                },
                {
                    "0": "0"
                },
                {
                    "0": "1"
                },
                {
                    "0": "10"
                },
                {
                    "0": "3"
                },
                {
                    "0": "0"
                },
                {
                    "0": "3"
                },
                {
                    "0": "3"
                },
                {
                    "0": "NULL"
                },
                {
                    "0": "0"
                },
                {
                    "0": "0"
                },
                {
                    "0": "3"
                },
                {
                    "0": "0"
                },
                {
                    "0": "0"
                },
                {
                    "0": "1"
                },
                {
                    "0": "NULL"
                },
                {
                    "0": "NULL"
                },
                {
                    "0": "NULL"
                },
                {
                    "0": "NULL"
                },
                {
                    "0": "NULL"
                },
                {
                    "0": "0"
                },
                {
                    "0": "0"
                },
                {
                    "0": "3"
                },
                {
                    "0": "0"
                },
                {
                    "0": "0"
                },
                {
                    "0": "0"
                },
                {
                    "0": "29"
                },
                {
                    "0": "12"
                },
                {
                    "0": "1"
                },
                {
                    "0": "NULL"
                },
                {
                    "0": "12"
                },
                {
                    "0": "NULL"
                },
                {
                    "0": "NULL"
                },
                {
                    "0": "NULL"
                },
                {
                    "0": "NULL"
                },
                {
                    "0": "6"
                },
                {
                    "0": "6"
                },
                {
                    "0": "0"
                },
                {
                    "0": "0"
                },
                {
                    "0": "NULL"
                },
                {
                    "0": "3"
                },
                {
                    "0": "0"
                },
                {
                    "0": "NULL"
                },
                {
                    "0": "2"
                },
                {
                    "0": "3"
                },
                {
                    "0": "18"
                },
                {
                    "0": "NULL"
                },
                {
                    "0": "4"
                },
                {
                    "0": "18"
                },
                {
                    "0": "3"
                },
                {
                    "0": "1"
                },
                {
                    "0": "1"
                },
                {
                    "0": "4"
                },
                {
                    "0": "4"
                },
                {
                    "0": "24"
                },
                {
                    "0": "75"
                },
                {
                    "0": "3"
                },
                {
                    "0": "10"
                },
                {
                    "0": "NULL"
                },
                {
                    "0": "9"
                },
                {
                    "0": "5"
                },
                {
                    "0": "0"
                },
                {
                    "0": "0"
                },
                {
                    "0": "0"
                },
                {
                    "0": "0"
                },
                {
                    "0": "0"
                },
                {
                    "0": "0"
                },
                {
                    "0": "4"
                },
                {
                    "0": "7"
                },
                {
                    "0": "6"
                },
                {
                    "0": "3"
                },
                {
                    "0": "NULL"
                },
                {
                    "0": "35"
                },
                {
                    "0": "0"
                },
                {
                    "0": "5"
                },
                {
                    "0": "3"
                },
                {
                    "0": "NULL"
                },
                {
                    "0": "0"
                },
                {
                    "0": "2"
                },
                {
                    "0": "0"
                },
                {
                    "0": "3"
                },
                {
                    "0": "2"
                },
                {
                    "0": "191"
                },
                {
                    "0": "188"
                },
                {
                    "0": "17"
                },
                {
                    "0": "4"
                },
                {
                    "0": "0"
                },
                {
                    "0": "3"
                },
                {
                    "0": "9"
                },
                {
                    "0": "10"
                },
                {
                    "0": "10"
                },
                {
                    "0": "8"
                },
                {
                    "0": "14"
                },
                {
                    "0": "28"
                },
                {
                    "0": "25"
                },
                {
                    "0": "0"
                },
                {
                    "0": "12"
                },
                {
                    "0": "40"
                },
                {
                    "0": "2"
                },
                {
                    "0": "1"
                },
                {
                    "0": "NULL"
                },
                {
                    "0": "4"
                },
                {
                    "0": "3"
                },
                {
                    "0": "0"
                },
                {
                    "0": "0"
                },
                {
                    "0": "NULL"
                },
                {
                    "0": "1"
                },
                {
                    "0": "4"
                },
                {
                    "0": "1"
                },
                {
                    "0": "0"
                },
                {
                    "0": "0"
                },
                {
                    "0": "4"
                },
                {
                    "0": "1"
                },
                {
                    "0": "0"
                },
                {
                    "0": "7"
                },
                {
                    "0": "40"
                },
                {
                    "0": "71"
                },
                {
                    "0": "37"
                },
                {
                    "0": "39"
                },
                {
                    "0": "83"
                },
                {
                    "0": "21"
                },
                {
                    "0": "496"
                },
                {
                    "0": "37"
                },
                {
                    "0": "6"
                },
                {
                    "0": "3"
                },
                {
                    "0": "NULL"
                },
                {
                    "0": "3"
                },
                {
                    "0": "30"
                },
                {
                    "0": "2"
                },
                {
                    "0": "78"
                },
                {
                    "0": "NULL"
                },
                {
                    "0": "18"
                },
                {
                    "0": "0"
                },
                {
                    "0": "0"
                },
                {
                    "0": "10"
                },
                {
                    "0": "3"
                },
                {
                    "0": "0"
                },
                {
                    "0": "0"
                },
                {
                    "0": "0"
                },
                {
                    "0": "0"
                },
                {
                    "0": "115"
                },
                {
                    "0": "9"
                },
                {
                    "0": "NULL"
                },
                {
                    "0": "0"
                },
                {
                    "0": "0"
                },
                {
                    "0": "0"
                },
                {
                    "0": "0"
                },
                {
                    "0": "0"
                },
                {
                    "0": "0"
                },
                {
                    "0": "NULL"
                },
                {
                    "0": "1"
                },
                {
                    "0": "NULL"
                },
                {
                    "0": "0"
                },
                {
                    "0": "7"
                },
                {
                    "0": "22"
                },
                {
                    "0": "NULL"
                },
                {
                    "0": "0"
                },
                {
                    "0": "6"
                },
                {
                    "0": "0"
                },
                {
                    "0": "NULL"
                },
                {
                    "0": "7"
                },
                {
                    "0": "24"
                },
                {
                    "0": "2"
                },
                {
                    "0": "4"
                },
                {
                    "0": "0"
                },
                {
                    "0": "0"
                },
                {
                    "0": "0"
                },
                {
                    "0": "0"
                },
                {
                    "0": "1"
                },
                {
                    "0": "4"
                },
                {
                    "0": "0"
                },
                {
                    "0": "0"
                },
                {
                    "0": "3"
                },
                {
                    "0": "5"
                },
                {
                    "0": "11"
                },
                {
                    "0": "3"
                },
                {
                    "0": "0"
                },
                {
                    "0": "12"
                },
                {
                    "0": "10"
                },
                {
                    "0": "64"
                },
                {
                    "0": "NULL"
                },
                {
                    "0": "16"
                },
                {
                    "0": "3"
                },
                {
                    "0": "4"
                },
                {
                    "0": "9"
                },
                {
                    "0": "9"
                },
                {
                    "0": "11"
                },
                {
                    "0": "11"
                },
                {
                    "0": "3"
                },
                {
                    "0": "9"
                },
                {
                    "0": "0"
                },
                {
                    "0": "11"
                },
                {
                    "0": "4"
                },
                {
                    "0": "9"
                },
                {
                    "0": "3"
                },
                {
                    "0": "NULL"
                },
                {
                    "0": "0"
                },
                {
                    "0": "6"
                },
                {
                    "0": "0"
                },
                {
                    "0": "0"
                },
                {
                    "0": "NULL"
                },
                {
                    "0": "NULL"
                },
                {
                    "0": "3"
                },
                {
                    "0": "7"
                },
                {
                    "0": "0"
                },
                {
                    "0": "0"
                },
                {
                    "0": "0"
                },
                {
                    "0": "6"
                },
                {
                    "0": "11"
                },
                {
                    "0": "3"
                },
                {
                    "0": "2"
                },
                {
                    "0": "12"
                },
                {
                    "0": "12"
                },
                {
                    "0": "NULL"
                },
                {
                    "0": "NULL"
                },
                {
                    "0": "0"
                },
                {
                    "0": "18"
                },
                {
                    "0": "7"
                },
                {
                    "0": "0"
                },
                {
                    "0": "0"
                },
                {
                    "0": "0"
                },
                {
                    "0": "9"
                },
                {
                    "0": "3"
                },
                {
                    "0": "0"
                },
                {
                    "0": "3"
                },
                {
                    "0": "11"
                },
                {
                    "0": "4"
                },
                {
                    "0": "0"
                },
                {
                    "0": "0"
                },
                {
                    "0": "11"
                },
                {
                    "0": "10"
                },
                {
                    "0": "13"
                },
                {
                    "0": "11"
                },
                {
                    "0": "8"
                },
                {
                    "0": "14"
                },
                {
                    "0": "4"
                },
                {
                    "0": "1"
                },
                {
                    "0": "0"
                },
                {
                    "0": "0"
                },
                {
                    "0": "0"
                },
                {
                    "0": "6"
                },
                {
                    "0": "6"
                },
                {
                    "0": "31"
                },
                {
                    "0": "0"
                },
                {
                    "0": "6"
                },
                {
                    "0": "6"
                },
                {
                    "0": "1"
                },
                {
                    "0": "3"
                },
                {
                    "0": "0"
                },
                {
                    "0": "1"
                },
                {
                    "0": "NULL"
                },
                {
                    "0": "2"
                },
                {
                    "0": "0"
                },
                {
                    "0": "87"
                },
                {
                    "0": "0"
                },
                {
                    "0": "3"
                },
                {
                    "0": "3"
                },
                {
                    "0": "0"
                },
                {
                    "0": "NULL"
                },
                {
                    "0": "3"
                },
                {
                    "0": "0"
                },
                {
                    "0": "9"
                },
                {
                    "0": "0"
                },
                {
                    "0": "0"
                },
                {
                    "0": "0"
                },
                {
                    "0": "3"
                },
                {
                    "0": "3"
                },
                {
                    "0": "9"
                },
                {
                    "0": "7"
                },
                {
                    "0": "14"
                },
                {
                    "0": "5"
                },
                {
                    "0": "75"
                },
                {
                    "0": "9"
                },
                {
                    "0": "1"
                },
                {
                    "0": "1"
                },
                {
                    "0": "NULL"
                },
                {
                    "0": "0"
                },
                {
                    "0": "0"
                },
                {
                    "0": "3"
                },
                {
                    "0": "0"
                },
                {
                    "0": "0"
                },
                {
                    "0": "6"
                },
                {
                    "0": "0"
                },
                {
                    "0": "1"
                },
                {
                    "0": "1"
                },
                {
                    "0": "0"
                },
                {
                    "0": "198"
                },
                {
                    "0": "0"
                },
                {
                    "0": "4"
                },
                {
                    "0": "26"
                },
                {
                    "0": "0"
                },
                {
                    "0": "7"
                },
                {
                    "0": "10"
                },
                {
                    "0": "9"
                },
                {
                    "0": "14"
                },
                {
                    "0": "3"
                },
                {
                    "0": "NULL"
                },
                {
                    "0": "5"
                },
                {
                    "0": "9"
                },
                {
                    "0": "53"
                },
                {
                    "0": "179"
                },
                {
                    "0": "0"
                },
                {
                    "0": "1"
                },
                {
                    "0": "0"
                },
                {
                    "0": "0"
                },
                {
                    "0": "8"
                },
                {
                    "0": "3"
                },
                {
                    "0": "3"
                },
                {
                    "0": "0"
                },
                {
                    "0": "0"
                },
                {
                    "0": "1"
                },
                {
                    "0": "3"
                },
                {
                    "0": "3"
                },
                {
                    "0": "3"
                },
                {
                    "0": "3"
                },
                {
                    "0": "0"
                },
                {
                    "0": "0"
                },
                {
                    "0": "0"
                },
                {
                    "0": "0"
                },
                {
                    "0": "0"
                },
                {
                    "0": "NULL"
                },
                {
                    "0": "NULL"
                },
                {
                    "0": "1"
                },
                {
                    "0": "0"
                },
                {
                    "0": "3"
                },
                {
                    "0": "9"
                },
                {
                    "0": "7"
                },
                {
                    "0": "5"
                },
                {
                    "0": "9"
                },
                {
                    "0": "6"
                },
                {
                    "0": "1"
                },
                {
                    "0": "1"
                },
                {
                    "0": "0"
                },
                {
                    "0": "0"
                },
                {
                    "0": "0"
                },
                {
                    "0": "1"
                },
                {
                    "0": "12"
                },
                {
                    "0": "12"
                },
                {
                    "0": "8"
                },
                {
                    "0": "10"
                },
                {
                    "0": "12"
                },
                {
                    "0": "2"
                },
                {
                    "0": "NULL"
                },
                {
                    "0": "3"
                },
                {
                    "0": "38"
                },
                {
                    "0": "6"
                },
                {
                    "0": "0"
                },
                {
                    "0": "0"
                },
                {
                    "0": "4"
                },
                {
                    "0": "89"
                },
                {
                    "0": "85"
                },
                {
                    "0": "NULL"
                },
                {
                    "0": "0"
                },
                {
                    "0": "1"
                },
                {
                    "0": "0"
                },
                {
                    "0": "0"
                },
                {
                    "0": "0"
                },
                {
                    "0": "NULL"
                },
                {
                    "0": "51"
                },
                {
                    "0": "0"
                },
                {
                    "0": "25"
                },
                {
                    "0": "3"
                },
                {
                    "0": "30"
                },
                {
                    "0": "2"
                },
                {
                    "0": "0"
                },
                {
                    "0": "0"
                },
                {
                    "0": "1"
                },
                {
                    "0": "0"
                },
                {
                    "0": "8"
                },
                {
                    "0": "14"
                },
                {
                    "0": "6"
                },
                {
                    "0": "1"
                },
                {
                    "0": "NULL"
                },
                {
                    "0": "9"
                },
                {
                    "0": "3"
                },
                {
                    "0": "3"
                },
                {
                    "0": "8"
                },
                {
                    "0": "11"
                },
                {
                    "0": "11"
                },
                {
                    "0": "4"
                },
                {
                    "0": "NULL"
                },
                {
                    "0": "11"
                },
                {
                    "0": "17"
                },
                {
                    "0": "9"
                },
                {
                    "0": "11"
                },
                {
                    "0": "3"
                },
                {
                    "0": "0"
                },
                {
                    "0": "0"
                },
                {
                    "0": "0"
                },
                {
                    "0": "0"
                },
                {
                    "0": "11"
                },
                {
                    "0": "0"
                },
                {
                    "0": "0"
                },
                {
                    "0": "3"
                },
                {
                    "0": "0"
                },
                {
                    "0": "0"
                },
                {
                    "0": "0"
                },
                {
                    "0": "NULL"
                },
                {
                    "0": "NULL"
                },
                {
                    "0": "NULL"
                },
                {
                    "0": "0"
                },
                {
                    "0": "4"
                },
                {
                    "0": "1"
                },
                {
                    "0": "0"
                },
                {
                    "0": "3"
                },
                {
                    "0": "21"
                },
                {
                    "0": "68"
                },
                {
                    "0": "12"
                },
                {
                    "0": "NULL"
                },
                {
                    "0": "3"
                },
                {
                    "0": "3"
                },
                {
                    "0": "13"
                },
                {
                    "0": "3"
                },
                {
                    "0": "2"
                },
                {
                    "0": "5"
                },
                {
                    "0": "3"
                },
                {
                    "0": "0"
                },
                {
                    "0": "0"
                },
                {
                    "0": "11"
                },
                {
                    "0": "10"
                },
                {
                    "0": "15"
                },
                {
                    "0": "52"
                },
                {
                    "0": "0"
                },
                {
                    "0": "43"
                },
                {
                    "0": "43"
                },
                {
                    "0": "40"
                },
                {
                    "0": "44"
                },
                {
                    "0": "0"
                },
                {
                    "0": "6"
                },
                {
                    "0": "1"
                },
                {
                    "0": "0"
                },
                {
                    "0": "0"
                },
                {
                    "0": "0"
                },
                {
                    "0": "0"
                },
                {
                    "0": "0"
                },
                {
                    "0": "NULL"
                },
                {
                    "0": "1"
                },
                {
                    "0": "37"
                },
                {
                    "0": "0"
                },
                {
                    "0": "2"
                },
                {
                    "0": "1"
                },
                {
                    "0": "0"
                },
                {
                    "0": "0"
                },
                {
                    "0": "3"
                },
                {
                    "0": "0"
                },
                {
                    "0": "0"
                },
                {
                    "0": "0"
                },
                {
                    "0": "6"
                },
                {
                    "0": "12"
                },
                {
                    "0": "2"
                },
                {
                    "0": "0"
                },
                {
                    "0": "0"
                },
                {
                    "0": "7"
                },
                {
                    "0": "11"
                },
                {
                    "0": "NULL"
                },
                {
                    "0": "9"
                },
                {
                    "0": "3"
                },
                {
                    "0": "3"
                },
                {
                    "0": "6"
                },
                {
                    "0": "9"
                },
                {
                    "0": "9"
                },
                {
                    "0": "10"
                },
                {
                    "0": "13"
                },
                {
                    "0": "0"
                },
                {
                    "0": "0"
                },
                {
                    "0": "3"
                },
                {
                    "0": "3"
                },
                {
                    "0": "4"
                },
                {
                    "0": "0"
                },
                {
                    "0": "3"
                },
                {
                    "0": "5"
                },
                {
                    "0": "0"
                },
                {
                    "0": "0"
                },
                {
                    "0": "0"
                },
                {
                    "0": "0"
                },
                {
                    "0": "2"
                },
                {
                    "0": "3"
                },
                {
                    "0": "10"
                },
                {
                    "0": "11"
                },
                {
                    "0": "0"
                },
                {
                    "0": "0"
                },
                {
                    "0": "NULL"
                },
                {
                    "0": "0"
                },
                {
                    "0": "1"
                },
                {
                    "0": "NULL"
                },
                {
                    "0": "NULL"
                },
                {
                    "0": "NULL"
                },
                {
                    "0": "NULL"
                },
                {
                    "0": "0"
                },
                {
                    "0": "7"
                },
                {
                    "0": "3"
                },
                {
                    "0": "0"
                },
                {
                    "0": "0"
                },
                {
                    "0": "0"
                },
                {
                    "0": "0"
                },
                {
                    "0": "18"
                },
                {
                    "0": "8"
                },
                {
                    "0": "39"
                },
                {
                    "0": "0"
                },
                {
                    "0": "0"
                },
                {
                    "0": "8"
                },
                {
                    "0": "14"
                },
                {
                    "0": "2"
                },
                {
                    "0": "11"
                },
                {
                    "0": "44"
                },
                {
                    "0": "0"
                },
                {
                    "0": "NULL"
                },
                {
                    "0": "10"
                },
                {
                    "0": "31"
                },
                {
                    "0": "31"
                },
                {
                    "0": "31"
                },
                {
                    "0": "0"
                },
                {
                    "0": "0"
                },
                {
                    "0": "0"
                },
                {
                    "0": "3"
                },
                {
                    "0": "9"
                },
                {
                    "0": "1"
                },
                {
                    "0": "0"
                },
                {
                    "0": "17"
                },
                {
                    "0": "0"
                },
                {
                    "0": "4"
                },
                {
                    "0": "3"
                },
                {
                    "0": "0"
                },
                {
                    "0": "18"
                },
                {
                    "0": "0"
                },
                {
                    "0": "0"
                },
                {
                    "0": "1"
                },
                {
                    "0": "1"
                },
                {
                    "0": "15"
                },
                {
                    "0": "3"
                },
                {
                    "0": "0"
                },
                {
                    "0": "0"
                },
                {
                    "0": "0"
                },
                {
                    "0": "0"
                },
                {
                    "0": "0"
                },
                {
                    "0": "9"
                },
                {
                    "0": "NULL"
                },
                {
                    "0": "24"
                },
                {
                    "0": "57"
                },
                {
                    "0": "0"
                },
                {
                    "0": "3"
                },
                {
                    "0": "3"
                },
                {
                    "0": "7"
                },
                {
                    "0": "6"
                },
                {
                    "0": "7"
                },
                {
                    "0": "16"
                },
                {
                    "0": "10"
                },
                {
                    "0": "13"
                },
                {
                    "0": "6"
                },
                {
                    "0": "7"
                },
                {
                    "0": "5"
                },
                {
                    "0": "7"
                },
                {
                    "0": "12"
                },
                {
                    "0": "0"
                },
                {
                    "0": "0"
                },
                {
                    "0": "3"
                },
                {
                    "0": "5"
                },
                {
                    "0": "0"
                },
                {
                    "0": "3"
                },
                {
                    "0": "0"
                },
                {
                    "0": "NULL"
                },
                {
                    "0": "3"
                },
                {
                    "0": "7"
                },
                {
                    "0": "2"
                },
                {
                    "0": "0"
                },
                {
                    "0": "0"
                },
                {
                    "0": "0"
                },
                {
                    "0": "7"
                },
                {
                    "0": "NULL"
                },
                {
                    "0": "18"
                },
                {
                    "0": "24"
                },
                {
                    "0": "0"
                },
                {
                    "0": "3"
                },
                {
                    "0": "3"
                },
                {
                    "0": "0"
                },
                {
                    "0": "0"
                },
                {
                    "0": "0"
                },
                {
                    "0": "0"
                },
                {
                    "0": "0"
                },
                {
                    "0": "1"
                },
                {
                    "0": "0"
                },
                {
                    "0": "3"
                },
                {
                    "0": "3"
                },
                {
                    "0": "0"
                },
                {
                    "0": "0"
                },
                {
                    "0": "NULL"
                },
                {
                    "0": "5"
                },
                {
                    "0": "9"
                },
                {
                    "0": "6"
                },
                {
                    "0": "2"
                },
                {
                    "0": "NULL"
                },
                {
                    "0": "NULL"
                },
                {
                    "0": "0"
                },
                {
                    "0": "13"
                },
                {
                    "0": "10"
                },
                {
                    "0": "13"
                },
                {
                    "0": "69"
                },
                {
                    "0": "45"
                },
                {
                    "0": "0"
                },
                {
                    "0": "0"
                },
                {
                    "0": "0"
                },
                {
                    "0": "0"
                },
                {
                    "0": "0"
                },
                {
                    "0": "0"
                },
                {
                    "0": "0"
                },
                {
                    "0": "0"
                },
                {
                    "0": "0"
                },
                {
                    "0": "0"
                },
                {
                    "0": "0"
                },
                {
                    "0": "NULL"
                },
                {
                    "0": "0"
                },
                {
                    "0": "0"
                },
                {
                    "0": "1"
                },
                {
                    "0": "3"
                },
                {
                    "0": "NULL"
                },
                {
                    "0": "12"
                },
                {
                    "0": "66"
                },
                {
                    "0": "12"
                },
                {
                    "0": "9"
                },
                {
                    "0": "0"
                },
                {
                    "0": "0"
                },
                {
                    "0": "0"
                },
                {
                    "0": "3"
                },
                {
                    "0": "NULL"
                },
                {
                    "0": "NULL"
                },
                {
                    "0": "NULL"
                },
                {
                    "0": "0"
                },
                {
                    "0": "3"
                },
                {
                    "0": "24"
                },
                {
                    "0": "0"
                },
                {
                    "0": "0"
                },
                {
                    "0": "0"
                },
                {
                    "0": "0"
                },
                {
                    "0": "0"
                },
                {
                    "0": "0"
                },
                {
                    "0": "0"
                },
                {
                    "0": "0"
                },
                {
                    "0": "0"
                },
                {
                    "0": "0"
                },
                {
                    "0": "0"
                },
                {
                    "0": "0"
                },
                {
                    "0": "0"
                },
                {
                    "0": "0"
                },
                {
                    "0": "0"
                },
                {
                    "0": "0"
                },
                {
                    "0": "0"
                },
                {
                    "0": "0"
                },
                {
                    "0": "0"
                },
                {
                    "0": "0"
                },
                {
                    "0": "0"
                },
                {
                    "0": "11"
                },
                {
                    "0": "8"
                },
                {
                    "0": "0"
                },
                {
                    "0": "0"
                },
                {
                    "0": "13"
                },
                {
                    "0": "93"
                },
                {
                    "0": "6"
                },
                {
                    "0": "12"
                },
                {
                    "0": "0"
                },
                {
                    "0": "0"
                },
                {
                    "0": "2"
                },
                {
                    "0": "0"
                },
                {
                    "0": "3"
                },
                {
                    "0": "2"
                },
                {
                    "0": "14"
                },
                {
                    "0": "0"
                },
                {
                    "0": "NULL"
                },
                {
                    "0": "0"
                },
                {
                    "0": "4"
                },
                {
                    "0": "3"
                },
                {
                    "0": "0"
                },
                {
                    "0": "0"
                },
                {
                    "0": "0"
                },
                {
                    "0": "0"
                },
                {
                    "0": "3"
                },
                {
                    "0": "11"
                },
                {
                    "0": "0"
                },
                {
                    "0": "1"
                },
                {
                    "0": "6"
                },
                {
                    "0": "0"
                },
                {
                    "0": "31"
                },
                {
                    "0": "0"
                },
                {
                    "0": "3"
                },
                {
                    "0": "10"
                },
                {
                    "0": "13"
                },
                {
                    "0": "9"
                },
                {
                    "0": "6"
                },
                {
                    "0": "2"
                },
                {
                    "0": "0"
                },
                {
                    "0": "NULL"
                },
                {
                    "0": "NULL"
                },
                {
                    "0": "NULL"
                },
                {
                    "0": "NULL"
                },
                {
                    "0": "NULL"
                },
                {
                    "0": "7"
                },
                {
                    "0": "0"
                },
                {
                    "0": "0"
                },
                {
                    "0": "9"
                },
                {
                    "0": "22"
                },
                {
                    "0": "6"
                },
                {
                    "0": "0"
                },
                {
                    "0": "4"
                },
                {
                    "0": "6"
                },
                {
                    "0": "15"
                },
                {
                    "0": "5"
                },
                {
                    "0": "5"
                },
                {
                    "0": "1"
                },
                {
                    "0": "0"
                },
                {
                    "0": "0"
                },
                {
                    "0": "0"
                },
                {
                    "0": "0"
                },
                {
                    "0": "0"
                },
                {
                    "0": "1"
                },
                {
                    "0": "NULL"
                },
                {
                    "0": "NULL"
                },
                {
                    "0": "NULL"
                },
                {
                    "0": "3"
                },
                {
                    "0": "NULL"
                },
                {
                    "0": "0"
                },
                {
                    "0": "672"
                },
                {
                    "0": "3"
                },
                {
                    "0": "7"
                },
                {
                    "0": "0"
                },
                {
                    "0": "111"
                },
                {
                    "0": "6"
                },
                {
                    "0": "6"
                },
                {
                    "0": "8"
                },
                {
                    "0": "3"
                },
                {
                    "0": "6"
                },
                {
                    "0": "11"
                },
                {
                    "0": "5"
                },
                {
                    "0": "NULL"
                },
                {
                    "0": "NULL"
                },
                {
                    "0": "7"
                },
                {
                    "0": "0"
                },
                {
                    "0": "0"
                },
                {
                    "0": "NULL"
                },
                {
                    "0": "NULL"
                },
                {
                    "0": "0"
                },
                {
                    "0": "3"
                },
                {
                    "0": "3"
                },
                {
                    "0": "NULL"
                },
                {
                    "0": "0"
                },
                {
                    "0": "3"
                },
                {
                    "0": "5"
                },
                {
                    "0": "3"
                },
                {
                    "0": "3"
                },
                {
                    "0": "0"
                },
                {
                    "0": "1"
                },
                {
                    "0": "8"
                },
                {
                    "0": "3"
                },
                {
                    "0": "0"
                },
                {
                    "0": "6"
                },
                {
                    "0": "0"
                },
                {
                    "0": "4"
                },
                {
                    "0": "2"
                },
                {
                    "0": "3"
                },
                {
                    "0": "0"
                },
                {
                    "0": "3"
                },
                {
                    "0": "1"
                },
                {
                    "0": "30"
                },
                {
                    "0": "0"
                },
                {
                    "0": "0"
                },
                {
                    "0": "0"
                },
                {
                    "0": "0"
                },
                {
                    "0": "0"
                },
                {
                    "0": "0"
                },
                {
                    "0": "0"
                },
                {
                    "0": "0"
                },
                {
                    "0": "0"
                },
                {
                    "0": "0"
                },
                {
                    "0": "0"
                },
                {
                    "0": "0"
                },
                {
                    "0": "0"
                },
                {
                    "0": "9"
                },
                {
                    "0": "13"
                },
                {
                    "0": "NULL"
                },
                {
                    "0": "NULL"
                },
                {
                    "0": "87"
                },
                {
                    "0": "9"
                },
                {
                    "0": "3"
                },
                {
                    "0": "22"
                },
                {
                    "0": "3"
                },
                {
                    "0": "0"
                },
                {
                    "0": "3"
                },
                {
                    "0": "20"
                },
                {
                    "0": "39"
                },
                {
                    "0": "NULL"
                },
                {
                    "0": "21"
                },
                {
                    "0": "2"
                },
                {
                    "0": "0"
                },
                {
                    "0": "0"
                },
                {
                    "0": "2"
                },
                {
                    "0": "0"
                },
                {
                    "0": "0"
                },
                {
                    "0": "1"
                },
                {
                    "0": "91"
                },
                {
                    "0": "1"
                },
                {
                    "0": "1"
                },
                {
                    "0": "NULL"
                },
                {
                    "0": "20"
                },
                {
                    "0": "12"
                },
                {
                    "0": "3"
                },
                {
                    "0": "15"
                },
                {
                    "0": "NULL"
                },
                {
                    "0": "NULL"
                },
                {
                    "0": "NULL"
                },
                {
                    "0": "0"
                },
                {
                    "0": "3"
                },
                {
                    "0": "0"
                },
                {
                    "0": "3"
                },
                {
                    "0": "0"
                },
                {
                    "0": "5"
                },
                {
                    "0": "11"
                },
                {
                    "0": "7"
                },
                {
                    "0": "NULL"
                },
                {
                    "0": "0"
                },
                {
                    "0": "0"
                },
                {
                    "0": "0"
                },
                {
                    "0": "0"
                },
                {
                    "0": "0"
                },
                {
                    "0": "NULL"
                },
                {
                    "0": "2"
                },
                {
                    "0": "3"
                },
                {
                    "0": "3"
                },
                {
                    "0": "NULL"
                },
                {
                    "0": "0"
                },
                {
                    "0": "0"
                },
                {
                    "0": "15"
                },
                {
                    "0": "NULL"
                },
                {
                    "0": "0"
                },
                {
                    "0": "NULL"
                },
                {
                    "0": "24"
                },
                {
                    "0": "0"
                },
                {
                    "0": "6"
                },
                {
                    "0": "12"
                },
                {
                    "0": "12"
                },
                {
                    "0": "3"
                },
                {
                    "0": "3"
                },
                {
                    "0": "NULL"
                },
                {
                    "0": "63"
                },
                {
                    "0": "63"
                },
                {
                    "0": "6"
                },
                {
                    "0": "2"
                },
                {
                    "0": "0"
                },
                {
                    "0": "0"
                },
                {
                    "0": "2"
                },
                {
                    "0": "0"
                },
                {
                    "0": "3"
                },
                {
                    "0": "5"
                },
                {
                    "0": "3"
                },
                {
                    "0": "3"
                },
                {
                    "0": "1"
                },
                {
                    "0": "0"
                },
                {
                    "0": "0"
                },
                {
                    "0": "6"
                },
                {
                    "0": "5"
                },
                {
                    "0": "38"
                },
                {
                    "0": "0"
                },
                {
                    "0": "13"
                },
                {
                    "0": "14"
                },
                {
                    "0": "8"
                },
                {
                    "0": "0"
                },
                {
                    "0": "6"
                },
                {
                    "0": "0"
                },
                {
                    "0": "0"
                },
                {
                    "0": "0"
                },
                {
                    "0": "NULL"
                },
                {
                    "0": "NULL"
                },
                {
                    "0": "NULL"
                },
                {
                    "0": "0"
                },
                {
                    "0": "0"
                },
                {
                    "0": "39"
                },
                {
                    "0": "0"
                },
                {
                    "0": "0"
                },
                {
                    "0": "0"
                },
                {
                    "0": "0"
                },
                {
                    "0": "3"
                },
                {
                    "0": "31"
                },
                {
                    "0": "8"
                },
                {
                    "0": "0"
                },
                {
                    "0": "3"
                },
                {
                    "0": "11"
                },
                {
                    "0": "12"
                },
                {
                    "0": "0"
                },
                {
                    "0": "0"
                },
                {
                    "0": "0"
                },
                {
                    "0": "NULL"
                },
                {
                    "0": "0"
                },
                {
                    "0": "0"
                },
                {
                    "0": "4"
                },
                {
                    "0": "0"
                },
                {
                    "0": "4"
                },
                {
                    "0": "4"
                },
                {
                    "0": "4"
                },
                {
                    "0": "0"
                },
                {
                    "0": "0"
                },
                {
                    "0": "2"
                },
                {
                    "0": "6"
                },
                {
                    "0": "1"
                },
                {
                    "0": "1"
                },
                {
                    "0": "0"
                },
                {
                    "0": "4"
                },
                {
                    "0": "0"
                },
                {
                    "0": "1"
                },
                {
                    "0": "29"
                },
                {
                    "0": "10"
                },
                {
                    "0": "0"
                },
                {
                    "0": "7"
                },
                {
                    "0": "3"
                },
                {
                    "0": "26"
                },
                {
                    "0": "3"
                },
                {
                    "0": "3"
                },
                {
                    "0": "32"
                },
                {
                    "0": "NULL"
                },
                {
                    "0": "3"
                },
                {
                    "0": "0"
                },
                {
                    "0": "13"
                },
                {
                    "0": "4"
                },
                {
                    "0": "3"
                },
                {
                    "0": "6"
                },
                {
                    "0": "6"
                },
                {
                    "0": "11"
                },
                {
                    "0": "3"
                },
                {
                    "0": "0"
                },
                {
                    "0": "0"
                },
                {
                    "0": "0"
                },
                {
                    "0": "8"
                },
                {
                    "0": "12"
                },
                {
                    "0": "24"
                },
                {
                    "0": "NULL"
                },
                {
                    "0": "0"
                },
                {
                    "0": "0"
                },
                {
                    "0": "2"
                },
                {
                    "0": "3"
                },
                {
                    "0": "10"
                },
                {
                    "0": "5"
                },
                {
                    "0": "5"
                },
                {
                    "0": "6"
                },
                {
                    "0": "NULL"
                },
                {
                    "0": "0"
                },
                {
                    "0": "5"
                },
                {
                    "0": "10"
                },
                {
                    "0": "10"
                },
                {
                    "0": "10"
                },
                {
                    "0": "5"
                },
                {
                    "0": "1"
                },
                {
                    "0": "2"
                },
                {
                    "0": "1"
                },
                {
                    "0": "0"
                },
                {
                    "0": "4"
                },
                {
                    "0": "3"
                },
                {
                    "0": "10"
                },
                {
                    "0": "15"
                },
                {
                    "0": "5"
                },
                {
                    "0": "6"
                },
                {
                    "0": "11"
                },
                {
                    "0": "5"
                },
                {
                    "0": "3"
                },
                {
                    "0": "3"
                },
                {
                    "0": "3"
                },
                {
                    "0": "0"
                },
                {
                    "0": "9"
                },
                {
                    "0": "21"
                },
                {
                    "0": "0"
                },
                {
                    "0": "15"
                },
                {
                    "0": "27"
                },
                {
                    "0": "5"
                },
                {
                    "0": "0"
                },
                {
                    "0": "5"
                },
                {
                    "0": "NULL"
                },
                {
                    "0": "NULL"
                },
                {
                    "0": "NULL"
                },
                {
                    "0": "0"
                },
                {
                    "0": "0"
                },
                {
                    "0": "9"
                },
                {
                    "0": "6"
                },
                {
                    "0": "0"
                },
                {
                    "0": "3"
                },
                {
                    "0": "9"
                },
                {
                    "0": "8"
                },
                {
                    "0": "1"
                },
                {
                    "0": "NULL"
                },
                {
                    "0": "6"
                },
                {
                    "0": "15"
                },
                {
                    "0": "11"
                },
                {
                    "0": "6"
                },
                {
                    "0": "0"
                },
                {
                    "0": "0"
                },
                {
                    "0": "0"
                },
                {
                    "0": "0"
                },
                {
                    "0": "0"
                },
                {
                    "0": "3"
                },
                {
                    "0": "13"
                },
                {
                    "0": "38"
                },
                {
                    "0": "0"
                },
                {
                    "0": "NULL"
                },
                {
                    "0": "9"
                },
                {
                    "0": "NULL"
                },
                {
                    "0": "1"
                },
                {
                    "0": "9"
                },
                {
                    "0": "0"
                },
                {
                    "0": "0"
                },
                {
                    "0": "0"
                },
                {
                    "0": "3"
                },
                {
                    "0": "1"
                },
                {
                    "0": "NULL"
                },
                {
                    "0": "8"
                },
                {
                    "0": "7"
                },
                {
                    "0": "2"
                },
                {
                    "0": "1"
                },
                {
                    "0": "4"
                },
                {
                    "0": "8"
                },
                {
                    "0": "14"
                },
                {
                    "0": "13"
                },
                {
                    "0": "6"
                },
                {
                    "0": "12"
                },
                {
                    "0": "34"
                },
                {
                    "0": "0"
                },
                {
                    "0": "0"
                },
                {
                    "0": "45"
                },
                {
                    "0": "0"
                },
                {
                    "0": "0"
                },
                {
                    "0": "0"
                },
                {
                    "0": "0"
                },
                {
                    "0": "0"
                },
                {
                    "0": "21"
                },
                {
                    "0": "0"
                },
                {
                    "0": "54"
                },
                {
                    "0": "13"
                },
                {
                    "0": "3"
                },
                {
                    "0": "NULL"
                },
                {
                    "0": "NULL"
                },
                {
                    "0": "0"
                },
                {
                    "0": "20"
                },
                {
                    "0": "0"
                },
                {
                    "0": "4"
                },
                {
                    "0": "1"
                },
                {
                    "0": "0"
                },
                {
                    "0": "4"
                },
                {
                    "0": "0"
                },
                {
                    "0": "4"
                },
                {
                    "0": "2"
                },
                {
                    "0": "12"
                },
                {
                    "0": "NULL"
                },
                {
                    "0": "13"
                },
                {
                    "0": "3"
                },
                {
                    "0": "0"
                },
                {
                    "0": "NULL"
                },
                {
                    "0": "0"
                },
                {
                    "0": "1"
                },
                {
                    "0": "3"
                },
                {
                    "0": "12"
                },
                {
                    "0": "9"
                },
                {
                    "0": "9"
                },
                {
                    "0": "14"
                },
                {
                    "0": "10"
                },
                {
                    "0": "25"
                },
                {
                    "0": "4"
                },
                {
                    "0": "7"
                },
                {
                    "0": "NULL"
                },
                {
                    "0": "3"
                },
                {
                    "0": "6"
                },
                {
                    "0": "35"
                },
                {
                    "0": "0"
                },
                {
                    "0": "10"
                },
                {
                    "0": "3"
                },
                {
                    "0": "0"
                },
                {
                    "0": "30"
                },
                {
                    "0": "NULL"
                },
                {
                    "0": "3"
                },
                {
                    "0": "NULL"
                },
                {
                    "0": "0"
                },
                {
                    "0": "0"
                },
                {
                    "0": "0"
                },
                {
                    "0": "0"
                },
                {
                    "0": "0"
                },
                {
                    "0": "0"
                },
                {
                    "0": "0"
                },
                {
                    "0": "0"
                },
                {
                    "0": "9"
                },
                {
                    "0": "4"
                },
                {
                    "0": "1"
                },
                {
                    "0": "3"
                },
                {
                    "0": "0"
                },
                {
                    "0": "11"
                },
                {
                    "0": "8"
                },
                {
                    "0": "8"
                },
                {
                    "0": "3"
                },
                {
                    "0": "NULL"
                },
                {
                    "0": "NULL"
                },
                {
                    "0": "NULL"
                },
                {
                    "0": "0"
                },
                {
                    "0": "1"
                },
                {
                    "0": "1"
                },
                {
                    "0": "2"
                },
                {
                    "0": "3"
                },
                {
                    "0": "3"
                },
                {
                    "0": "6"
                },
                {
                    "0": "3"
                },
                {
                    "0": "0"
                },
                {
                    "0": "24"
                },
                {
                    "0": "10"
                },
                {
                    "0": "21"
                },
                {
                    "0": "6"
                },
                {
                    "0": "0"
                },
                {
                    "0": "14"
                },
                {
                    "0": "5"
                },
                {
                    "0": "3"
                },
                {
                    "0": "0"
                },
                {
                    "0": "3"
                },
                {
                    "0": "11"
                },
                {
                    "0": "13"
                },
                {
                    "0": "15"
                },
                {
                    "0": "4"
                },
                {
                    "0": "NULL"
                },
                {
                    "0": "3"
                },
                {
                    "0": "0"
                },
                {
                    "0": "0"
                },
                {
                    "0": "21"
                },
                {
                    "0": "34"
                },
                {
                    "0": "8"
                },
                {
                    "0": "3"
                },
                {
                    "0": "0"
                },
                {
                    "0": "0"
                },
                {
                    "0": "0"
                },
                {
                    "0": "0"
                },
                {
                    "0": "63"
                },
                {
                    "0": "66"
                },
                {
                    "0": "3"
                },
                {
                    "0": "5"
                },
                {
                    "0": "1"
                },
                {
                    "0": "0"
                },
                {
                    "0": "3"
                },
                {
                    "0": "3"
                },
                {
                    "0": "0"
                },
                {
                    "0": "0"
                },
                {
                    "0": "3"
                },
                {
                    "0": "6"
                },
                {
                    "0": "NULL"
                },
                {
                    "0": "56"
                },
                {
                    "0": "0"
                },
                {
                    "0": "2"
                },
                {
                    "0": "3"
                },
                {
                    "0": "5"
                },
                {
                    "0": "NULL"
                },
                {
                    "0": "0"
                },
                {
                    "0": "0"
                },
                {
                    "0": "0"
                },
                {
                    "0": "3"
                },
                {
                    "0": "10"
                },
                {
                    "0": "10"
                },
                {
                    "0": "11"
                },
                {
                    "0": "0"
                },
                {
                    "0": "10"
                },
                {
                    "0": "8"
                },
                {
                    "0": "7"
                },
                {
                    "0": "32"
                },
                {
                    "0": "NULL"
                },
                {
                    "0": "0"
                },
                {
                    "0": "4"
                },
                {
                    "0": "0"
                },
                {
                    "0": "9"
                },
                {
                    "0": "0"
                },
                {
                    "0": "3"
                },
                {
                    "0": "0"
                },
                {
                    "0": "0"
                },
                {
                    "0": "0"
                },
                {
                    "0": "0"
                },
                {
                    "0": "0"
                },
                {
                    "0": "0"
                },
                {
                    "0": "0"
                },
                {
                    "0": "33"
                },
                {
                    "0": "3"
                },
                {
                    "0": "58"
                },
                {
                    "0": "58"
                },
                {
                    "0": "60"
                },
                {
                    "0": "2"
                },
                {
                    "0": "9"
                },
                {
                    "0": "NULL"
                },
                {
                    "0": "NULL"
                },
                {
                    "0": "0"
                },
                {
                    "0": "4"
                },
                {
                    "0": "3"
                },
                {
                    "0": "4"
                },
                {
                    "0": "0"
                },
                {
                    "0": "NULL"
                },
                {
                    "0": "3"
                },
                {
                    "0": "0"
                },
                {
                    "0": "0"
                },
                {
                    "0": "3"
                },
                {
                    "0": "0"
                },
                {
                    "0": "0"
                },
                {
                    "0": "0"
                },
                {
                    "0": "12"
                },
                {
                    "0": "12"
                },
                {
                    "0": "9"
                },
                {
                    "0": "0"
                },
                {
                    "0": "46"
                },
                {
                    "0": "6"
                },
                {
                    "0": "NULL"
                },
                {
                    "0": "11"
                },
                {
                    "0": "0"
                },
                {
                    "0": "2"
                },
                {
                    "0": "0"
                },
                {
                    "0": "3"
                },
                {
                    "0": "15"
                },
                {
                    "0": "43"
                },
                {
                    "0": "3"
                },
                {
                    "0": "8"
                },
                {
                    "0": "94"
                },
                {
                    "0": "94"
                },
                {
                    "0": "94"
                },
                {
                    "0": "17"
                },
                {
                    "0": "2"
                },
                {
                    "0": "0"
                },
                {
                    "0": "8"
                },
                {
                    "0": "25"
                },
                {
                    "0": "1"
                },
                {
                    "0": "3"
                },
                {
                    "0": "3"
                },
                {
                    "0": "40"
                },
                {
                    "0": "15"
                },
                {
                    "0": "3"
                },
                {
                    "0": "3"
                },
                {
                    "0": "7"
                },
                {
                    "0": "4"
                },
                {
                    "0": "NULL"
                },
                {
                    "0": "0"
                },
                {
                    "0": "31"
                },
                {
                    "0": "6"
                },
                {
                    "0": "13"
                },
                {
                    "0": "21"
                },
                {
                    "0": "3"
                },
                {
                    "0": "0"
                },
                {
                    "0": "0"
                },
                {
                    "0": "0"
                },
                {
                    "0": "3"
                },
                {
                    "0": "7"
                },
                {
                    "0": "1"
                },
                {
                    "0": "3"
                },
                {
                    "0": "23"
                },
                {
                    "0": "5"
                },
                {
                    "0": "0"
                },
                {
                    "0": "68"
                },
                {
                    "0": "71"
                },
                {
                    "0": "10"
                },
                {
                    "0": "9"
                },
                {
                    "0": "3"
                },
                {
                    "0": "0"
                },
                {
                    "0": "2"
                },
                {
                    "0": "2"
                },
                {
                    "0": "0"
                },
                {
                    "0": "1"
                },
                {
                    "0": "3"
                },
                {
                    "0": "0"
                },
                {
                    "0": "1"
                },
                {
                    "0": "2"
                },
                {
                    "0": "6"
                },
                {
                    "0": "13"
                },
                {
                    "0": "12"
                },
                {
                    "0": "4"
                },
                {
                    "0": "136"
                },
                {
                    "0": "67"
                },
                {
                    "0": "16"
                },
                {
                    "0": "NULL"
                },
                {
                    "0": "6"
                },
                {
                    "0": "3"
                },
                {
                    "0": "3"
                },
                {
                    "0": "9"
                },
                {
                    "0": "NULL"
                },
                {
                    "0": "3"
                },
                {
                    "0": "4"
                },
                {
                    "0": "24"
                },
                {
                    "0": "12"
                },
                {
                    "0": "5"
                },
                {
                    "0": "NULL"
                },
                {
                    "0": "2"
                },
                {
                    "0": "0"
                },
                {
                    "0": "0"
                },
                {
                    "0": "1"
                },
                {
                    "0": "3"
                },
                {
                    "0": "0"
                },
                {
                    "0": "4"
                },
                {
                    "0": "1"
                },
                {
                    "0": "6"
                },
                {
                    "0": "4"
                },
                {
                    "0": "0"
                },
                {
                    "0": "15"
                },
                {
                    "0": "1"
                },
                {
                    "0": "10"
                },
                {
                    "0": "5"
                },
                {
                    "0": "1"
                },
                {
                    "0": "1"
                },
                {
                    "0": "0"
                },
                {
                    "0": "0"
                },
                {
                    "0": "3"
                },
                {
                    "0": "0"
                },
                {
                    "0": "0"
                },
                {
                    "0": "1"
                },
                {
                    "0": "9"
                },
                {
                    "0": "8"
                },
                {
                    "0": "6"
                },
                {
                    "0": "0"
                },
                {
                    "0": "8"
                },
                {
                    "0": "5"
                },
                {
                    "0": "6"
                },
                {
                    "0": "0"
                },
                {
                    "0": "1"
                },
                {
                    "0": "7"
                },
                {
                    "0": "30"
                },
                {
                    "0": "0"
                },
                {
                    "0": "6"
                },
                {
                    "0": "3"
                },
                {
                    "0": "0"
                },
                {
                    "0": "0"
                },
                {
                    "0": "14"
                },
                {
                    "0": "NULL"
                },
                {
                    "0": "NULL"
                },
                {
                    "0": "NULL"
                },
                {
                    "0": "1"
                },
                {
                    "0": "0"
                },
                {
                    "0": "0"
                },
                {
                    "0": "NULL"
                },
                {
                    "0": "0"
                },
                {
                    "0": "10"
                },
                {
                    "0": "7"
                },
                {
                    "0": "10"
                },
                {
                    "0": "11"
                },
                {
                    "0": "9"
                },
                {
                    "0": "NULL"
                },
                {
                    "0": "0"
                },
                {
                    "0": "0"
                },
                {
                    "0": "4"
                },
                {
                    "0": "3"
                },
                {
                    "0": "6"
                },
                {
                    "0": "0"
                }
            ]
        },
        "text/html": [
            "<table>",
            "<tr><th>(No column name)</th></tr>",
            "<tr><td>0</td></tr>",
            "<tr><td>41</td></tr>",
            "<tr><td>16</td></tr>",
            "<tr><td>163</td></tr>",
            "<tr><td>17</td></tr>",
            "<tr><td>32</td></tr>",
            "<tr><td>NULL</td></tr>",
            "<tr><td>0</td></tr>",
            "<tr><td>NULL</td></tr>",
            "<tr><td>0</td></tr>",
            "<tr><td>14</td></tr>",
            "<tr><td>25</td></tr>",
            "<tr><td>13</td></tr>",
            "<tr><td>9</td></tr>",
            "<tr><td>11</td></tr>",
            "<tr><td>37</td></tr>",
            "<tr><td>125</td></tr>",
            "<tr><td>19</td></tr>",
            "<tr><td>2</td></tr>",
            "<tr><td>3</td></tr>",
            "<tr><td>0</td></tr>",
            "<tr><td>3</td></tr>",
            "<tr><td>0</td></tr>",
            "<tr><td>1</td></tr>",
            "<tr><td>0</td></tr>",
            "<tr><td>0</td></tr>",
            "<tr><td>0</td></tr>",
            "<tr><td>6</td></tr>",
            "<tr><td>3</td></tr>",
            "<tr><td>0</td></tr>",
            "<tr><td>8</td></tr>",
            "<tr><td>6</td></tr>",
            "<tr><td>59</td></tr>",
            "<tr><td>8</td></tr>",
            "<tr><td>11</td></tr>",
            "<tr><td>10</td></tr>",
            "<tr><td>21</td></tr>",
            "<tr><td>25</td></tr>",
            "<tr><td>NULL</td></tr>",
            "<tr><td>12</td></tr>",
            "<tr><td>2</td></tr>",
            "<tr><td>100</td></tr>",
            "<tr><td>12</td></tr>",
            "<tr><td>9</td></tr>",
            "<tr><td>NULL</td></tr>",
            "<tr><td>8</td></tr>",
            "<tr><td>24</td></tr>",
            "<tr><td>9</td></tr>",
            "<tr><td>40</td></tr>",
            "<tr><td>0</td></tr>",
            "<tr><td>1</td></tr>",
            "<tr><td>11</td></tr>",
            "<tr><td>0</td></tr>",
            "<tr><td>3</td></tr>",
            "<tr><td>3</td></tr>",
            "<tr><td>3</td></tr>",
            "<tr><td>5</td></tr>",
            "<tr><td>8</td></tr>",
            "<tr><td>2</td></tr>",
            "<tr><td>NULL</td></tr>",
            "<tr><td>0</td></tr>",
            "<tr><td>0</td></tr>",
            "<tr><td>0</td></tr>",
            "<tr><td>21</td></tr>",
            "<tr><td>0</td></tr>",
            "<tr><td>0</td></tr>",
            "<tr><td>3</td></tr>",
            "<tr><td>3</td></tr>",
            "<tr><td>12</td></tr>",
            "<tr><td>3</td></tr>",
            "<tr><td>0</td></tr>",
            "<tr><td>6</td></tr>",
            "<tr><td>0</td></tr>",
            "<tr><td>0</td></tr>",
            "<tr><td>0</td></tr>",
            "<tr><td>4</td></tr>",
            "<tr><td>9</td></tr>",
            "<tr><td>2</td></tr>",
            "<tr><td>0</td></tr>",
            "<tr><td>4</td></tr>",
            "<tr><td>0</td></tr>",
            "<tr><td>9</td></tr>",
            "<tr><td>7</td></tr>",
            "<tr><td>10</td></tr>",
            "<tr><td>9</td></tr>",
            "<tr><td>0</td></tr>",
            "<tr><td>1</td></tr>",
            "<tr><td>18</td></tr>",
            "<tr><td>26</td></tr>",
            "<tr><td>9</td></tr>",
            "<tr><td>1</td></tr>",
            "<tr><td>0</td></tr>",
            "<tr><td>0</td></tr>",
            "<tr><td>0</td></tr>",
            "<tr><td>0</td></tr>",
            "<tr><td>5</td></tr>",
            "<tr><td>33</td></tr>",
            "<tr><td>18</td></tr>",
            "<tr><td>93</td></tr>",
            "<tr><td>9</td></tr>",
            "<tr><td>9</td></tr>",
            "<tr><td>9</td></tr>",
            "<tr><td>3</td></tr>",
            "<tr><td>1</td></tr>",
            "<tr><td>1</td></tr>",
            "<tr><td>NULL</td></tr>",
            "<tr><td>63</td></tr>",
            "<tr><td>0</td></tr>",
            "<tr><td>2</td></tr>",
            "<tr><td>3</td></tr>",
            "<tr><td>NULL</td></tr>",
            "<tr><td>0</td></tr>",
            "<tr><td>3</td></tr>",
            "<tr><td>2</td></tr>",
            "<tr><td>6</td></tr>",
            "<tr><td>7</td></tr>",
            "<tr><td>0</td></tr>",
            "<tr><td>0</td></tr>",
            "<tr><td>0</td></tr>",
            "<tr><td>8</td></tr>",
            "<tr><td>0</td></tr>",
            "<tr><td>44</td></tr>",
            "<tr><td>3</td></tr>",
            "<tr><td>3</td></tr>",
            "<tr><td>3</td></tr>",
            "<tr><td>32</td></tr>",
            "<tr><td>4</td></tr>",
            "<tr><td>0</td></tr>",
            "<tr><td>0</td></tr>",
            "<tr><td>NULL</td></tr>",
            "<tr><td>1</td></tr>",
            "<tr><td>9</td></tr>",
            "<tr><td>0</td></tr>",
            "<tr><td>0</td></tr>",
            "<tr><td>0</td></tr>",
            "<tr><td>1</td></tr>",
            "<tr><td>196</td></tr>",
            "<tr><td>NULL</td></tr>",
            "<tr><td>0</td></tr>",
            "<tr><td>0</td></tr>",
            "<tr><td>NULL</td></tr>",
            "<tr><td>0</td></tr>",
            "<tr><td>2</td></tr>",
            "<tr><td>0</td></tr>",
            "<tr><td>6</td></tr>",
            "<tr><td>5</td></tr>",
            "<tr><td>4</td></tr>",
            "<tr><td>0</td></tr>",
            "<tr><td>0</td></tr>",
            "<tr><td>3</td></tr>",
            "<tr><td>0</td></tr>",
            "<tr><td>0</td></tr>",
            "<tr><td>NULL</td></tr>",
            "<tr><td>NULL</td></tr>",
            "<tr><td>NULL</td></tr>",
            "<tr><td>2</td></tr>",
            "<tr><td>0</td></tr>",
            "<tr><td>0</td></tr>",
            "<tr><td>7</td></tr>",
            "<tr><td>11</td></tr>",
            "<tr><td>10</td></tr>",
            "<tr><td>6</td></tr>",
            "<tr><td>18</td></tr>",
            "<tr><td>NULL</td></tr>",
            "<tr><td>53</td></tr>",
            "<tr><td>13</td></tr>",
            "<tr><td>9</td></tr>",
            "<tr><td>3</td></tr>",
            "<tr><td>2</td></tr>",
            "<tr><td>39</td></tr>",
            "<tr><td>NULL</td></tr>",
            "<tr><td>14</td></tr>",
            "<tr><td>1</td></tr>",
            "<tr><td>3</td></tr>",
            "<tr><td>1</td></tr>",
            "<tr><td>4</td></tr>",
            "<tr><td>3</td></tr>",
            "<tr><td>NULL</td></tr>",
            "<tr><td>15</td></tr>",
            "<tr><td>44</td></tr>",
            "<tr><td>6</td></tr>",
            "<tr><td>3</td></tr>",
            "<tr><td>NULL</td></tr>",
            "<tr><td>52</td></tr>",
            "<tr><td>0</td></tr>",
            "<tr><td>8</td></tr>",
            "<tr><td>8</td></tr>",
            "<tr><td>0</td></tr>",
            "<tr><td>0</td></tr>",
            "<tr><td>0</td></tr>",
            "<tr><td>0</td></tr>",
            "<tr><td>0</td></tr>",
            "<tr><td>4</td></tr>",
            "<tr><td>23</td></tr>",
            "<tr><td>1</td></tr>",
            "<tr><td>1</td></tr>",
            "<tr><td>7</td></tr>",
            "<tr><td>7</td></tr>",
            "<tr><td>4</td></tr>",
            "<tr><td>4</td></tr>",
            "<tr><td>4</td></tr>",
            "<tr><td>4</td></tr>",
            "<tr><td>4</td></tr>",
            "<tr><td>4</td></tr>",
            "<tr><td>4</td></tr>",
            "<tr><td>8</td></tr>",
            "<tr><td>4</td></tr>",
            "<tr><td>356</td></tr>",
            "<tr><td>9</td></tr>",
            "<tr><td>11</td></tr>",
            "<tr><td>12</td></tr>",
            "<tr><td>12</td></tr>",
            "<tr><td>12</td></tr>",
            "<tr><td>0</td></tr>",
            "<tr><td>16</td></tr>",
            "<tr><td>10</td></tr>",
            "<tr><td>3</td></tr>",
            "<tr><td>13</td></tr>",
            "<tr><td>26</td></tr>",
            "<tr><td>10</td></tr>",
            "<tr><td>3</td></tr>",
            "<tr><td>3</td></tr>",
            "<tr><td>3</td></tr>",
            "<tr><td>0</td></tr>",
            "<tr><td>3</td></tr>",
            "<tr><td>NULL</td></tr>",
            "<tr><td>NULL</td></tr>",
            "<tr><td>1</td></tr>",
            "<tr><td>NULL</td></tr>",
            "<tr><td>0</td></tr>",
            "<tr><td>0</td></tr>",
            "<tr><td>0</td></tr>",
            "<tr><td>0</td></tr>",
            "<tr><td>0</td></tr>",
            "<tr><td>0</td></tr>",
            "<tr><td>0</td></tr>",
            "<tr><td>3</td></tr>",
            "<tr><td>3</td></tr>",
            "<tr><td>3</td></tr>",
            "<tr><td>1</td></tr>",
            "<tr><td>6</td></tr>",
            "<tr><td>NULL</td></tr>",
            "<tr><td>6</td></tr>",
            "<tr><td>1</td></tr>",
            "<tr><td>20</td></tr>",
            "<tr><td>0</td></tr>",
            "<tr><td>4</td></tr>",
            "<tr><td>1</td></tr>",
            "<tr><td>21</td></tr>",
            "<tr><td>9</td></tr>",
            "<tr><td>10</td></tr>",
            "<tr><td>1</td></tr>",
            "<tr><td>8</td></tr>",
            "<tr><td>8</td></tr>",
            "<tr><td>12</td></tr>",
            "<tr><td>NULL</td></tr>",
            "<tr><td>NULL</td></tr>",
            "<tr><td>9</td></tr>",
            "<tr><td>0</td></tr>",
            "<tr><td>15</td></tr>",
            "<tr><td>3</td></tr>",
            "<tr><td>2</td></tr>",
            "<tr><td>0</td></tr>",
            "<tr><td>2</td></tr>",
            "<tr><td>2</td></tr>",
            "<tr><td>NULL</td></tr>",
            "<tr><td>NULL</td></tr>",
            "<tr><td>2</td></tr>",
            "<tr><td>3</td></tr>",
            "<tr><td>1</td></tr>",
            "<tr><td>3</td></tr>",
            "<tr><td>12</td></tr>",
            "<tr><td>0</td></tr>",
            "<tr><td>0</td></tr>",
            "<tr><td>6</td></tr>",
            "<tr><td>0</td></tr>",
            "<tr><td>24</td></tr>",
            "<tr><td>0</td></tr>",
            "<tr><td>3</td></tr>",
            "<tr><td>12</td></tr>",
            "<tr><td>3</td></tr>",
            "<tr><td>0</td></tr>",
            "<tr><td>0</td></tr>",
            "<tr><td>25</td></tr>",
            "<tr><td>NULL</td></tr>",
            "<tr><td>3</td></tr>",
            "<tr><td>8</td></tr>",
            "<tr><td>5</td></tr>",
            "<tr><td>9</td></tr>",
            "<tr><td>0</td></tr>",
            "<tr><td>0</td></tr>",
            "<tr><td>10</td></tr>",
            "<tr><td>NULL</td></tr>",
            "<tr><td>65</td></tr>",
            "<tr><td>10</td></tr>",
            "<tr><td>22</td></tr>",
            "<tr><td>115</td></tr>",
            "<tr><td>NULL</td></tr>",
            "<tr><td>1</td></tr>",
            "<tr><td>3</td></tr>",
            "<tr><td>1</td></tr>",
            "<tr><td>0</td></tr>",
            "<tr><td>3</td></tr>",
            "<tr><td>16</td></tr>",
            "<tr><td>15</td></tr>",
            "<tr><td>NULL</td></tr>",
            "<tr><td>2</td></tr>",
            "<tr><td>0</td></tr>",
            "<tr><td>0</td></tr>",
            "<tr><td>0</td></tr>",
            "<tr><td>1</td></tr>",
            "<tr><td>19</td></tr>",
            "<tr><td>2</td></tr>",
            "<tr><td>13</td></tr>",
            "<tr><td>4</td></tr>",
            "<tr><td>3</td></tr>",
            "<tr><td>0</td></tr>",
            "<tr><td>4</td></tr>",
            "<tr><td>0</td></tr>",
            "<tr><td>1</td></tr>",
            "<tr><td>4</td></tr>",
            "<tr><td>2</td></tr>",
            "<tr><td>0</td></tr>",
            "<tr><td>0</td></tr>",
            "<tr><td>3</td></tr>",
            "<tr><td>NULL</td></tr>",
            "<tr><td>7</td></tr>",
            "<tr><td>24</td></tr>",
            "<tr><td>0</td></tr>",
            "<tr><td>6</td></tr>",
            "<tr><td>15</td></tr>",
            "<tr><td>83</td></tr>",
            "<tr><td>14</td></tr>",
            "<tr><td>NULL</td></tr>",
            "<tr><td>4</td></tr>",
            "<tr><td>10</td></tr>",
            "<tr><td>15</td></tr>",
            "<tr><td>3</td></tr>",
            "<tr><td>9</td></tr>",
            "<tr><td>6</td></tr>",
            "<tr><td>48</td></tr>",
            "<tr><td>15</td></tr>",
            "<tr><td>1</td></tr>",
            "<tr><td>7</td></tr>",
            "<tr><td>2</td></tr>",
            "<tr><td>13</td></tr>",
            "<tr><td>9</td></tr>",
            "<tr><td>6</td></tr>",
            "<tr><td>69</td></tr>",
            "<tr><td>0</td></tr>",
            "<tr><td>0</td></tr>",
            "<tr><td>0</td></tr>",
            "<tr><td>NULL</td></tr>",
            "<tr><td>15</td></tr>",
            "<tr><td>1</td></tr>",
            "<tr><td>3</td></tr>",
            "<tr><td>0</td></tr>",
            "<tr><td>0</td></tr>",
            "<tr><td>0</td></tr>",
            "<tr><td>0</td></tr>",
            "<tr><td>0</td></tr>",
            "<tr><td>2</td></tr>",
            "<tr><td>3</td></tr>",
            "<tr><td>0</td></tr>",
            "<tr><td>0</td></tr>",
            "<tr><td>0</td></tr>",
            "<tr><td>0</td></tr>",
            "<tr><td>183</td></tr>",
            "<tr><td>11</td></tr>",
            "<tr><td>9</td></tr>",
            "<tr><td>12</td></tr>",
            "<tr><td>0</td></tr>",
            "<tr><td>0</td></tr>",
            "<tr><td>0</td></tr>",
            "<tr><td>NULL</td></tr>",
            "<tr><td>12</td></tr>",
            "<tr><td>0</td></tr>",
            "<tr><td>4</td></tr>",
            "<tr><td>0</td></tr>",
            "<tr><td>21</td></tr>",
            "<tr><td>NULL</td></tr>",
            "<tr><td>14</td></tr>",
            "<tr><td>4</td></tr>",
            "<tr><td>38</td></tr>",
            "<tr><td>38</td></tr>",
            "<tr><td>41</td></tr>",
            "<tr><td>11</td></tr>",
            "<tr><td>11</td></tr>",
            "<tr><td>0</td></tr>",
            "<tr><td>1</td></tr>",
            "<tr><td>14</td></tr>",
            "<tr><td>3</td></tr>",
            "<tr><td>0</td></tr>",
            "<tr><td>8</td></tr>",
            "<tr><td>0</td></tr>",
            "<tr><td>0</td></tr>",
            "<tr><td>0</td></tr>",
            "<tr><td>0</td></tr>",
            "<tr><td>3</td></tr>",
            "<tr><td>3</td></tr>",
            "<tr><td>0</td></tr>",
            "<tr><td>NULL</td></tr>",
            "<tr><td>5</td></tr>",
            "<tr><td>3</td></tr>",
            "<tr><td>NULL</td></tr>",
            "<tr><td>0</td></tr>",
            "<tr><td>6</td></tr>",
            "<tr><td>3</td></tr>",
            "<tr><td>4</td></tr>",
            "<tr><td>15</td></tr>",
            "<tr><td>11</td></tr>",
            "<tr><td>7</td></tr>",
            "<tr><td>0</td></tr>",
            "<tr><td>0</td></tr>",
            "<tr><td>9</td></tr>",
            "<tr><td>4</td></tr>",
            "<tr><td>5</td></tr>",
            "<tr><td>NULL</td></tr>",
            "<tr><td>17</td></tr>",
            "<tr><td>NULL</td></tr>",
            "<tr><td>0</td></tr>",
            "<tr><td>11</td></tr>",
            "<tr><td>51</td></tr>",
            "<tr><td>NULL</td></tr>",
            "<tr><td>70</td></tr>",
            "<tr><td>5</td></tr>",
            "<tr><td>0</td></tr>",
            "<tr><td>2</td></tr>",
            "<tr><td>0</td></tr>",
            "<tr><td>3</td></tr>",
            "<tr><td>NULL</td></tr>",
            "<tr><td>4</td></tr>",
            "<tr><td>0</td></tr>",
            "<tr><td>5</td></tr>",
            "<tr><td>0</td></tr>",
            "<tr><td>12</td></tr>",
            "<tr><td>0</td></tr>",
            "<tr><td>3</td></tr>",
            "<tr><td>69</td></tr>",
            "<tr><td>NULL</td></tr>",
            "<tr><td>15</td></tr>",
            "<tr><td>NULL</td></tr>",
            "<tr><td>31</td></tr>",
            "<tr><td>1</td></tr>",
            "<tr><td>10</td></tr>",
            "<tr><td>9</td></tr>",
            "<tr><td>3</td></tr>",
            "<tr><td>0</td></tr>",
            "<tr><td>12</td></tr>",
            "<tr><td>12</td></tr>",
            "<tr><td>12</td></tr>",
            "<tr><td>27</td></tr>",
            "<tr><td>17</td></tr>",
            "<tr><td>0</td></tr>",
            "<tr><td>0</td></tr>",
            "<tr><td>3</td></tr>",
            "<tr><td>7</td></tr>",
            "<tr><td>9</td></tr>",
            "<tr><td>65</td></tr>",
            "<tr><td>3</td></tr>",
            "<tr><td>6</td></tr>",
            "<tr><td>1</td></tr>",
            "<tr><td>3</td></tr>",
            "<tr><td>1</td></tr>",
            "<tr><td>3</td></tr>",
            "<tr><td>14</td></tr>",
            "<tr><td>NULL</td></tr>",
            "<tr><td>3</td></tr>",
            "<tr><td>1</td></tr>",
            "<tr><td>4</td></tr>",
            "<tr><td>3</td></tr>",
            "<tr><td>110</td></tr>",
            "<tr><td>3</td></tr>",
            "<tr><td>NULL</td></tr>",
            "<tr><td>0</td></tr>",
            "<tr><td>22</td></tr>",
            "<tr><td>12</td></tr>",
            "<tr><td>29</td></tr>",
            "<tr><td>9</td></tr>",
            "<tr><td>11</td></tr>",
            "<tr><td>11</td></tr>",
            "<tr><td>9</td></tr>",
            "<tr><td>30</td></tr>",
            "<tr><td>NULL</td></tr>",
            "<tr><td>4</td></tr>",
            "<tr><td>14</td></tr>",
            "<tr><td>6</td></tr>",
            "<tr><td>3</td></tr>",
            "<tr><td>33</td></tr>",
            "<tr><td>36</td></tr>",
            "<tr><td>3</td></tr>",
            "<tr><td>4</td></tr>",
            "<tr><td>1</td></tr>",
            "<tr><td>0</td></tr>",
            "<tr><td>0</td></tr>",
            "<tr><td>0</td></tr>",
            "<tr><td>0</td></tr>",
            "<tr><td>4</td></tr>",
            "<tr><td>1</td></tr>",
            "<tr><td>6</td></tr>",
            "<tr><td>15</td></tr>",
            "<tr><td>4</td></tr>",
            "<tr><td>15</td></tr>",
            "<tr><td>0</td></tr>",
            "<tr><td>NULL</td></tr>",
            "<tr><td>9</td></tr>",
            "<tr><td>0</td></tr>",
            "<tr><td>0</td></tr>",
            "<tr><td>3</td></tr>",
            "<tr><td>8</td></tr>",
            "<tr><td>10</td></tr>",
            "<tr><td>14</td></tr>",
            "<tr><td>3</td></tr>",
            "<tr><td>24</td></tr>",
            "<tr><td>25</td></tr>",
            "<tr><td>19</td></tr>",
            "<tr><td>0</td></tr>",
            "<tr><td>NULL</td></tr>",
            "<tr><td>NULL</td></tr>",
            "<tr><td>15</td></tr>",
            "<tr><td>2</td></tr>",
            "<tr><td>6</td></tr>",
            "<tr><td>4</td></tr>",
            "<tr><td>8</td></tr>",
            "<tr><td>3</td></tr>",
            "<tr><td>7</td></tr>",
            "<tr><td>1</td></tr>",
            "<tr><td>2</td></tr>",
            "<tr><td>NULL</td></tr>",
            "<tr><td>NULL</td></tr>",
            "<tr><td>10</td></tr>",
            "<tr><td>0</td></tr>",
            "<tr><td>0</td></tr>",
            "<tr><td>0</td></tr>",
            "<tr><td>0</td></tr>",
            "<tr><td>NULL</td></tr>",
            "<tr><td>0</td></tr>",
            "<tr><td>2</td></tr>",
            "<tr><td>0</td></tr>",
            "<tr><td>0</td></tr>",
            "<tr><td>0</td></tr>",
            "<tr><td>0</td></tr>",
            "<tr><td>0</td></tr>",
            "<tr><td>0</td></tr>",
            "<tr><td>0</td></tr>",
            "<tr><td>0</td></tr>",
            "<tr><td>0</td></tr>",
            "<tr><td>0</td></tr>",
            "<tr><td>0</td></tr>",
            "<tr><td>0</td></tr>",
            "<tr><td>0</td></tr>",
            "<tr><td>2</td></tr>",
            "<tr><td>3</td></tr>",
            "<tr><td>3</td></tr>",
            "<tr><td>100</td></tr>",
            "<tr><td>0</td></tr>",
            "<tr><td>111</td></tr>",
            "<tr><td>25</td></tr>",
            "<tr><td>13</td></tr>",
            "<tr><td>9</td></tr>",
            "<tr><td>0</td></tr>",
            "<tr><td>14</td></tr>",
            "<tr><td>NULL</td></tr>",
            "<tr><td>12</td></tr>",
            "<tr><td>11</td></tr>",
            "<tr><td>15</td></tr>",
            "<tr><td>11</td></tr>",
            "<tr><td>2</td></tr>",
            "<tr><td>0</td></tr>",
            "<tr><td>0</td></tr>",
            "<tr><td>0</td></tr>",
            "<tr><td>0</td></tr>",
            "<tr><td>0</td></tr>",
            "<tr><td>4</td></tr>",
            "<tr><td>4</td></tr>",
            "<tr><td>NULL</td></tr>",
            "<tr><td>0</td></tr>",
            "<tr><td>12</td></tr>",
            "<tr><td>4</td></tr>",
            "<tr><td>0</td></tr>",
            "<tr><td>1</td></tr>",
            "<tr><td>4</td></tr>",
            "<tr><td>3</td></tr>",
            "<tr><td>6</td></tr>",
            "<tr><td>0</td></tr>",
            "<tr><td>0</td></tr>",
            "<tr><td>0</td></tr>",
            "<tr><td>0</td></tr>",
            "<tr><td>0</td></tr>",
            "<tr><td>0</td></tr>",
            "<tr><td>1</td></tr>",
            "<tr><td>6</td></tr>",
            "<tr><td>0</td></tr>",
            "<tr><td>18</td></tr>",
            "<tr><td>0</td></tr>",
            "<tr><td>NULL</td></tr>",
            "<tr><td>0</td></tr>",
            "<tr><td>NULL</td></tr>",
            "<tr><td>0</td></tr>",
            "<tr><td>6</td></tr>",
            "<tr><td>3</td></tr>",
            "<tr><td>0</td></tr>",
            "<tr><td>3</td></tr>",
            "<tr><td>3</td></tr>",
            "<tr><td>18</td></tr>",
            "<tr><td>13</td></tr>",
            "<tr><td>11</td></tr>",
            "<tr><td>NULL</td></tr>",
            "<tr><td>16</td></tr>",
            "<tr><td>0</td></tr>",
            "<tr><td>6</td></tr>",
            "<tr><td>9</td></tr>",
            "<tr><td>11</td></tr>",
            "<tr><td>5</td></tr>",
            "<tr><td>NULL</td></tr>",
            "<tr><td>NULL</td></tr>",
            "<tr><td>NULL</td></tr>",
            "<tr><td>21</td></tr>",
            "<tr><td>0</td></tr>",
            "<tr><td>0</td></tr>",
            "<tr><td>3</td></tr>",
            "<tr><td>4</td></tr>",
            "<tr><td>3</td></tr>",
            "<tr><td>0</td></tr>",
            "<tr><td>4</td></tr>",
            "<tr><td>9</td></tr>",
            "<tr><td>0</td></tr>",
            "<tr><td>NULL</td></tr>",
            "<tr><td>NULL</td></tr>",
            "<tr><td>0</td></tr>",
            "<tr><td>76</td></tr>",
            "<tr><td>8</td></tr>",
            "<tr><td>5</td></tr>",
            "<tr><td>7</td></tr>",
            "<tr><td>NULL</td></tr>",
            "<tr><td>1</td></tr>",
            "<tr><td>0</td></tr>",
            "<tr><td>0</td></tr>",
            "<tr><td>0</td></tr>",
            "<tr><td>6</td></tr>",
            "<tr><td>4</td></tr>",
            "<tr><td>0</td></tr>",
            "<tr><td>0</td></tr>",
            "<tr><td>4</td></tr>",
            "<tr><td>3</td></tr>",
            "<tr><td>0</td></tr>",
            "<tr><td>0</td></tr>",
            "<tr><td>0</td></tr>",
            "<tr><td>1</td></tr>",
            "<tr><td>7</td></tr>",
            "<tr><td>0</td></tr>",
            "<tr><td>6</td></tr>",
            "<tr><td>3</td></tr>",
            "<tr><td>2</td></tr>",
            "<tr><td>2</td></tr>",
            "<tr><td>0</td></tr>",
            "<tr><td>45</td></tr>",
            "<tr><td>0</td></tr>",
            "<tr><td>0</td></tr>",
            "<tr><td>9</td></tr>",
            "<tr><td>6</td></tr>",
            "<tr><td>8</td></tr>",
            "<tr><td>11</td></tr>",
            "<tr><td>42</td></tr>",
            "<tr><td>8</td></tr>",
            "<tr><td>13</td></tr>",
            "<tr><td>9</td></tr>",
            "<tr><td>NULL</td></tr>",
            "<tr><td>0</td></tr>",
            "<tr><td>10</td></tr>",
            "<tr><td>6</td></tr>",
            "<tr><td>0</td></tr>",
            "<tr><td>0</td></tr>",
            "<tr><td>9</td></tr>",
            "<tr><td>5</td></tr>",
            "<tr><td>39</td></tr>",
            "<tr><td>3</td></tr>",
            "<tr><td>21</td></tr>",
            "<tr><td>0</td></tr>",
            "<tr><td>0</td></tr>",
            "<tr><td>1</td></tr>",
            "<tr><td>1</td></tr>",
            "<tr><td>0</td></tr>",
            "<tr><td>4</td></tr>",
            "<tr><td>4</td></tr>",
            "<tr><td>4</td></tr>",
            "<tr><td>4</td></tr>",
            "<tr><td>30</td></tr>",
            "<tr><td>0</td></tr>",
            "<tr><td>0</td></tr>",
            "<tr><td>3</td></tr>",
            "<tr><td>0</td></tr>",
            "<tr><td>0</td></tr>",
            "<tr><td>115</td></tr>",
            "<tr><td>24</td></tr>",
            "<tr><td>4</td></tr>",
            "<tr><td>12</td></tr>",
            "<tr><td>11</td></tr>",
            "<tr><td>4</td></tr>",
            "<tr><td>3</td></tr>",
            "<tr><td>0</td></tr>",
            "<tr><td>5</td></tr>",
            "<tr><td>0</td></tr>",
            "<tr><td>3</td></tr>",
            "<tr><td>4</td></tr>",
            "<tr><td>4</td></tr>",
            "<tr><td>6</td></tr>",
            "<tr><td>NULL</td></tr>",
            "<tr><td>19</td></tr>",
            "<tr><td>5</td></tr>",
            "<tr><td>2</td></tr>",
            "<tr><td>2</td></tr>",
            "<tr><td>49</td></tr>",
            "<tr><td>4</td></tr>",
            "<tr><td>13</td></tr>",
            "<tr><td>9</td></tr>",
            "<tr><td>21</td></tr>",
            "<tr><td>80</td></tr>",
            "<tr><td>2</td></tr>",
            "<tr><td>9</td></tr>",
            "<tr><td>0</td></tr>",
            "<tr><td>3</td></tr>",
            "<tr><td>49</td></tr>",
            "<tr><td>3</td></tr>",
            "<tr><td>9</td></tr>",
            "<tr><td>0</td></tr>",
            "<tr><td>6</td></tr>",
            "<tr><td>0</td></tr>",
            "<tr><td>2</td></tr>",
            "<tr><td>6</td></tr>",
            "<tr><td>0</td></tr>",
            "<tr><td>57</td></tr>",
            "<tr><td>3</td></tr>",
            "<tr><td>3</td></tr>",
            "<tr><td>9</td></tr>",
            "<tr><td>NULL</td></tr>",
            "<tr><td>0</td></tr>",
            "<tr><td>NULL</td></tr>",
            "<tr><td>0</td></tr>",
            "<tr><td>NULL</td></tr>",
            "<tr><td>0</td></tr>",
            "<tr><td>0</td></tr>",
            "<tr><td>0</td></tr>",
            "<tr><td>0</td></tr>",
            "<tr><td>0</td></tr>",
            "<tr><td>0</td></tr>",
            "<tr><td>3</td></tr>",
            "<tr><td>12</td></tr>",
            "<tr><td>3</td></tr>",
            "<tr><td>0</td></tr>",
            "<tr><td>3</td></tr>",
            "<tr><td>8</td></tr>",
            "<tr><td>9</td></tr>",
            "<tr><td>0</td></tr>",
            "<tr><td>3</td></tr>",
            "<tr><td>6</td></tr>",
            "<tr><td>18</td></tr>",
            "<tr><td>6</td></tr>",
            "<tr><td>4</td></tr>",
            "<tr><td>0</td></tr>",
            "<tr><td>1</td></tr>",
            "<tr><td>0</td></tr>",
            "<tr><td>6</td></tr>",
            "<tr><td>2</td></tr>",
            "<tr><td>145</td></tr>",
            "<tr><td>NULL</td></tr>",
            "<tr><td>0</td></tr>",
            "<tr><td>1</td></tr>",
            "<tr><td>7</td></tr>",
            "<tr><td>1</td></tr>",
            "<tr><td>0</td></tr>",
            "<tr><td>0</td></tr>",
            "<tr><td>1</td></tr>",
            "<tr><td>2</td></tr>",
            "<tr><td>1</td></tr>",
            "<tr><td>0</td></tr>",
            "<tr><td>2</td></tr>",
            "<tr><td>2</td></tr>",
            "<tr><td>4</td></tr>",
            "<tr><td>2</td></tr>",
            "<tr><td>6</td></tr>",
            "<tr><td>6</td></tr>",
            "<tr><td>41</td></tr>",
            "<tr><td>0</td></tr>",
            "<tr><td>0</td></tr>",
            "<tr><td>0</td></tr>",
            "<tr><td>0</td></tr>",
            "<tr><td>0</td></tr>",
            "<tr><td>0</td></tr>",
            "<tr><td>0</td></tr>",
            "<tr><td>0</td></tr>",
            "<tr><td>15</td></tr>",
            "<tr><td>0</td></tr>",
            "<tr><td>0</td></tr>",
            "<tr><td>0</td></tr>",
            "<tr><td>0</td></tr>",
            "<tr><td>9</td></tr>",
            "<tr><td>0</td></tr>",
            "<tr><td>0</td></tr>",
            "<tr><td>0</td></tr>",
            "<tr><td>0</td></tr>",
            "<tr><td>6</td></tr>",
            "<tr><td>3</td></tr>",
            "<tr><td>19</td></tr>",
            "<tr><td>20</td></tr>",
            "<tr><td>14</td></tr>",
            "<tr><td>3</td></tr>",
            "<tr><td>11</td></tr>",
            "<tr><td>28</td></tr>",
            "<tr><td>3</td></tr>",
            "<tr><td>3</td></tr>",
            "<tr><td>NULL</td></tr>",
            "<tr><td>3</td></tr>",
            "<tr><td>NULL</td></tr>",
            "<tr><td>13</td></tr>",
            "<tr><td>22</td></tr>",
            "<tr><td>3</td></tr>",
            "<tr><td>2</td></tr>",
            "<tr><td>1</td></tr>",
            "<tr><td>0</td></tr>",
            "<tr><td>NULL</td></tr>",
            "<tr><td>11</td></tr>",
            "<tr><td>1</td></tr>",
            "<tr><td>6</td></tr>",
            "<tr><td>4</td></tr>",
            "<tr><td>3</td></tr>",
            "<tr><td>8</td></tr>",
            "<tr><td>5</td></tr>",
            "<tr><td>3</td></tr>",
            "<tr><td>0</td></tr>",
            "<tr><td>0</td></tr>",
            "<tr><td>0</td></tr>",
            "<tr><td>0</td></tr>",
            "<tr><td>0</td></tr>",
            "<tr><td>0</td></tr>",
            "<tr><td>0</td></tr>",
            "<tr><td>0</td></tr>",
            "<tr><td>40</td></tr>",
            "<tr><td>17</td></tr>",
            "<tr><td>8</td></tr>",
            "<tr><td>11</td></tr>",
            "<tr><td>6</td></tr>",
            "<tr><td>24</td></tr>",
            "<tr><td>10</td></tr>",
            "<tr><td>3</td></tr>",
            "<tr><td>4</td></tr>",
            "<tr><td>12</td></tr>",
            "<tr><td>13</td></tr>",
            "<tr><td>0</td></tr>",
            "<tr><td>19</td></tr>",
            "<tr><td>0</td></tr>",
            "<tr><td>0</td></tr>",
            "<tr><td>3</td></tr>",
            "<tr><td>NULL</td></tr>",
            "<tr><td>3</td></tr>",
            "<tr><td>0</td></tr>",
            "<tr><td>19</td></tr>",
            "<tr><td>3</td></tr>",
            "<tr><td>3</td></tr>",
            "<tr><td>0</td></tr>",
            "<tr><td>3</td></tr>",
            "<tr><td>0</td></tr>",
            "<tr><td>3</td></tr>",
            "<tr><td>10</td></tr>",
            "<tr><td>3</td></tr>",
            "<tr><td>0</td></tr>",
            "<tr><td>13</td></tr>",
            "<tr><td>0</td></tr>",
            "<tr><td>NULL</td></tr>",
            "<tr><td>0</td></tr>",
            "<tr><td>9</td></tr>",
            "<tr><td>0</td></tr>",
            "<tr><td>15</td></tr>",
            "<tr><td>13</td></tr>",
            "<tr><td>NULL</td></tr>",
            "<tr><td>0</td></tr>",
            "<tr><td>0</td></tr>",
            "<tr><td>0</td></tr>",
            "<tr><td>0</td></tr>",
            "<tr><td>NULL</td></tr>",
            "<tr><td>6</td></tr>",
            "<tr><td>12</td></tr>",
            "<tr><td>7</td></tr>",
            "<tr><td>3</td></tr>",
            "<tr><td>1</td></tr>",
            "<tr><td>0</td></tr>",
            "<tr><td>30</td></tr>",
            "<tr><td>8</td></tr>",
            "<tr><td>12</td></tr>",
            "<tr><td>0</td></tr>",
            "<tr><td>3</td></tr>",
            "<tr><td>0</td></tr>",
            "<tr><td>NULL</td></tr>",
            "<tr><td>0</td></tr>",
            "<tr><td>NULL</td></tr>",
            "<tr><td>0</td></tr>",
            "<tr><td>0</td></tr>",
            "<tr><td>0</td></tr>",
            "<tr><td>5</td></tr>",
            "<tr><td>NULL</td></tr>",
            "<tr><td>0</td></tr>",
            "<tr><td>0</td></tr>",
            "<tr><td>2</td></tr>",
            "<tr><td>7</td></tr>",
            "<tr><td>3</td></tr>",
            "<tr><td>3</td></tr>",
            "<tr><td>0</td></tr>",
            "<tr><td>3</td></tr>",
            "<tr><td>4</td></tr>",
            "<tr><td>6</td></tr>",
            "<tr><td>7</td></tr>",
            "<tr><td>4</td></tr>",
            "<tr><td>0</td></tr>",
            "<tr><td>15</td></tr>",
            "<tr><td>6</td></tr>",
            "<tr><td>10</td></tr>",
            "<tr><td>8</td></tr>",
            "<tr><td>3</td></tr>",
            "<tr><td>NULL</td></tr>",
            "<tr><td>10</td></tr>",
            "<tr><td>30</td></tr>",
            "<tr><td>4</td></tr>",
            "<tr><td>3</td></tr>",
            "<tr><td>3</td></tr>",
            "<tr><td>6</td></tr>",
            "<tr><td>12</td></tr>",
            "<tr><td>26</td></tr>",
            "<tr><td>3</td></tr>",
            "<tr><td>6</td></tr>",
            "<tr><td>6</td></tr>",
            "<tr><td>3</td></tr>",
            "<tr><td>6</td></tr>",
            "<tr><td>0</td></tr>",
            "<tr><td>3</td></tr>",
            "<tr><td>1</td></tr>",
            "<tr><td>NULL</td></tr>",
            "<tr><td>3</td></tr>",
            "<tr><td>17</td></tr>",
            "<tr><td>6</td></tr>",
            "<tr><td>1</td></tr>",
            "<tr><td>0</td></tr>",
            "<tr><td>0</td></tr>",
            "<tr><td>2</td></tr>",
            "<tr><td>21</td></tr>",
            "<tr><td>1</td></tr>",
            "<tr><td>0</td></tr>",
            "<tr><td>3</td></tr>",
            "<tr><td>3</td></tr>",
            "<tr><td>0</td></tr>",
            "<tr><td>0</td></tr>",
            "<tr><td>9</td></tr>",
            "<tr><td>7</td></tr>",
            "<tr><td>11</td></tr>",
            "<tr><td>12</td></tr>",
            "<tr><td>2</td></tr>",
            "<tr><td>NULL</td></tr>",
            "<tr><td>3</td></tr>",
            "<tr><td>9</td></tr>",
            "<tr><td>6</td></tr>",
            "<tr><td>3</td></tr>",
            "<tr><td>0</td></tr>",
            "<tr><td>2</td></tr>",
            "<tr><td>30</td></tr>",
            "<tr><td>149</td></tr>",
            "<tr><td>101</td></tr>",
            "<tr><td>18</td></tr>",
            "<tr><td>5</td></tr>",
            "<tr><td>0</td></tr>",
            "<tr><td>10</td></tr>",
            "<tr><td>1</td></tr>",
            "<tr><td>NULL</td></tr>",
            "<tr><td>8</td></tr>",
            "<tr><td>3</td></tr>",
            "<tr><td>1</td></tr>",
            "<tr><td>3</td></tr>",
            "<tr><td>NULL</td></tr>",
            "<tr><td>NULL</td></tr>",
            "<tr><td>17</td></tr>",
            "<tr><td>0</td></tr>",
            "<tr><td>0</td></tr>",
            "<tr><td>0</td></tr>",
            "<tr><td>0</td></tr>",
            "<tr><td>0</td></tr>",
            "<tr><td>0</td></tr>",
            "<tr><td>0</td></tr>",
            "<tr><td>0</td></tr>",
            "<tr><td>0</td></tr>",
            "<tr><td>0</td></tr>",
            "<tr><td>0</td></tr>",
            "<tr><td>3</td></tr>",
            "<tr><td>3</td></tr>",
            "<tr><td>0</td></tr>",
            "<tr><td>1</td></tr>",
            "<tr><td>3</td></tr>",
            "<tr><td>1</td></tr>",
            "<tr><td>3</td></tr>",
            "<tr><td>3</td></tr>",
            "<tr><td>0</td></tr>",
            "<tr><td>4</td></tr>",
            "<tr><td>5</td></tr>",
            "<tr><td>8</td></tr>",
            "<tr><td>15</td></tr>",
            "<tr><td>NULL</td></tr>",
            "<tr><td>0</td></tr>",
            "<tr><td>0</td></tr>",
            "<tr><td>30</td></tr>",
            "<tr><td>NULL</td></tr>",
            "<tr><td>52</td></tr>",
            "<tr><td>27</td></tr>",
            "<tr><td>33</td></tr>",
            "<tr><td>38</td></tr>",
            "<tr><td>21</td></tr>",
            "<tr><td>3</td></tr>",
            "<tr><td>7</td></tr>",
            "<tr><td>3</td></tr>",
            "<tr><td>2</td></tr>",
            "<tr><td>19</td></tr>",
            "<tr><td>NULL</td></tr>",
            "<tr><td>58</td></tr>",
            "<tr><td>21</td></tr>",
            "<tr><td>7</td></tr>",
            "<tr><td>7</td></tr>",
            "<tr><td>11</td></tr>",
            "<tr><td>3</td></tr>",
            "<tr><td>4</td></tr>",
            "<tr><td>NULL</td></tr>",
            "<tr><td>0</td></tr>",
            "<tr><td>1</td></tr>",
            "<tr><td>0</td></tr>",
            "<tr><td>3</td></tr>",
            "<tr><td>6</td></tr>",
            "<tr><td>0</td></tr>",
            "<tr><td>3</td></tr>",
            "<tr><td>11</td></tr>",
            "<tr><td>9</td></tr>",
            "<tr><td>0</td></tr>",
            "<tr><td>7</td></tr>",
            "<tr><td>NULL</td></tr>",
            "<tr><td>3</td></tr>",
            "<tr><td>8</td></tr>",
            "<tr><td>14</td></tr>",
            "<tr><td>9</td></tr>",
            "<tr><td>0</td></tr>",
            "<tr><td>21</td></tr>",
            "<tr><td>68</td></tr>",
            "<tr><td>97</td></tr>",
            "<tr><td>94</td></tr>",
            "<tr><td>21</td></tr>",
            "<tr><td>0</td></tr>",
            "<tr><td>10</td></tr>",
            "<tr><td>6</td></tr>",
            "<tr><td>0</td></tr>",
            "<tr><td>3</td></tr>",
            "<tr><td>2</td></tr>",
            "<tr><td>0</td></tr>",
            "<tr><td>0</td></tr>",
            "<tr><td>0</td></tr>",
            "<tr><td>10</td></tr>",
            "<tr><td>0</td></tr>",
            "<tr><td>5</td></tr>",
            "<tr><td>55</td></tr>",
            "<tr><td>21</td></tr>",
            "<tr><td>0</td></tr>",
            "<tr><td>0</td></tr>",
            "<tr><td>0</td></tr>",
            "<tr><td>0</td></tr>",
            "<tr><td>0</td></tr>",
            "<tr><td>0</td></tr>",
            "<tr><td>15</td></tr>",
            "<tr><td>8</td></tr>",
            "<tr><td>13</td></tr>",
            "<tr><td>45</td></tr>",
            "<tr><td>100</td></tr>",
            "<tr><td>0</td></tr>",
            "<tr><td>19</td></tr>",
            "<tr><td>6</td></tr>",
            "<tr><td>14</td></tr>",
            "<tr><td>138</td></tr>",
            "<tr><td>137</td></tr>",
            "<tr><td>6</td></tr>",
            "<tr><td>3</td></tr>",
            "<tr><td>0</td></tr>",
            "<tr><td>0</td></tr>",
            "<tr><td>12</td></tr>",
            "<tr><td>9</td></tr>",
            "<tr><td>3</td></tr>",
            "<tr><td>0</td></tr>",
            "<tr><td>0</td></tr>",
            "<tr><td>NULL</td></tr>",
            "<tr><td>38</td></tr>",
            "<tr><td>9</td></tr>",
            "<tr><td>7</td></tr>",
            "<tr><td>0</td></tr>",
            "<tr><td>0</td></tr>",
            "<tr><td>18</td></tr>",
            "<tr><td>6</td></tr>",
            "<tr><td>NULL</td></tr>",
            "<tr><td>16</td></tr>",
            "<tr><td>5</td></tr>",
            "<tr><td>15</td></tr>",
            "<tr><td>3</td></tr>",
            "<tr><td>3</td></tr>",
            "<tr><td>3</td></tr>",
            "<tr><td>0</td></tr>",
            "<tr><td>0</td></tr>",
            "<tr><td>0</td></tr>",
            "<tr><td>4</td></tr>",
            "<tr><td>5</td></tr>",
            "<tr><td>0</td></tr>",
            "<tr><td>0</td></tr>",
            "<tr><td>5</td></tr>",
            "<tr><td>0</td></tr>",
            "<tr><td>2</td></tr>",
            "<tr><td>2</td></tr>",
            "<tr><td>NULL</td></tr>",
            "<tr><td>21</td></tr>",
            "<tr><td>20</td></tr>",
            "<tr><td>236</td></tr>",
            "<tr><td>5</td></tr>",
            "<tr><td>8</td></tr>",
            "<tr><td>11</td></tr>",
            "<tr><td>14</td></tr>",
            "<tr><td>14</td></tr>",
            "<tr><td>35</td></tr>",
            "<tr><td>1</td></tr>",
            "<tr><td>13</td></tr>",
            "<tr><td>13</td></tr>",
            "<tr><td>4</td></tr>",
            "<tr><td>0</td></tr>",
            "<tr><td>0</td></tr>",
            "<tr><td>9</td></tr>",
            "<tr><td>8</td></tr>",
            "<tr><td>0</td></tr>",
            "<tr><td>0</td></tr>",
            "<tr><td>0</td></tr>",
            "<tr><td>30</td></tr>",
            "<tr><td>12</td></tr>",
            "<tr><td>3</td></tr>",
            "<tr><td>0</td></tr>",
            "<tr><td>3</td></tr>",
            "<tr><td>NULL</td></tr>",
            "<tr><td>18</td></tr>",
            "<tr><td>33</td></tr>",
            "<tr><td>459</td></tr>",
            "<tr><td>12</td></tr>",
            "<tr><td>0</td></tr>",
            "<tr><td>3</td></tr>",
            "<tr><td>NULL</td></tr>",
            "<tr><td>NULL</td></tr>",
            "<tr><td>11</td></tr>",
            "<tr><td>7</td></tr>",
            "<tr><td>3</td></tr>",
            "<tr><td>3</td></tr>",
            "<tr><td>26</td></tr>",
            "<tr><td>13</td></tr>",
            "<tr><td>5</td></tr>",
            "<tr><td>2</td></tr>",
            "<tr><td>3</td></tr>",
            "<tr><td>0</td></tr>",
            "<tr><td>0</td></tr>",
            "<tr><td>4</td></tr>",
            "<tr><td>3</td></tr>",
            "<tr><td>11</td></tr>",
            "<tr><td>21</td></tr>",
            "<tr><td>21</td></tr>",
            "<tr><td>7</td></tr>",
            "<tr><td>7</td></tr>",
            "<tr><td>7</td></tr>",
            "<tr><td>8</td></tr>",
            "<tr><td>11</td></tr>",
            "<tr><td>11</td></tr>",
            "<tr><td>11</td></tr>",
            "<tr><td>17</td></tr>",
            "<tr><td>17</td></tr>",
            "<tr><td>71</td></tr>",
            "<tr><td>39</td></tr>",
            "<tr><td>NULL</td></tr>",
            "<tr><td>4</td></tr>",
            "<tr><td>30</td></tr>",
            "<tr><td>21</td></tr>",
            "<tr><td>44</td></tr>",
            "<tr><td>9</td></tr>",
            "<tr><td>10</td></tr>",
            "<tr><td>0</td></tr>",
            "<tr><td>4</td></tr>",
            "<tr><td>4</td></tr>",
            "<tr><td>0</td></tr>",
            "<tr><td>0</td></tr>",
            "<tr><td>0</td></tr>",
            "<tr><td>3</td></tr>",
            "<tr><td>8</td></tr>",
            "<tr><td>7</td></tr>",
            "<tr><td>3</td></tr>",
            "<tr><td>NULL</td></tr>",
            "<tr><td>6</td></tr>",
            "<tr><td>0</td></tr>",
            "<tr><td>0</td></tr>",
            "<tr><td>NULL</td></tr>",
            "<tr><td>NULL</td></tr>",
            "<tr><td>NULL</td></tr>",
            "<tr><td>0</td></tr>",
            "<tr><td>10</td></tr>",
            "<tr><td>0</td></tr>",
            "<tr><td>0</td></tr>",
            "<tr><td>9</td></tr>",
            "<tr><td>13</td></tr>",
            "<tr><td>3</td></tr>",
            "<tr><td>3</td></tr>",
            "<tr><td>3</td></tr>",
            "<tr><td>22</td></tr>",
            "<tr><td>8</td></tr>",
            "<tr><td>3</td></tr>",
            "<tr><td>13</td></tr>",
            "<tr><td>3</td></tr>",
            "<tr><td>56</td></tr>",
            "<tr><td>9</td></tr>",
            "<tr><td>7</td></tr>",
            "<tr><td>4</td></tr>",
            "<tr><td>3</td></tr>",
            "<tr><td>33</td></tr>",
            "<tr><td>0</td></tr>",
            "<tr><td>3</td></tr>",
            "<tr><td>3</td></tr>",
            "<tr><td>0</td></tr>",
            "<tr><td>0</td></tr>",
            "<tr><td>0</td></tr>",
            "<tr><td>0</td></tr>",
            "<tr><td>NULL</td></tr>",
            "<tr><td>6</td></tr>",
            "<tr><td>13</td></tr>",
            "<tr><td>11</td></tr>",
            "<tr><td>35</td></tr>",
            "<tr><td>3</td></tr>",
            "<tr><td>12</td></tr>",
            "<tr><td>1</td></tr>",
            "<tr><td>NULL</td></tr>",
            "<tr><td>NULL</td></tr>",
            "<tr><td>NULL</td></tr>",
            "<tr><td>3</td></tr>",
            "<tr><td>38</td></tr>",
            "<tr><td>3</td></tr>",
            "<tr><td>1</td></tr>",
            "<tr><td>NULL</td></tr>",
            "<tr><td>90</td></tr>",
            "<tr><td>131</td></tr>",
            "<tr><td>11</td></tr>",
            "<tr><td>5</td></tr>",
            "<tr><td>3</td></tr>",
            "<tr><td>0</td></tr>",
            "<tr><td>2</td></tr>",
            "<tr><td>0</td></tr>",
            "<tr><td>3</td></tr>",
            "<tr><td>51</td></tr>",
            "<tr><td>NULL</td></tr>",
            "<tr><td>28</td></tr>",
            "<tr><td>4</td></tr>",
            "<tr><td>3</td></tr>",
            "<tr><td>0</td></tr>",
            "<tr><td>3</td></tr>",
            "<tr><td>9</td></tr>",
            "<tr><td>6</td></tr>",
            "<tr><td>212</td></tr>",
            "<tr><td>0</td></tr>",
            "<tr><td>5</td></tr>",
            "<tr><td>3</td></tr>",
            "<tr><td>0</td></tr>",
            "<tr><td>0</td></tr>",
            "<tr><td>3</td></tr>",
            "<tr><td>7</td></tr>",
            "<tr><td>NULL</td></tr>",
            "<tr><td>NULL</td></tr>",
            "<tr><td>4</td></tr>",
            "<tr><td>0</td></tr>",
            "<tr><td>3</td></tr>",
            "<tr><td>3</td></tr>",
            "<tr><td>1</td></tr>",
            "<tr><td>37</td></tr>",
            "<tr><td>NULL</td></tr>",
            "<tr><td>NULL</td></tr>",
            "<tr><td>NULL</td></tr>",
            "<tr><td>3</td></tr>",
            "<tr><td>3</td></tr>",
            "<tr><td>0</td></tr>",
            "<tr><td>0</td></tr>",
            "<tr><td>NULL</td></tr>",
            "<tr><td>6</td></tr>",
            "<tr><td>3</td></tr>",
            "<tr><td>4</td></tr>",
            "<tr><td>0</td></tr>",
            "<tr><td>10</td></tr>",
            "<tr><td>12</td></tr>",
            "<tr><td>30</td></tr>",
            "<tr><td>4</td></tr>",
            "<tr><td>1</td></tr>",
            "<tr><td>61</td></tr>",
            "<tr><td>0</td></tr>",
            "<tr><td>24</td></tr>",
            "<tr><td>0</td></tr>",
            "<tr><td>9</td></tr>",
            "<tr><td>3</td></tr>",
            "<tr><td>0</td></tr>",
            "<tr><td>6</td></tr>",
            "<tr><td>3</td></tr>",
            "<tr><td>9</td></tr>",
            "<tr><td>4</td></tr>",
            "<tr><td>6</td></tr>",
            "<tr><td>0</td></tr>",
            "<tr><td>0</td></tr>",
            "<tr><td>30</td></tr>",
            "<tr><td>18</td></tr>",
            "<tr><td>NULL</td></tr>",
            "<tr><td>0</td></tr>",
            "<tr><td>3</td></tr>",
            "<tr><td>0</td></tr>",
            "<tr><td>0</td></tr>",
            "<tr><td>0</td></tr>",
            "<tr><td>NULL</td></tr>",
            "<tr><td>9</td></tr>",
            "<tr><td>7</td></tr>",
            "<tr><td>0</td></tr>",
            "<tr><td>0</td></tr>",
            "<tr><td>3</td></tr>",
            "<tr><td>3</td></tr>",
            "<tr><td>9</td></tr>",
            "<tr><td>10</td></tr>",
            "<tr><td>NULL</td></tr>",
            "<tr><td>0</td></tr>",
            "<tr><td>0</td></tr>",
            "<tr><td>14</td></tr>",
            "<tr><td>40</td></tr>",
            "<tr><td>40</td></tr>",
            "<tr><td>40</td></tr>",
            "<tr><td>36</td></tr>",
            "<tr><td>36</td></tr>",
            "<tr><td>36</td></tr>",
            "<tr><td>6</td></tr>",
            "<tr><td>6</td></tr>",
            "<tr><td>6</td></tr>",
            "<tr><td>2</td></tr>",
            "<tr><td>2</td></tr>",
            "<tr><td>2</td></tr>",
            "<tr><td>3</td></tr>",
            "<tr><td>3</td></tr>",
            "<tr><td>3</td></tr>",
            "<tr><td>3</td></tr>",
            "<tr><td>0</td></tr>",
            "<tr><td>0</td></tr>",
            "<tr><td>0</td></tr>",
            "<tr><td>0</td></tr>",
            "<tr><td>5</td></tr>",
            "<tr><td>58</td></tr>",
            "<tr><td>3</td></tr>",
            "<tr><td>21</td></tr>",
            "<tr><td>6</td></tr>",
            "<tr><td>6</td></tr>",
            "<tr><td>6</td></tr>",
            "<tr><td>3</td></tr>",
            "<tr><td>0</td></tr>",
            "<tr><td>10</td></tr>",
            "<tr><td>10</td></tr>",
            "<tr><td>9</td></tr>",
            "<tr><td>0</td></tr>",
            "<tr><td>4</td></tr>",
            "<tr><td>NULL</td></tr>",
            "<tr><td>0</td></tr>",
            "<tr><td>9</td></tr>",
            "<tr><td>9</td></tr>",
            "<tr><td>0</td></tr>",
            "<tr><td>1</td></tr>",
            "<tr><td>0</td></tr>",
            "<tr><td>1</td></tr>",
            "<tr><td>NULL</td></tr>",
            "<tr><td>0</td></tr>",
            "<tr><td>0</td></tr>",
            "<tr><td>0</td></tr>",
            "<tr><td>0</td></tr>",
            "<tr><td>0</td></tr>",
            "<tr><td>0</td></tr>",
            "<tr><td>15</td></tr>",
            "<tr><td>9</td></tr>",
            "<tr><td>5</td></tr>",
            "<tr><td>10</td></tr>",
            "<tr><td>1</td></tr>",
            "<tr><td>0</td></tr>",
            "<tr><td>0</td></tr>",
            "<tr><td>0</td></tr>",
            "<tr><td>3</td></tr>",
            "<tr><td>8</td></tr>",
            "<tr><td>44</td></tr>",
            "<tr><td>1</td></tr>",
            "<tr><td>2</td></tr>",
            "<tr><td>0</td></tr>",
            "<tr><td>0</td></tr>",
            "<tr><td>3</td></tr>",
            "<tr><td>43</td></tr>",
            "<tr><td>0</td></tr>",
            "<tr><td>3</td></tr>",
            "<tr><td>0</td></tr>",
            "<tr><td>1</td></tr>",
            "<tr><td>0</td></tr>",
            "<tr><td>0</td></tr>",
            "<tr><td>3</td></tr>",
            "<tr><td>4</td></tr>",
            "<tr><td>0</td></tr>",
            "<tr><td>0</td></tr>",
            "<tr><td>NULL</td></tr>",
            "<tr><td>9</td></tr>",
            "<tr><td>0</td></tr>",
            "<tr><td>44</td></tr>",
            "<tr><td>3</td></tr>",
            "<tr><td>12</td></tr>",
            "<tr><td>82</td></tr>",
            "<tr><td>0</td></tr>",
            "<tr><td>0</td></tr>",
            "<tr><td>41</td></tr>",
            "<tr><td>10</td></tr>",
            "<tr><td>3</td></tr>",
            "<tr><td>NULL</td></tr>",
            "<tr><td>7</td></tr>",
            "<tr><td>8</td></tr>",
            "<tr><td>11</td></tr>",
            "<tr><td>0</td></tr>",
            "<tr><td>0</td></tr>",
            "<tr><td>3</td></tr>",
            "<tr><td>4</td></tr>",
            "<tr><td>8</td></tr>",
            "<tr><td>13</td></tr>",
            "<tr><td>3</td></tr>",
            "<tr><td>3</td></tr>",
            "<tr><td>21</td></tr>",
            "<tr><td>76</td></tr>",
            "<tr><td>6</td></tr>",
            "<tr><td>6</td></tr>",
            "<tr><td>14</td></tr>",
            "<tr><td>7</td></tr>",
            "<tr><td>53</td></tr>",
            "<tr><td>6</td></tr>",
            "<tr><td>3</td></tr>",
            "<tr><td>3</td></tr>",
            "<tr><td>3</td></tr>",
            "<tr><td>0</td></tr>",
            "<tr><td>0</td></tr>",
            "<tr><td>0</td></tr>",
            "<tr><td>0</td></tr>",
            "<tr><td>0</td></tr>",
            "<tr><td>3</td></tr>",
            "<tr><td>6</td></tr>",
            "<tr><td>0</td></tr>",
            "<tr><td>7</td></tr>",
            "<tr><td>0</td></tr>",
            "<tr><td>54</td></tr>",
            "<tr><td>5</td></tr>",
            "<tr><td>4</td></tr>",
            "<tr><td>15</td></tr>",
            "<tr><td>0</td></tr>",
            "<tr><td>6</td></tr>",
            "<tr><td>6</td></tr>",
            "<tr><td>6</td></tr>",
            "<tr><td>6</td></tr>",
            "<tr><td>6</td></tr>",
            "<tr><td>62</td></tr>",
            "<tr><td>27</td></tr>",
            "<tr><td>3</td></tr>",
            "<tr><td>3</td></tr>",
            "<tr><td>1</td></tr>",
            "<tr><td>0</td></tr>",
            "<tr><td>0</td></tr>",
            "<tr><td>0</td></tr>",
            "<tr><td>4</td></tr>",
            "<tr><td>0</td></tr>",
            "<tr><td>3</td></tr>",
            "<tr><td>12</td></tr>",
            "<tr><td>5</td></tr>",
            "<tr><td>3</td></tr>",
            "<tr><td>0</td></tr>",
            "<tr><td>8</td></tr>",
            "<tr><td>92</td></tr>",
            "<tr><td>17</td></tr>",
            "<tr><td>3</td></tr>",
            "<tr><td>12</td></tr>",
            "<tr><td>15</td></tr>",
            "<tr><td>0</td></tr>",
            "<tr><td>4</td></tr>",
            "<tr><td>9</td></tr>",
            "<tr><td>0</td></tr>",
            "<tr><td>11</td></tr>",
            "<tr><td>4</td></tr>",
            "<tr><td>7</td></tr>",
            "<tr><td>6</td></tr>",
            "<tr><td>6</td></tr>",
            "<tr><td>NULL</td></tr>",
            "<tr><td>2</td></tr>",
            "<tr><td>9</td></tr>",
            "<tr><td>6</td></tr>",
            "<tr><td>17</td></tr>",
            "<tr><td>NULL</td></tr>",
            "<tr><td>0</td></tr>",
            "<tr><td>NULL</td></tr>",
            "<tr><td>NULL</td></tr>",
            "<tr><td>0</td></tr>",
            "<tr><td>15</td></tr>",
            "<tr><td>3</td></tr>",
            "<tr><td>0</td></tr>",
            "<tr><td>13</td></tr>",
            "<tr><td>0</td></tr>",
            "<tr><td>0</td></tr>",
            "<tr><td>3</td></tr>",
            "<tr><td>62</td></tr>",
            "<tr><td>0</td></tr>",
            "<tr><td>0</td></tr>",
            "<tr><td>0</td></tr>",
            "<tr><td>32</td></tr>",
            "<tr><td>6</td></tr>",
            "<tr><td>5</td></tr>",
            "<tr><td>3</td></tr>",
            "<tr><td>13</td></tr>",
            "<tr><td>1</td></tr>",
            "<tr><td>0</td></tr>",
            "<tr><td>0</td></tr>",
            "<tr><td>4</td></tr>",
            "<tr><td>0</td></tr>",
            "<tr><td>2</td></tr>",
            "<tr><td>0</td></tr>",
            "<tr><td>9</td></tr>",
            "<tr><td>10</td></tr>",
            "<tr><td>2</td></tr>",
            "<tr><td>0</td></tr>",
            "<tr><td>0</td></tr>",
            "<tr><td>9</td></tr>",
            "<tr><td>0</td></tr>",
            "<tr><td>0</td></tr>",
            "<tr><td>18</td></tr>",
            "<tr><td>4</td></tr>",
            "<tr><td>0</td></tr>",
            "<tr><td>3</td></tr>",
            "<tr><td>77</td></tr>",
            "<tr><td>3</td></tr>",
            "<tr><td>3</td></tr>",
            "<tr><td>9</td></tr>",
            "<tr><td>9</td></tr>",
            "<tr><td>9</td></tr>",
            "<tr><td>9</td></tr>",
            "<tr><td>9</td></tr>",
            "<tr><td>9</td></tr>",
            "<tr><td>6</td></tr>",
            "<tr><td>NULL</td></tr>",
            "<tr><td>0</td></tr>",
            "<tr><td>6</td></tr>",
            "<tr><td>16</td></tr>",
            "<tr><td>1</td></tr>",
            "<tr><td>0</td></tr>",
            "<tr><td>0</td></tr>",
            "<tr><td>3</td></tr>",
            "<tr><td>4</td></tr>",
            "<tr><td>1</td></tr>",
            "<tr><td>0</td></tr>",
            "<tr><td>0</td></tr>",
            "<tr><td>77</td></tr>",
            "<tr><td>3</td></tr>",
            "<tr><td>0</td></tr>",
            "<tr><td>0</td></tr>",
            "<tr><td>0</td></tr>",
            "<tr><td>4</td></tr>",
            "<tr><td>0</td></tr>",
            "<tr><td>0</td></tr>",
            "<tr><td>NULL</td></tr>",
            "<tr><td>3</td></tr>",
            "<tr><td>0</td></tr>",
            "<tr><td>13</td></tr>",
            "<tr><td>19</td></tr>",
            "<tr><td>NULL</td></tr>",
            "<tr><td>0</td></tr>",
            "<tr><td>9</td></tr>",
            "<tr><td>13</td></tr>",
            "<tr><td>6</td></tr>",
            "<tr><td>0</td></tr>",
            "<tr><td>0</td></tr>",
            "<tr><td>NULL</td></tr>",
            "<tr><td>0</td></tr>",
            "<tr><td>27</td></tr>",
            "<tr><td>0</td></tr>",
            "<tr><td>12</td></tr>",
            "<tr><td>11</td></tr>",
            "<tr><td>13</td></tr>",
            "<tr><td>7</td></tr>",
            "<tr><td>52</td></tr>",
            "<tr><td>45</td></tr>",
            "<tr><td>38</td></tr>",
            "<tr><td>53</td></tr>",
            "<tr><td>50</td></tr>",
            "<tr><td>0</td></tr>",
            "<tr><td>1</td></tr>",
            "<tr><td>29</td></tr>",
            "<tr><td>2</td></tr>",
            "<tr><td>3</td></tr>",
            "<tr><td>NULL</td></tr>",
            "<tr><td>11</td></tr>",
            "<tr><td>4</td></tr>",
            "<tr><td>9</td></tr>",
            "<tr><td>9</td></tr>",
            "<tr><td>3</td></tr>",
            "<tr><td>0</td></tr>",
            "<tr><td>0</td></tr>",
            "<tr><td>0</td></tr>",
            "<tr><td>0</td></tr>",
            "<tr><td>0</td></tr>",
            "<tr><td>20</td></tr>",
            "<tr><td>3</td></tr>",
            "<tr><td>0</td></tr>",
            "<tr><td>3</td></tr>",
            "<tr><td>9</td></tr>",
            "<tr><td>6</td></tr>",
            "<tr><td>6</td></tr>",
            "<tr><td>12</td></tr>",
            "<tr><td>7</td></tr>",
            "<tr><td>56</td></tr>",
            "<tr><td>12</td></tr>",
            "<tr><td>5</td></tr>",
            "<tr><td>9</td></tr>",
            "<tr><td>0</td></tr>",
            "<tr><td>7</td></tr>",
            "<tr><td>8</td></tr>",
            "<tr><td>NULL</td></tr>",
            "<tr><td>0</td></tr>",
            "<tr><td>0</td></tr>",
            "<tr><td>NULL</td></tr>",
            "<tr><td>6</td></tr>",
            "<tr><td>0</td></tr>",
            "<tr><td>7</td></tr>",
            "<tr><td>10</td></tr>",
            "<tr><td>8</td></tr>",
            "<tr><td>9</td></tr>",
            "<tr><td>3</td></tr>",
            "<tr><td>1</td></tr>",
            "<tr><td>4</td></tr>",
            "<tr><td>0</td></tr>",
            "<tr><td>0</td></tr>",
            "<tr><td>1</td></tr>",
            "<tr><td>0</td></tr>",
            "<tr><td>0</td></tr>",
            "<tr><td>24</td></tr>",
            "<tr><td>0</td></tr>",
            "<tr><td>3</td></tr>",
            "<tr><td>NULL</td></tr>",
            "<tr><td>1</td></tr>",
            "<tr><td>0</td></tr>",
            "<tr><td>63</td></tr>",
            "<tr><td>35</td></tr>",
            "<tr><td>5</td></tr>",
            "<tr><td>8</td></tr>",
            "<tr><td>14</td></tr>",
            "<tr><td>108</td></tr>",
            "<tr><td>6</td></tr>",
            "<tr><td>6</td></tr>",
            "<tr><td>3</td></tr>",
            "<tr><td>3</td></tr>",
            "<tr><td>2</td></tr>",
            "<tr><td>15</td></tr>",
            "<tr><td>15</td></tr>",
            "<tr><td>4</td></tr>",
            "<tr><td>NULL</td></tr>",
            "<tr><td>16</td></tr>",
            "<tr><td>27</td></tr>",
            "<tr><td>0</td></tr>",
            "<tr><td>3</td></tr>",
            "<tr><td>12</td></tr>",
            "<tr><td>0</td></tr>",
            "<tr><td>3</td></tr>",
            "<tr><td>1</td></tr>",
            "<tr><td>0</td></tr>",
            "<tr><td>1</td></tr>",
            "<tr><td>2</td></tr>",
            "<tr><td>1</td></tr>",
            "<tr><td>4</td></tr>",
            "<tr><td>0</td></tr>",
            "<tr><td>95</td></tr>",
            "<tr><td>7</td></tr>",
            "<tr><td>9</td></tr>",
            "<tr><td>0</td></tr>",
            "<tr><td>153</td></tr>",
            "<tr><td>9</td></tr>",
            "<tr><td>148</td></tr>",
            "<tr><td>0</td></tr>",
            "<tr><td>35</td></tr>",
            "<tr><td>0</td></tr>",
            "<tr><td>21</td></tr>",
            "<tr><td>15</td></tr>",
            "<tr><td>10</td></tr>",
            "<tr><td>4</td></tr>",
            "<tr><td>24</td></tr>",
            "<tr><td>19</td></tr>",
            "<tr><td>7</td></tr>",
            "<tr><td>7</td></tr>",
            "<tr><td>13</td></tr>",
            "<tr><td>3</td></tr>",
            "<tr><td>4</td></tr>",
            "<tr><td>1</td></tr>",
            "<tr><td>NULL</td></tr>",
            "<tr><td>18</td></tr>",
            "<tr><td>0</td></tr>",
            "<tr><td>0</td></tr>",
            "<tr><td>24</td></tr>",
            "<tr><td>4</td></tr>",
            "<tr><td>3</td></tr>",
            "<tr><td>6</td></tr>",
            "<tr><td>10</td></tr>",
            "<tr><td>0</td></tr>",
            "<tr><td>3</td></tr>",
            "<tr><td>NULL</td></tr>",
            "<tr><td>37</td></tr>",
            "<tr><td>11</td></tr>",
            "<tr><td>0</td></tr>",
            "<tr><td>3</td></tr>",
            "<tr><td>9</td></tr>",
            "<tr><td>NULL</td></tr>",
            "<tr><td>NULL</td></tr>",
            "<tr><td>3</td></tr>",
            "<tr><td>0</td></tr>",
            "<tr><td>NULL</td></tr>",
            "<tr><td>0</td></tr>",
            "<tr><td>1</td></tr>",
            "<tr><td>0</td></tr>",
            "<tr><td>NULL</td></tr>",
            "<tr><td>4</td></tr>",
            "<tr><td>0</td></tr>",
            "<tr><td>0</td></tr>",
            "<tr><td>0</td></tr>",
            "<tr><td>17</td></tr>",
            "<tr><td>11</td></tr>",
            "<tr><td>11</td></tr>",
            "<tr><td>6</td></tr>",
            "<tr><td>9</td></tr>",
            "<tr><td>9</td></tr>",
            "<tr><td>6</td></tr>",
            "<tr><td>20</td></tr>",
            "<tr><td>0</td></tr>",
            "<tr><td>0</td></tr>",
            "<tr><td>0</td></tr>",
            "<tr><td>0</td></tr>",
            "<tr><td>3</td></tr>",
            "<tr><td>6</td></tr>",
            "<tr><td>1</td></tr>",
            "<tr><td>0</td></tr>",
            "<tr><td>NULL</td></tr>",
            "<tr><td>1</td></tr>",
            "<tr><td>0</td></tr>",
            "<tr><td>6</td></tr>",
            "<tr><td>0</td></tr>",
            "<tr><td>0</td></tr>",
            "<tr><td>0</td></tr>",
            "<tr><td>3</td></tr>",
            "<tr><td>12</td></tr>",
            "<tr><td>23</td></tr>",
            "<tr><td>23</td></tr>",
            "<tr><td>23</td></tr>",
            "<tr><td>NULL</td></tr>",
            "<tr><td>7</td></tr>",
            "<tr><td>7</td></tr>",
            "<tr><td>0</td></tr>",
            "<tr><td>0</td></tr>",
            "<tr><td>0</td></tr>",
            "<tr><td>3</td></tr>",
            "<tr><td>2</td></tr>",
            "<tr><td>3</td></tr>",
            "<tr><td>0</td></tr>",
            "<tr><td>44</td></tr>",
            "<tr><td>NULL</td></tr>",
            "<tr><td>8</td></tr>",
            "<tr><td>8</td></tr>",
            "<tr><td>11</td></tr>",
            "<tr><td>6</td></tr>",
            "<tr><td>7</td></tr>",
            "<tr><td>12</td></tr>",
            "<tr><td>12</td></tr>",
            "<tr><td>5</td></tr>",
            "<tr><td>NULL</td></tr>",
            "<tr><td>2</td></tr>",
            "<tr><td>2</td></tr>",
            "<tr><td>2</td></tr>",
            "<tr><td>5</td></tr>",
            "<tr><td>0</td></tr>",
            "<tr><td>15</td></tr>",
            "<tr><td>28</td></tr>",
            "<tr><td>0</td></tr>",
            "<tr><td>87</td></tr>",
            "<tr><td>84</td></tr>",
            "<tr><td>146</td></tr>",
            "<tr><td>87</td></tr>",
            "<tr><td>9</td></tr>",
            "<tr><td>6</td></tr>",
            "<tr><td>3</td></tr>",
            "<tr><td>0</td></tr>",
            "<tr><td>3</td></tr>",
            "<tr><td>5</td></tr>",
            "<tr><td>4</td></tr>",
            "<tr><td>9</td></tr>",
            "<tr><td>67</td></tr>",
            "<tr><td>0</td></tr>",
            "<tr><td>2</td></tr>",
            "<tr><td>0</td></tr>",
            "<tr><td>8</td></tr>",
            "<tr><td>0</td></tr>",
            "<tr><td>0</td></tr>",
            "<tr><td>0</td></tr>",
            "<tr><td>0</td></tr>",
            "<tr><td>18</td></tr>",
            "<tr><td>1</td></tr>",
            "<tr><td>0</td></tr>",
            "<tr><td>0</td></tr>",
            "<tr><td>0</td></tr>",
            "<tr><td>3</td></tr>",
            "<tr><td>56</td></tr>",
            "<tr><td>7</td></tr>",
            "<tr><td>8</td></tr>",
            "<tr><td>11</td></tr>",
            "<tr><td>9</td></tr>",
            "<tr><td>13</td></tr>",
            "<tr><td>4</td></tr>",
            "<tr><td>2</td></tr>",
            "<tr><td>1</td></tr>",
            "<tr><td>72</td></tr>",
            "<tr><td>3</td></tr>",
            "<tr><td>6</td></tr>",
            "<tr><td>3</td></tr>",
            "<tr><td>11</td></tr>",
            "<tr><td>0</td></tr>",
            "<tr><td>0</td></tr>",
            "<tr><td>0</td></tr>",
            "<tr><td>8</td></tr>",
            "<tr><td>9</td></tr>",
            "<tr><td>13</td></tr>",
            "<tr><td>6</td></tr>",
            "<tr><td>3</td></tr>",
            "<tr><td>0</td></tr>",
            "<tr><td>0</td></tr>",
            "<tr><td>6</td></tr>",
            "<tr><td>11</td></tr>",
            "<tr><td>0</td></tr>",
            "<tr><td>3</td></tr>",
            "<tr><td>NULL</td></tr>",
            "<tr><td>0</td></tr>",
            "<tr><td>1</td></tr>",
            "<tr><td>0</td></tr>",
            "<tr><td>0</td></tr>",
            "<tr><td>3</td></tr>",
            "<tr><td>0</td></tr>",
            "<tr><td>3</td></tr>",
            "<tr><td>0</td></tr>",
            "<tr><td>3</td></tr>",
            "<tr><td>0</td></tr>",
            "<tr><td>0</td></tr>",
            "<tr><td>NULL</td></tr>",
            "<tr><td>NULL</td></tr>",
            "<tr><td>30</td></tr>",
            "<tr><td>18</td></tr>",
            "<tr><td>11</td></tr>",
            "<tr><td>9</td></tr>",
            "<tr><td>11</td></tr>",
            "<tr><td>0</td></tr>",
            "<tr><td>4</td></tr>",
            "<tr><td>15</td></tr>",
            "<tr><td>25</td></tr>",
            "<tr><td>NULL</td></tr>",
            "<tr><td>4</td></tr>",
            "<tr><td>2</td></tr>",
            "<tr><td>1</td></tr>",
            "<tr><td>0</td></tr>",
            "<tr><td>6</td></tr>",
            "<tr><td>NULL</td></tr>",
            "<tr><td>16</td></tr>",
            "<tr><td>NULL</td></tr>",
            "<tr><td>8</td></tr>",
            "<tr><td>1</td></tr>",
            "<tr><td>0</td></tr>",
            "<tr><td>0</td></tr>",
            "<tr><td>NULL</td></tr>",
            "<tr><td>NULL</td></tr>",
            "<tr><td>3</td></tr>",
            "<tr><td>23</td></tr>",
            "<tr><td>4</td></tr>",
            "<tr><td>3</td></tr>",
            "<tr><td>8</td></tr>",
            "<tr><td>15</td></tr>",
            "<tr><td>NULL</td></tr>",
            "<tr><td>21</td></tr>",
            "<tr><td>9</td></tr>",
            "<tr><td>13</td></tr>",
            "<tr><td>3</td></tr>",
            "<tr><td>15</td></tr>",
            "<tr><td>13</td></tr>",
            "<tr><td>NULL</td></tr>",
            "<tr><td>NULL</td></tr>",
            "<tr><td>10</td></tr>",
            "<tr><td>3</td></tr>",
            "<tr><td>3</td></tr>",
            "<tr><td>2</td></tr>",
            "<tr><td>4</td></tr>",
            "<tr><td>28</td></tr>",
            "<tr><td>6</td></tr>",
            "<tr><td>0</td></tr>",
            "<tr><td>0</td></tr>",
            "<tr><td>3</td></tr>",
            "<tr><td>3</td></tr>",
            "<tr><td>3</td></tr>",
            "<tr><td>3</td></tr>",
            "<tr><td>0</td></tr>",
            "<tr><td>0</td></tr>",
            "<tr><td>3</td></tr>",
            "<tr><td>0</td></tr>",
            "<tr><td>0</td></tr>",
            "<tr><td>NULL</td></tr>",
            "<tr><td>0</td></tr>",
            "<tr><td>0</td></tr>",
            "<tr><td>0</td></tr>",
            "<tr><td>9</td></tr>",
            "<tr><td>3</td></tr>",
            "<tr><td>6</td></tr>",
            "<tr><td>0</td></tr>",
            "<tr><td>94</td></tr>",
            "<tr><td>94</td></tr>",
            "<tr><td>36</td></tr>",
            "<tr><td>6</td></tr>",
            "<tr><td>3</td></tr>",
            "<tr><td>3</td></tr>",
            "<tr><td>0</td></tr>",
            "<tr><td>13</td></tr>",
            "<tr><td>6</td></tr>",
            "<tr><td>18</td></tr>",
            "<tr><td>27</td></tr>",
            "<tr><td>12</td></tr>",
            "<tr><td>49</td></tr>",
            "<tr><td>1</td></tr>",
            "<tr><td>6</td></tr>",
            "<tr><td>NULL</td></tr>",
            "<tr><td>NULL</td></tr>",
            "<tr><td>3</td></tr>",
            "<tr><td>1</td></tr>",
            "<tr><td>6</td></tr>",
            "<tr><td>3</td></tr>",
            "<tr><td>6</td></tr>",
            "<tr><td>0</td></tr>",
            "<tr><td>0</td></tr>",
            "<tr><td>3</td></tr>",
            "<tr><td>23</td></tr>",
            "<tr><td>NULL</td></tr>",
            "<tr><td>6</td></tr>",
            "<tr><td>NULL</td></tr>",
            "<tr><td>NULL</td></tr>",
            "<tr><td>6</td></tr>",
            "<tr><td>15</td></tr>",
            "<tr><td>6</td></tr>",
            "<tr><td>3</td></tr>",
            "<tr><td>NULL</td></tr>",
            "<tr><td>12</td></tr>",
            "<tr><td>0</td></tr>",
            "<tr><td>10</td></tr>",
            "<tr><td>30</td></tr>",
            "<tr><td>5</td></tr>",
            "<tr><td>1</td></tr>",
            "<tr><td>22</td></tr>",
            "<tr><td>1</td></tr>",
            "<tr><td>22</td></tr>",
            "<tr><td>0</td></tr>",
            "<tr><td>5</td></tr>",
            "<tr><td>6</td></tr>",
            "<tr><td>6</td></tr>",
            "<tr><td>7</td></tr>",
            "<tr><td>3</td></tr>",
            "<tr><td>19</td></tr>",
            "<tr><td>19</td></tr>",
            "<tr><td>4</td></tr>",
            "<tr><td>0</td></tr>",
            "<tr><td>7</td></tr>",
            "<tr><td>7</td></tr>",
            "<tr><td>11</td></tr>",
            "<tr><td>0</td></tr>",
            "<tr><td>NULL</td></tr>",
            "<tr><td>0</td></tr>",
            "<tr><td>1</td></tr>",
            "<tr><td>3</td></tr>",
            "<tr><td>0</td></tr>",
            "<tr><td>4</td></tr>",
            "<tr><td>0</td></tr>",
            "<tr><td>0</td></tr>",
            "<tr><td>NULL</td></tr>",
            "<tr><td>NULL</td></tr>",
            "<tr><td>10</td></tr>",
            "<tr><td>1</td></tr>",
            "<tr><td>1</td></tr>",
            "<tr><td>NULL</td></tr>",
            "<tr><td>3</td></tr>",
            "<tr><td>54</td></tr>",
            "<tr><td>8</td></tr>",
            "<tr><td>10</td></tr>",
            "<tr><td>13</td></tr>",
            "<tr><td>4</td></tr>",
            "<tr><td>0</td></tr>",
            "<tr><td>0</td></tr>",
            "<tr><td>1</td></tr>",
            "<tr><td>1</td></tr>",
            "<tr><td>1</td></tr>",
            "<tr><td>1</td></tr>",
            "<tr><td>1</td></tr>",
            "<tr><td>4</td></tr>",
            "<tr><td>4</td></tr>",
            "<tr><td>12</td></tr>",
            "<tr><td>0</td></tr>",
            "<tr><td>0</td></tr>",
            "<tr><td>0</td></tr>",
            "<tr><td>4</td></tr>",
            "<tr><td>NULL</td></tr>",
            "<tr><td>37</td></tr>",
            "<tr><td>0</td></tr>",
            "<tr><td>3</td></tr>",
            "<tr><td>NULL</td></tr>",
            "<tr><td>1</td></tr>",
            "<tr><td>NULL</td></tr>",
            "<tr><td>8</td></tr>",
            "<tr><td>1</td></tr>",
            "<tr><td>1</td></tr>",
            "<tr><td>3</td></tr>",
            "<tr><td>0</td></tr>",
            "<tr><td>0</td></tr>",
            "<tr><td>3</td></tr>",
            "<tr><td>20</td></tr>",
            "<tr><td>0</td></tr>",
            "<tr><td>5</td></tr>",
            "<tr><td>6</td></tr>",
            "<tr><td>0</td></tr>",
            "<tr><td>13</td></tr>",
            "<tr><td>12</td></tr>",
            "<tr><td>NULL</td></tr>",
            "<tr><td>NULL</td></tr>",
            "<tr><td>2</td></tr>",
            "<tr><td>23</td></tr>",
            "<tr><td>4</td></tr>",
            "<tr><td>1016</td></tr>",
            "<tr><td>3</td></tr>",
            "<tr><td>34</td></tr>",
            "<tr><td>NULL</td></tr>",
            "<tr><td>3</td></tr>",
            "<tr><td>0</td></tr>",
            "<tr><td>2</td></tr>",
            "<tr><td>0</td></tr>",
            "<tr><td>4</td></tr>",
            "<tr><td>NULL</td></tr>",
            "<tr><td>4</td></tr>",
            "<tr><td>0</td></tr>",
            "<tr><td>57</td></tr>",
            "<tr><td>53</td></tr>",
            "<tr><td>0</td></tr>",
            "<tr><td>0</td></tr>",
            "<tr><td>5</td></tr>",
            "<tr><td>14</td></tr>",
            "<tr><td>3</td></tr>",
            "<tr><td>12</td></tr>",
            "<tr><td>11</td></tr>",
            "<tr><td>40</td></tr>",
            "<tr><td>4</td></tr>",
            "<tr><td>21</td></tr>",
            "<tr><td>0</td></tr>",
            "<tr><td>6</td></tr>",
            "<tr><td>NULL</td></tr>",
            "<tr><td>84</td></tr>",
            "<tr><td>87</td></tr>",
            "<tr><td>88</td></tr>",
            "<tr><td>88</td></tr>",
            "<tr><td>27</td></tr>",
            "<tr><td>1</td></tr>",
            "<tr><td>3</td></tr>",
            "<tr><td>0</td></tr>",
            "<tr><td>0</td></tr>",
            "<tr><td>0</td></tr>",
            "<tr><td>7</td></tr>",
            "<tr><td>1</td></tr>",
            "<tr><td>0</td></tr>",
            "<tr><td>4</td></tr>",
            "<tr><td>3</td></tr>",
            "<tr><td>0</td></tr>",
            "<tr><td>6</td></tr>",
            "<tr><td>3</td></tr>",
            "<tr><td>12</td></tr>",
            "<tr><td>1</td></tr>",
            "<tr><td>5</td></tr>",
            "<tr><td>9</td></tr>",
            "<tr><td>0</td></tr>",
            "<tr><td>0</td></tr>",
            "<tr><td>6</td></tr>",
            "<tr><td>11</td></tr>",
            "<tr><td>11</td></tr>",
            "<tr><td>10</td></tr>",
            "<tr><td>2</td></tr>",
            "<tr><td>9</td></tr>",
            "<tr><td>0</td></tr>",
            "<tr><td>0</td></tr>",
            "<tr><td>NULL</td></tr>",
            "<tr><td>16</td></tr>",
            "<tr><td>11</td></tr>",
            "<tr><td>7</td></tr>",
            "<tr><td>0</td></tr>",
            "<tr><td>18</td></tr>",
            "<tr><td>NULL</td></tr>",
            "<tr><td>NULL</td></tr>",
            "<tr><td>0</td></tr>",
            "<tr><td>0</td></tr>",
            "<tr><td>2</td></tr>",
            "<tr><td>9</td></tr>",
            "<tr><td>6</td></tr>",
            "<tr><td>0</td></tr>",
            "<tr><td>11</td></tr>",
            "<tr><td>3</td></tr>",
            "<tr><td>9</td></tr>",
            "<tr><td>0</td></tr>",
            "<tr><td>0</td></tr>",
            "<tr><td>0</td></tr>",
            "<tr><td>0</td></tr>",
            "<tr><td>0</td></tr>",
            "<tr><td>0</td></tr>",
            "<tr><td>0</td></tr>",
            "<tr><td>0</td></tr>",
            "<tr><td>3</td></tr>",
            "<tr><td>0</td></tr>",
            "<tr><td>NULL</td></tr>",
            "<tr><td>9</td></tr>",
            "<tr><td>3</td></tr>",
            "<tr><td>9</td></tr>",
            "<tr><td>3</td></tr>",
            "<tr><td>3</td></tr>",
            "<tr><td>23</td></tr>",
            "<tr><td>7</td></tr>",
            "<tr><td>12</td></tr>",
            "<tr><td>11</td></tr>",
            "<tr><td>9</td></tr>",
            "<tr><td>0</td></tr>",
            "<tr><td>6</td></tr>",
            "<tr><td>3</td></tr>",
            "<tr><td>41</td></tr>",
            "<tr><td>40</td></tr>",
            "<tr><td>NULL</td></tr>",
            "<tr><td>7</td></tr>",
            "<tr><td>6</td></tr>",
            "<tr><td>4</td></tr>",
            "<tr><td>6</td></tr>",
            "<tr><td>12</td></tr>",
            "<tr><td>9</td></tr>",
            "<tr><td>5</td></tr>",
            "<tr><td>NULL</td></tr>",
            "<tr><td>1</td></tr>",
            "<tr><td>0</td></tr>",
            "<tr><td>0</td></tr>",
            "<tr><td>NULL</td></tr>",
            "<tr><td>1</td></tr>",
            "<tr><td>5</td></tr>",
            "<tr><td>12</td></tr>",
            "<tr><td>NULL</td></tr>",
            "<tr><td>0</td></tr>",
            "<tr><td>3</td></tr>",
            "<tr><td>15</td></tr>",
            "<tr><td>18</td></tr>",
            "<tr><td>3</td></tr>",
            "<tr><td>52</td></tr>",
            "<tr><td>50</td></tr>",
            "<tr><td>21</td></tr>",
            "<tr><td>37</td></tr>",
            "<tr><td>0</td></tr>",
            "<tr><td>73</td></tr>",
            "<tr><td>13</td></tr>",
            "<tr><td>8</td></tr>",
            "<tr><td>31</td></tr>",
            "<tr><td>32</td></tr>",
            "<tr><td>38</td></tr>",
            "<tr><td>13</td></tr>",
            "<tr><td>0</td></tr>",
            "<tr><td>NULL</td></tr>",
            "<tr><td>NULL</td></tr>",
            "<tr><td>6</td></tr>",
            "<tr><td>0</td></tr>",
            "<tr><td>6</td></tr>",
            "<tr><td>23</td></tr>",
            "<tr><td>0</td></tr>",
            "<tr><td>24</td></tr>",
            "<tr><td>12</td></tr>",
            "<tr><td>0</td></tr>",
            "<tr><td>0</td></tr>",
            "<tr><td>0</td></tr>",
            "<tr><td>NULL</td></tr>",
            "<tr><td>0</td></tr>",
            "<tr><td>3</td></tr>",
            "<tr><td>0</td></tr>",
            "<tr><td>8</td></tr>",
            "<tr><td>11</td></tr>",
            "<tr><td>2</td></tr>",
            "<tr><td>12</td></tr>",
            "<tr><td>7</td></tr>",
            "<tr><td>69</td></tr>",
            "<tr><td>4</td></tr>",
            "<tr><td>0</td></tr>",
            "<tr><td>0</td></tr>",
            "<tr><td>9</td></tr>",
            "<tr><td>0</td></tr>",
            "<tr><td>1</td></tr>",
            "<tr><td>0</td></tr>",
            "<tr><td>0</td></tr>",
            "<tr><td>6</td></tr>",
            "<tr><td>0</td></tr>",
            "<tr><td>4</td></tr>",
            "<tr><td>3</td></tr>",
            "<tr><td>1</td></tr>",
            "<tr><td>3</td></tr>",
            "<tr><td>1</td></tr>",
            "<tr><td>3</td></tr>",
            "<tr><td>5</td></tr>",
            "<tr><td>3</td></tr>",
            "<tr><td>0</td></tr>",
            "<tr><td>12</td></tr>",
            "<tr><td>4</td></tr>",
            "<tr><td>0</td></tr>",
            "<tr><td>NULL</td></tr>",
            "<tr><td>0</td></tr>",
            "<tr><td>0</td></tr>",
            "<tr><td>0</td></tr>",
            "<tr><td>NULL</td></tr>",
            "<tr><td>30</td></tr>",
            "<tr><td>6</td></tr>",
            "<tr><td>63</td></tr>",
            "<tr><td>12</td></tr>",
            "<tr><td>0</td></tr>",
            "<tr><td>4</td></tr>",
            "<tr><td>5</td></tr>",
            "<tr><td>8</td></tr>",
            "<tr><td>3</td></tr>",
            "<tr><td>18</td></tr>",
            "<tr><td>2</td></tr>",
            "<tr><td>12</td></tr>",
            "<tr><td>0</td></tr>",
            "<tr><td>NULL</td></tr>",
            "<tr><td>0</td></tr>",
            "<tr><td>9</td></tr>",
            "<tr><td>3</td></tr>",
            "<tr><td>11</td></tr>",
            "<tr><td>6</td></tr>",
            "<tr><td>34</td></tr>",
            "<tr><td>8</td></tr>",
            "<tr><td>0</td></tr>",
            "<tr><td>0</td></tr>",
            "<tr><td>12</td></tr>",
            "<tr><td>0</td></tr>",
            "<tr><td>3</td></tr>",
            "<tr><td>4</td></tr>",
            "<tr><td>0</td></tr>",
            "<tr><td>0</td></tr>",
            "<tr><td>0</td></tr>",
            "<tr><td>0</td></tr>",
            "<tr><td>2</td></tr>",
            "<tr><td>0</td></tr>",
            "<tr><td>NULL</td></tr>",
            "<tr><td>0</td></tr>",
            "<tr><td>0</td></tr>",
            "<tr><td>0</td></tr>",
            "<tr><td>8</td></tr>",
            "<tr><td>0</td></tr>",
            "<tr><td>6</td></tr>",
            "<tr><td>0</td></tr>",
            "<tr><td>17</td></tr>",
            "<tr><td>42</td></tr>",
            "<tr><td>24</td></tr>",
            "<tr><td>0</td></tr>",
            "<tr><td>3</td></tr>",
            "<tr><td>2</td></tr>",
            "<tr><td>8</td></tr>",
            "<tr><td>0</td></tr>",
            "<tr><td>4</td></tr>",
            "<tr><td>3</td></tr>",
            "<tr><td>1</td></tr>",
            "<tr><td>7</td></tr>",
            "<tr><td>1</td></tr>",
            "<tr><td>NULL</td></tr>",
            "<tr><td>4</td></tr>",
            "<tr><td>3</td></tr>",
            "<tr><td>0</td></tr>",
            "<tr><td>0</td></tr>",
            "<tr><td>1</td></tr>",
            "<tr><td>0</td></tr>",
            "<tr><td>0</td></tr>",
            "<tr><td>0</td></tr>",
            "<tr><td>0</td></tr>",
            "<tr><td>2</td></tr>",
            "<tr><td>3</td></tr>",
            "<tr><td>4</td></tr>",
            "<tr><td>1</td></tr>",
            "<tr><td>0</td></tr>",
            "<tr><td>2</td></tr>",
            "<tr><td>0</td></tr>",
            "<tr><td>3</td></tr>",
            "<tr><td>66</td></tr>",
            "<tr><td>12</td></tr>",
            "<tr><td>1</td></tr>",
            "<tr><td>NULL</td></tr>",
            "<tr><td>102</td></tr>",
            "<tr><td>6</td></tr>",
            "<tr><td>0</td></tr>",
            "<tr><td>1</td></tr>",
            "<tr><td>3</td></tr>",
            "<tr><td>3</td></tr>",
            "<tr><td>9</td></tr>",
            "<tr><td>0</td></tr>",
            "<tr><td>0</td></tr>",
            "<tr><td>3</td></tr>",
            "<tr><td>5</td></tr>",
            "<tr><td>NULL</td></tr>",
            "<tr><td>4</td></tr>",
            "<tr><td>0</td></tr>",
            "<tr><td>1</td></tr>",
            "<tr><td>3</td></tr>",
            "<tr><td>10</td></tr>",
            "<tr><td>11</td></tr>",
            "<tr><td>3</td></tr>",
            "<tr><td>9</td></tr>",
            "<tr><td>4</td></tr>",
            "<tr><td>9</td></tr>",
            "<tr><td>8</td></tr>",
            "<tr><td>23</td></tr>",
            "<tr><td>NULL</td></tr>",
            "<tr><td>20</td></tr>",
            "<tr><td>0</td></tr>",
            "<tr><td>0</td></tr>",
            "<tr><td>0</td></tr>",
            "<tr><td>0</td></tr>",
            "<tr><td>8</td></tr>",
            "<tr><td>3</td></tr>",
            "<tr><td>12</td></tr>",
            "<tr><td>NULL</td></tr>",
            "<tr><td>33</td></tr>",
            "<tr><td>21</td></tr>",
            "<tr><td>21</td></tr>",
            "<tr><td>24</td></tr>",
            "<tr><td>14</td></tr>",
            "<tr><td>17</td></tr>",
            "<tr><td>0</td></tr>",
            "<tr><td>3</td></tr>",
            "<tr><td>3</td></tr>",
            "<tr><td>0</td></tr>",
            "<tr><td>0</td></tr>",
            "<tr><td>0</td></tr>",
            "<tr><td>6</td></tr>",
            "<tr><td>0</td></tr>",
            "<tr><td>0</td></tr>",
            "<tr><td>1</td></tr>",
            "<tr><td>9</td></tr>",
            "<tr><td>4</td></tr>",
            "<tr><td>NULL</td></tr>",
            "<tr><td>5</td></tr>",
            "<tr><td>3</td></tr>",
            "<tr><td>6</td></tr>",
            "<tr><td>2</td></tr>",
            "<tr><td>16</td></tr>",
            "<tr><td>59</td></tr>",
            "<tr><td>12</td></tr>",
            "<tr><td>2</td></tr>",
            "<tr><td>15</td></tr>",
            "<tr><td>15</td></tr>",
            "<tr><td>14</td></tr>",
            "<tr><td>9</td></tr>",
            "<tr><td>0</td></tr>",
            "<tr><td>8</td></tr>",
            "<tr><td>11</td></tr>",
            "<tr><td>0</td></tr>",
            "<tr><td>39</td></tr>",
            "<tr><td>40</td></tr>",
            "<tr><td>3</td></tr>",
            "<tr><td>16</td></tr>",
            "<tr><td>0</td></tr>",
            "<tr><td>4</td></tr>",
            "<tr><td>0</td></tr>",
            "<tr><td>0</td></tr>",
            "<tr><td>0</td></tr>",
            "<tr><td>0</td></tr>",
            "<tr><td>0</td></tr>",
            "<tr><td>0</td></tr>",
            "<tr><td>0</td></tr>",
            "<tr><td>0</td></tr>",
            "<tr><td>0</td></tr>",
            "<tr><td>3</td></tr>",
            "<tr><td>4</td></tr>",
            "<tr><td>114</td></tr>",
            "<tr><td>0</td></tr>",
            "<tr><td>0</td></tr>",
            "<tr><td>25</td></tr>",
            "<tr><td>0</td></tr>",
            "<tr><td>34</td></tr>",
            "<tr><td>4</td></tr>",
            "<tr><td>4</td></tr>",
            "<tr><td>3</td></tr>",
            "<tr><td>0</td></tr>",
            "<tr><td>11</td></tr>",
            "<tr><td>16</td></tr>",
            "<tr><td>10</td></tr>",
            "<tr><td>0</td></tr>",
            "<tr><td>7</td></tr>",
            "<tr><td>3</td></tr>",
            "<tr><td>3</td></tr>",
            "<tr><td>2</td></tr>",
            "<tr><td>24</td></tr>",
            "<tr><td>6</td></tr>",
            "<tr><td>10</td></tr>",
            "<tr><td>12</td></tr>",
            "<tr><td>5</td></tr>",
            "<tr><td>3</td></tr>",
            "<tr><td>0</td></tr>",
            "<tr><td>1</td></tr>",
            "<tr><td>0</td></tr>",
            "<tr><td>3</td></tr>",
            "<tr><td>0</td></tr>",
            "<tr><td>NULL</td></tr>",
            "<tr><td>1</td></tr>",
            "<tr><td>1</td></tr>",
            "<tr><td>0</td></tr>",
            "<tr><td>0</td></tr>",
            "<tr><td>NULL</td></tr>",
            "<tr><td>59</td></tr>",
            "<tr><td>7</td></tr>",
            "<tr><td>5</td></tr>",
            "<tr><td>4</td></tr>",
            "<tr><td>1</td></tr>",
            "<tr><td>0</td></tr>",
            "<tr><td>1</td></tr>",
            "<tr><td>0</td></tr>",
            "<tr><td>0</td></tr>",
            "<tr><td>1</td></tr>",
            "<tr><td>0</td></tr>",
            "<tr><td>0</td></tr>",
            "<tr><td>0</td></tr>",
            "<tr><td>0</td></tr>",
            "<tr><td>3</td></tr>",
            "<tr><td>17</td></tr>",
            "<tr><td>20</td></tr>",
            "<tr><td>0</td></tr>",
            "<tr><td>0</td></tr>",
            "<tr><td>14</td></tr>",
            "<tr><td>3</td></tr>",
            "<tr><td>1</td></tr>",
            "<tr><td>NULL</td></tr>",
            "<tr><td>22</td></tr>",
            "<tr><td>0</td></tr>",
            "<tr><td>21</td></tr>",
            "<tr><td>NULL</td></tr>",
            "<tr><td>33</td></tr>",
            "<tr><td>0</td></tr>",
            "<tr><td>1</td></tr>",
            "<tr><td>3</td></tr>",
            "<tr><td>56</td></tr>",
            "<tr><td>5</td></tr>",
            "<tr><td>0</td></tr>",
            "<tr><td>4</td></tr>",
            "<tr><td>0</td></tr>",
            "<tr><td>1</td></tr>",
            "<tr><td>1</td></tr>",
            "<tr><td>4</td></tr>",
            "<tr><td>4</td></tr>",
            "<tr><td>5</td></tr>",
            "<tr><td>11</td></tr>",
            "<tr><td>18</td></tr>",
            "<tr><td>3</td></tr>",
            "<tr><td>56</td></tr>",
            "<tr><td>0</td></tr>",
            "<tr><td>0</td></tr>",
            "<tr><td>11</td></tr>",
            "<tr><td>0</td></tr>",
            "<tr><td>1</td></tr>",
            "<tr><td>0</td></tr>",
            "<tr><td>0</td></tr>",
            "<tr><td>51</td></tr>",
            "<tr><td>0</td></tr>",
            "<tr><td>6</td></tr>",
            "<tr><td>1</td></tr>",
            "<tr><td>4</td></tr>",
            "<tr><td>14</td></tr>",
            "<tr><td>10</td></tr>",
            "<tr><td>9</td></tr>",
            "<tr><td>15</td></tr>",
            "<tr><td>13</td></tr>",
            "<tr><td>NULL</td></tr>",
            "<tr><td>0</td></tr>",
            "<tr><td>12</td></tr>",
            "<tr><td>45</td></tr>",
            "<tr><td>3</td></tr>",
            "<tr><td>6</td></tr>",
            "<tr><td>0</td></tr>",
            "<tr><td>0</td></tr>",
            "<tr><td>0</td></tr>",
            "<tr><td>0</td></tr>",
            "<tr><td>0</td></tr>",
            "<tr><td>1</td></tr>",
            "<tr><td>2</td></tr>",
            "<tr><td>75</td></tr>",
            "<tr><td>103</td></tr>",
            "<tr><td>6</td></tr>",
            "<tr><td>4</td></tr>",
            "<tr><td>8</td></tr>",
            "<tr><td>8</td></tr>",
            "<tr><td>14</td></tr>",
            "<tr><td>3</td></tr>",
            "<tr><td>9</td></tr>",
            "<tr><td>4</td></tr>",
            "<tr><td>0</td></tr>",
            "<tr><td>0</td></tr>",
            "<tr><td>0</td></tr>",
            "<tr><td>0</td></tr>",
            "<tr><td>0</td></tr>",
            "<tr><td>0</td></tr>",
            "<tr><td>0</td></tr>",
            "<tr><td>0</td></tr>",
            "<tr><td>0</td></tr>",
            "<tr><td>0</td></tr>",
            "<tr><td>44</td></tr>",
            "<tr><td>180</td></tr>",
            "<tr><td>0</td></tr>",
            "<tr><td>6</td></tr>",
            "<tr><td>3</td></tr>",
            "<tr><td>6</td></tr>",
            "<tr><td>3</td></tr>",
            "<tr><td>0</td></tr>",
            "<tr><td>0</td></tr>",
            "<tr><td>0</td></tr>",
            "<tr><td>3</td></tr>",
            "<tr><td>2</td></tr>",
            "<tr><td>0</td></tr>",
            "<tr><td>NULL</td></tr>",
            "<tr><td>13</td></tr>",
            "<tr><td>NULL</td></tr>",
            "<tr><td>0</td></tr>",
            "<tr><td>NULL</td></tr>",
            "<tr><td>0</td></tr>",
            "<tr><td>0</td></tr>",
            "<tr><td>1</td></tr>",
            "<tr><td>0</td></tr>",
            "<tr><td>1</td></tr>",
            "<tr><td>0</td></tr>",
            "<tr><td>107</td></tr>",
            "<tr><td>3</td></tr>",
            "<tr><td>18</td></tr>",
            "<tr><td>0</td></tr>",
            "<tr><td>0</td></tr>",
            "<tr><td>0</td></tr>",
            "<tr><td>11</td></tr>",
            "<tr><td>18</td></tr>",
            "<tr><td>10</td></tr>",
            "<tr><td>10</td></tr>",
            "<tr><td>0</td></tr>",
            "<tr><td>6</td></tr>",
            "<tr><td>15</td></tr>",
            "<tr><td>0</td></tr>",
            "<tr><td>0</td></tr>",
            "<tr><td>15</td></tr>",
            "<tr><td>8</td></tr>",
            "<tr><td>0</td></tr>",
            "<tr><td>22</td></tr>",
            "<tr><td>48</td></tr>",
            "<tr><td>NULL</td></tr>",
            "<tr><td>1</td></tr>",
            "<tr><td>3</td></tr>",
            "<tr><td>3</td></tr>",
            "<tr><td>0</td></tr>",
            "<tr><td>31</td></tr>",
            "<tr><td>3</td></tr>",
            "<tr><td>0</td></tr>",
            "<tr><td>0</td></tr>",
            "<tr><td>0</td></tr>",
            "<tr><td>3</td></tr>",
            "<tr><td>0</td></tr>",
            "<tr><td>NULL</td></tr>",
            "<tr><td>3</td></tr>",
            "<tr><td>16</td></tr>",
            "<tr><td>13</td></tr>",
            "<tr><td>5</td></tr>",
            "<tr><td>12</td></tr>",
            "<tr><td>8</td></tr>",
            "<tr><td>6</td></tr>",
            "<tr><td>3</td></tr>",
            "<tr><td>3</td></tr>",
            "<tr><td>5</td></tr>",
            "<tr><td>5</td></tr>",
            "<tr><td>0</td></tr>",
            "<tr><td>4</td></tr>",
            "<tr><td>9</td></tr>",
            "<tr><td>2</td></tr>",
            "<tr><td>0</td></tr>",
            "<tr><td>12</td></tr>",
            "<tr><td>75</td></tr>",
            "<tr><td>40</td></tr>",
            "<tr><td>3</td></tr>",
            "<tr><td>18</td></tr>",
            "<tr><td>18</td></tr>",
            "<tr><td>0</td></tr>",
            "<tr><td>0</td></tr>",
            "<tr><td>1</td></tr>",
            "<tr><td>1</td></tr>",
            "<tr><td>3</td></tr>",
            "<tr><td>21</td></tr>",
            "<tr><td>18</td></tr>",
            "<tr><td>2</td></tr>",
            "<tr><td>0</td></tr>",
            "<tr><td>0</td></tr>",
            "<tr><td>0</td></tr>",
            "<tr><td>0</td></tr>",
            "<tr><td>0</td></tr>",
            "<tr><td>0</td></tr>",
            "<tr><td>0</td></tr>",
            "<tr><td>2</td></tr>",
            "<tr><td>NULL</td></tr>",
            "<tr><td>0</td></tr>",
            "<tr><td>10</td></tr>",
            "<tr><td>0</td></tr>",
            "<tr><td>0</td></tr>",
            "<tr><td>1</td></tr>",
            "<tr><td>11</td></tr>",
            "<tr><td>12</td></tr>",
            "<tr><td>7</td></tr>",
            "<tr><td>15</td></tr>",
            "<tr><td>245</td></tr>",
            "<tr><td>NULL</td></tr>",
            "<tr><td>0</td></tr>",
            "<tr><td>1</td></tr>",
            "<tr><td>2</td></tr>",
            "<tr><td>12</td></tr>",
            "<tr><td>2</td></tr>",
            "<tr><td>1</td></tr>",
            "<tr><td>5</td></tr>",
            "<tr><td>3</td></tr>",
            "<tr><td>15</td></tr>",
            "<tr><td>220</td></tr>",
            "<tr><td>NULL</td></tr>",
            "<tr><td>NULL</td></tr>",
            "<tr><td>4</td></tr>",
            "<tr><td>10</td></tr>",
            "<tr><td>0</td></tr>",
            "<tr><td>1</td></tr>",
            "<tr><td>50</td></tr>",
            "<tr><td>50</td></tr>",
            "<tr><td>7</td></tr>",
            "<tr><td>0</td></tr>",
            "<tr><td>19</td></tr>",
            "<tr><td>19</td></tr>",
            "<tr><td>NULL</td></tr>",
            "<tr><td>0</td></tr>",
            "<tr><td>8</td></tr>",
            "<tr><td>5</td></tr>",
            "<tr><td>0</td></tr>",
            "<tr><td>13</td></tr>",
            "<tr><td>11</td></tr>",
            "<tr><td>6</td></tr>",
            "<tr><td>NULL</td></tr>",
            "<tr><td>6</td></tr>",
            "<tr><td>NULL</td></tr>",
            "<tr><td>11</td></tr>",
            "<tr><td>0</td></tr>",
            "<tr><td>1</td></tr>",
            "<tr><td>3</td></tr>",
            "<tr><td>1</td></tr>",
            "<tr><td>5</td></tr>",
            "<tr><td>3</td></tr>",
            "<tr><td>0</td></tr>",
            "<tr><td>0</td></tr>",
            "<tr><td>NULL</td></tr>",
            "<tr><td>NULL</td></tr>",
            "<tr><td>4</td></tr>",
            "<tr><td>0</td></tr>",
            "<tr><td>20</td></tr>",
            "<tr><td>NULL</td></tr>",
            "<tr><td>27</td></tr>",
            "<tr><td>27</td></tr>",
            "<tr><td>30</td></tr>",
            "<tr><td>9</td></tr>",
            "<tr><td>0</td></tr>",
            "<tr><td>3</td></tr>",
            "<tr><td>NULL</td></tr>",
            "<tr><td>3</td></tr>",
            "<tr><td>1</td></tr>",
            "<tr><td>1</td></tr>",
            "<tr><td>1</td></tr>",
            "<tr><td>1</td></tr>",
            "<tr><td>3</td></tr>",
            "<tr><td>1</td></tr>",
            "<tr><td>0</td></tr>",
            "<tr><td>1</td></tr>",
            "<tr><td>1</td></tr>",
            "<tr><td>1</td></tr>",
            "<tr><td>3</td></tr>",
            "<tr><td>3</td></tr>",
            "<tr><td>24</td></tr>",
            "<tr><td>0</td></tr>",
            "<tr><td>9</td></tr>",
            "<tr><td>7</td></tr>",
            "<tr><td>13</td></tr>",
            "<tr><td>2</td></tr>",
            "<tr><td>11</td></tr>",
            "<tr><td>6</td></tr>",
            "<tr><td>6</td></tr>",
            "<tr><td>5</td></tr>",
            "<tr><td>6</td></tr>",
            "<tr><td>12</td></tr>",
            "<tr><td>1</td></tr>",
            "<tr><td>210</td></tr>",
            "<tr><td>42</td></tr>",
            "<tr><td>0</td></tr>",
            "<tr><td>4</td></tr>",
            "<tr><td>9</td></tr>",
            "<tr><td>9</td></tr>",
            "<tr><td>6</td></tr>",
            "<tr><td>4</td></tr>",
            "<tr><td>0</td></tr>",
            "<tr><td>0</td></tr>",
            "<tr><td>0</td></tr>",
            "<tr><td>0</td></tr>",
            "<tr><td>0</td></tr>",
            "<tr><td>0</td></tr>",
            "<tr><td>11</td></tr>",
            "<tr><td>3</td></tr>",
            "<tr><td>3</td></tr>",
            "<tr><td>3</td></tr>",
            "<tr><td>2</td></tr>",
            "<tr><td>6</td></tr>",
            "<tr><td>0</td></tr>",
            "<tr><td>82</td></tr>",
            "<tr><td>4</td></tr>",
            "<tr><td>0</td></tr>",
            "<tr><td>0</td></tr>",
            "<tr><td>NULL</td></tr>",
            "<tr><td>21</td></tr>",
            "<tr><td>39</td></tr>",
            "<tr><td>NULL</td></tr>",
            "<tr><td>5</td></tr>",
            "<tr><td>198</td></tr>",
            "<tr><td>1</td></tr>",
            "<tr><td>0</td></tr>",
            "<tr><td>0</td></tr>",
            "<tr><td>0</td></tr>",
            "<tr><td>52</td></tr>",
            "<tr><td>181</td></tr>",
            "<tr><td>67</td></tr>",
            "<tr><td>12</td></tr>",
            "<tr><td>10</td></tr>",
            "<tr><td>11</td></tr>",
            "<tr><td>13</td></tr>",
            "<tr><td>23</td></tr>",
            "<tr><td>1</td></tr>",
            "<tr><td>12</td></tr>",
            "<tr><td>3</td></tr>",
            "<tr><td>0</td></tr>",
            "<tr><td>0</td></tr>",
            "<tr><td>0</td></tr>",
            "<tr><td>0</td></tr>",
            "<tr><td>3</td></tr>",
            "<tr><td>3</td></tr>",
            "<tr><td>7</td></tr>",
            "<tr><td>0</td></tr>",
            "<tr><td>3</td></tr>",
            "<tr><td>NULL</td></tr>",
            "<tr><td>0</td></tr>",
            "<tr><td>0</td></tr>",
            "<tr><td>4</td></tr>",
            "<tr><td>0</td></tr>",
            "<tr><td>0</td></tr>",
            "<tr><td>0</td></tr>",
            "<tr><td>0</td></tr>",
            "<tr><td>0</td></tr>",
            "<tr><td>0</td></tr>",
            "<tr><td>6</td></tr>",
            "<tr><td>NULL</td></tr>",
            "<tr><td>3</td></tr>",
            "<tr><td>3</td></tr>",
            "<tr><td>0</td></tr>",
            "<tr><td>9</td></tr>",
            "<tr><td>3</td></tr>",
            "<tr><td>10</td></tr>",
            "<tr><td>4</td></tr>",
            "<tr><td>30</td></tr>",
            "<tr><td>22</td></tr>",
            "<tr><td>22</td></tr>",
            "<tr><td>22</td></tr>",
            "<tr><td>9</td></tr>",
            "<tr><td>97</td></tr>",
            "<tr><td>30</td></tr>",
            "<tr><td>0</td></tr>",
            "<tr><td>0</td></tr>",
            "<tr><td>NULL</td></tr>",
            "<tr><td>NULL</td></tr>",
            "<tr><td>8</td></tr>",
            "<tr><td>0</td></tr>",
            "<tr><td>0</td></tr>",
            "<tr><td>23</td></tr>",
            "<tr><td>0</td></tr>",
            "<tr><td>NULL</td></tr>",
            "<tr><td>0</td></tr>",
            "<tr><td>NULL</td></tr>",
            "<tr><td>2</td></tr>",
            "<tr><td>4</td></tr>",
            "<tr><td>2</td></tr>",
            "<tr><td>3</td></tr>",
            "<tr><td>20</td></tr>",
            "<tr><td>0</td></tr>",
            "<tr><td>0</td></tr>",
            "<tr><td>3</td></tr>",
            "<tr><td>7</td></tr>",
            "<tr><td>8</td></tr>",
            "<tr><td>8</td></tr>",
            "<tr><td>NULL</td></tr>",
            "<tr><td>NULL</td></tr>",
            "<tr><td>4</td></tr>",
            "<tr><td>0</td></tr>",
            "<tr><td>8</td></tr>",
            "<tr><td>6</td></tr>",
            "<tr><td>0</td></tr>",
            "<tr><td>3</td></tr>",
            "<tr><td>18</td></tr>",
            "<tr><td>9</td></tr>",
            "<tr><td>34</td></tr>",
            "<tr><td>NULL</td></tr>",
            "<tr><td>NULL</td></tr>",
            "<tr><td>333</td></tr>",
            "<tr><td>9</td></tr>",
            "<tr><td>2</td></tr>",
            "<tr><td>4</td></tr>",
            "<tr><td>1</td></tr>",
            "<tr><td>3</td></tr>",
            "<tr><td>0</td></tr>",
            "<tr><td>0</td></tr>",
            "<tr><td>1</td></tr>",
            "<tr><td>NULL</td></tr>",
            "<tr><td>0</td></tr>",
            "<tr><td>NULL</td></tr>",
            "<tr><td>6</td></tr>",
            "<tr><td>0</td></tr>",
            "<tr><td>0</td></tr>",
            "<tr><td>NULL</td></tr>",
            "<tr><td>NULL</td></tr>",
            "<tr><td>0</td></tr>",
            "<tr><td>0</td></tr>",
            "<tr><td>0</td></tr>",
            "<tr><td>3</td></tr>",
            "<tr><td>0</td></tr>",
            "<tr><td>0</td></tr>",
            "<tr><td>0</td></tr>",
            "<tr><td>0</td></tr>",
            "<tr><td>3</td></tr>",
            "<tr><td>0</td></tr>",
            "<tr><td>3</td></tr>",
            "<tr><td>5</td></tr>",
            "<tr><td>17</td></tr>",
            "<tr><td>0</td></tr>",
            "<tr><td>1</td></tr>",
            "<tr><td>24</td></tr>",
            "<tr><td>0</td></tr>",
            "<tr><td>6</td></tr>",
            "<tr><td>0</td></tr>",
            "<tr><td>0</td></tr>",
            "<tr><td>1</td></tr>",
            "<tr><td>2</td></tr>",
            "<tr><td>6</td></tr>",
            "<tr><td>4</td></tr>",
            "<tr><td>15</td></tr>",
            "<tr><td>12</td></tr>",
            "<tr><td>11</td></tr>",
            "<tr><td>6</td></tr>",
            "<tr><td>8</td></tr>",
            "<tr><td>1</td></tr>",
            "<tr><td>1</td></tr>",
            "<tr><td>3</td></tr>",
            "<tr><td>1</td></tr>",
            "<tr><td>3</td></tr>",
            "<tr><td>1</td></tr>",
            "<tr><td>0</td></tr>",
            "<tr><td>3</td></tr>",
            "<tr><td>6</td></tr>",
            "<tr><td>0</td></tr>",
            "<tr><td>1</td></tr>",
            "<tr><td>87</td></tr>",
            "<tr><td>93</td></tr>",
            "<tr><td>8</td></tr>",
            "<tr><td>NULL</td></tr>",
            "<tr><td>5</td></tr>",
            "<tr><td>6</td></tr>",
            "<tr><td>2</td></tr>",
            "<tr><td>1</td></tr>",
            "<tr><td>NULL</td></tr>",
            "<tr><td>0</td></tr>",
            "<tr><td>NULL</td></tr>",
            "<tr><td>2</td></tr>",
            "<tr><td>1</td></tr>",
            "<tr><td>NULL</td></tr>",
            "<tr><td>3</td></tr>",
            "<tr><td>3</td></tr>",
            "<tr><td>28</td></tr>",
            "<tr><td>4</td></tr>",
            "<tr><td>32</td></tr>",
            "<tr><td>NULL</td></tr>",
            "<tr><td>NULL</td></tr>",
            "<tr><td>3</td></tr>",
            "<tr><td>16</td></tr>",
            "<tr><td>6</td></tr>",
            "<tr><td>3</td></tr>",
            "<tr><td>10</td></tr>",
            "<tr><td>10</td></tr>",
            "<tr><td>15</td></tr>",
            "<tr><td>15</td></tr>",
            "<tr><td>15</td></tr>",
            "<tr><td>15</td></tr>",
            "<tr><td>15</td></tr>",
            "<tr><td>57</td></tr>",
            "<tr><td>0</td></tr>",
            "<tr><td>0</td></tr>",
            "<tr><td>0</td></tr>",
            "<tr><td>0</td></tr>",
            "<tr><td>0</td></tr>",
            "<tr><td>3</td></tr>",
            "<tr><td>0</td></tr>",
            "<tr><td>3</td></tr>",
            "<tr><td>0</td></tr>",
            "<tr><td>0</td></tr>",
            "<tr><td>0</td></tr>",
            "<tr><td>1</td></tr>",
            "<tr><td>NULL</td></tr>",
            "<tr><td>13</td></tr>",
            "<tr><td>0</td></tr>",
            "<tr><td>0</td></tr>",
            "<tr><td>3</td></tr>",
            "<tr><td>3</td></tr>",
            "<tr><td>1</td></tr>",
            "<tr><td>4</td></tr>",
            "<tr><td>1</td></tr>",
            "<tr><td>4</td></tr>",
            "<tr><td>1</td></tr>",
            "<tr><td>3</td></tr>",
            "<tr><td>38</td></tr>",
            "<tr><td>3</td></tr>",
            "<tr><td>12</td></tr>",
            "<tr><td>11</td></tr>",
            "<tr><td>NULL</td></tr>",
            "<tr><td>0</td></tr>",
            "<tr><td>3</td></tr>",
            "<tr><td>3</td></tr>",
            "<tr><td>NULL</td></tr>",
            "<tr><td>560</td></tr>",
            "<tr><td>12</td></tr>",
            "<tr><td>20</td></tr>",
            "<tr><td>0</td></tr>",
            "<tr><td>3</td></tr>",
            "<tr><td>15</td></tr>",
            "<tr><td>9</td></tr>",
            "<tr><td>NULL</td></tr>",
            "<tr><td>93</td></tr>",
            "<tr><td>73</td></tr>",
            "<tr><td>0</td></tr>",
            "<tr><td>0</td></tr>",
            "<tr><td>2</td></tr>",
            "<tr><td>11</td></tr>",
            "<tr><td>0</td></tr>",
            "<tr><td>6</td></tr>",
            "<tr><td>0</td></tr>",
            "<tr><td>0</td></tr>",
            "<tr><td>6</td></tr>",
            "<tr><td>9</td></tr>",
            "<tr><td>9</td></tr>",
            "<tr><td>1</td></tr>",
            "<tr><td>0</td></tr>",
            "<tr><td>16</td></tr>",
            "<tr><td>3</td></tr>",
            "<tr><td>0</td></tr>",
            "<tr><td>0</td></tr>",
            "<tr><td>0</td></tr>",
            "<tr><td>4</td></tr>",
            "<tr><td>2</td></tr>",
            "<tr><td>0</td></tr>",
            "<tr><td>0</td></tr>",
            "<tr><td>6</td></tr>",
            "<tr><td>4</td></tr>",
            "<tr><td>NULL</td></tr>",
            "<tr><td>20</td></tr>",
            "<tr><td>6</td></tr>",
            "<tr><td>15</td></tr>",
            "<tr><td>NULL</td></tr>",
            "<tr><td>0</td></tr>",
            "<tr><td>1</td></tr>",
            "<tr><td>0</td></tr>",
            "<tr><td>6</td></tr>",
            "<tr><td>11</td></tr>",
            "<tr><td>9</td></tr>",
            "<tr><td>14</td></tr>",
            "<tr><td>13</td></tr>",
            "<tr><td>15</td></tr>",
            "<tr><td>62</td></tr>",
            "<tr><td>1</td></tr>",
            "<tr><td>0</td></tr>",
            "<tr><td>2</td></tr>",
            "<tr><td>3</td></tr>",
            "<tr><td>NULL</td></tr>",
            "<tr><td>4</td></tr>",
            "<tr><td>0</td></tr>",
            "<tr><td>NULL</td></tr>",
            "<tr><td>3</td></tr>",
            "<tr><td>27</td></tr>",
            "<tr><td>28</td></tr>",
            "<tr><td>0</td></tr>",
            "<tr><td>3</td></tr>",
            "<tr><td>2</td></tr>",
            "<tr><td>3</td></tr>",
            "<tr><td>5</td></tr>",
            "<tr><td>1</td></tr>",
            "<tr><td>0</td></tr>",
            "<tr><td>1</td></tr>",
            "<tr><td>0</td></tr>",
            "<tr><td>7</td></tr>",
            "<tr><td>3</td></tr>",
            "<tr><td>13</td></tr>",
            "<tr><td>5</td></tr>",
            "<tr><td>4</td></tr>",
            "<tr><td>3</td></tr>",
            "<tr><td>6</td></tr>",
            "<tr><td>NULL</td></tr>",
            "<tr><td>26</td></tr>",
            "<tr><td>0</td></tr>",
            "<tr><td>8</td></tr>",
            "<tr><td>6</td></tr>",
            "<tr><td>0</td></tr>",
            "<tr><td>10</td></tr>",
            "<tr><td>25</td></tr>",
            "<tr><td>0</td></tr>",
            "<tr><td>6</td></tr>",
            "<tr><td>3</td></tr>",
            "<tr><td>NULL</td></tr>",
            "<tr><td>3</td></tr>",
            "<tr><td>3</td></tr>",
            "<tr><td>0</td></tr>",
            "<tr><td>1</td></tr>",
            "<tr><td>351</td></tr>",
            "<tr><td>9</td></tr>",
            "<tr><td>7</td></tr>",
            "<tr><td>38</td></tr>",
            "<tr><td>0</td></tr>",
            "<tr><td>0</td></tr>",
            "<tr><td>3</td></tr>",
            "<tr><td>2</td></tr>",
            "<tr><td>0</td></tr>",
            "<tr><td>0</td></tr>",
            "<tr><td>0</td></tr>",
            "<tr><td>0</td></tr>",
            "<tr><td>0</td></tr>",
            "<tr><td>0</td></tr>",
            "<tr><td>4</td></tr>",
            "<tr><td>0</td></tr>",
            "<tr><td>3</td></tr>",
            "<tr><td>2</td></tr>",
            "<tr><td>6</td></tr>",
            "<tr><td>4</td></tr>",
            "<tr><td>0</td></tr>",
            "<tr><td>8</td></tr>",
            "<tr><td>8</td></tr>",
            "<tr><td>0</td></tr>",
            "<tr><td>3</td></tr>",
            "<tr><td>1</td></tr>",
            "<tr><td>0</td></tr>",
            "<tr><td>NULL</td></tr>",
            "<tr><td>0</td></tr>",
            "<tr><td>0</td></tr>",
            "<tr><td>0</td></tr>",
            "<tr><td>8</td></tr>",
            "<tr><td>3</td></tr>",
            "<tr><td>14</td></tr>",
            "<tr><td>9</td></tr>",
            "<tr><td>10</td></tr>",
            "<tr><td>0</td></tr>",
            "<tr><td>0</td></tr>",
            "<tr><td>8</td></tr>",
            "<tr><td>4</td></tr>",
            "<tr><td>75</td></tr>",
            "<tr><td>10</td></tr>",
            "<tr><td>4</td></tr>",
            "<tr><td>9</td></tr>",
            "<tr><td>10</td></tr>",
            "<tr><td>13</td></tr>",
            "<tr><td>7</td></tr>",
            "<tr><td>0</td></tr>",
            "<tr><td>0</td></tr>",
            "<tr><td>0</td></tr>",
            "<tr><td>0</td></tr>",
            "<tr><td>6</td></tr>",
            "<tr><td>24</td></tr>",
            "<tr><td>6</td></tr>",
            "<tr><td>1</td></tr>",
            "<tr><td>5</td></tr>",
            "<tr><td>1</td></tr>",
            "<tr><td>0</td></tr>",
            "<tr><td>8</td></tr>",
            "<tr><td>0</td></tr>",
            "<tr><td>20</td></tr>",
            "<tr><td>0</td></tr>",
            "<tr><td>14</td></tr>",
            "<tr><td>NULL</td></tr>",
            "<tr><td>0</td></tr>",
            "<tr><td>0</td></tr>",
            "<tr><td>28</td></tr>",
            "<tr><td>3</td></tr>",
            "<tr><td>0</td></tr>",
            "<tr><td>1</td></tr>",
            "<tr><td>5</td></tr>",
            "<tr><td>NULL</td></tr>",
            "<tr><td>0</td></tr>",
            "<tr><td>0</td></tr>",
            "<tr><td>7</td></tr>",
            "<tr><td>0</td></tr>",
            "<tr><td>0</td></tr>",
            "<tr><td>0</td></tr>",
            "<tr><td>0</td></tr>",
            "<tr><td>45</td></tr>",
            "<tr><td>15</td></tr>",
            "<tr><td>9</td></tr>",
            "<tr><td>8</td></tr>",
            "<tr><td>3</td></tr>",
            "<tr><td>10</td></tr>",
            "<tr><td>NULL</td></tr>",
            "<tr><td>NULL</td></tr>",
            "<tr><td>3</td></tr>",
            "<tr><td>14</td></tr>",
            "<tr><td>6</td></tr>",
            "<tr><td>4</td></tr>",
            "<tr><td>12</td></tr>",
            "<tr><td>12</td></tr>",
            "<tr><td>6</td></tr>",
            "<tr><td>0</td></tr>",
            "<tr><td>5</td></tr>",
            "<tr><td>9</td></tr>",
            "<tr><td>4</td></tr>",
            "<tr><td>3</td></tr>",
            "<tr><td>0</td></tr>",
            "<tr><td>2</td></tr>",
            "<tr><td>8</td></tr>",
            "<tr><td>7</td></tr>",
            "<tr><td>2</td></tr>",
            "<tr><td>1</td></tr>",
            "<tr><td>0</td></tr>",
            "<tr><td>0</td></tr>",
            "<tr><td>6</td></tr>",
            "<tr><td>7</td></tr>",
            "<tr><td>9</td></tr>",
            "<tr><td>9</td></tr>",
            "<tr><td>0</td></tr>",
            "<tr><td>0</td></tr>",
            "<tr><td>10</td></tr>",
            "<tr><td>13</td></tr>",
            "<tr><td>36</td></tr>",
            "<tr><td>37</td></tr>",
            "<tr><td>3</td></tr>",
            "<tr><td>6</td></tr>",
            "<tr><td>0</td></tr>",
            "<tr><td>7</td></tr>",
            "<tr><td>NULL</td></tr>",
            "<tr><td>0</td></tr>",
            "<tr><td>0</td></tr>",
            "<tr><td>0</td></tr>",
            "<tr><td>0</td></tr>",
            "<tr><td>0</td></tr>",
            "<tr><td>0</td></tr>",
            "<tr><td>0</td></tr>",
            "<tr><td>0</td></tr>",
            "<tr><td>6</td></tr>",
            "<tr><td>1</td></tr>",
            "<tr><td>2</td></tr>",
            "<tr><td>9</td></tr>",
            "<tr><td>36</td></tr>",
            "<tr><td>0</td></tr>",
            "<tr><td>0</td></tr>",
            "<tr><td>0</td></tr>",
            "<tr><td>0</td></tr>",
            "<tr><td>0</td></tr>",
            "<tr><td>0</td></tr>",
            "<tr><td>3</td></tr>",
            "<tr><td>7</td></tr>",
            "<tr><td>8</td></tr>",
            "<tr><td>0</td></tr>",
            "<tr><td>0</td></tr>",
            "<tr><td>0</td></tr>",
            "<tr><td>0</td></tr>",
            "<tr><td>0</td></tr>",
            "<tr><td>0</td></tr>",
            "<tr><td>1</td></tr>",
            "<tr><td>0</td></tr>",
            "<tr><td>15</td></tr>",
            "<tr><td>0</td></tr>",
            "<tr><td>0</td></tr>",
            "<tr><td>3</td></tr>",
            "<tr><td>2</td></tr>",
            "<tr><td>6</td></tr>",
            "<tr><td>8</td></tr>",
            "<tr><td>27</td></tr>",
            "<tr><td>4</td></tr>",
            "<tr><td>8</td></tr>",
            "<tr><td>9</td></tr>",
            "<tr><td>0</td></tr>",
            "<tr><td>3</td></tr>",
            "<tr><td>6</td></tr>",
            "<tr><td>0</td></tr>",
            "<tr><td>12</td></tr>",
            "<tr><td>0</td></tr>",
            "<tr><td>4</td></tr>",
            "<tr><td>2</td></tr>",
            "<tr><td>0</td></tr>",
            "<tr><td>0</td></tr>",
            "<tr><td>3</td></tr>",
            "<tr><td>1</td></tr>",
            "<tr><td>80</td></tr>",
            "<tr><td>4</td></tr>",
            "<tr><td>3</td></tr>",
            "<tr><td>4</td></tr>",
            "<tr><td>NULL</td></tr>",
            "<tr><td>12</td></tr>",
            "<tr><td>0</td></tr>",
            "<tr><td>0</td></tr>",
            "<tr><td>2</td></tr>",
            "<tr><td>0</td></tr>",
            "<tr><td>0</td></tr>",
            "<tr><td>6</td></tr>",
            "<tr><td>6</td></tr>",
            "<tr><td>6</td></tr>",
            "<tr><td>5</td></tr>",
            "<tr><td>14</td></tr>",
            "<tr><td>NULL</td></tr>",
            "<tr><td>7</td></tr>",
            "<tr><td>9</td></tr>",
            "<tr><td>0</td></tr>",
            "<tr><td>0</td></tr>",
            "<tr><td>0</td></tr>",
            "<tr><td>0</td></tr>",
            "<tr><td>0</td></tr>",
            "<tr><td>0</td></tr>",
            "<tr><td>4</td></tr>",
            "<tr><td>1</td></tr>",
            "<tr><td>NULL</td></tr>",
            "<tr><td>4</td></tr>",
            "<tr><td>11</td></tr>",
            "<tr><td>8</td></tr>",
            "<tr><td>10</td></tr>",
            "<tr><td>7</td></tr>",
            "<tr><td>NULL</td></tr>",
            "<tr><td>3</td></tr>",
            "<tr><td>0</td></tr>",
            "<tr><td>NULL</td></tr>",
            "<tr><td>2</td></tr>",
            "<tr><td>NULL</td></tr>",
            "<tr><td>3</td></tr>",
            "<tr><td>17</td></tr>",
            "<tr><td>NULL</td></tr>",
            "<tr><td>7</td></tr>",
            "<tr><td>0</td></tr>",
            "<tr><td>2</td></tr>",
            "<tr><td>40</td></tr>",
            "<tr><td>86</td></tr>",
            "<tr><td>3</td></tr>",
            "<tr><td>1</td></tr>",
            "<tr><td>0</td></tr>",
            "<tr><td>0</td></tr>",
            "<tr><td>0</td></tr>",
            "<tr><td>NULL</td></tr>",
            "<tr><td>NULL</td></tr>",
            "<tr><td>0</td></tr>",
            "<tr><td>0</td></tr>",
            "<tr><td>0</td></tr>",
            "<tr><td>4</td></tr>",
            "<tr><td>3</td></tr>",
            "<tr><td>3</td></tr>",
            "<tr><td>NULL</td></tr>",
            "<tr><td>2</td></tr>",
            "<tr><td>3</td></tr>",
            "<tr><td>4</td></tr>",
            "<tr><td>3</td></tr>",
            "<tr><td>4</td></tr>",
            "<tr><td>0</td></tr>",
            "<tr><td>0</td></tr>",
            "<tr><td>5</td></tr>",
            "<tr><td>0</td></tr>",
            "<tr><td>0</td></tr>",
            "<tr><td>3</td></tr>",
            "<tr><td>NULL</td></tr>",
            "<tr><td>NULL</td></tr>",
            "<tr><td>0</td></tr>",
            "<tr><td>NULL</td></tr>",
            "<tr><td>4</td></tr>",
            "<tr><td>15</td></tr>",
            "<tr><td>4</td></tr>",
            "<tr><td>31</td></tr>",
            "<tr><td>0</td></tr>",
            "<tr><td>3</td></tr>",
            "<tr><td>NULL</td></tr>",
            "<tr><td>NULL</td></tr>",
            "<tr><td>0</td></tr>",
            "<tr><td>0</td></tr>",
            "<tr><td>0</td></tr>",
            "<tr><td>0</td></tr>",
            "<tr><td>4</td></tr>",
            "<tr><td>6</td></tr>",
            "<tr><td>NULL</td></tr>",
            "<tr><td>NULL</td></tr>",
            "<tr><td>3</td></tr>",
            "<tr><td>1</td></tr>",
            "<tr><td>1</td></tr>",
            "<tr><td>1</td></tr>",
            "<tr><td>6</td></tr>",
            "<tr><td>1</td></tr>",
            "<tr><td>0</td></tr>",
            "<tr><td>0</td></tr>",
            "<tr><td>7</td></tr>",
            "<tr><td>3</td></tr>",
            "<tr><td>5</td></tr>",
            "<tr><td>0</td></tr>",
            "<tr><td>1</td></tr>",
            "<tr><td>13</td></tr>",
            "<tr><td>1</td></tr>",
            "<tr><td>9</td></tr>",
            "<tr><td>0</td></tr>",
            "<tr><td>6</td></tr>",
            "<tr><td>9</td></tr>",
            "<tr><td>3</td></tr>",
            "<tr><td>2</td></tr>",
            "<tr><td>3</td></tr>",
            "<tr><td>12</td></tr>",
            "<tr><td>NULL</td></tr>",
            "<tr><td>NULL</td></tr>",
            "<tr><td>1</td></tr>",
            "<tr><td>3</td></tr>",
            "<tr><td>0</td></tr>",
            "<tr><td>0</td></tr>",
            "<tr><td>0</td></tr>",
            "<tr><td>4</td></tr>",
            "<tr><td>33</td></tr>",
            "<tr><td>12</td></tr>",
            "<tr><td>NULL</td></tr>",
            "<tr><td>NULL</td></tr>",
            "<tr><td>NULL</td></tr>",
            "<tr><td>NULL</td></tr>",
            "<tr><td>NULL</td></tr>",
            "<tr><td>NULL</td></tr>",
            "<tr><td>NULL</td></tr>",
            "<tr><td>NULL</td></tr>",
            "<tr><td>NULL</td></tr>",
            "<tr><td>NULL</td></tr>",
            "<tr><td>NULL</td></tr>",
            "<tr><td>1</td></tr>",
            "<tr><td>0</td></tr>",
            "<tr><td>0</td></tr>",
            "<tr><td>3</td></tr>",
            "<tr><td>12</td></tr>",
            "<tr><td>0</td></tr>",
            "<tr><td>0</td></tr>",
            "<tr><td>39</td></tr>",
            "<tr><td>5</td></tr>",
            "<tr><td>NULL</td></tr>",
            "<tr><td>3</td></tr>",
            "<tr><td>1</td></tr>",
            "<tr><td>1261</td></tr>",
            "<tr><td>NULL</td></tr>",
            "<tr><td>NULL</td></tr>",
            "<tr><td>NULL</td></tr>",
            "<tr><td>138</td></tr>",
            "<tr><td>0</td></tr>",
            "<tr><td>1</td></tr>",
            "<tr><td>0</td></tr>",
            "<tr><td>0</td></tr>",
            "<tr><td>0</td></tr>",
            "<tr><td>0</td></tr>",
            "<tr><td>0</td></tr>",
            "<tr><td>0</td></tr>",
            "<tr><td>0</td></tr>",
            "<tr><td>0</td></tr>",
            "<tr><td>6</td></tr>",
            "<tr><td>0</td></tr>",
            "<tr><td>0</td></tr>",
            "<tr><td>0</td></tr>",
            "<tr><td>1</td></tr>",
            "<tr><td>3</td></tr>",
            "<tr><td>28</td></tr>",
            "<tr><td>13</td></tr>",
            "<tr><td>12</td></tr>",
            "<tr><td>NULL</td></tr>",
            "<tr><td>0</td></tr>",
            "<tr><td>6</td></tr>",
            "<tr><td>NULL</td></tr>",
            "<tr><td>8</td></tr>",
            "<tr><td>5</td></tr>",
            "<tr><td>2</td></tr>",
            "<tr><td>15</td></tr>",
            "<tr><td>15</td></tr>",
            "<tr><td>4</td></tr>",
            "<tr><td>6</td></tr>",
            "<tr><td>17</td></tr>",
            "<tr><td>6</td></tr>",
            "<tr><td>8</td></tr>",
            "<tr><td>8</td></tr>",
            "<tr><td>1</td></tr>",
            "<tr><td>2</td></tr>",
            "<tr><td>12</td></tr>",
            "<tr><td>1</td></tr>",
            "<tr><td>0</td></tr>",
            "<tr><td>9</td></tr>",
            "<tr><td>0</td></tr>",
            "<tr><td>0</td></tr>",
            "<tr><td>0</td></tr>",
            "<tr><td>1</td></tr>",
            "<tr><td>4</td></tr>",
            "<tr><td>0</td></tr>",
            "<tr><td>22</td></tr>",
            "<tr><td>0</td></tr>",
            "<tr><td>0</td></tr>",
            "<tr><td>3</td></tr>",
            "<tr><td>0</td></tr>",
            "<tr><td>NULL</td></tr>",
            "<tr><td>0</td></tr>",
            "<tr><td>0</td></tr>",
            "<tr><td>5</td></tr>",
            "<tr><td>6</td></tr>",
            "<tr><td>1</td></tr>",
            "<tr><td>1</td></tr>",
            "<tr><td>0</td></tr>",
            "<tr><td>0</td></tr>",
            "<tr><td>18</td></tr>",
            "<tr><td>69</td></tr>",
            "<tr><td>0</td></tr>",
            "<tr><td>0</td></tr>",
            "<tr><td>0</td></tr>",
            "<tr><td>0</td></tr>",
            "<tr><td>NULL</td></tr>",
            "<tr><td>NULL</td></tr>",
            "<tr><td>34</td></tr>",
            "<tr><td>4</td></tr>",
            "<tr><td>0</td></tr>",
            "<tr><td>3</td></tr>",
            "<tr><td>0</td></tr>",
            "<tr><td>19</td></tr>",
            "<tr><td>10</td></tr>",
            "<tr><td>0</td></tr>",
            "<tr><td>0</td></tr>",
            "<tr><td>3</td></tr>",
            "<tr><td>6</td></tr>",
            "<tr><td>3</td></tr>",
            "<tr><td>3</td></tr>",
            "<tr><td>2</td></tr>",
            "<tr><td>3</td></tr>",
            "<tr><td>0</td></tr>",
            "<tr><td>4</td></tr>",
            "<tr><td>1</td></tr>",
            "<tr><td>0</td></tr>",
            "<tr><td>0</td></tr>",
            "<tr><td>0</td></tr>",
            "<tr><td>0</td></tr>",
            "<tr><td>0</td></tr>",
            "<tr><td>0</td></tr>",
            "<tr><td>0</td></tr>",
            "<tr><td>0</td></tr>",
            "<tr><td>NULL</td></tr>",
            "<tr><td>4</td></tr>",
            "<tr><td>0</td></tr>",
            "<tr><td>0</td></tr>",
            "<tr><td>0</td></tr>",
            "<tr><td>6</td></tr>",
            "<tr><td>3</td></tr>",
            "<tr><td>NULL</td></tr>",
            "<tr><td>10</td></tr>",
            "<tr><td>3</td></tr>",
            "<tr><td>0</td></tr>",
            "<tr><td>3</td></tr>",
            "<tr><td>NULL</td></tr>",
            "<tr><td>0</td></tr>",
            "<tr><td>NULL</td></tr>",
            "<tr><td>2</td></tr>",
            "<tr><td>3</td></tr>",
            "<tr><td>0</td></tr>",
            "<tr><td>0</td></tr>",
            "<tr><td>0</td></tr>",
            "<tr><td>0</td></tr>",
            "<tr><td>9</td></tr>",
            "<tr><td>NULL</td></tr>",
            "<tr><td>286</td></tr>",
            "<tr><td>4</td></tr>",
            "<tr><td>0</td></tr>",
            "<tr><td>13</td></tr>",
            "<tr><td>3</td></tr>",
            "<tr><td>7</td></tr>",
            "<tr><td>3</td></tr>",
            "<tr><td>10</td></tr>",
            "<tr><td>0</td></tr>",
            "<tr><td>2</td></tr>",
            "<tr><td>4</td></tr>",
            "<tr><td>4</td></tr>",
            "<tr><td>0</td></tr>",
            "<tr><td>14</td></tr>",
            "<tr><td>6</td></tr>",
            "<tr><td>1</td></tr>",
            "<tr><td>0</td></tr>",
            "<tr><td>4</td></tr>",
            "<tr><td>48</td></tr>",
            "<tr><td>9</td></tr>",
            "<tr><td>0</td></tr>",
            "<tr><td>0</td></tr>",
            "<tr><td>3</td></tr>",
            "<tr><td>0</td></tr>",
            "<tr><td>NULL</td></tr>",
            "<tr><td>0</td></tr>",
            "<tr><td>4</td></tr>",
            "<tr><td>0</td></tr>",
            "<tr><td>0</td></tr>",
            "<tr><td>3</td></tr>",
            "<tr><td>0</td></tr>",
            "<tr><td>0</td></tr>",
            "<tr><td>13</td></tr>",
            "<tr><td>1</td></tr>",
            "<tr><td>0</td></tr>",
            "<tr><td>0</td></tr>",
            "<tr><td>3</td></tr>",
            "<tr><td>9</td></tr>",
            "<tr><td>1</td></tr>",
            "<tr><td>4</td></tr>",
            "<tr><td>0</td></tr>",
            "<tr><td>38</td></tr>",
            "<tr><td>NULL</td></tr>",
            "<tr><td>7</td></tr>",
            "<tr><td>3</td></tr>",
            "<tr><td>10</td></tr>",
            "<tr><td>17</td></tr>",
            "<tr><td>25</td></tr>",
            "<tr><td>26</td></tr>",
            "<tr><td>11</td></tr>",
            "<tr><td>NULL</td></tr>",
            "<tr><td>3</td></tr>",
            "<tr><td>24</td></tr>",
            "<tr><td>NULL</td></tr>",
            "<tr><td>13</td></tr>",
            "<tr><td>5</td></tr>",
            "<tr><td>1</td></tr>",
            "<tr><td>0</td></tr>",
            "<tr><td>16</td></tr>",
            "<tr><td>4</td></tr>",
            "<tr><td>14</td></tr>",
            "<tr><td>6</td></tr>",
            "<tr><td>4</td></tr>",
            "<tr><td>3</td></tr>",
            "<tr><td>NULL</td></tr>",
            "<tr><td>0</td></tr>",
            "<tr><td>0</td></tr>",
            "<tr><td>3</td></tr>",
            "<tr><td>0</td></tr>",
            "<tr><td>0</td></tr>",
            "<tr><td>0</td></tr>",
            "<tr><td>0</td></tr>",
            "<tr><td>NULL</td></tr>",
            "<tr><td>8</td></tr>",
            "<tr><td>NULL</td></tr>",
            "<tr><td>0</td></tr>",
            "<tr><td>26</td></tr>",
            "<tr><td>13</td></tr>",
            "<tr><td>3</td></tr>",
            "<tr><td>4</td></tr>",
            "<tr><td>1</td></tr>",
            "<tr><td>3</td></tr>",
            "<tr><td>4</td></tr>",
            "<tr><td>45</td></tr>",
            "<tr><td>6</td></tr>",
            "<tr><td>3</td></tr>",
            "<tr><td>7</td></tr>",
            "<tr><td>15</td></tr>",
            "<tr><td>3</td></tr>",
            "<tr><td>3</td></tr>",
            "<tr><td>NULL</td></tr>",
            "<tr><td>0</td></tr>",
            "<tr><td>0</td></tr>",
            "<tr><td>3</td></tr>",
            "<tr><td>0</td></tr>",
            "<tr><td>0</td></tr>",
            "<tr><td>0</td></tr>",
            "<tr><td>10</td></tr>",
            "<tr><td>NULL</td></tr>",
            "<tr><td>3</td></tr>",
            "<tr><td>15</td></tr>",
            "<tr><td>10</td></tr>",
            "<tr><td>0</td></tr>",
            "<tr><td>0</td></tr>",
            "<tr><td>NULL</td></tr>",
            "<tr><td>3</td></tr>",
            "<tr><td>2</td></tr>",
            "<tr><td>1</td></tr>",
            "<tr><td>0</td></tr>",
            "<tr><td>0</td></tr>",
            "<tr><td>0</td></tr>",
            "<tr><td>0</td></tr>",
            "<tr><td>NULL</td></tr>",
            "<tr><td>2</td></tr>",
            "<tr><td>5</td></tr>",
            "<tr><td>6</td></tr>",
            "<tr><td>3</td></tr>",
            "<tr><td>6</td></tr>",
            "<tr><td>2</td></tr>",
            "<tr><td>4</td></tr>",
            "<tr><td>3</td></tr>",
            "<tr><td>9</td></tr>",
            "<tr><td>17</td></tr>",
            "<tr><td>0</td></tr>",
            "<tr><td>5</td></tr>",
            "<tr><td>NULL</td></tr>",
            "<tr><td>0</td></tr>",
            "<tr><td>51</td></tr>",
            "<tr><td>14</td></tr>",
            "<tr><td>6</td></tr>",
            "<tr><td>5</td></tr>",
            "<tr><td>27</td></tr>",
            "<tr><td>15</td></tr>",
            "<tr><td>5</td></tr>",
            "<tr><td>7</td></tr>",
            "<tr><td>3</td></tr>",
            "<tr><td>6</td></tr>",
            "<tr><td>0</td></tr>",
            "<tr><td>0</td></tr>",
            "<tr><td>0</td></tr>",
            "<tr><td>3</td></tr>",
            "<tr><td>1</td></tr>",
            "<tr><td>4</td></tr>",
            "<tr><td>3</td></tr>",
            "<tr><td>0</td></tr>",
            "<tr><td>3</td></tr>",
            "<tr><td>4</td></tr>",
            "<tr><td>3</td></tr>",
            "<tr><td>3</td></tr>",
            "<tr><td>NULL</td></tr>",
            "<tr><td>0</td></tr>",
            "<tr><td>0</td></tr>",
            "<tr><td>0</td></tr>",
            "<tr><td>2</td></tr>",
            "<tr><td>3</td></tr>",
            "<tr><td>39</td></tr>",
            "<tr><td>3</td></tr>",
            "<tr><td>17</td></tr>",
            "<tr><td>15</td></tr>",
            "<tr><td>15</td></tr>",
            "<tr><td>6</td></tr>",
            "<tr><td>3</td></tr>",
            "<tr><td>3</td></tr>",
            "<tr><td>9</td></tr>",
            "<tr><td>NULL</td></tr>",
            "<tr><td>3</td></tr>",
            "<tr><td>13</td></tr>",
            "<tr><td>0</td></tr>",
            "<tr><td>55</td></tr>",
            "<tr><td>4</td></tr>",
            "<tr><td>0</td></tr>",
            "<tr><td>6</td></tr>",
            "<tr><td>3</td></tr>",
            "<tr><td>7</td></tr>",
            "<tr><td>21</td></tr>",
            "<tr><td>7</td></tr>",
            "<tr><td>36</td></tr>",
            "<tr><td>24</td></tr>",
            "<tr><td>13</td></tr>",
            "<tr><td>5</td></tr>",
            "<tr><td>0</td></tr>",
            "<tr><td>7</td></tr>",
            "<tr><td>4</td></tr>",
            "<tr><td>0</td></tr>",
            "<tr><td>2</td></tr>",
            "<tr><td>0</td></tr>",
            "<tr><td>1</td></tr>",
            "<tr><td>10</td></tr>",
            "<tr><td>3</td></tr>",
            "<tr><td>0</td></tr>",
            "<tr><td>3</td></tr>",
            "<tr><td>3</td></tr>",
            "<tr><td>NULL</td></tr>",
            "<tr><td>0</td></tr>",
            "<tr><td>0</td></tr>",
            "<tr><td>3</td></tr>",
            "<tr><td>0</td></tr>",
            "<tr><td>0</td></tr>",
            "<tr><td>1</td></tr>",
            "<tr><td>NULL</td></tr>",
            "<tr><td>NULL</td></tr>",
            "<tr><td>NULL</td></tr>",
            "<tr><td>NULL</td></tr>",
            "<tr><td>NULL</td></tr>",
            "<tr><td>0</td></tr>",
            "<tr><td>0</td></tr>",
            "<tr><td>3</td></tr>",
            "<tr><td>0</td></tr>",
            "<tr><td>0</td></tr>",
            "<tr><td>0</td></tr>",
            "<tr><td>29</td></tr>",
            "<tr><td>12</td></tr>",
            "<tr><td>1</td></tr>",
            "<tr><td>NULL</td></tr>",
            "<tr><td>12</td></tr>",
            "<tr><td>NULL</td></tr>",
            "<tr><td>NULL</td></tr>",
            "<tr><td>NULL</td></tr>",
            "<tr><td>NULL</td></tr>",
            "<tr><td>6</td></tr>",
            "<tr><td>6</td></tr>",
            "<tr><td>0</td></tr>",
            "<tr><td>0</td></tr>",
            "<tr><td>NULL</td></tr>",
            "<tr><td>3</td></tr>",
            "<tr><td>0</td></tr>",
            "<tr><td>NULL</td></tr>",
            "<tr><td>2</td></tr>",
            "<tr><td>3</td></tr>",
            "<tr><td>18</td></tr>",
            "<tr><td>NULL</td></tr>",
            "<tr><td>4</td></tr>",
            "<tr><td>18</td></tr>",
            "<tr><td>3</td></tr>",
            "<tr><td>1</td></tr>",
            "<tr><td>1</td></tr>",
            "<tr><td>4</td></tr>",
            "<tr><td>4</td></tr>",
            "<tr><td>24</td></tr>",
            "<tr><td>75</td></tr>",
            "<tr><td>3</td></tr>",
            "<tr><td>10</td></tr>",
            "<tr><td>NULL</td></tr>",
            "<tr><td>9</td></tr>",
            "<tr><td>5</td></tr>",
            "<tr><td>0</td></tr>",
            "<tr><td>0</td></tr>",
            "<tr><td>0</td></tr>",
            "<tr><td>0</td></tr>",
            "<tr><td>0</td></tr>",
            "<tr><td>0</td></tr>",
            "<tr><td>4</td></tr>",
            "<tr><td>7</td></tr>",
            "<tr><td>6</td></tr>",
            "<tr><td>3</td></tr>",
            "<tr><td>NULL</td></tr>",
            "<tr><td>35</td></tr>",
            "<tr><td>0</td></tr>",
            "<tr><td>5</td></tr>",
            "<tr><td>3</td></tr>",
            "<tr><td>NULL</td></tr>",
            "<tr><td>0</td></tr>",
            "<tr><td>2</td></tr>",
            "<tr><td>0</td></tr>",
            "<tr><td>3</td></tr>",
            "<tr><td>2</td></tr>",
            "<tr><td>191</td></tr>",
            "<tr><td>188</td></tr>",
            "<tr><td>17</td></tr>",
            "<tr><td>4</td></tr>",
            "<tr><td>0</td></tr>",
            "<tr><td>3</td></tr>",
            "<tr><td>9</td></tr>",
            "<tr><td>10</td></tr>",
            "<tr><td>10</td></tr>",
            "<tr><td>8</td></tr>",
            "<tr><td>14</td></tr>",
            "<tr><td>28</td></tr>",
            "<tr><td>25</td></tr>",
            "<tr><td>0</td></tr>",
            "<tr><td>12</td></tr>",
            "<tr><td>40</td></tr>",
            "<tr><td>2</td></tr>",
            "<tr><td>1</td></tr>",
            "<tr><td>NULL</td></tr>",
            "<tr><td>4</td></tr>",
            "<tr><td>3</td></tr>",
            "<tr><td>0</td></tr>",
            "<tr><td>0</td></tr>",
            "<tr><td>NULL</td></tr>",
            "<tr><td>1</td></tr>",
            "<tr><td>4</td></tr>",
            "<tr><td>1</td></tr>",
            "<tr><td>0</td></tr>",
            "<tr><td>0</td></tr>",
            "<tr><td>4</td></tr>",
            "<tr><td>1</td></tr>",
            "<tr><td>0</td></tr>",
            "<tr><td>7</td></tr>",
            "<tr><td>40</td></tr>",
            "<tr><td>71</td></tr>",
            "<tr><td>37</td></tr>",
            "<tr><td>39</td></tr>",
            "<tr><td>83</td></tr>",
            "<tr><td>21</td></tr>",
            "<tr><td>496</td></tr>",
            "<tr><td>37</td></tr>",
            "<tr><td>6</td></tr>",
            "<tr><td>3</td></tr>",
            "<tr><td>NULL</td></tr>",
            "<tr><td>3</td></tr>",
            "<tr><td>30</td></tr>",
            "<tr><td>2</td></tr>",
            "<tr><td>78</td></tr>",
            "<tr><td>NULL</td></tr>",
            "<tr><td>18</td></tr>",
            "<tr><td>0</td></tr>",
            "<tr><td>0</td></tr>",
            "<tr><td>10</td></tr>",
            "<tr><td>3</td></tr>",
            "<tr><td>0</td></tr>",
            "<tr><td>0</td></tr>",
            "<tr><td>0</td></tr>",
            "<tr><td>0</td></tr>",
            "<tr><td>115</td></tr>",
            "<tr><td>9</td></tr>",
            "<tr><td>NULL</td></tr>",
            "<tr><td>0</td></tr>",
            "<tr><td>0</td></tr>",
            "<tr><td>0</td></tr>",
            "<tr><td>0</td></tr>",
            "<tr><td>0</td></tr>",
            "<tr><td>0</td></tr>",
            "<tr><td>NULL</td></tr>",
            "<tr><td>1</td></tr>",
            "<tr><td>NULL</td></tr>",
            "<tr><td>0</td></tr>",
            "<tr><td>7</td></tr>",
            "<tr><td>22</td></tr>",
            "<tr><td>NULL</td></tr>",
            "<tr><td>0</td></tr>",
            "<tr><td>6</td></tr>",
            "<tr><td>0</td></tr>",
            "<tr><td>NULL</td></tr>",
            "<tr><td>7</td></tr>",
            "<tr><td>24</td></tr>",
            "<tr><td>2</td></tr>",
            "<tr><td>4</td></tr>",
            "<tr><td>0</td></tr>",
            "<tr><td>0</td></tr>",
            "<tr><td>0</td></tr>",
            "<tr><td>0</td></tr>",
            "<tr><td>1</td></tr>",
            "<tr><td>4</td></tr>",
            "<tr><td>0</td></tr>",
            "<tr><td>0</td></tr>",
            "<tr><td>3</td></tr>",
            "<tr><td>5</td></tr>",
            "<tr><td>11</td></tr>",
            "<tr><td>3</td></tr>",
            "<tr><td>0</td></tr>",
            "<tr><td>12</td></tr>",
            "<tr><td>10</td></tr>",
            "<tr><td>64</td></tr>",
            "<tr><td>NULL</td></tr>",
            "<tr><td>16</td></tr>",
            "<tr><td>3</td></tr>",
            "<tr><td>4</td></tr>",
            "<tr><td>9</td></tr>",
            "<tr><td>9</td></tr>",
            "<tr><td>11</td></tr>",
            "<tr><td>11</td></tr>",
            "<tr><td>3</td></tr>",
            "<tr><td>9</td></tr>",
            "<tr><td>0</td></tr>",
            "<tr><td>11</td></tr>",
            "<tr><td>4</td></tr>",
            "<tr><td>9</td></tr>",
            "<tr><td>3</td></tr>",
            "<tr><td>NULL</td></tr>",
            "<tr><td>0</td></tr>",
            "<tr><td>6</td></tr>",
            "<tr><td>0</td></tr>",
            "<tr><td>0</td></tr>",
            "<tr><td>NULL</td></tr>",
            "<tr><td>NULL</td></tr>",
            "<tr><td>3</td></tr>",
            "<tr><td>7</td></tr>",
            "<tr><td>0</td></tr>",
            "<tr><td>0</td></tr>",
            "<tr><td>0</td></tr>",
            "<tr><td>6</td></tr>",
            "<tr><td>11</td></tr>",
            "<tr><td>3</td></tr>",
            "<tr><td>2</td></tr>",
            "<tr><td>12</td></tr>",
            "<tr><td>12</td></tr>",
            "<tr><td>NULL</td></tr>",
            "<tr><td>NULL</td></tr>",
            "<tr><td>0</td></tr>",
            "<tr><td>18</td></tr>",
            "<tr><td>7</td></tr>",
            "<tr><td>0</td></tr>",
            "<tr><td>0</td></tr>",
            "<tr><td>0</td></tr>",
            "<tr><td>9</td></tr>",
            "<tr><td>3</td></tr>",
            "<tr><td>0</td></tr>",
            "<tr><td>3</td></tr>",
            "<tr><td>11</td></tr>",
            "<tr><td>4</td></tr>",
            "<tr><td>0</td></tr>",
            "<tr><td>0</td></tr>",
            "<tr><td>11</td></tr>",
            "<tr><td>10</td></tr>",
            "<tr><td>13</td></tr>",
            "<tr><td>11</td></tr>",
            "<tr><td>8</td></tr>",
            "<tr><td>14</td></tr>",
            "<tr><td>4</td></tr>",
            "<tr><td>1</td></tr>",
            "<tr><td>0</td></tr>",
            "<tr><td>0</td></tr>",
            "<tr><td>0</td></tr>",
            "<tr><td>6</td></tr>",
            "<tr><td>6</td></tr>",
            "<tr><td>31</td></tr>",
            "<tr><td>0</td></tr>",
            "<tr><td>6</td></tr>",
            "<tr><td>6</td></tr>",
            "<tr><td>1</td></tr>",
            "<tr><td>3</td></tr>",
            "<tr><td>0</td></tr>",
            "<tr><td>1</td></tr>",
            "<tr><td>NULL</td></tr>",
            "<tr><td>2</td></tr>",
            "<tr><td>0</td></tr>",
            "<tr><td>87</td></tr>",
            "<tr><td>0</td></tr>",
            "<tr><td>3</td></tr>",
            "<tr><td>3</td></tr>",
            "<tr><td>0</td></tr>",
            "<tr><td>NULL</td></tr>",
            "<tr><td>3</td></tr>",
            "<tr><td>0</td></tr>",
            "<tr><td>9</td></tr>",
            "<tr><td>0</td></tr>",
            "<tr><td>0</td></tr>",
            "<tr><td>0</td></tr>",
            "<tr><td>3</td></tr>",
            "<tr><td>3</td></tr>",
            "<tr><td>9</td></tr>",
            "<tr><td>7</td></tr>",
            "<tr><td>14</td></tr>",
            "<tr><td>5</td></tr>",
            "<tr><td>75</td></tr>",
            "<tr><td>9</td></tr>",
            "<tr><td>1</td></tr>",
            "<tr><td>1</td></tr>",
            "<tr><td>NULL</td></tr>",
            "<tr><td>0</td></tr>",
            "<tr><td>0</td></tr>",
            "<tr><td>3</td></tr>",
            "<tr><td>0</td></tr>",
            "<tr><td>0</td></tr>",
            "<tr><td>6</td></tr>",
            "<tr><td>0</td></tr>",
            "<tr><td>1</td></tr>",
            "<tr><td>1</td></tr>",
            "<tr><td>0</td></tr>",
            "<tr><td>198</td></tr>",
            "<tr><td>0</td></tr>",
            "<tr><td>4</td></tr>",
            "<tr><td>26</td></tr>",
            "<tr><td>0</td></tr>",
            "<tr><td>7</td></tr>",
            "<tr><td>10</td></tr>",
            "<tr><td>9</td></tr>",
            "<tr><td>14</td></tr>",
            "<tr><td>3</td></tr>",
            "<tr><td>NULL</td></tr>",
            "<tr><td>5</td></tr>",
            "<tr><td>9</td></tr>",
            "<tr><td>53</td></tr>",
            "<tr><td>179</td></tr>",
            "<tr><td>0</td></tr>",
            "<tr><td>1</td></tr>",
            "<tr><td>0</td></tr>",
            "<tr><td>0</td></tr>",
            "<tr><td>8</td></tr>",
            "<tr><td>3</td></tr>",
            "<tr><td>3</td></tr>",
            "<tr><td>0</td></tr>",
            "<tr><td>0</td></tr>",
            "<tr><td>1</td></tr>",
            "<tr><td>3</td></tr>",
            "<tr><td>3</td></tr>",
            "<tr><td>3</td></tr>",
            "<tr><td>3</td></tr>",
            "<tr><td>0</td></tr>",
            "<tr><td>0</td></tr>",
            "<tr><td>0</td></tr>",
            "<tr><td>0</td></tr>",
            "<tr><td>0</td></tr>",
            "<tr><td>NULL</td></tr>",
            "<tr><td>NULL</td></tr>",
            "<tr><td>1</td></tr>",
            "<tr><td>0</td></tr>",
            "<tr><td>3</td></tr>",
            "<tr><td>9</td></tr>",
            "<tr><td>7</td></tr>",
            "<tr><td>5</td></tr>",
            "<tr><td>9</td></tr>",
            "<tr><td>6</td></tr>",
            "<tr><td>1</td></tr>",
            "<tr><td>1</td></tr>",
            "<tr><td>0</td></tr>",
            "<tr><td>0</td></tr>",
            "<tr><td>0</td></tr>",
            "<tr><td>1</td></tr>",
            "<tr><td>12</td></tr>",
            "<tr><td>12</td></tr>",
            "<tr><td>8</td></tr>",
            "<tr><td>10</td></tr>",
            "<tr><td>12</td></tr>",
            "<tr><td>2</td></tr>",
            "<tr><td>NULL</td></tr>",
            "<tr><td>3</td></tr>",
            "<tr><td>38</td></tr>",
            "<tr><td>6</td></tr>",
            "<tr><td>0</td></tr>",
            "<tr><td>0</td></tr>",
            "<tr><td>4</td></tr>",
            "<tr><td>89</td></tr>",
            "<tr><td>85</td></tr>",
            "<tr><td>NULL</td></tr>",
            "<tr><td>0</td></tr>",
            "<tr><td>1</td></tr>",
            "<tr><td>0</td></tr>",
            "<tr><td>0</td></tr>",
            "<tr><td>0</td></tr>",
            "<tr><td>NULL</td></tr>",
            "<tr><td>51</td></tr>",
            "<tr><td>0</td></tr>",
            "<tr><td>25</td></tr>",
            "<tr><td>3</td></tr>",
            "<tr><td>30</td></tr>",
            "<tr><td>2</td></tr>",
            "<tr><td>0</td></tr>",
            "<tr><td>0</td></tr>",
            "<tr><td>1</td></tr>",
            "<tr><td>0</td></tr>",
            "<tr><td>8</td></tr>",
            "<tr><td>14</td></tr>",
            "<tr><td>6</td></tr>",
            "<tr><td>1</td></tr>",
            "<tr><td>NULL</td></tr>",
            "<tr><td>9</td></tr>",
            "<tr><td>3</td></tr>",
            "<tr><td>3</td></tr>",
            "<tr><td>8</td></tr>",
            "<tr><td>11</td></tr>",
            "<tr><td>11</td></tr>",
            "<tr><td>4</td></tr>",
            "<tr><td>NULL</td></tr>",
            "<tr><td>11</td></tr>",
            "<tr><td>17</td></tr>",
            "<tr><td>9</td></tr>",
            "<tr><td>11</td></tr>",
            "<tr><td>3</td></tr>",
            "<tr><td>0</td></tr>",
            "<tr><td>0</td></tr>",
            "<tr><td>0</td></tr>",
            "<tr><td>0</td></tr>",
            "<tr><td>11</td></tr>",
            "<tr><td>0</td></tr>",
            "<tr><td>0</td></tr>",
            "<tr><td>3</td></tr>",
            "<tr><td>0</td></tr>",
            "<tr><td>0</td></tr>",
            "<tr><td>0</td></tr>",
            "<tr><td>NULL</td></tr>",
            "<tr><td>NULL</td></tr>",
            "<tr><td>NULL</td></tr>",
            "<tr><td>0</td></tr>",
            "<tr><td>4</td></tr>",
            "<tr><td>1</td></tr>",
            "<tr><td>0</td></tr>",
            "<tr><td>3</td></tr>",
            "<tr><td>21</td></tr>",
            "<tr><td>68</td></tr>",
            "<tr><td>12</td></tr>",
            "<tr><td>NULL</td></tr>",
            "<tr><td>3</td></tr>",
            "<tr><td>3</td></tr>",
            "<tr><td>13</td></tr>",
            "<tr><td>3</td></tr>",
            "<tr><td>2</td></tr>",
            "<tr><td>5</td></tr>",
            "<tr><td>3</td></tr>",
            "<tr><td>0</td></tr>",
            "<tr><td>0</td></tr>",
            "<tr><td>11</td></tr>",
            "<tr><td>10</td></tr>",
            "<tr><td>15</td></tr>",
            "<tr><td>52</td></tr>",
            "<tr><td>0</td></tr>",
            "<tr><td>43</td></tr>",
            "<tr><td>43</td></tr>",
            "<tr><td>40</td></tr>",
            "<tr><td>44</td></tr>",
            "<tr><td>0</td></tr>",
            "<tr><td>6</td></tr>",
            "<tr><td>1</td></tr>",
            "<tr><td>0</td></tr>",
            "<tr><td>0</td></tr>",
            "<tr><td>0</td></tr>",
            "<tr><td>0</td></tr>",
            "<tr><td>0</td></tr>",
            "<tr><td>NULL</td></tr>",
            "<tr><td>1</td></tr>",
            "<tr><td>37</td></tr>",
            "<tr><td>0</td></tr>",
            "<tr><td>2</td></tr>",
            "<tr><td>1</td></tr>",
            "<tr><td>0</td></tr>",
            "<tr><td>0</td></tr>",
            "<tr><td>3</td></tr>",
            "<tr><td>0</td></tr>",
            "<tr><td>0</td></tr>",
            "<tr><td>0</td></tr>",
            "<tr><td>6</td></tr>",
            "<tr><td>12</td></tr>",
            "<tr><td>2</td></tr>",
            "<tr><td>0</td></tr>",
            "<tr><td>0</td></tr>",
            "<tr><td>7</td></tr>",
            "<tr><td>11</td></tr>",
            "<tr><td>NULL</td></tr>",
            "<tr><td>9</td></tr>",
            "<tr><td>3</td></tr>",
            "<tr><td>3</td></tr>",
            "<tr><td>6</td></tr>",
            "<tr><td>9</td></tr>",
            "<tr><td>9</td></tr>",
            "<tr><td>10</td></tr>",
            "<tr><td>13</td></tr>",
            "<tr><td>0</td></tr>",
            "<tr><td>0</td></tr>",
            "<tr><td>3</td></tr>",
            "<tr><td>3</td></tr>",
            "<tr><td>4</td></tr>",
            "<tr><td>0</td></tr>",
            "<tr><td>3</td></tr>",
            "<tr><td>5</td></tr>",
            "<tr><td>0</td></tr>",
            "<tr><td>0</td></tr>",
            "<tr><td>0</td></tr>",
            "<tr><td>0</td></tr>",
            "<tr><td>2</td></tr>",
            "<tr><td>3</td></tr>",
            "<tr><td>10</td></tr>",
            "<tr><td>11</td></tr>",
            "<tr><td>0</td></tr>",
            "<tr><td>0</td></tr>",
            "<tr><td>NULL</td></tr>",
            "<tr><td>0</td></tr>",
            "<tr><td>1</td></tr>",
            "<tr><td>NULL</td></tr>",
            "<tr><td>NULL</td></tr>",
            "<tr><td>NULL</td></tr>",
            "<tr><td>NULL</td></tr>",
            "<tr><td>0</td></tr>",
            "<tr><td>7</td></tr>",
            "<tr><td>3</td></tr>",
            "<tr><td>0</td></tr>",
            "<tr><td>0</td></tr>",
            "<tr><td>0</td></tr>",
            "<tr><td>0</td></tr>",
            "<tr><td>18</td></tr>",
            "<tr><td>8</td></tr>",
            "<tr><td>39</td></tr>",
            "<tr><td>0</td></tr>",
            "<tr><td>0</td></tr>",
            "<tr><td>8</td></tr>",
            "<tr><td>14</td></tr>",
            "<tr><td>2</td></tr>",
            "<tr><td>11</td></tr>",
            "<tr><td>44</td></tr>",
            "<tr><td>0</td></tr>",
            "<tr><td>NULL</td></tr>",
            "<tr><td>10</td></tr>",
            "<tr><td>31</td></tr>",
            "<tr><td>31</td></tr>",
            "<tr><td>31</td></tr>",
            "<tr><td>0</td></tr>",
            "<tr><td>0</td></tr>",
            "<tr><td>0</td></tr>",
            "<tr><td>3</td></tr>",
            "<tr><td>9</td></tr>",
            "<tr><td>1</td></tr>",
            "<tr><td>0</td></tr>",
            "<tr><td>17</td></tr>",
            "<tr><td>0</td></tr>",
            "<tr><td>4</td></tr>",
            "<tr><td>3</td></tr>",
            "<tr><td>0</td></tr>",
            "<tr><td>18</td></tr>",
            "<tr><td>0</td></tr>",
            "<tr><td>0</td></tr>",
            "<tr><td>1</td></tr>",
            "<tr><td>1</td></tr>",
            "<tr><td>15</td></tr>",
            "<tr><td>3</td></tr>",
            "<tr><td>0</td></tr>",
            "<tr><td>0</td></tr>",
            "<tr><td>0</td></tr>",
            "<tr><td>0</td></tr>",
            "<tr><td>0</td></tr>",
            "<tr><td>9</td></tr>",
            "<tr><td>NULL</td></tr>",
            "<tr><td>24</td></tr>",
            "<tr><td>57</td></tr>",
            "<tr><td>0</td></tr>",
            "<tr><td>3</td></tr>",
            "<tr><td>3</td></tr>",
            "<tr><td>7</td></tr>",
            "<tr><td>6</td></tr>",
            "<tr><td>7</td></tr>",
            "<tr><td>16</td></tr>",
            "<tr><td>10</td></tr>",
            "<tr><td>13</td></tr>",
            "<tr><td>6</td></tr>",
            "<tr><td>7</td></tr>",
            "<tr><td>5</td></tr>",
            "<tr><td>7</td></tr>",
            "<tr><td>12</td></tr>",
            "<tr><td>0</td></tr>",
            "<tr><td>0</td></tr>",
            "<tr><td>3</td></tr>",
            "<tr><td>5</td></tr>",
            "<tr><td>0</td></tr>",
            "<tr><td>3</td></tr>",
            "<tr><td>0</td></tr>",
            "<tr><td>NULL</td></tr>",
            "<tr><td>3</td></tr>",
            "<tr><td>7</td></tr>",
            "<tr><td>2</td></tr>",
            "<tr><td>0</td></tr>",
            "<tr><td>0</td></tr>",
            "<tr><td>0</td></tr>",
            "<tr><td>7</td></tr>",
            "<tr><td>NULL</td></tr>",
            "<tr><td>18</td></tr>",
            "<tr><td>24</td></tr>",
            "<tr><td>0</td></tr>",
            "<tr><td>3</td></tr>",
            "<tr><td>3</td></tr>",
            "<tr><td>0</td></tr>",
            "<tr><td>0</td></tr>",
            "<tr><td>0</td></tr>",
            "<tr><td>0</td></tr>",
            "<tr><td>0</td></tr>",
            "<tr><td>1</td></tr>",
            "<tr><td>0</td></tr>",
            "<tr><td>3</td></tr>",
            "<tr><td>3</td></tr>",
            "<tr><td>0</td></tr>",
            "<tr><td>0</td></tr>",
            "<tr><td>NULL</td></tr>",
            "<tr><td>5</td></tr>",
            "<tr><td>9</td></tr>",
            "<tr><td>6</td></tr>",
            "<tr><td>2</td></tr>",
            "<tr><td>NULL</td></tr>",
            "<tr><td>NULL</td></tr>",
            "<tr><td>0</td></tr>",
            "<tr><td>13</td></tr>",
            "<tr><td>10</td></tr>",
            "<tr><td>13</td></tr>",
            "<tr><td>69</td></tr>",
            "<tr><td>45</td></tr>",
            "<tr><td>0</td></tr>",
            "<tr><td>0</td></tr>",
            "<tr><td>0</td></tr>",
            "<tr><td>0</td></tr>",
            "<tr><td>0</td></tr>",
            "<tr><td>0</td></tr>",
            "<tr><td>0</td></tr>",
            "<tr><td>0</td></tr>",
            "<tr><td>0</td></tr>",
            "<tr><td>0</td></tr>",
            "<tr><td>0</td></tr>",
            "<tr><td>NULL</td></tr>",
            "<tr><td>0</td></tr>",
            "<tr><td>0</td></tr>",
            "<tr><td>1</td></tr>",
            "<tr><td>3</td></tr>",
            "<tr><td>NULL</td></tr>",
            "<tr><td>12</td></tr>",
            "<tr><td>66</td></tr>",
            "<tr><td>12</td></tr>",
            "<tr><td>9</td></tr>",
            "<tr><td>0</td></tr>",
            "<tr><td>0</td></tr>",
            "<tr><td>0</td></tr>",
            "<tr><td>3</td></tr>",
            "<tr><td>NULL</td></tr>",
            "<tr><td>NULL</td></tr>",
            "<tr><td>NULL</td></tr>",
            "<tr><td>0</td></tr>",
            "<tr><td>3</td></tr>",
            "<tr><td>24</td></tr>",
            "<tr><td>0</td></tr>",
            "<tr><td>0</td></tr>",
            "<tr><td>0</td></tr>",
            "<tr><td>0</td></tr>",
            "<tr><td>0</td></tr>",
            "<tr><td>0</td></tr>",
            "<tr><td>0</td></tr>",
            "<tr><td>0</td></tr>",
            "<tr><td>0</td></tr>",
            "<tr><td>0</td></tr>",
            "<tr><td>0</td></tr>",
            "<tr><td>0</td></tr>",
            "<tr><td>0</td></tr>",
            "<tr><td>0</td></tr>",
            "<tr><td>0</td></tr>",
            "<tr><td>0</td></tr>",
            "<tr><td>0</td></tr>",
            "<tr><td>0</td></tr>",
            "<tr><td>0</td></tr>",
            "<tr><td>0</td></tr>",
            "<tr><td>0</td></tr>",
            "<tr><td>11</td></tr>",
            "<tr><td>8</td></tr>",
            "<tr><td>0</td></tr>",
            "<tr><td>0</td></tr>",
            "<tr><td>13</td></tr>",
            "<tr><td>93</td></tr>",
            "<tr><td>6</td></tr>",
            "<tr><td>12</td></tr>",
            "<tr><td>0</td></tr>",
            "<tr><td>0</td></tr>",
            "<tr><td>2</td></tr>",
            "<tr><td>0</td></tr>",
            "<tr><td>3</td></tr>",
            "<tr><td>2</td></tr>",
            "<tr><td>14</td></tr>",
            "<tr><td>0</td></tr>",
            "<tr><td>NULL</td></tr>",
            "<tr><td>0</td></tr>",
            "<tr><td>4</td></tr>",
            "<tr><td>3</td></tr>",
            "<tr><td>0</td></tr>",
            "<tr><td>0</td></tr>",
            "<tr><td>0</td></tr>",
            "<tr><td>0</td></tr>",
            "<tr><td>3</td></tr>",
            "<tr><td>11</td></tr>",
            "<tr><td>0</td></tr>",
            "<tr><td>1</td></tr>",
            "<tr><td>6</td></tr>",
            "<tr><td>0</td></tr>",
            "<tr><td>31</td></tr>",
            "<tr><td>0</td></tr>",
            "<tr><td>3</td></tr>",
            "<tr><td>10</td></tr>",
            "<tr><td>13</td></tr>",
            "<tr><td>9</td></tr>",
            "<tr><td>6</td></tr>",
            "<tr><td>2</td></tr>",
            "<tr><td>0</td></tr>",
            "<tr><td>NULL</td></tr>",
            "<tr><td>NULL</td></tr>",
            "<tr><td>NULL</td></tr>",
            "<tr><td>NULL</td></tr>",
            "<tr><td>NULL</td></tr>",
            "<tr><td>7</td></tr>",
            "<tr><td>0</td></tr>",
            "<tr><td>0</td></tr>",
            "<tr><td>9</td></tr>",
            "<tr><td>22</td></tr>",
            "<tr><td>6</td></tr>",
            "<tr><td>0</td></tr>",
            "<tr><td>4</td></tr>",
            "<tr><td>6</td></tr>",
            "<tr><td>15</td></tr>",
            "<tr><td>5</td></tr>",
            "<tr><td>5</td></tr>",
            "<tr><td>1</td></tr>",
            "<tr><td>0</td></tr>",
            "<tr><td>0</td></tr>",
            "<tr><td>0</td></tr>",
            "<tr><td>0</td></tr>",
            "<tr><td>0</td></tr>",
            "<tr><td>1</td></tr>",
            "<tr><td>NULL</td></tr>",
            "<tr><td>NULL</td></tr>",
            "<tr><td>NULL</td></tr>",
            "<tr><td>3</td></tr>",
            "<tr><td>NULL</td></tr>",
            "<tr><td>0</td></tr>",
            "<tr><td>672</td></tr>",
            "<tr><td>3</td></tr>",
            "<tr><td>7</td></tr>",
            "<tr><td>0</td></tr>",
            "<tr><td>111</td></tr>",
            "<tr><td>6</td></tr>",
            "<tr><td>6</td></tr>",
            "<tr><td>8</td></tr>",
            "<tr><td>3</td></tr>",
            "<tr><td>6</td></tr>",
            "<tr><td>11</td></tr>",
            "<tr><td>5</td></tr>",
            "<tr><td>NULL</td></tr>",
            "<tr><td>NULL</td></tr>",
            "<tr><td>7</td></tr>",
            "<tr><td>0</td></tr>",
            "<tr><td>0</td></tr>",
            "<tr><td>NULL</td></tr>",
            "<tr><td>NULL</td></tr>",
            "<tr><td>0</td></tr>",
            "<tr><td>3</td></tr>",
            "<tr><td>3</td></tr>",
            "<tr><td>NULL</td></tr>",
            "<tr><td>0</td></tr>",
            "<tr><td>3</td></tr>",
            "<tr><td>5</td></tr>",
            "<tr><td>3</td></tr>",
            "<tr><td>3</td></tr>",
            "<tr><td>0</td></tr>",
            "<tr><td>1</td></tr>",
            "<tr><td>8</td></tr>",
            "<tr><td>3</td></tr>",
            "<tr><td>0</td></tr>",
            "<tr><td>6</td></tr>",
            "<tr><td>0</td></tr>",
            "<tr><td>4</td></tr>",
            "<tr><td>2</td></tr>",
            "<tr><td>3</td></tr>",
            "<tr><td>0</td></tr>",
            "<tr><td>3</td></tr>",
            "<tr><td>1</td></tr>",
            "<tr><td>30</td></tr>",
            "<tr><td>0</td></tr>",
            "<tr><td>0</td></tr>",
            "<tr><td>0</td></tr>",
            "<tr><td>0</td></tr>",
            "<tr><td>0</td></tr>",
            "<tr><td>0</td></tr>",
            "<tr><td>0</td></tr>",
            "<tr><td>0</td></tr>",
            "<tr><td>0</td></tr>",
            "<tr><td>0</td></tr>",
            "<tr><td>0</td></tr>",
            "<tr><td>0</td></tr>",
            "<tr><td>0</td></tr>",
            "<tr><td>9</td></tr>",
            "<tr><td>13</td></tr>",
            "<tr><td>NULL</td></tr>",
            "<tr><td>NULL</td></tr>",
            "<tr><td>87</td></tr>",
            "<tr><td>9</td></tr>",
            "<tr><td>3</td></tr>",
            "<tr><td>22</td></tr>",
            "<tr><td>3</td></tr>",
            "<tr><td>0</td></tr>",
            "<tr><td>3</td></tr>",
            "<tr><td>20</td></tr>",
            "<tr><td>39</td></tr>",
            "<tr><td>NULL</td></tr>",
            "<tr><td>21</td></tr>",
            "<tr><td>2</td></tr>",
            "<tr><td>0</td></tr>",
            "<tr><td>0</td></tr>",
            "<tr><td>2</td></tr>",
            "<tr><td>0</td></tr>",
            "<tr><td>0</td></tr>",
            "<tr><td>1</td></tr>",
            "<tr><td>91</td></tr>",
            "<tr><td>1</td></tr>",
            "<tr><td>1</td></tr>",
            "<tr><td>NULL</td></tr>",
            "<tr><td>20</td></tr>",
            "<tr><td>12</td></tr>",
            "<tr><td>3</td></tr>",
            "<tr><td>15</td></tr>",
            "<tr><td>NULL</td></tr>",
            "<tr><td>NULL</td></tr>",
            "<tr><td>NULL</td></tr>",
            "<tr><td>0</td></tr>",
            "<tr><td>3</td></tr>",
            "<tr><td>0</td></tr>",
            "<tr><td>3</td></tr>",
            "<tr><td>0</td></tr>",
            "<tr><td>5</td></tr>",
            "<tr><td>11</td></tr>",
            "<tr><td>7</td></tr>",
            "<tr><td>NULL</td></tr>",
            "<tr><td>0</td></tr>",
            "<tr><td>0</td></tr>",
            "<tr><td>0</td></tr>",
            "<tr><td>0</td></tr>",
            "<tr><td>0</td></tr>",
            "<tr><td>NULL</td></tr>",
            "<tr><td>2</td></tr>",
            "<tr><td>3</td></tr>",
            "<tr><td>3</td></tr>",
            "<tr><td>NULL</td></tr>",
            "<tr><td>0</td></tr>",
            "<tr><td>0</td></tr>",
            "<tr><td>15</td></tr>",
            "<tr><td>NULL</td></tr>",
            "<tr><td>0</td></tr>",
            "<tr><td>NULL</td></tr>",
            "<tr><td>24</td></tr>",
            "<tr><td>0</td></tr>",
            "<tr><td>6</td></tr>",
            "<tr><td>12</td></tr>",
            "<tr><td>12</td></tr>",
            "<tr><td>3</td></tr>",
            "<tr><td>3</td></tr>",
            "<tr><td>NULL</td></tr>",
            "<tr><td>63</td></tr>",
            "<tr><td>63</td></tr>",
            "<tr><td>6</td></tr>",
            "<tr><td>2</td></tr>",
            "<tr><td>0</td></tr>",
            "<tr><td>0</td></tr>",
            "<tr><td>2</td></tr>",
            "<tr><td>0</td></tr>",
            "<tr><td>3</td></tr>",
            "<tr><td>5</td></tr>",
            "<tr><td>3</td></tr>",
            "<tr><td>3</td></tr>",
            "<tr><td>1</td></tr>",
            "<tr><td>0</td></tr>",
            "<tr><td>0</td></tr>",
            "<tr><td>6</td></tr>",
            "<tr><td>5</td></tr>",
            "<tr><td>38</td></tr>",
            "<tr><td>0</td></tr>",
            "<tr><td>13</td></tr>",
            "<tr><td>14</td></tr>",
            "<tr><td>8</td></tr>",
            "<tr><td>0</td></tr>",
            "<tr><td>6</td></tr>",
            "<tr><td>0</td></tr>",
            "<tr><td>0</td></tr>",
            "<tr><td>0</td></tr>",
            "<tr><td>NULL</td></tr>",
            "<tr><td>NULL</td></tr>",
            "<tr><td>NULL</td></tr>",
            "<tr><td>0</td></tr>",
            "<tr><td>0</td></tr>",
            "<tr><td>39</td></tr>",
            "<tr><td>0</td></tr>",
            "<tr><td>0</td></tr>",
            "<tr><td>0</td></tr>",
            "<tr><td>0</td></tr>",
            "<tr><td>3</td></tr>",
            "<tr><td>31</td></tr>",
            "<tr><td>8</td></tr>",
            "<tr><td>0</td></tr>",
            "<tr><td>3</td></tr>",
            "<tr><td>11</td></tr>",
            "<tr><td>12</td></tr>",
            "<tr><td>0</td></tr>",
            "<tr><td>0</td></tr>",
            "<tr><td>0</td></tr>",
            "<tr><td>NULL</td></tr>",
            "<tr><td>0</td></tr>",
            "<tr><td>0</td></tr>",
            "<tr><td>4</td></tr>",
            "<tr><td>0</td></tr>",
            "<tr><td>4</td></tr>",
            "<tr><td>4</td></tr>",
            "<tr><td>4</td></tr>",
            "<tr><td>0</td></tr>",
            "<tr><td>0</td></tr>",
            "<tr><td>2</td></tr>",
            "<tr><td>6</td></tr>",
            "<tr><td>1</td></tr>",
            "<tr><td>1</td></tr>",
            "<tr><td>0</td></tr>",
            "<tr><td>4</td></tr>",
            "<tr><td>0</td></tr>",
            "<tr><td>1</td></tr>",
            "<tr><td>29</td></tr>",
            "<tr><td>10</td></tr>",
            "<tr><td>0</td></tr>",
            "<tr><td>7</td></tr>",
            "<tr><td>3</td></tr>",
            "<tr><td>26</td></tr>",
            "<tr><td>3</td></tr>",
            "<tr><td>3</td></tr>",
            "<tr><td>32</td></tr>",
            "<tr><td>NULL</td></tr>",
            "<tr><td>3</td></tr>",
            "<tr><td>0</td></tr>",
            "<tr><td>13</td></tr>",
            "<tr><td>4</td></tr>",
            "<tr><td>3</td></tr>",
            "<tr><td>6</td></tr>",
            "<tr><td>6</td></tr>",
            "<tr><td>11</td></tr>",
            "<tr><td>3</td></tr>",
            "<tr><td>0</td></tr>",
            "<tr><td>0</td></tr>",
            "<tr><td>0</td></tr>",
            "<tr><td>8</td></tr>",
            "<tr><td>12</td></tr>",
            "<tr><td>24</td></tr>",
            "<tr><td>NULL</td></tr>",
            "<tr><td>0</td></tr>",
            "<tr><td>0</td></tr>",
            "<tr><td>2</td></tr>",
            "<tr><td>3</td></tr>",
            "<tr><td>10</td></tr>",
            "<tr><td>5</td></tr>",
            "<tr><td>5</td></tr>",
            "<tr><td>6</td></tr>",
            "<tr><td>NULL</td></tr>",
            "<tr><td>0</td></tr>",
            "<tr><td>5</td></tr>",
            "<tr><td>10</td></tr>",
            "<tr><td>10</td></tr>",
            "<tr><td>10</td></tr>",
            "<tr><td>5</td></tr>",
            "<tr><td>1</td></tr>",
            "<tr><td>2</td></tr>",
            "<tr><td>1</td></tr>",
            "<tr><td>0</td></tr>",
            "<tr><td>4</td></tr>",
            "<tr><td>3</td></tr>",
            "<tr><td>10</td></tr>",
            "<tr><td>15</td></tr>",
            "<tr><td>5</td></tr>",
            "<tr><td>6</td></tr>",
            "<tr><td>11</td></tr>",
            "<tr><td>5</td></tr>",
            "<tr><td>3</td></tr>",
            "<tr><td>3</td></tr>",
            "<tr><td>3</td></tr>",
            "<tr><td>0</td></tr>",
            "<tr><td>9</td></tr>",
            "<tr><td>21</td></tr>",
            "<tr><td>0</td></tr>",
            "<tr><td>15</td></tr>",
            "<tr><td>27</td></tr>",
            "<tr><td>5</td></tr>",
            "<tr><td>0</td></tr>",
            "<tr><td>5</td></tr>",
            "<tr><td>NULL</td></tr>",
            "<tr><td>NULL</td></tr>",
            "<tr><td>NULL</td></tr>",
            "<tr><td>0</td></tr>",
            "<tr><td>0</td></tr>",
            "<tr><td>9</td></tr>",
            "<tr><td>6</td></tr>",
            "<tr><td>0</td></tr>",
            "<tr><td>3</td></tr>",
            "<tr><td>9</td></tr>",
            "<tr><td>8</td></tr>",
            "<tr><td>1</td></tr>",
            "<tr><td>NULL</td></tr>",
            "<tr><td>6</td></tr>",
            "<tr><td>15</td></tr>",
            "<tr><td>11</td></tr>",
            "<tr><td>6</td></tr>",
            "<tr><td>0</td></tr>",
            "<tr><td>0</td></tr>",
            "<tr><td>0</td></tr>",
            "<tr><td>0</td></tr>",
            "<tr><td>0</td></tr>",
            "<tr><td>3</td></tr>",
            "<tr><td>13</td></tr>",
            "<tr><td>38</td></tr>",
            "<tr><td>0</td></tr>",
            "<tr><td>NULL</td></tr>",
            "<tr><td>9</td></tr>",
            "<tr><td>NULL</td></tr>",
            "<tr><td>1</td></tr>",
            "<tr><td>9</td></tr>",
            "<tr><td>0</td></tr>",
            "<tr><td>0</td></tr>",
            "<tr><td>0</td></tr>",
            "<tr><td>3</td></tr>",
            "<tr><td>1</td></tr>",
            "<tr><td>NULL</td></tr>",
            "<tr><td>8</td></tr>",
            "<tr><td>7</td></tr>",
            "<tr><td>2</td></tr>",
            "<tr><td>1</td></tr>",
            "<tr><td>4</td></tr>",
            "<tr><td>8</td></tr>",
            "<tr><td>14</td></tr>",
            "<tr><td>13</td></tr>",
            "<tr><td>6</td></tr>",
            "<tr><td>12</td></tr>",
            "<tr><td>34</td></tr>",
            "<tr><td>0</td></tr>",
            "<tr><td>0</td></tr>",
            "<tr><td>45</td></tr>",
            "<tr><td>0</td></tr>",
            "<tr><td>0</td></tr>",
            "<tr><td>0</td></tr>",
            "<tr><td>0</td></tr>",
            "<tr><td>0</td></tr>",
            "<tr><td>21</td></tr>",
            "<tr><td>0</td></tr>",
            "<tr><td>54</td></tr>",
            "<tr><td>13</td></tr>",
            "<tr><td>3</td></tr>",
            "<tr><td>NULL</td></tr>",
            "<tr><td>NULL</td></tr>",
            "<tr><td>0</td></tr>",
            "<tr><td>20</td></tr>",
            "<tr><td>0</td></tr>",
            "<tr><td>4</td></tr>",
            "<tr><td>1</td></tr>",
            "<tr><td>0</td></tr>",
            "<tr><td>4</td></tr>",
            "<tr><td>0</td></tr>",
            "<tr><td>4</td></tr>",
            "<tr><td>2</td></tr>",
            "<tr><td>12</td></tr>",
            "<tr><td>NULL</td></tr>",
            "<tr><td>13</td></tr>",
            "<tr><td>3</td></tr>",
            "<tr><td>0</td></tr>",
            "<tr><td>NULL</td></tr>",
            "<tr><td>0</td></tr>",
            "<tr><td>1</td></tr>",
            "<tr><td>3</td></tr>",
            "<tr><td>12</td></tr>",
            "<tr><td>9</td></tr>",
            "<tr><td>9</td></tr>",
            "<tr><td>14</td></tr>",
            "<tr><td>10</td></tr>",
            "<tr><td>25</td></tr>",
            "<tr><td>4</td></tr>",
            "<tr><td>7</td></tr>",
            "<tr><td>NULL</td></tr>",
            "<tr><td>3</td></tr>",
            "<tr><td>6</td></tr>",
            "<tr><td>35</td></tr>",
            "<tr><td>0</td></tr>",
            "<tr><td>10</td></tr>",
            "<tr><td>3</td></tr>",
            "<tr><td>0</td></tr>",
            "<tr><td>30</td></tr>",
            "<tr><td>NULL</td></tr>",
            "<tr><td>3</td></tr>",
            "<tr><td>NULL</td></tr>",
            "<tr><td>0</td></tr>",
            "<tr><td>0</td></tr>",
            "<tr><td>0</td></tr>",
            "<tr><td>0</td></tr>",
            "<tr><td>0</td></tr>",
            "<tr><td>0</td></tr>",
            "<tr><td>0</td></tr>",
            "<tr><td>0</td></tr>",
            "<tr><td>9</td></tr>",
            "<tr><td>4</td></tr>",
            "<tr><td>1</td></tr>",
            "<tr><td>3</td></tr>",
            "<tr><td>0</td></tr>",
            "<tr><td>11</td></tr>",
            "<tr><td>8</td></tr>",
            "<tr><td>8</td></tr>",
            "<tr><td>3</td></tr>",
            "<tr><td>NULL</td></tr>",
            "<tr><td>NULL</td></tr>",
            "<tr><td>NULL</td></tr>",
            "<tr><td>0</td></tr>",
            "<tr><td>1</td></tr>",
            "<tr><td>1</td></tr>",
            "<tr><td>2</td></tr>",
            "<tr><td>3</td></tr>",
            "<tr><td>3</td></tr>",
            "<tr><td>6</td></tr>",
            "<tr><td>3</td></tr>",
            "<tr><td>0</td></tr>",
            "<tr><td>24</td></tr>",
            "<tr><td>10</td></tr>",
            "<tr><td>21</td></tr>",
            "<tr><td>6</td></tr>",
            "<tr><td>0</td></tr>",
            "<tr><td>14</td></tr>",
            "<tr><td>5</td></tr>",
            "<tr><td>3</td></tr>",
            "<tr><td>0</td></tr>",
            "<tr><td>3</td></tr>",
            "<tr><td>11</td></tr>",
            "<tr><td>13</td></tr>",
            "<tr><td>15</td></tr>",
            "<tr><td>4</td></tr>",
            "<tr><td>NULL</td></tr>",
            "<tr><td>3</td></tr>",
            "<tr><td>0</td></tr>",
            "<tr><td>0</td></tr>",
            "<tr><td>21</td></tr>",
            "<tr><td>34</td></tr>",
            "<tr><td>8</td></tr>",
            "<tr><td>3</td></tr>",
            "<tr><td>0</td></tr>",
            "<tr><td>0</td></tr>",
            "<tr><td>0</td></tr>",
            "<tr><td>0</td></tr>",
            "<tr><td>63</td></tr>",
            "<tr><td>66</td></tr>",
            "<tr><td>3</td></tr>",
            "<tr><td>5</td></tr>",
            "<tr><td>1</td></tr>",
            "<tr><td>0</td></tr>",
            "<tr><td>3</td></tr>",
            "<tr><td>3</td></tr>",
            "<tr><td>0</td></tr>",
            "<tr><td>0</td></tr>",
            "<tr><td>3</td></tr>",
            "<tr><td>6</td></tr>",
            "<tr><td>NULL</td></tr>",
            "<tr><td>56</td></tr>",
            "<tr><td>0</td></tr>",
            "<tr><td>2</td></tr>",
            "<tr><td>3</td></tr>",
            "<tr><td>5</td></tr>",
            "<tr><td>NULL</td></tr>",
            "<tr><td>0</td></tr>",
            "<tr><td>0</td></tr>",
            "<tr><td>0</td></tr>",
            "<tr><td>3</td></tr>",
            "<tr><td>10</td></tr>",
            "<tr><td>10</td></tr>",
            "<tr><td>11</td></tr>",
            "<tr><td>0</td></tr>",
            "<tr><td>10</td></tr>",
            "<tr><td>8</td></tr>",
            "<tr><td>7</td></tr>",
            "<tr><td>32</td></tr>",
            "<tr><td>NULL</td></tr>",
            "<tr><td>0</td></tr>",
            "<tr><td>4</td></tr>",
            "<tr><td>0</td></tr>",
            "<tr><td>9</td></tr>",
            "<tr><td>0</td></tr>",
            "<tr><td>3</td></tr>",
            "<tr><td>0</td></tr>",
            "<tr><td>0</td></tr>",
            "<tr><td>0</td></tr>",
            "<tr><td>0</td></tr>",
            "<tr><td>0</td></tr>",
            "<tr><td>0</td></tr>",
            "<tr><td>0</td></tr>",
            "<tr><td>33</td></tr>",
            "<tr><td>3</td></tr>",
            "<tr><td>58</td></tr>",
            "<tr><td>58</td></tr>",
            "<tr><td>60</td></tr>",
            "<tr><td>2</td></tr>",
            "<tr><td>9</td></tr>",
            "<tr><td>NULL</td></tr>",
            "<tr><td>NULL</td></tr>",
            "<tr><td>0</td></tr>",
            "<tr><td>4</td></tr>",
            "<tr><td>3</td></tr>",
            "<tr><td>4</td></tr>",
            "<tr><td>0</td></tr>",
            "<tr><td>NULL</td></tr>",
            "<tr><td>3</td></tr>",
            "<tr><td>0</td></tr>",
            "<tr><td>0</td></tr>",
            "<tr><td>3</td></tr>",
            "<tr><td>0</td></tr>",
            "<tr><td>0</td></tr>",
            "<tr><td>0</td></tr>",
            "<tr><td>12</td></tr>",
            "<tr><td>12</td></tr>",
            "<tr><td>9</td></tr>",
            "<tr><td>0</td></tr>",
            "<tr><td>46</td></tr>",
            "<tr><td>6</td></tr>",
            "<tr><td>NULL</td></tr>",
            "<tr><td>11</td></tr>",
            "<tr><td>0</td></tr>",
            "<tr><td>2</td></tr>",
            "<tr><td>0</td></tr>",
            "<tr><td>3</td></tr>",
            "<tr><td>15</td></tr>",
            "<tr><td>43</td></tr>",
            "<tr><td>3</td></tr>",
            "<tr><td>8</td></tr>",
            "<tr><td>94</td></tr>",
            "<tr><td>94</td></tr>",
            "<tr><td>94</td></tr>",
            "<tr><td>17</td></tr>",
            "<tr><td>2</td></tr>",
            "<tr><td>0</td></tr>",
            "<tr><td>8</td></tr>",
            "<tr><td>25</td></tr>",
            "<tr><td>1</td></tr>",
            "<tr><td>3</td></tr>",
            "<tr><td>3</td></tr>",
            "<tr><td>40</td></tr>",
            "<tr><td>15</td></tr>",
            "<tr><td>3</td></tr>",
            "<tr><td>3</td></tr>",
            "<tr><td>7</td></tr>",
            "<tr><td>4</td></tr>",
            "<tr><td>NULL</td></tr>",
            "<tr><td>0</td></tr>",
            "<tr><td>31</td></tr>",
            "<tr><td>6</td></tr>",
            "<tr><td>13</td></tr>",
            "<tr><td>21</td></tr>",
            "<tr><td>3</td></tr>",
            "<tr><td>0</td></tr>",
            "<tr><td>0</td></tr>",
            "<tr><td>0</td></tr>",
            "<tr><td>3</td></tr>",
            "<tr><td>7</td></tr>",
            "<tr><td>1</td></tr>",
            "<tr><td>3</td></tr>",
            "<tr><td>23</td></tr>",
            "<tr><td>5</td></tr>",
            "<tr><td>0</td></tr>",
            "<tr><td>68</td></tr>",
            "<tr><td>71</td></tr>",
            "<tr><td>10</td></tr>",
            "<tr><td>9</td></tr>",
            "<tr><td>3</td></tr>",
            "<tr><td>0</td></tr>",
            "<tr><td>2</td></tr>",
            "<tr><td>2</td></tr>",
            "<tr><td>0</td></tr>",
            "<tr><td>1</td></tr>",
            "<tr><td>3</td></tr>",
            "<tr><td>0</td></tr>",
            "<tr><td>1</td></tr>",
            "<tr><td>2</td></tr>",
            "<tr><td>6</td></tr>",
            "<tr><td>13</td></tr>",
            "<tr><td>12</td></tr>",
            "<tr><td>4</td></tr>",
            "<tr><td>136</td></tr>",
            "<tr><td>67</td></tr>",
            "<tr><td>16</td></tr>",
            "<tr><td>NULL</td></tr>",
            "<tr><td>6</td></tr>",
            "<tr><td>3</td></tr>",
            "<tr><td>3</td></tr>",
            "<tr><td>9</td></tr>",
            "<tr><td>NULL</td></tr>",
            "<tr><td>3</td></tr>",
            "<tr><td>4</td></tr>",
            "<tr><td>24</td></tr>",
            "<tr><td>12</td></tr>",
            "<tr><td>5</td></tr>",
            "<tr><td>NULL</td></tr>",
            "<tr><td>2</td></tr>",
            "<tr><td>0</td></tr>",
            "<tr><td>0</td></tr>",
            "<tr><td>1</td></tr>",
            "<tr><td>3</td></tr>",
            "<tr><td>0</td></tr>",
            "<tr><td>4</td></tr>",
            "<tr><td>1</td></tr>",
            "<tr><td>6</td></tr>",
            "<tr><td>4</td></tr>",
            "<tr><td>0</td></tr>",
            "<tr><td>15</td></tr>",
            "<tr><td>1</td></tr>",
            "<tr><td>10</td></tr>",
            "<tr><td>5</td></tr>",
            "<tr><td>1</td></tr>",
            "<tr><td>1</td></tr>",
            "<tr><td>0</td></tr>",
            "<tr><td>0</td></tr>",
            "<tr><td>3</td></tr>",
            "<tr><td>0</td></tr>",
            "<tr><td>0</td></tr>",
            "<tr><td>1</td></tr>",
            "<tr><td>9</td></tr>",
            "<tr><td>8</td></tr>",
            "<tr><td>6</td></tr>",
            "<tr><td>0</td></tr>",
            "<tr><td>8</td></tr>",
            "<tr><td>5</td></tr>",
            "<tr><td>6</td></tr>",
            "<tr><td>0</td></tr>",
            "<tr><td>1</td></tr>",
            "<tr><td>7</td></tr>",
            "<tr><td>30</td></tr>",
            "<tr><td>0</td></tr>",
            "<tr><td>6</td></tr>",
            "<tr><td>3</td></tr>",
            "<tr><td>0</td></tr>",
            "<tr><td>0</td></tr>",
            "<tr><td>14</td></tr>",
            "<tr><td>NULL</td></tr>",
            "<tr><td>NULL</td></tr>",
            "<tr><td>NULL</td></tr>",
            "<tr><td>1</td></tr>",
            "<tr><td>0</td></tr>",
            "<tr><td>0</td></tr>",
            "<tr><td>NULL</td></tr>",
            "<tr><td>0</td></tr>",
            "<tr><td>10</td></tr>",
            "<tr><td>7</td></tr>",
            "<tr><td>10</td></tr>",
            "<tr><td>11</td></tr>",
            "<tr><td>9</td></tr>",
            "<tr><td>NULL</td></tr>",
            "<tr><td>0</td></tr>",
            "<tr><td>0</td></tr>",
            "<tr><td>4</td></tr>",
            "<tr><td>3</td></tr>",
            "<tr><td>6</td></tr>",
            "<tr><td>0</td></tr>",
            "</table>"
        ]
    }
}
],
            "execution_count": null
        },
        {
            "cell_type": "markdown",
            "source": [
                "## Filtrování řádků"
            ],
            "metadata": {
                "azdata_cell_guid": "3bb1907c-6c94-4c70-a9c5-60d35eeba817"
            }
        },
        {
            "cell_type": "code",
            "source": [
                "SELECT nkillter FROM teror WHERE nkillter > 100; -- vybere vsechny radky, kde je nkillter vetsi jak 100"
            ],
            "metadata": {
                "azdata_cell_guid": "5b5b6ab5-4060-4eac-bea7-ee7be3bbffcd"
            },
            "outputs": [],
            "execution_count": null
        }
    ]
}