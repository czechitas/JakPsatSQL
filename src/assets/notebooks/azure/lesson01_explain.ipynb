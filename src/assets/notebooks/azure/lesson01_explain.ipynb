{
    "metadata": {
        "kernelspec": {
            "name": "SQL",
            "display_name": "SQL",
            "language": "sql"
        },
        "language_info": {
            "name": "sql",
            "version": ""
        }
    },
    "nbformat_minor": 2,
    "nbformat": 4,
    "cells": [
        {
            "cell_type": "markdown",
            "source": [
                "## Základní operátory\n",
                "\n",
                "- výraz \\>   výraz\n",
                "- výraz \\<   výraz\n",
                "- výraz \\<= výraz\n",
                "- výraz \\>= výraz\n",
                "- výraz !=  nebo \\<\\> výraz\n",
                "- výraz  = výraz"
            ],
            "metadata": {
                "azdata_cell_guid": "3bd66618-8fab-452b-8069-af6eeade228d"
            }
        },
        {
            "cell_type": "code",
            "source": [
                "SELECT city FROM teror WHERE city = 'Prague';\n",
                "SELECT city FROM teror WHERE nhostkid = 1; -- vybere mesta, kde byl pri utoku unesen prave jeden clovek\n",
                "SELECT * FROM teror WHERE nkillter > 1; -- vybere vsechny utoky, kde zemrel vic jak jeden terorista"
            ],
            "metadata": {
                "azdata_cell_guid": "ebad57ed-d2d4-4e60-bf83-7d9c3890a309",
                "tags": []
            },
            "outputs": [],
            "execution_count": null
        },
        {
            "cell_type": "markdown",
            "source": [
                "## WHERE (string function)\n",
                "\n",
                "- SUBSTRING\n",
                "- LEFT / RIGHT\n",
                "- UPPER / LOWER\n",
                "- LENGHT\n",
                "- REPLACE"
            ],
            "metadata": {
                "azdata_cell_guid": "e33c91ee-6a44-4473-84af-99a4e62aa01d"
            }
        },
        {
            "cell_type": "code",
            "source": [
                "SELECT city FROM teror WHERE LEN(city) - LEN(REPLACE(city, ' ','')) >= 2; -- vybere vsechny mesta, ktera maji vice jak 2 slova\n",
                "SELECT city, SUBSTRING(city,1,1) AS prvni_pismeno FROM teror; -- vybere mesto a jeho prvni pismeno\n",
                "SELECT city, LEFT(city,1) AS prvni_pismeno FROM teror; -- vybere mesto a jeho prvni pismeno\n",
                "SELECT city, UPPER(RIGHT(city,3)) AS posledni_tri_pismena FROM teror; -- vybere mesto a jeho posledni tri pismena v UPPERCASE"
            ],
            "metadata": {
                "azdata_cell_guid": "7af01d21-146a-46b2-b954-83e5f3d4aa78",
                "tags": []
            },
            "outputs": [],
            "execution_count": null
        },
        {
            "cell_type": "markdown",
            "source": [
                "## WHERE (math function)\n",
                "\n",
                "- FLOOR\n",
                "- CEILING\n",
                "- ROUND"
            ],
            "metadata": {
                "azdata_cell_guid": "87a82a44-1f8d-4e85-bbd5-18d96a0225ba"
            }
        },
        {
            "cell_type": "code",
            "source": [
                "SELECT  nkill, nkillter, nkill/nkillter AS prumer \n",
                "FROM    teror \n",
                "WHERE   nkill > 0 AND nkillter > 0 AND nkill/nkillter > 1 \n",
                "ORDER BY prumer DESC;\n",
                "\n",
                "SELECT CEILING(1.5), ROUND(1.5,0), FLOOR(1.5), CEILING(1.1), ROUND(1.1,0);\n",
                "SELECT FLOOR(1574.14);"
            ],
            "metadata": {
                "azdata_cell_guid": "e5f1f5f9-936e-4cab-b3b0-d0b1d36997da"
            },
            "outputs": [],
            "execution_count": null
        },
        {
            "cell_type": "markdown",
            "source": [
                "## WHERE (date function)\n",
                "\n",
                "- DATEFROMPARTS\n",
                "- DATEADD\n",
                "- DATEDIFF"
            ],
            "metadata": {
                "azdata_cell_guid": "fb0d2531-5714-4fc3-8768-a3afc3ba25b3"
            }
        },
        {
            "cell_type": "code",
            "source": [
                "SELECT  CAST(CONCAT(imonth, '/', iday, '/', iyear) AS date) AS datum\n",
                "        ,DATEADD(year, 2, CAST(CONCAT(imonth, '/', iday, '/', iyear) AS date))\n",
                "        , imonth, iday, iyear \n",
                "FROM teror\n",
                "WHERE DATEADD(year, 2, CAST(CONCAT(imonth, '/', iday, '/', iyear) AS date)) = DATEFROMPARTS(2016, 1, 1);\n",
                "\n",
                "SELECT  DATEFROMPARTS(iyear, imonth, iday) AS datum \n",
                "FROM    teror \n",
                "WHERE   DATEDIFF(\"YEAR\",DATEFROMPARTS(iyear, imonth, iday), DATEFROMPARTS(2015,1,1)) = -2;\n",
                "\n",
                "SELECT DATEFROMPARTS(iyear, imonth, iday) datum, iyear, imonth, iday, DATEADD(\"DAY\", 1, DATEFROMPARTS(iyear, imonth, iday)) AS zitra FROM teror;"
            ],
            "metadata": {
                "azdata_cell_guid": "4bad50e2-5a44-40b7-b8b2-da558a68ff21"
            },
            "outputs": [],
            "execution_count": null
        },
        {
            "cell_type": "markdown",
            "source": [
                "## AND, OR a závorky"
            ],
            "metadata": {
                "azdata_cell_guid": "0b3caff3-b25d-4c40-8c07-872507567b21"
            }
        },
        {
            "cell_type": "code",
            "source": [
                "SELECT * FROM teror WHERE country_txt='Germany' AND (city='Berlin' OR city='München'); -- vybere vsechny utoky v Nemecku, ktere se staly v Berline nebo Mnichove"
            ],
            "metadata": {
                "azdata_cell_guid": "18b2eb7a-8c7c-48a5-a9f9-75d2062f96c2"
            },
            "outputs": [],
            "execution_count": null
        },
        {
            "cell_type": "markdown",
            "source": [
                "## LIKE / NOT LIKE\n",
                "\n",
                "- <span style=\"background-color: rgb(255, 255, 255); color: rgba(0, 0, 0, 0.6); font-family: Roboto, sans-serif; letter-spacing: 0.1px;\">% = 0 až N znaků (cokoliv začínající na a%)</span>\n",
                "- <span style=\"background-color: rgb(255, 255, 255); color: rgba(0, 0, 0, 0.6); font-family: Roboto, sans-serif; letter-spacing: 0.1px;\"><em>_&nbsp; = jeden znak&nbsp; &nbsp; &nbsp;(a</em>)</span>\n",
                "- <span style=\"background-color: rgb(255, 255, 255); color: rgba(0, 0, 0, 0.6); font-family: Roboto, sans-serif; letter-spacing: 0.1px;\">[]&nbsp; = výběr znaků&nbsp; &nbsp;(abc)</span>\n",
                "- <span style=\"background-color: rgb(255, 255, 255); color: rgba(0, 0, 0, 0.6); font-family: Roboto, sans-serif; letter-spacing: 0.1px;\">[^] = negace&nbsp; &nbsp; &nbsp; &nbsp; &nbsp; (bez abc)</span>\n",
                "- <span style=\"background-color: rgb(255, 255, 255); color: rgba(0, 0, 0, 0.6); font-family: Roboto, sans-serif; letter-spacing: 0.1px;\">[-] = rozsah znaků (a-f)</span>"
            ],
            "metadata": {
                "azdata_cell_guid": "257fb67d-494e-4277-ac31-12f50b426ed9"
            }
        },
        {
            "cell_type": "code",
            "source": [
                "SELECT DISTINCT(attacktype1_txt) FROM teror WHERE attacktype1_txt LIKE '%bomb%'; -- vybere unikatni typy utoku, ktere obsahuji slovo bomb(kdekoliv)\n",
                "SELECT DISTINCT(region_txt) FROM teror WHERE region_txt LIKE '%cz%'; -- vybere unikatni nazvy regionu, ktere obsahuji cz (kdekoliv)\n",
                "SELECT DISTINCT(gname) FROM teror WHERE gname LIKE 'a%'; -- vybere unikatni nazvy organizaci, ktere zacinaji na a\n",
                "SELECT DISTINCT(gname) FROM teror WHERE gname LIKE '_a%'; -- vybere unikatni nazvy organizaci, ktere maji v nazvu druhe pismeno a\n",
                "SELECT city FROM teror WHERE city LIKE '% % %'; -- vybere vsechny mesta, ktera maji vice jak 2 slova"
            ],
            "metadata": {
                "azdata_cell_guid": "4d472fc2-265e-48ad-8dce-0bda05709e1b"
            },
            "outputs": [],
            "execution_count": null
        },
        {
            "cell_type": "markdown",
            "source": [
                "## <span style=\"color:rgba(0, 0, 0, 0.6);font-family:Roboto, sans-serif;font-size:24px;background-color:rgb(255, 255, 255);\">IN, NOT IN, IS NOT</span>"
            ],
            "metadata": {
                "azdata_cell_guid": "6a4e43bf-6ac8-4147-a786-37635bc9f6b1"
            }
        },
        {
            "cell_type": "code",
            "source": [
                "SELECT city FROM teror WHERE region_txt NOT IN ('South America','South Asia');\n",
                "SELECT GNAME FROM teror WHERE region_txt IN ('Eastern Europe','Western Europe');\n",
                "SELECT weaptype1_txt, nkillter FROM teror WHERE nkillter IS NOT NULL ORDER BY nkillter DESC;"
            ],
            "metadata": {
                "azdata_cell_guid": "10b16c84-97f1-49dc-b481-bf7e9852bd87"
            },
            "outputs": [],
            "execution_count": null
        },
        {
            "cell_type": "markdown",
            "source": [
                "## BETWEEN"
            ],
            "metadata": {
                "azdata_cell_guid": "18e04b0c-3847-496c-8a63-cd87af030892"
            }
        },
        {
            "cell_type": "code",
            "source": [
                "SELECT DISTINCT(iyear) FROM teror WHERE iyear BETWEEN 2014 AND 2016; -- vybere unikatni roky mezi roky 2014 a 2016 (vcetne krajnich hodnot)\n",
                "SELECT city, SUBSTRING(city,1,1) AS prvni_pismeno FROM teror WHERE SUBSTRING(city,1,1) BETWEEN 'A' AND 'C'; -- vybere mesta, ktera zacinaji na A B nebo C"
            ],
            "metadata": {
                "azdata_cell_guid": "6c5ac47f-d39a-435b-9499-437c2de538b9"
            },
            "outputs": [],
            "execution_count": null
        },
        {
            "cell_type": "markdown",
            "source": [
                "## CASE & IF CONDITION\n",
                "\n",
                "- CASE STATEMENT \n",
                "- IIF / COALESCE"
            ],
            "metadata": {
                "azdata_cell_guid": "d7988b21-40c5-414c-accb-0332295c6bbc"
            }
        },
        {
            "cell_type": "code",
            "source": [
                "SELECT\n",
                "    CASE\n",
                "        WHEN nkill IS NULL  THEN 1\n",
                "        WHEN nkill = 0      THEN 1\n",
                "        ELSE nkill\n",
                "    END AS upraveny_nkill\n",
                "FROM teror; -- upravi sloupec nkill aby tam nebyl NULL a 0\n",
                "SELECT\n",
                "    CASE\n",
                "        WHEN lower(region_txt) LIKE '%america%'    THEN 'Amerika'\n",
                "        WHEN lower(region_txt) LIKE '%africa%'     THEN 'Afrika'\n",
                "        WHEN lower(region_txt) LIKE '%asia%'       THEN 'Asie'\n",
                "        ELSE region_txt\n",
                "    END AS continent\n",
                "FROM teror; -- vytvorime sloupec kontinent podle regionu\n",
                "\n",
                "SELECT IIF(nkillter IS NULL, 0, nkillter) FROM teror;\n",
                "SELECT COALESCE(nkillter, 0) FROM teror;"
            ],
            "metadata": {
                "azdata_cell_guid": "567b2953-0959-4632-a1b8-98547cba18d0"
            },
            "outputs": [],
            "execution_count": null
        }
    ]
}