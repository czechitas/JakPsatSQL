{
    "metadata": {
        "kernelspec": {
            "name": "SQL",
            "display_name": "SQL",
            "language": "sql"
        },
        "language_info": {
            "name": "sql",
            "version": ""
        }
    },
    "nbformat_minor": 2,
    "nbformat": 4,
    "cells": [
        {
            "cell_type": "markdown",
            "source": [
                "## USE database\n",
                "\n",
                "- UI\n",
                "- Příkaz"
            ],
            "metadata": {
                "azdata_cell_guid": "3bd66618-8fab-452b-8069-af6eeade228d"
            }
        },
        {
            "cell_type": "code",
            "source": [
                "-- USE { database_name }   \n",
                "USE czechitas;"
            ],
            "metadata": {
                "azdata_cell_guid": "ebad57ed-d2d4-4e60-bf83-7d9c3890a309",
                "tags": []
            },
            "outputs": [],
            "execution_count": null
        },
        {
            "cell_type": "markdown",
            "source": [
                "## CREATE TABLE"
            ],
            "metadata": {
                "azdata_cell_guid": "e33c91ee-6a44-4473-84af-99a4e62aa01d"
            }
        },
        {
            "cell_type": "code",
            "source": [
                "CREATE TABLE NEW_TEROR (\n",
                "  id int,\n",
                "  gname VARCHAR(250),\n",
                "  nkill int,\n",
                "  nwound int\n",
                ");"
            ],
            "metadata": {
                "azdata_cell_guid": "7af01d21-146a-46b2-b954-83e5f3d4aa78",
                "tags": []
            },
            "outputs": [],
            "execution_count": null
        },
        {
            "cell_type": "markdown",
            "source": [
                "## DROP & CREATE\n",
                "\n",
                "- něco jako replace table"
            ],
            "metadata": {
                "azdata_cell_guid": "da253d23-a0d9-4918-b167-7d1e692820dd"
            }
        },
        {
            "cell_type": "code",
            "source": [
                "IF OBJECT_ID('NEW_TEROR') IS NOT NULL\n",
                "    DROP TABLE NEW_TEROR;\n",
                "\n",
                "CREATE TABLE NEW_TEROR (\n",
                "  id int NOT NULL IDENTITY(1,1), -- autoincrement (začni 1 a pokračuj/zvyšuj o 1)\n",
                "  gname VARCHAR(250),\n",
                "  nkill int,\n",
                "  nwound int,\n",
                "  CONSTRAINT id_pk PRIMARY KEY (id)\n",
                "); "
            ],
            "metadata": {
                "azdata_cell_guid": "02827f74-42de-4f57-94e3-cdcecca100c9"
            },
            "outputs": [],
            "execution_count": null
        },
        {
            "cell_type": "markdown",
            "source": [
                "## SELECT INTO FROM\n",
                "\n",
                "- prvotní nalití dat"
            ],
            "metadata": {
                "azdata_cell_guid": "87a82a44-1f8d-4e85-bbd5-18d96a0225ba"
            }
        },
        {
            "cell_type": "code",
            "source": [
                "SELECT\n",
                "    gname\n",
                "   ,city\n",
                "   ,nkill\n",
                "   ,nwound\n",
                "INTO udalosti_jen_v_cesku -- název nové tabulky   \n",
                "FROM teror\n",
                "WHERE country_txt = 'Czech Republic';\n",
                "\n",
                "SELECT \n",
                "    gname\n",
                "   ,city\n",
                "   ,sum (nkill) killed\n",
                "   ,sum (nwound) wounded\n",
                "   ,C.name countryname \n",
                " INTO #organizace_po_zemich\n",
                " FROM      teror2   AS T2 \n",
                " LEFT JOIN country  AS C         \n",
                " ON C.id = T2.country\n",
                " GROUP BY C.name, T2.gname, T2.city;"
            ],
            "metadata": {
                "azdata_cell_guid": "e5f1f5f9-936e-4cab-b3b0-d0b1d36997da"
            },
            "outputs": [],
            "execution_count": null
        },
        {
            "cell_type": "markdown",
            "source": [
                "## ALTER\n",
                "\n",
                "- modify\n",
                "- Co dělat, když nejdou zkonvertovat data ve sloupci?"
            ],
            "metadata": {
                "azdata_cell_guid": "7267ce4a-1353-485b-a94e-76eb9b1c4b26"
            }
        },
        {
            "cell_type": "code",
            "source": [
                "ALTER TABLE NEW_TEROR ALTER COLUMN gname VARCHAR(350);\n",
                "ALTER TABLE NEW_TEROR ALTER COLUMN gname VARCHAR(350) NOT NULL;\n",
                "ALTER TABLE NEW_TEROR ADD continent VARCHAR(300);\n",
                "ALTER TABLE NEW_TEROR DROP COLUMN Continent;"
            ],
            "metadata": {
                "azdata_cell_guid": "1a5684ae-ff44-43ad-a6b0-c9f8f0ad8e61"
            },
            "outputs": [],
            "execution_count": null
        },
        {
            "cell_type": "markdown",
            "source": [
                "## INSERT INTO SELECT\n",
                "\n",
                "(inkrementální updaty)"
            ],
            "metadata": {
                "azdata_cell_guid": "fb0d2531-5714-4fc3-8768-a3afc3ba25b3"
            }
        },
        {
            "cell_type": "code",
            "source": [
                "INSERT INTO NEW_TEROR (gname, nkill, nwound)\n",
                " -- v insertu VŽDYCKY vyjmenovat sloupce, nepoužívat hvězdičku\n",
                " SELECT gname, nkill, nwound \n",
                " FROM teror\n",
                " WHERE iyear=2015;"
            ],
            "metadata": {
                "azdata_cell_guid": "67ade728-e81e-4270-b749-f32eadbe18b7",
                "tags": []
            },
            "outputs": [],
            "execution_count": null
        },
        {
            "cell_type": "markdown",
            "source": [
                "## INSERT VALUES"
            ],
            "metadata": {
                "azdata_cell_guid": "28e26047-a28f-4da3-a5fb-f1f5f7391a41"
            }
        },
        {
            "cell_type": "code",
            "source": [
                "INSERT INTO NEW_TEROR (gname, nkill, nwound)\n",
                "VALUES\n",
                "  ('Žoldáci', 10, 1),\n",
                "  ('Nosiči smrti', 15, 2),\n",
                "  ('Nějácí další teroristi', 155, 5);"
            ],
            "metadata": {
                "azdata_cell_guid": "c0578312-b225-45b9-8b6a-625422ece380"
            },
            "outputs": [],
            "execution_count": null
        },
        {
            "cell_type": "markdown",
            "source": [
                "## UPDATE"
            ],
            "metadata": {
                "azdata_cell_guid": "273bf8e1-7565-4ca3-a972-c84b2bd866e7"
            }
        },
        {
            "cell_type": "code",
            "source": [
                "UPDATE NEW_TEROR SET nkill=0 WHERE nkill is NULL;\n",
                "UPDATE NEW_TEROR SET nkill=0; -- POZOR, bez podmínky nastaví všude 0\n",
                "UPDATE NEW_TEROR SET nkill = 100, nwound= 100 WHERE gname = 'Žoldáci'; -- lze updatovat i více sloupců najednou"
            ],
            "metadata": {
                "azdata_cell_guid": "25d4dab2-cb79-4388-a047-8e93c59b7921"
            },
            "outputs": [],
            "execution_count": null
        },
        {
            "cell_type": "markdown",
            "source": [
                "## TRANSAKCE\n",
                "(better safe than sorry)"
            ],
            "metadata": {
                "azdata_cell_guid": "8fae856e-f0d1-4f66-8ac2-659d120482cd"
            }
        },
        {
            "cell_type": "code",
            "source": [
                "BEGIN TRAN \n",
                "-- hromada SQL dotazů\n",
                "SELECT\n",
                "    gname\n",
                "   ,city\n",
                "   ,sum (nkill) killed\n",
                "   ,sum (nwound) wounded\n",
                "INTO xx_prycsemnou\n",
                "FROM TEROR\n",
                "WHERE iyear=2016\n",
                "GROUP BY gname, city;\n",
                "   \n",
                "UPDATE xx_prycsemnou SET killed = 0;\n",
                "-- COMMIT TRAN -- slibuji vše, co jsem slíbil\n",
                "-- ROLLBACK TRAN -- odvolávám vše, co jsem odvolal"
            ],
            "metadata": {
                "azdata_cell_guid": "9cf38486-7070-4f4d-a44b-b259b1f0c375",
                "tags": []
            },
            "outputs": [],
            "execution_count": null
        },
        {
            "cell_type": "markdown",
            "source": [
                "## DELETE"
            ],
            "metadata": {
                "azdata_cell_guid": "7c6efee3-42b6-410f-8029-7ee15304869d"
            }
        },
        {
            "cell_type": "code",
            "source": [
                "DELETE FROM NEW_TEROR WHERE nkill is NULL;\n",
                "DELETE FROM NEW_TEROR; -- vymaže pouze data"
            ],
            "metadata": {
                "azdata_cell_guid": "d13cca64-9cf7-4be5-aff5-288fbeaddf96"
            },
            "outputs": [],
            "execution_count": null
        },
        {
            "cell_type": "markdown",
            "source": [
                "## DROP"
            ],
            "metadata": {
                "azdata_cell_guid": "152359b0-e585-4c67-b823-8a9bd68ec566"
            }
        },
        {
            "cell_type": "code",
            "source": [
                "DROP TABLE NEW_TEROR;\n",
                "DROP TABLE #NEW_TEROR;\n",
                "DROP DATABASE <jmeno>;"
            ],
            "metadata": {
                "azdata_cell_guid": "3a673f59-c1da-4494-87ad-0f2a0f153eb1"
            },
            "outputs": [],
            "execution_count": null
        },
        {
            "cell_type": "markdown",
            "source": [
                "## IMPORT\n",
                "\n",
                "!!!! je treba udelat novou kapitolu, jiny postup nez ve Snowflake"
            ],
            "metadata": {
                "azdata_cell_guid": "96c2db41-7ffe-454c-bd8f-8cfbf1c28c62"
            }
        }
    ]
}