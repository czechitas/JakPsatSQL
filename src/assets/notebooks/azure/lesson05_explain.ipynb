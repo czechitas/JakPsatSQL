{
    "metadata": {
        "kernelspec": {
            "name": "SQL",
            "display_name": "SQL",
            "language": "sql"
        },
        "language_info": {
            "name": "sql",
            "version": ""
        }
    },
    "nbformat_minor": 2,
    "nbformat": 4,
    "cells": [
        {
            "cell_type": "markdown",
            "source": [
                "## VNOŘENÝ SELECT"
            ],
            "metadata": {
                "azdata_cell_guid": "c369bf25-cd35-4f31-9cf9-e76b530424ba",
                "ondruv_element": "schovavaci_ocko"
            }
        },
        {
            "cell_type": "markdown",
            "source": [
                "Vybere 1 jako SUBSELECT"
            ],
            "metadata": {
                "azdata_cell_guid": "4b08d245-08be-4cc6-8e59-347ea05ebe69"
            }
        },
        {
            "cell_type": "code",
            "source": [
                "SELECT vnoreny.a \n",
                "FROM (SELECT 1 AS a) AS vnoreny;"
            ],
            "metadata": {
                "azdata_cell_guid": "6db6a188-5542-41b8-8a54-e238533512b2",
                "tags": []
            },
            "outputs": [],
            "execution_count": null
        },
        {
            "cell_type": "markdown",
            "source": [
                "Vybere jen některé sloupce jako SUBSELECT"
            ],
            "metadata": {
                "azdata_cell_guid": "96af32ad-126e-4c80-975a-557fd3795045"
            }
        },
        {
            "cell_type": "code",
            "source": [
                "SELECT * \n",
                "FROM (\n",
                "        SELECT gname, iyear \n",
                "        FROM czechitas.teror2 \n",
                "        WHERE country = 54\n",
                "      ) AS subselect;"
            ],
            "metadata": {
                "azdata_cell_guid": "0f98fa6e-2902-46e1-9743-73817ce7f993",
                "tags": []
            },
            "outputs": [],
            "execution_count": null
        },
        {
            "cell_type": "markdown",
            "source": [
                "Vybere unikátní dvojice skupiny a země jako SUBSELECT "
            ],
            "metadata": {
                "azdata_cell_guid": "e4eb02e6-af3a-4add-b4f7-616d116445a1"
            }
        },
        {
            "cell_type": "code",
            "source": [
                "SELECT vnoreny.* \n",
                "FROM (\n",
                "        SELECT DISTINCT t.gname AS skupina, c.name AS zeme \n",
                "        FROM czechitas.teror2 AS t \n",
                "        INNER JOIN czechitas.country AS c ON t.country=c.id\n",
                "     ) AS vnoreny;"
            ],
            "metadata": {
                "azdata_cell_guid": "3bc11ffc-22b6-4194-8eb5-00ba088f9410"
            },
            "outputs": [],
            "execution_count": null
        },
        {
            "cell_type": "markdown",
            "source": [
                "Zobrazení všech teroristických událostí, které spáchala teroristická organizace s nejvetším počtem obětí"
            ],
            "metadata": {
                "azdata_cell_guid": "0e15464e-bfea-4c54-a6a4-0d0d3c7c84dc"
            }
        },
        {
            "cell_type": "code",
            "source": [
                "SELECT gname, iyear, nkill \n",
                "FROM teror\n",
                "WHERE gname = (SELECT TOP 1 gname FROM teror ORDER BY nkill DESC);"
            ],
            "metadata": {
                "azdata_cell_guid": "bd6c5011-1dae-4e7c-9773-98536ce27564"
            },
            "outputs": [],
            "execution_count": null
        },
        {
            "cell_type": "markdown",
            "source": [
                "Počet mrtvých v letech 2017 a 2016, které má na svědomí Islámský Stát tak, aby ve výsledku byl název organizace a ve sloupcích počet mrtvých dle let"
            ],
            "metadata": {
                "azdata_cell_guid": "95530f1f-2c5e-4549-976b-43a31597d6e7"
            }
        },
        {
            "cell_type": "code",
            "source": [
                "SELECT t1.*, \n",
                "    t2.pocet_mrtvych_2016 \n",
                "FROM (\n",
                "        SELECT gname, SUM(nkill) AS pocet_mrtvych_2017\n",
                "        FROM teror\n",
                "        WHERE iyear=2017 AND gname like '%islamic state%' \n",
                "        GROUP BY gname\n",
                "      ) AS t1\n",
                "LEFT JOIN (\n",
                "            SELECT gname, SUM(nkill) AS pocet_mrtvych_2016\n",
                "            FROM teror\n",
                "            WHERE iyear=2016\n",
                "            GROUP BY gname\n",
                "          ) AS t2\n",
                "ON t1.gname = t2.gname;"
            ],
            "metadata": {
                "azdata_cell_guid": "833c814c-9046-49d0-896f-4bb12dc22fab"
            },
            "outputs": [],
            "execution_count": null
        },
        {
            "cell_type": "markdown",
            "source": [
                "Výběr teroristických útoků v roce 2016, které má na svědomí Islámský Stát a doplnění informace o max a min počtu obětí v roce 2016 ke každému útoku"
            ],
            "metadata": {
                "azdata_cell_guid": "74f9493e-a367-4164-90f2-f3bb56b42eb8"
            }
        },
        {
            "cell_type": "code",
            "source": [
                "SELECT t1.eventid, t1.gname, t1.iyear, t2.max_mrtvych_2016, t2.min_mrtvych_2016\n",
                "FROM teror AS t1\n",
                "LEFT JOIN (\n",
                "            SELECT gname, MAX(nkill) AS max_mrtvych_2016, min(nkill) AS min_mrtvych_2016\n",
                "            FROM teror\n",
                "            GROUP BY gname\n",
                "          ) AS t2\n",
                "ON t1.gname=t2.gname\n",
                "WHERE t1.gname LIKE '%islamic state%' AND t1.iyear=2016;"
            ],
            "metadata": {
                "azdata_cell_guid": "8382a6e3-0dc3-4eab-bd96-2f3babbc8212"
            },
            "outputs": [],
            "execution_count": null
        },
        {
            "cell_type": "markdown",
            "source": [
                "## CTE\n",
                "\n",
                "- Common Table Expressions"
            ],
            "metadata": {
                "azdata_cell_guid": "87a82a44-1f8d-4e85-bbd5-18d96a0225ba"
            }
        },
        {
            "cell_type": "code",
            "source": [
                "/*\n",
                "WITH prvni_nazev_poddotazu AS (\n",
                "    SELECT  sloupec_x, \n",
                "            count(*) AS vse1 \n",
                "    FROM tabulka1 \n",
                "    GROUP BY sloupec_x\n",
                "),\n",
                "druhy_nazev_poddotazu AS (\n",
                "    SELECT  sloupec_y, \n",
                "            count(*) AS vse2 \n",
                "    FROM tabulka2 \n",
                "    GROUP BY sloupec_y\n",
                ")\n",
                "SELECT  sloupec_x, \n",
                "        vse1 - vse2 AS rozdil\n",
                "FROM prvni_nazev_poddotazu AS p\n",
                "LEFT JOIN druhy_nazev_poddotazu AS d\n",
                "ON p.sloupec_x = d.sloupec_y;\n",
                "*/"
            ],
            "metadata": {
                "azdata_cell_guid": "816cbc2a-f104-4656-8488-41c4c3a30654"
            },
            "outputs": [],
            "execution_count": null
        },
        {
            "cell_type": "markdown",
            "source": [
                "Ukázka 1"
            ],
            "metadata": {
                "azdata_cell_guid": "a54511b0-6b65-434c-a198-15100419d363"
            }
        },
        {
            "cell_type": "code",
            "source": [
                "WITH ctepoddotaz AS (\n",
                "    SELECT 1 AS jednicka, 'milion' AS dvojka\n",
                ")\n",
                "SELECT  c.jednicka,\n",
                "        c.dvojka \n",
                "FROM ctepoddotaz c;"
            ],
            "metadata": {
                "azdata_cell_guid": "e5f1f5f9-936e-4cab-b3b0-d0b1d36997da"
            },
            "outputs": [],
            "execution_count": null
        },
        {
            "cell_type": "markdown",
            "source": [
                "Ukázka 2"
            ],
            "metadata": {
                "azdata_cell_guid": "875bd51b-2417-4f01-a55d-f81991c9ead1"
            }
        },
        {
            "cell_type": "code",
            "source": [
                "WITH terorcountry AS (\n",
                "    SELECT DISTINCT t.gname skupina,\n",
                "                    c.name zeme \n",
                "    FROM czechitas.teror2 t \n",
                "    INNER JOIN czechitas.country c ON t.country=c.id\n",
                ")\n",
                "SELECT * FROM terorcountry;"
            ],
            "metadata": {
                "azdata_cell_guid": "062d2daa-48b5-4fe6-8a85-caaa2a759fe1"
            },
            "outputs": [],
            "execution_count": null
        },
        {
            "cell_type": "markdown",
            "source": [
                "Ukázka 3"
            ],
            "metadata": {
                "azdata_cell_guid": "1b492113-b7a0-4d40-864b-4f11f536b9fc"
            }
        },
        {
            "cell_type": "code",
            "source": [
                "WITH cte AS (\n",
                "    SELECT gname, iyear \n",
                "    FROM czechitas.teror2 \n",
                "    WHERE country = 54\n",
                ")\n",
                "SELECT * FROM cte;"
            ],
            "metadata": {
                "azdata_cell_guid": "ed002cd7-22d3-4140-a1cd-0cfa89f964bd"
            },
            "outputs": [],
            "execution_count": null
        },
        {
            "cell_type": "markdown",
            "source": [
                "Ukázka 4"
            ],
            "metadata": {
                "azdata_cell_guid": "b601a54d-1769-4ee9-810f-870f1908abf4"
            }
        },
        {
            "cell_type": "code",
            "source": [
                "WITH rukojmi_po_letech_fake AS (\n",
                "     SELECT iyear, \n",
                "            SUM(nhostkid) AS rukojmi_fake \n",
                "     FROM teror \n",
                "     WHERE weaptype1_txt = 'Fake Weapons' AND nhostkid <> -99 \n",
                "     GROUP BY iyear\n",
                "), \n",
                "rukojmi_po_letech_bez_fake AS (\n",
                "    SELECT  iyear, \n",
                "            SUM(nhostkid) AS rukojmi_bez_fake  \n",
                "    FROM teror \n",
                "    WHERE weaptype1_txt <> 'Fake Weapons' AND nhostkid <> -99 \n",
                "    GROUP BY iyear\n",
                ")\n",
                " -- spojení přes roky\n",
                " SELECT f.iyear, \n",
                "        f.rukojmi_fake, \n",
                "        bf.rukojmi_bez_fake\n",
                " FROM rukojmi_po_letech_fake AS f \n",
                " LEFT JOIN rukojmi_po_letech_bez_fake AS bf\n",
                " ON f.iyear = bf.iyear;"
            ],
            "metadata": {
                "azdata_cell_guid": "aa9a966b-38b9-4936-8c0c-1803f759cc29"
            },
            "outputs": [],
            "execution_count": null
        }
    ]
}