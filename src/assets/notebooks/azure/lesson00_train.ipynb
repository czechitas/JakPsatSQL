{
    "metadata": {
        "kernelspec": {
            "name": "SQL",
            "display_name": "SQL",
            "language": "sql"
        },
        "language_info": {
            "name": "sql",
            "version": ""
        }
    },
    "nbformat_minor": 2,
    "nbformat": 4,
    "cells": [
        {
            "cell_type": "markdown",
            "source": [
                "Vyber vše z tabulky teror"
            ],
            "metadata": {
                "azdata_cell_guid": "c369bf25-cd35-4f31-9cf9-e76b530424ba"
            }
        },
        {
            "cell_type": "code",
            "source": [
                "SELECT * FROM teror;"
            ],
            "metadata": {
                "azdata_cell_guid": "6db6a188-5542-41b8-8a54-e238533512b2"
            },
            "outputs": [],
            "execution_count": null
        },
        {
            "cell_type": "markdown",
            "source": [
                "Zobraz náhodných deset řádek z tabulky teror"
            ],
            "metadata": {
                "azdata_cell_guid": "978845ba-23c0-463c-9e5d-3bda0899cc2b"
            }
        },
        {
            "cell_type": "code",
            "source": [
                "SELECT TOP 10 * FROM teror;"
            ],
            "metadata": {
                "azdata_cell_guid": "61978c9c-9b9e-42d7-af46-ef53467b0c1a"
            },
            "outputs": [],
            "execution_count": null
        },
        {
            "cell_type": "markdown",
            "source": [
                "Vypiš jen sloupce eventid, iyear, country_txt, region_txt"
            ],
            "metadata": {
                "azdata_cell_guid": "d2406912-41b7-466e-8695-43f3159acd48"
            }
        },
        {
            "cell_type": "code",
            "source": [
                "SELECT eventid,iyear,country_txt,region_txt FROM teror;"
            ],
            "metadata": {
                "azdata_cell_guid": "82cd4817-1e8e-4371-b58e-1e73a39167ca"
            },
            "outputs": [],
            "execution_count": null
        },
        {
            "cell_type": "markdown",
            "source": [
                "Vypiš všechny roky vyskytující se v tabulce teror tak, aby byl každý rok ve výsledné tabulce jen jednou"
            ],
            "metadata": {
                "azdata_cell_guid": "bf7d0729-0921-4638-b249-bcaccd9e2801"
            }
        },
        {
            "cell_type": "code",
            "source": [
                "SELECT DISTINCT iyear FROM teror;"
            ],
            "metadata": {
                "azdata_cell_guid": "2dfd9e00-70b1-4ee2-bc80-f4a7a8ccb3f4"
            },
            "outputs": [],
            "execution_count": null
        },
        {
            "cell_type": "markdown",
            "source": [
                "Vyber všechny teroristické útoky v roce 2016"
            ],
            "metadata": {
                "azdata_cell_guid": "09b7c9c5-f36e-450f-94f8-9d70a8a985a9"
            }
        },
        {
            "cell_type": "code",
            "source": [
                "SELECT * FROM teror WHERE iyear=2016;"
            ],
            "metadata": {
                "azdata_cell_guid": "a51030b6-b5c3-4ee8-bddd-3333cb50edc7"
            },
            "outputs": [],
            "execution_count": null
        },
        {
            "cell_type": "markdown",
            "source": [
                "Vypiš všechny útoky za rok 2015 a vyber pouze sloupce eventid, iyear, country_txt, region_txt a přejmenuj je na udalost, rok, zeme, region"
            ],
            "metadata": {
                "azdata_cell_guid": "d126625f-8664-4363-b85b-8b33a098a4ac"
            }
        },
        {
            "cell_type": "code",
            "source": [
                "SELECT  eventid      AS udalost\n",
                "        ,iyear       AS rok\n",
                "        ,country_txt AS zeme\n",
                "        ,region_txt  AS region \n",
                "FROM teror \n",
                "WHERE iyear=2015;"
            ],
            "metadata": {
                "azdata_cell_guid": "eab5c50e-5f97-48e6-b407-4924295f2ea4"
            },
            "outputs": [],
            "execution_count": null
        },
        {
            "cell_type": "markdown",
            "source": [
                "Vyber všechny události v roce 2014 a vyber pouze sloupce iyear, imonth a iday. Spoj je do jednoho sloupce oddělené pomlčkou a pojmenuj ho datum"
            ],
            "metadata": {
                "azdata_cell_guid": "f82f942f-0070-4f28-812f-8103605747ab"
            }
        },
        {
            "cell_type": "code",
            "source": [
                "SELECT CONCAT(iyear,'-',imonth,'-',iday) AS datum FROM teror WHERE iyear=2014;"
            ],
            "metadata": {
                "azdata_cell_guid": "83fafd88-f813-4b29-8ee0-d6e65dfb576f"
            },
            "outputs": [],
            "execution_count": null
        },
        {
            "cell_type": "markdown",
            "source": [
                "Seřaď datum z předchozího selektu sestupně (desc) a vypiš jen jedinečné záznamy"
            ],
            "metadata": {
                "azdata_cell_guid": "3f7b013b-01d9-461a-895f-391dc03b499a"
            }
        },
        {
            "cell_type": "code",
            "source": [
                "SELECT DISTINCT CONCAT(iyear,'-',imonth,'-',iday) AS datum FROM teror WHERE iyear=2014 ORDER BY datum DESC;"
            ],
            "metadata": {
                "azdata_cell_guid": "7d8e4acb-43f2-48cf-8b8d-0c74f11f0f99"
            },
            "outputs": [],
            "execution_count": null
        },
        {
            "cell_type": "markdown",
            "source": [
                "Vypiš počet teroristických útoků, které se staly po roce 2015"
            ],
            "metadata": {
                "azdata_cell_guid": "8c296297-d389-4b06-a002-e1a222985bdd"
            }
        },
        {
            "cell_type": "code",
            "source": [
                "SELECT COUNT(*) FROM teror WHERE iyear>2015;"
            ],
            "metadata": {
                "azdata_cell_guid": "843989ef-7a4f-42dc-8ea1-c4e056895bcc"
            },
            "outputs": [],
            "execution_count": null
        }
    ]
}