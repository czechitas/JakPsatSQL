{
    "metadata": {
        "kernelspec": {
            "name": "SQL",
            "display_name": "SQL",
            "language": "sql"
        },
        "language_info": {
            "name": "sql",
            "version": ""
        }
    },
    "nbformat_minor": 2,
    "nbformat": 4,
    "cells": [
        {
            "cell_type": "markdown",
            "source": [
                "NOVY UKOL PRO LEKCI 5 !!!!!! "
            ],
            "metadata": {
                "azdata_cell_guid": "f3e2f8da-3a7e-4e17-ac01-685164b225d5"
            }
        },
        {
            "cell_type": "code",
            "source": [
                ""
            ],
            "metadata": {
                "azdata_cell_guid": "68af0a0a-2da3-4c57-a24d-266cc883acb1"
            },
            "outputs": [],
            "execution_count": null
        }
    ]
}