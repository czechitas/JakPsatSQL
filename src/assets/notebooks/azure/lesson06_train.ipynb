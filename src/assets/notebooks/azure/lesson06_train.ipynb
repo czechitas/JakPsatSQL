{
    "metadata": {
        "kernelspec": {
            "name": "SQL",
            "display_name": "SQL",
            "language": "sql"
        },
        "language_info": {
            "name": "sql",
            "version": ""
        }
    },
    "nbformat_minor": 2,
    "nbformat": 4,
    "cells": [
        {
            "cell_type": "markdown",
            "source": [
                "Vypiš tři největší útoky pro organizace s dohromady víc než 500 obětmi. Vypiš sloupečky city, gname a nkill a rank. Výsledek seřaď podle gname a rank."
            ],
            "metadata": {
                "azdata_cell_guid": "c369bf25-cd35-4f31-9cf9-e76b530424ba"
            }
        },
        {
            "cell_type": "code",
            "source": [
                "SELECT city, gname, nkill, rank\n",
                "FROM (\n",
                "        SELECT  *, \n",
                "                RANK() OVER (PARTITION BY gname ORDER BY nkill DESC) AS rank\n",
                "        FROM teror\n",
                "        WHERE nkill IS NOT NULL AND gname IN (\n",
                "                                                SELECT gname AS sk \n",
                "                                                FROM teror \n",
                "                                                GROUP BY gname \n",
                "                                                HAVING SUM(nkill) > 500 \n",
                "                                              ) \n",
                "    ) AS serazene_organizace_s_vice_jak_500  -- u T-SQL je potřeba dát vnořenému selektu (tabulce) alias\n",
                "WHERE rank <= 3\n",
                "ORDER BY gname, rank;"
            ],
            "metadata": {
                "azdata_cell_guid": "6db6a188-5542-41b8-8a54-e238533512b2",
                "tags": []
            },
            "outputs": [],
            "execution_count": null
        },
        {
            "cell_type": "markdown",
            "source": [
                "Vypiš 5 nejaktivnějších organizací podle regionu. Výsledek seraď podle regionu a ranku."
            ],
            "metadata": {
                "azdata_cell_guid": "3bd66618-8fab-452b-8069-af6eeade228d",
                "language": "markdown"
            }
        },
        {
            "cell_type": "code",
            "source": [
                "SELECT *\n",
                "FROM (\n",
                "        SELECT  gname AS skupina,\n",
                "                region_txt AS region,\n",
                "                COUNT(*) AS pocet_utoku,\n",
                "                RANK() OVER (PARTITION BY region_txt ORDER BY COUNT(*) DESC) AS rank\n",
                "        FROM teror\n",
                "        WHERE gname != 'Unknown'\n",
                "        GROUP  BY gname, region_txt\n",
                ") AS aktivita_organizaci_dle_regionu\n",
                "WHERE rank <= 5\n",
                "ORDER BY region, rank;"
            ],
            "metadata": {
                "azdata_cell_guid": "dbd0372a-7fa4-429d-b8f0-624f081aa6ae",
                "tags": []
            },
            "outputs": [],
            "execution_count": null
        }
    ]
}