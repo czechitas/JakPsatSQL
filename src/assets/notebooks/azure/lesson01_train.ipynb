{
    "metadata": {
        "kernelspec": {
            "name": "SQL",
            "display_name": "SQL",
            "language": "sql"
        },
        "language_info": {
            "name": "sql",
            "version": ""
        }
    },
    "nbformat_minor": 2,
    "nbformat": 4,
    "cells": [
        {
            "cell_type": "markdown",
            "source": [
                "Vyber z tabulky útoky v Německu, kde zemřel alespoň jeden terorista"
            ],
            "metadata": {
                "azdata_cell_guid": "c369bf25-cd35-4f31-9cf9-e76b530424ba"
            }
        },
        {
            "cell_type": "code",
            "source": [
                "SELECT * FROM teror WHERE nkillter > 0 AND country_txt = 'Germany';"
            ],
            "metadata": {
                "azdata_cell_guid": "6db6a188-5542-41b8-8a54-e238533512b2"
            },
            "outputs": [],
            "execution_count": null
        },
        {
            "cell_type": "markdown",
            "source": [
                "Zobraz jen sloupečky GNAME, COUNTRY_TXT, NKILL a všechny řádky (seřazené podle počtu obětí sestupně), na kterých je víc než 340 obětí (počet obětí je ve sloupci NKILL), sloupečky přejmenuj na ORGANIZACE, ZEME, POCET_OBETI"
            ],
            "metadata": {
                "azdata_cell_guid": "dad21483-0d98-42b8-b591-3cfa20cddcc7"
            }
        },
        {
            "cell_type": "code",
            "source": [
                "SELECT  gname AS ORGANIZACE, country_txt AS ZEME, nkill AS POCET_OBETI \n",
                "FROM    teror \n",
                "WHERE   nkill > 340 \n",
                "ORDER BY POCET_OBETI DESC;"
            ],
            "metadata": {
                "azdata_cell_guid": "91f22d5f-efa8-4389-92aa-c1c36c45da5d"
            },
            "outputs": [],
            "execution_count": null
        },
        {
            "cell_type": "markdown",
            "source": [
                "Zobraz sloupečky IYEAR, IMONTH, IDAY, GNAME, CITY, ATTACKTYPE1_TXT, TARGTYPE1_TXT, WEAPTYPE1_TXT, WEAPDETAIL, NKILL, NWOUND a vyber jen útoky, které se staly v Czech Republic v letech 2015, 2016 a 2017. Všechna data seřaď chronologicky sestupně"
            ],
            "metadata": {
                "azdata_cell_guid": "a2b48d37-0c9c-4f02-af24-4ba3601f21b5"
            }
        },
        {
            "cell_type": "code",
            "source": [
                "SELECT  iyear, imonth, iday, gname, city, attacktype1_txt, targtype1_txt, weaptype1_txt, weapdetail, nkill, nwound \n",
                "FROM    teror \n",
                "WHERE   country_txt = 'Czech Republic' AND IYEAR IN (2015, 2016, 2017) \n",
                "ORDER BY iyear DESC, imonth DESC, iday DESC;"
            ],
            "metadata": {
                "azdata_cell_guid": "c31fb38e-8eca-4151-a3e5-502944a32bf4"
            },
            "outputs": [],
            "execution_count": null
        },
        {
            "cell_type": "markdown",
            "source": [
                "Vypiš všechny organizace, které na jakémkoliv místě v názvu obsahují výraz „anti“ a výraz „extremists“"
            ],
            "metadata": {
                "azdata_cell_guid": "50f18ecc-8ce2-449d-bb62-8249053d81c6"
            }
        },
        {
            "cell_type": "code",
            "source": [
                "SELECT DISTINCT gname FROM teror WHERE lower(gname) LIKE '%anti%' AND lower(gname) LIKE '%extremists%';"
            ],
            "metadata": {
                "azdata_cell_guid": "01862195-1d02-4a73-8ec1-bc6d8ccbdd7b"
            },
            "outputs": [],
            "execution_count": null
        },
        {
            "cell_type": "markdown",
            "source": [
                "Z iYear, iMonth a iDay vytvořte sloupeček datum a vypište tohle datum a pak datum o tři měsíce později a klidně i o tři dny a tři měsíce."
            ],
            "metadata": {
                "azdata_cell_guid": "1a2c981a-87d5-497a-ab90-7ea86e5d26d8"
            }
        },
        {
            "cell_type": "code",
            "source": [
                "SELECT  DATEFROMPARTS(iyear, imonth, iday) AS datum\n",
                "        ,iyear\n",
                "        ,imonth\n",
                "        ,iday\n",
                "        ,DATEADD(month, 3, DATEFROMPARTS(iyear, imonth, iday)) AS o_tri_mesice_pozdeji\n",
                "        ,DATEADD(day, 3, DATEADD(month, 3, DATEFROMPARTS(iyear, imonth, iday))) AS o_tri_mesice_a_tri_dny_pozdeji \n",
                "FROM teror;"
            ],
            "metadata": {
                "azdata_cell_guid": "9e5c52d3-776f-4299-923b-3f488d305c43"
            },
            "outputs": [],
            "execution_count": null
        },
        {
            "cell_type": "markdown",
            "source": [
                "Vypiš všechny druhy útoků ATTACKTYPE1_TXT"
            ],
            "metadata": {
                "azdata_cell_guid": "bdee735e-9fb8-484c-a857-d279aecd6dda"
            }
        },
        {
            "cell_type": "code",
            "source": [
                "SELECT DISTINCT attacktype1_txt FROM teror;"
            ],
            "metadata": {
                "azdata_cell_guid": "4925556a-e9d5-48d0-a756-1f9a312f6f04"
            },
            "outputs": [],
            "execution_count": null
        },
        {
            "cell_type": "markdown",
            "source": [
                "Vypiš všechny útoky v Německu v roce 2015, vypiš sloupečky IYEAR, IMONTH, IDAY, COUNTRY_TXT, REGION_TXT, PROVSTATE, CITY, NKILL, NKILLTER, NWOUND. Ve sloupečku COUNTRY_TXT bude všude hodnota ‘Německo’"
            ],
            "metadata": {
                "azdata_cell_guid": "e98a50f7-952f-4565-b04a-55f8f03ef88c"
            }
        },
        {
            "cell_type": "code",
            "source": [
                "SELECT  iyear   AS rok\n",
                "        ,imonth AS mesic\n",
                "        ,iday   AS den\n",
                "        ,'Německo' AS COUNTRY_TXT /*naplni sloupecek country_txt nasim textem*/\n",
                "        ,region_txt\n",
                "        ,provstate\n",
                "        ,city\n",
                "        ,nkill\n",
                "        ,nkillter\n",
                "        ,nwound\n",
                "FROM    teror \n",
                "WHERE country_txt = 'Germany' AND iyear = 2015;"
            ],
            "metadata": {
                "azdata_cell_guid": "bd3b0f29-030d-498b-91e7-6af9071624de"
            },
            "outputs": [],
            "execution_count": null
        },
        {
            "cell_type": "markdown",
            "source": [
                "Kolik událostí se stalo ve třetím a čtvrtém měsíci a počet mrtvých teroristů není NULL?"
            ],
            "metadata": {
                "azdata_cell_guid": "f56183c9-8c12-4341-9854-73ac1066a721"
            }
        },
        {
            "cell_type": "code",
            "source": [
                "SELECT COUNT(*) FROM teror WHERE imonth BETWEEN 3 AND 4 AND nkillter IS NOT NULL;\n",
                "SELECT COUNT(*) FROM teror WHERE imonth IN (3,4) AND nkillter IS NOT NULL;\n",
                "SELECT COUNT(*) FROM teror WHERE (imonth = 3 OR imonth = 4) AND nkillter IS NOT NULL;"
            ],
            "metadata": {
                "azdata_cell_guid": "e3f898d0-4ebd-4b05-a197-f6119b096a1b"
            },
            "outputs": [],
            "execution_count": null
        },
        {
            "cell_type": "markdown",
            "source": [
                "Vypiš první 3 města seřazena abecedně kde bylo zabito 30 až 100 teroristů nebo zabito 500 až 1000 lidí. Vypiš i sloupečky NKILL a NKILLTER."
            ],
            "metadata": {
                "azdata_cell_guid": "7ce2d84b-2747-4dc7-96eb-12eb5aba191d"
            }
        },
        {
            "cell_type": "code",
            "source": [
                "SELECT  \n",
                "    TOP 3 city, nkillter, nkill \n",
                "FROM    teror \n",
                "WHERE nkillter BETWEEN 30 AND 100 OR nkill BETWEEN 500 AND 1000 \n",
                "ORDER BY city;"
            ],
            "metadata": {
                "azdata_cell_guid": "c98ba963-b2ff-4a12-95fb-e6340a178875"
            },
            "outputs": [],
            "execution_count": null
        },
        {
            "cell_type": "markdown",
            "source": [
                "Vypiš všechny útoky z roku 2014, ke kterým se přihlásil Islámský stát ('Islamic State of Iraq and the Levant (ISIL)'). Vypiš sloupečky IYEAR, IMONTH, IDAY, GNAME, COUNTRY_TXT, REGION_TXT, PROVSTATE, CITY, NKILL, NKILLTER, NWOUND a na konec přidej sloupeček EventImpact, který bude obsahovat:\n",
                "- 'Massacre' pro útoky s víc než 1000 obětí\n",
                "- 'Bloodbath' pro útoky s 501 - 1000 obětmi\n",
                "- 'Carnage' pro ůtoky s 251 - 500 obětmi\n",
                "- 'Blodshed' pro útoky se 100 - 250 obětmi\n",
                "- 'Slaugter' pro útoky s 1 - 100 obětmi\n",
                "- a ‘N/A’ pro všechny ostatní útoky."
            ],
            "metadata": {
                "azdata_cell_guid": "6b2d79f8-5a7d-446e-b0af-5c9fb7672b68"
            }
        },
        {
            "cell_type": "code",
            "source": [
                "SELECT  iyear, imonth, iday, gname, country_txt, region_txt, provstate, city, nkill, nkillter, nwound,\n",
                "    CASE \n",
                "        WHEN nkill > 1000 THEN 'Massacre'\n",
                "        WHEN nkill > 500  THEN 'Bloodbath'\n",
                "        WHEN nkill > 250  THEN 'Carnage'\n",
                "        WHEN nkill > 100  THEN 'Blodshed'\n",
                "        WHEN nkill > 0    THEN 'Slaugter'\n",
                "        ELSE 'N/A'\n",
                "    END AS EventImpact\n",
                " FROM   teror\n",
                " WHERE  gname = 'Islamic State of Iraq and the Levant (ISIL)' AND iyear = 2014\n",
                " ORDER BY nkill DESC;"
            ],
            "metadata": {
                "azdata_cell_guid": "ccd7f014-7dc8-4448-87ec-f480defcf200"
            },
            "outputs": [],
            "execution_count": null
        },
        {
            "cell_type": "markdown",
            "source": [
                "Vypiš všechny útoky s alespoň jednou obětí z Německa, Rakouska, Švýcarska, Francie a Itálie. U Německa, Rakouska, Švýcarska nahraď region_txt za ‘DACH’ u zbytku nech původní region. Vypiš sloupečky IYEAR, IMONTH, IDAY, COUNTRY_TXT, REGION_TXT, PROVSTATE, CITY, NKILL, NKILLTER, NWOUND. Výstup seřaď podle počtu raněných sestupně"
            ],
            "metadata": {
                "azdata_cell_guid": "5bc66805-6982-490c-a78c-fea22646bd33"
            }
        },
        {
            "cell_type": "code",
            "source": [
                "SELECT  iyear, imonth, iday, country_txt, \n",
                "    CASE\n",
                "        WHEN country_txt IN ('Germany', 'Austria', 'Switzerland') THEN 'DACH'\n",
                "        ELSE region_txt\n",
                "    END AS region_txt, provstate, city, nkill, nkillter, nwound\n",
                " FROM   teror \n",
                " WHERE  nkill > 0 AND COUNTRY_TXT in ('Germany', 'Austria', 'Switzerland', 'France', 'Italy')\n",
                " ORDER BY nwound DESC;"
            ],
            "metadata": {
                "azdata_cell_guid": "a2c4c019-cb00-4a4b-b2c6-bf5ed9a7636f"
            },
            "outputs": [],
            "execution_count": null
        }
    ]
}