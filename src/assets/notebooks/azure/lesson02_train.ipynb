{
    "metadata": {
        "kernelspec": {
            "name": "SQL",
            "display_name": "SQL",
            "language": "sql"
        },
        "language_info": {
            "name": "sql",
            "version": ""
        }
    },
    "nbformat_minor": 2,
    "nbformat": 4,
    "cells": [
        {
            "cell_type": "markdown",
            "source": [
                "Zjisti počet obětí a raněných po letech a měsících"
            ],
            "metadata": {
                "azdata_cell_guid": "c369bf25-cd35-4f31-9cf9-e76b530424ba"
            }
        },
        {
            "cell_type": "code",
            "source": [
                "SELECT iyear, imonth, SUM(nkill) AS killed, SUM(nwound) AS wounded FROM teror GROUP BY iyear, imonth ORDER BY iyear, imonth;"
            ],
            "metadata": {
                "azdata_cell_guid": "6db6a188-5542-41b8-8a54-e238533512b2"
            },
            "outputs": [],
            "execution_count": null
        },
        {
            "cell_type": "markdown",
            "source": [
                "Zjisti počet obětí a raněných v západní Evropě po letech a měsících"
            ],
            "metadata": {
                "azdata_cell_guid": "339194c3-e1f2-456d-a381-2ee41126031a"
            }
        },
        {
            "cell_type": "code",
            "source": [
                "SELECT iyear, imonth, SUM(nkill) AS killed, SUM(nwound) AS wounded FROM teror WHERE region_txt = 'Western Europe' GROUP By iyear, imonth ORDER BY  iyear, imonth;"
            ],
            "metadata": {
                "azdata_cell_guid": "66bbc8df-c63e-4949-a871-21d6e88fc933"
            },
            "outputs": [],
            "execution_count": null
        },
        {
            "cell_type": "markdown",
            "source": [
                "Zjisti počet útoků po zemích. Seřaď je podle počtu útoků sestupně"
            ],
            "metadata": {
                "azdata_cell_guid": "1af31c4a-759e-4b57-a9d6-f2dd5bc4a312"
            }
        },
        {
            "cell_type": "code",
            "source": [
                "SELECT country_txt, COUNT(*) AS no_of_events    FROM teror GROUP BY country_txt ORDER BY COUNT(*) DESC;\n",
                "SELECT country_txt, COUNT(1) AS no_of_events    FROM teror GROUP BY country_txt ORDER BY COUNT(1) DESC;\n",
                "SELECT country_txt, COUNT('1') AS no_of_events  FROM teror GROUP BY country_txt ORDER BY 2 DESC;"
            ],
            "metadata": {
                "azdata_cell_guid": "f736b4e4-b52d-4d3d-a0c0-321ce039da4c"
            },
            "outputs": [],
            "execution_count": null
        },
        {
            "cell_type": "markdown",
            "source": [
                "Zjisti počet útoků po zemích a letech, seřaď je podle počtu útoků sestupně"
            ],
            "metadata": {
                "azdata_cell_guid": "f3e2f8da-3a7e-4e17-ac01-685164b225d5"
            }
        },
        {
            "cell_type": "code",
            "source": [
                "SELECT country_txt, iyear, COUNT(*) AS no_of_events \n",
                "FROM teror \n",
                "GROUP BY country_txt, iyear \n",
                "ORDER BY COUNT(*) DESC;"
            ],
            "metadata": {
                "azdata_cell_guid": "2ad64f22-d62c-4cb2-9fb5-236f94f5e083"
            },
            "outputs": [],
            "execution_count": null
        },
        {
            "cell_type": "markdown",
            "source": [
                "(CHYTÁK) Kolik která organizace spáchala útoků zápalnými zbraněmi (weaptype1_txt = 'Incendiary'), kolik při nich celkem zabila obětí, kolik zemřelo teroristů a kolik lidí bylo zraněno (nkill, nkillter, nwound)"
            ],
            "metadata": {
                "azdata_cell_guid": "69865b04-c822-47bf-b03d-86e09072b3df"
            }
        },
        {
            "cell_type": "code",
            "source": [
                "SELECT gname, COUNT(eventid) AS no_of_events, SUM(nkill) AS killed_total, SUM(nkillter) AS killed_terrorists, SUM(nwound) AS wounded_total \n",
                "FROM teror \n",
                "WHERE weaptype1_txt = 'Incendiary' \n",
                "GROUP BY gname;"
            ],
            "metadata": {
                "azdata_cell_guid": "4352da89-b38b-491f-a1e5-ef660d0e13d8"
            },
            "outputs": [],
            "execution_count": null
        },
        {
            "cell_type": "markdown",
            "source": [
                "Stejné jako 3e, jen ve výsledném výpisu chceme jen organizace, které zápalnými útoky zranily 50 a více lidí a nechceme tam vidět “organizaci” Unknown"
            ],
            "metadata": {
                "azdata_cell_guid": "a5068b32-0885-4ac3-a8f0-a575ef202cac"
            }
        },
        {
            "cell_type": "code",
            "source": [
                "SELECT gname, COUNT(eventid) AS no_of_events, SUM(nkill) AS killed_total, SUM(nkillter) AS killed_terrorists, SUM(nwound) AS wounded_total \n",
                "FROM teror \n",
                "WHERE weaptype1_txt = 'Incendiary' \n",
                "GROUP BY gname \n",
                "HAVING gname <> 'Unknown' AND sum(nwound) >= 50;"
            ],
            "metadata": {
                "azdata_cell_guid": "f9cdb86c-aca5-40c7-a4a9-2356edf59562",
                "tags": []
            },
            "outputs": [],
            "execution_count": null
        },
        {
            "cell_type": "markdown",
            "source": [
                "Vypište celkový počet útoků podle druhu zbraně weaptype1_txt , počet mrtvých, mrtvých teroristů, průměrný počet mrtvých, průměrný počet mrtvých teroristů, kolik mrtvých obětí připadá na jednoho mrtvého teroristu a kolik zraněných..."
            ],
            "metadata": {
                "azdata_cell_guid": "fa45c783-b49b-4ddd-a3a9-d14723fe8795"
            }
        },
        {
            "cell_type": "code",
            "source": [
                "SELECT weaptype1_txt   AS weapon_type\n",
                "       ,COUNT(eventid) AS no_of_events\n",
                "       ,SUM(nkill)     AS killed\n",
                "       ,SUM(nkillter)  AS killed_terrorist\n",
                "       ,AVG(nkill)     AS avg_killed\n",
                "       ,AVG(nkillter)  AS avg_killed_terrorist\n",
                "       ,CASE\n",
                "            WHEN SUM(nkillter) != 0 THEN SUM(nkill)/SUM(nkillter)-1\n",
                "            ELSE NULL\n",
                "       END AS how_many_dead_per_terrorist\n",
                "       , SUM(nwound)    AS wounded\n",
                "       , CASE\n",
                "            WHEN SUM(nkillter) != 0 THEN SUM(nwound)/SUM(nkillter)-1\n",
                "            ELSE NULL\n",
                "       END AS how_many_wounded_per_terrorist \n",
                "FROM teror\n",
                "GROUP BY weaptype1_txt\n",
                "ORDER BY no_of_events DESC;"
            ],
            "metadata": {
                "azdata_cell_guid": "fd394e98-0093-455e-88c6-4a55e4aaca83"
            },
            "outputs": [
{
    "output_type": "display_data",
    "data": {
        "text/html": "Warning: Null value is eliminated by an aggregate or other SET operation."
    },
    "metadata": {}
}, {
    "output_type": "display_data",
    "data": {
        "text/html": "(10 rows affected)"
    },
    "metadata": {}
}, {
    "output_type": "display_data",
    "data": {
        "text/html": "Total execution time: 00:00:00.200"
    },
    "metadata": {}
}, {
    "output_type": "execute_result",
    "metadata": {},
    "execution_count": 20,
    "data": {
        "application/vnd.dataresource+json": {
            "schema": {
                "fields": [
                    {
                        "name": "weapon_type"
                    },
                    {
                        "name": "no_of_events"
                    },
                    {
                        "name": "killed"
                    },
                    {
                        "name": "killed_terrorist"
                    },
                    {
                        "name": "avg_killed"
                    },
                    {
                        "name": "avg_killed_terrorist"
                    },
                    {
                        "name": "how_many_dead_per_terrorist"
                    },
                    {
                        "name": "wounded"
                    },
                    {
                        "name": "how_many_wounded_per_terrorist"
                    }
                ]
            },
            "data": [
                {
                    "0": "Explosives",
                    "1": "27998",
                    "2": "68682",
                    "3": "17817",
                    "4": "2",
                    "5": "0",
                    "6": "2",
                    "7": "103827",
                    "8": "4"
                },
                {
                    "0": "Firearms",
                    "1": "14121",
                    "2": "42668",
                    "3": "12587",
                    "4": "3",
                    "5": "0",
                    "6": "2",
                    "7": "20876",
                    "8": "0"
                },
                {
                    "0": "Unknown",
                    "1": "5360",
                    "2": "20563",
                    "3": "9233",
                    "4": "4",
                    "5": "1",
                    "6": "1",
                    "7": "6971",
                    "8": "-1"
                },
                {
                    "0": "Incendiary",
                    "1": "2430",
                    "2": "1271",
                    "3": "234",
                    "4": "0",
                    "5": "0",
                    "6": "4",
                    "7": "1584",
                    "8": "5"
                },
                {
                    "0": "Melee",
                    "1": "1199",
                    "2": "1783",
                    "3": "269",
                    "4": "1",
                    "5": "0",
                    "6": "5",
                    "7": "1366",
                    "8": "4"
                },
                {
                    "0": "Chemical",
                    "1": "95",
                    "2": "147",
                    "3": "36",
                    "4": "1",
                    "5": "0",
                    "6": "3",
                    "7": "3410",
                    "8": "93"
                },
                {
                    "0": "\\Vehicle (not to include vehicle-borne explosives, i.e., car or truck bombs)\\",
                    "1": "79",
                    "2": "88",
                    "3": "33",
                    "4": "1",
                    "5": "0",
                    "6": "1",
                    "7": "387",
                    "8": "10"
                },
                {
                    "0": "Other",
                    "1": "40",
                    "2": "92",
                    "3": "0",
                    "4": "2",
                    "5": "0",
                    "6": "NULL",
                    "7": "13",
                    "8": "NULL"
                },
                {
                    "0": "Sabotage Equipment",
                    "1": "30",
                    "2": "34",
                    "3": "0",
                    "4": "1",
                    "5": "0",
                    "6": "NULL",
                    "7": "122",
                    "8": "NULL"
                },
                {
                    "0": "Fake Weapons",
                    "1": "2",
                    "2": "0",
                    "3": "0",
                    "4": "0",
                    "5": "0",
                    "6": "NULL",
                    "7": "0",
                    "8": "NULL"
                }
            ]
        },
        "text/html": [
            "<table>",
            "<tr><th>weapon_type</th><th>no_of_events</th><th>killed</th><th>killed_terrorist</th><th>avg_killed</th><th>avg_killed_terrorist</th><th>how_many_dead_per_terrorist</th><th>wounded</th><th>how_many_wounded_per_terrorist</th></tr>",
            "<tr><td>Explosives</td><td>27998</td><td>68682</td><td>17817</td><td>2</td><td>0</td><td>2</td><td>103827</td><td>4</td></tr>",
            "<tr><td>Firearms</td><td>14121</td><td>42668</td><td>12587</td><td>3</td><td>0</td><td>2</td><td>20876</td><td>0</td></tr>",
            "<tr><td>Unknown</td><td>5360</td><td>20563</td><td>9233</td><td>4</td><td>1</td><td>1</td><td>6971</td><td>-1</td></tr>",
            "<tr><td>Incendiary</td><td>2430</td><td>1271</td><td>234</td><td>0</td><td>0</td><td>4</td><td>1584</td><td>5</td></tr>",
            "<tr><td>Melee</td><td>1199</td><td>1783</td><td>269</td><td>1</td><td>0</td><td>5</td><td>1366</td><td>4</td></tr>",
            "<tr><td>Chemical</td><td>95</td><td>147</td><td>36</td><td>1</td><td>0</td><td>3</td><td>3410</td><td>93</td></tr>",
            "<tr><td>\\Vehicle (not to include vehicle-borne explosives, i.e., car or truck bombs)\\</td><td>79</td><td>88</td><td>33</td><td>1</td><td>0</td><td>1</td><td>387</td><td>10</td></tr>",
            "<tr><td>Other</td><td>40</td><td>92</td><td>0</td><td>2</td><td>0</td><td>NULL</td><td>13</td><td>NULL</td></tr>",
            "<tr><td>Sabotage Equipment</td><td>30</td><td>34</td><td>0</td><td>1</td><td>0</td><td>NULL</td><td>122</td><td>NULL</td></tr>",
            "<tr><td>Fake Weapons</td><td>2</td><td>0</td><td>0</td><td>0</td><td>0</td><td>NULL</td><td>0</td><td>NULL</td></tr>",
            "</table>"
        ]
    }
}
],
            "execution_count": null
        }
    ]
}