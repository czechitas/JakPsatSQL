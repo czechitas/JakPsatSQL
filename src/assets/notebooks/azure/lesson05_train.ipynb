{
    "metadata": {
        "kernelspec": {
            "name": "SQL",
            "display_name": "SQL",
            "language": "sql"
        },
        "language_info": {
            "name": "sql",
            "version": ""
        }
    },
    "nbformat_minor": 2,
    "nbformat": 4,
    "cells": [
        {
            "cell_type": "markdown",
            "source": [
                "Vypiš všechny teroristické události v zemi, kde bylo spácháno nejvíce terosticých útoků. Vyber sloupečky city, country_txt a nkill. Výsledek seraď podle názvu města."
            ],
            "metadata": {
                "azdata_cell_guid": "c369bf25-cd35-4f31-9cf9-e76b530424ba"
            }
        },
        {
            "cell_type": "code",
            "source": [
                "-- varianta s INNER JOIN\n",
                "SELECT  t.city, \n",
                "        t.country_txt, \n",
                "        t.nkill \n",
                "FROM teror AS t\n",
                "JOIN (\n",
                "        SELECT TOP 1 country_txt, COUNT(country_txt) AS pocet\n",
                "        FROM teror \n",
                "        GROUP BY country_txt \n",
                "        ORDER BY pocet DESC \n",
                ") AS t2\n",
                "ON t.country_txt=t2.country_txt\n",
                "ORDER BY city;\n",
                "\n",
                "-- varianta s výběrem země přímo ve WHERE podmínce\n",
                "SELECT  city, \n",
                "        country_txt, \n",
                "        nkill \n",
                "FROM teror AS t\n",
                "WHERE country_txt = (\n",
                "                        SELECT TOP 1 country_txt \n",
                "                        FROM teror \n",
                "                        GROUP BY country_txt \n",
                "                        ORDER BY COUNT(*) DESC\n",
                "                    )\n",
                "ORDER BY city;"
            ],
            "metadata": {
                "azdata_cell_guid": "6db6a188-5542-41b8-8a54-e238533512b2"
            },
            "outputs": [],
            "execution_count": null
        },
        {
            "cell_type": "markdown",
            "source": [
                "Vyber všechny organizace, které nespáchaly útok v evropě. Výsledek seřaď podle názvu organizace vzestupně"
            ],
            "metadata": {
                "azdata_cell_guid": "3bd66618-8fab-452b-8069-af6eeade228d",
                "language": "markdown"
            }
        },
        {
            "cell_type": "code",
            "source": [
                "-- CTE\n",
                "WITH evropske AS (\n",
                "    SELECT DISTINCT(gname) \n",
                "    FROM teror \n",
                "    WHERE region_txt LIKE '%europe%'\n",
                ")\n",
                "SELECT DISTINCT(gname) \n",
                "FROM teror \n",
                "WHERE gname NOT IN (SELECT gname FROM evropske) \n",
                "ORDER BY gname;\n",
                "\n",
                "-- SUBSELECT\n",
                "SELECT DISTINCT(gname) \n",
                "FROM teror\n",
                "WHERE gname NOT IN (SELECT DISTINCT(gname) FROM teror WHERE region_txt LIKE '%europe%') \n",
                "ORDER BY gname;\n",
                "\n",
                "-- Proč nejde použít tohle i když to dá stejný výsledek?\n",
                "SELECT DISTINCT(gname) \n",
                "FROM teror \n",
                "WHERE region_txt NOT LIKE '%europe%' \n",
                "ORDER by gname;"
            ],
            "metadata": {
                "azdata_cell_guid": "ebad57ed-d2d4-4e60-bf83-7d9c3890a309",
                "tags": []
            },
            "outputs": [],
            "execution_count": null
        },
        {
            "cell_type": "markdown",
            "source": [
                "Co dělá následující select? WITH SUCORG AS (SELECT GNAME FROM teror2 WHERE NKILL > 0 GROUP BY GNAME HAVING COUNT(*) > 5), SERAZENO AS(SELECT GNAME, NKILL, IFNULL(NKILL, 0), NWOUND, EVENTDATE, COUNTRY, CITY, ROW_NUMBER() OVER (PARTITION BY GNAME ORDER BY IFNULL(NKILL, 0) DESC) RNFROM teror2 WHERE GNAME IN (SELECT GNAME FROM SUCORG))SELECT S.GNAME, S.NKILL, S.NWOUND, S.EVENTDATE, S.CITY, C.NAME COUNTRYFROM SERAZENO S LEFT JOIN COUNTRY C ON S.COUNTRY = C.IDWHERE S.RN <= 3ORDER BY S.GNAME, NKILL DESC;"
            ],
            "metadata": {
                "azdata_cell_guid": "e33c91ee-6a44-4473-84af-99a4e62aa01d"
            }
        },
        {
            "cell_type": "code",
            "source": [
                ""
            ],
            "metadata": {
                "azdata_cell_guid": "67ade728-e81e-4270-b749-f32eadbe18b7"
            },
            "outputs": [],
            "execution_count": null
        }
    ]
}