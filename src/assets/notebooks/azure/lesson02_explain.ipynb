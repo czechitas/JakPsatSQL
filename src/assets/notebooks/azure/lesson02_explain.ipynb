{
    "metadata": {
        "kernelspec": {
            "name": "SQL",
            "display_name": "SQL",
            "language": "sql"
        },
        "language_info": {
            "name": "sql",
            "version": ""
        }
    },
    "nbformat_minor": 2,
    "nbformat": 4,
    "cells": [
        {
            "cell_type": "markdown",
            "source": [
                "## SUM()\n",
                "\n",
                "- součet"
            ],
            "metadata": {
                "azdata_cell_guid": "3bd66618-8fab-452b-8069-af6eeade228d"
            }
        },
        {
            "cell_type": "code",
            "source": [
                "SELECT SUM(nkill) AS killed FROM teror;"
            ],
            "metadata": {
                "azdata_cell_guid": "ebad57ed-d2d4-4e60-bf83-7d9c3890a309",
                "tags": []
            },
            "outputs": [],
            "execution_count": null
        },
        {
            "cell_type": "markdown",
            "source": [
                "## COUNT()\n",
                "\n",
                "- počet"
            ],
            "metadata": {
                "azdata_cell_guid": "e33c91ee-6a44-4473-84af-99a4e62aa01d"
            }
        },
        {
            "cell_type": "code",
            "source": [
                "SELECT COUNT(*)     AS no_of_records FROM teror; --- počet všech řádků (záznamů)\n",
                "SELECT COUNT(nkill) AS no_of_records FROM teror; ---- vyloučí řádky s NULL hodnoty\n",
                "SELECT COUNT(*)     AS no_of_records FROM teror WHERE nkill IS NULL; --- pouze řádky, kde jsou NULL hodnoty\n",
                "SELECT * FROM teror WHERE nkill IS NULL;"
            ],
            "metadata": {
                "azdata_cell_guid": "7af01d21-146a-46b2-b954-83e5f3d4aa78",
                "tags": []
            },
            "outputs": [],
            "execution_count": null
        },
        {
            "cell_type": "markdown",
            "source": [
                "## AVG()\n",
                "\n",
                "- průměr"
            ],
            "metadata": {
                "azdata_cell_guid": "87a82a44-1f8d-4e85-bbd5-18d96a0225ba"
            }
        },
        {
            "cell_type": "code",
            "source": [
                "SELECT AVG(nkill) AS average_no_of_deaths FROM teror; -- do průměru se nepočítají NULL hodnoty"
            ],
            "metadata": {
                "azdata_cell_guid": "e5f1f5f9-936e-4cab-b3b0-d0b1d36997da"
            },
            "outputs": [],
            "execution_count": null
        },
        {
            "cell_type": "markdown",
            "source": [
                "## MAX()\n",
                "- maximální hodnota"
            ],
            "metadata": {
                "azdata_cell_guid": "fb0d2531-5714-4fc3-8768-a3afc3ba25b3"
            }
        },
        {
            "cell_type": "code",
            "source": [
                "-- 2 různé postupy vedoucí ke stejnému výsledku\n",
                "SELECT MAX(nkill)   AS max_no_of_deaths FROM teror;\n",
                "SELECT TOP 1 nkill  AS max_no_of_deaths FROM teror WHERE nkill IS NOT NULL ORDER BY nkill DESC;"
            ],
            "metadata": {
                "azdata_cell_guid": "67ade728-e81e-4270-b749-f32eadbe18b7"
            },
            "outputs": [],
            "execution_count": null
        },
        {
            "cell_type": "markdown",
            "source": [
                "## MIN()\n",
                "\n",
                "- minimální hodnota"
            ],
            "metadata": {
                "azdata_cell_guid": "28e26047-a28f-4da3-a5fb-f1f5f7391a41"
            }
        },
        {
            "cell_type": "code",
            "source": [
                "-- 2 různé postupy vedoucí ke stejnému výsledku\n",
                "SELECT MIN(nkill)   AS min_no_of_deaths FROM teror;\n",
                "SELECT TOP 1 nkill  AS min_no_of_deaths FROM teror WHERE nkill IS NOT NULL ORDER BY nkill;"
            ],
            "metadata": {
                "azdata_cell_guid": "c0578312-b225-45b9-8b6a-625422ece380"
            },
            "outputs": [],
            "execution_count": null
        },
        {
            "cell_type": "markdown",
            "source": [
                "## GROUP BY\n",
                "\n",
                "- vytváření skupin"
            ],
            "metadata": {
                "azdata_cell_guid": "273bf8e1-7565-4ca3-a972-c84b2bd866e7"
            }
        },
        {
            "cell_type": "code",
            "source": [
                "SELECT gname, SUM(nkill) AS no_of_deaths FROM teror GROUP BY gname ORDER BY no_of_deaths DESC; --- počet mrtvých podle teroristické organizace"
            ],
            "metadata": {
                "azdata_cell_guid": "25d4dab2-cb79-4388-a047-8e93c59b7921"
            },
            "outputs": [],
            "execution_count": null
        },
        {
            "cell_type": "markdown",
            "source": [
                "## HAVING\n",
                "\n",
                "- možnost zapsat podmínky ke skupinám (nalezení duplikátních záznamů)"
            ],
            "metadata": {
                "azdata_cell_guid": "8fae856e-f0d1-4f66-8ac2-659d120482cd"
            }
        },
        {
            "cell_type": "code",
            "source": [
                "SELECT  gname, SUM(nkill) AS total_no_of_deaths \n",
                "FROM    teror \n",
                "GROUP BY gname \n",
                "HAVING  SUM(nkill) > 0 \n",
                "ORDER BY total_no_of_deaths DESC; --- počet mrtvých podle teroristické organizace kde je počet obětí větší než nula\n",
                "\n",
                "SELECT  gname, SUM(nkill) AS total_no_of_deaths, SUM(nkillter) AS no_of_dead_terrorists\n",
                "FROM    teror \n",
                "GROUP BY gname \n",
                "HAVING  SUM(nkill) > 0 AND SUM(nkillter) >= 1 \n",
                "ORDER BY SUM(nkill) DESC; --- počet mrtvých podle teroristické organizace kde je počet obětí a počet mrtvých teroristů větší nez nula"
            ],
            "metadata": {
                "azdata_cell_guid": "9cf38486-7070-4f4d-a44b-b259b1f0c375"
            },
            "outputs": [],
            "execution_count": null
        }
    ]
}