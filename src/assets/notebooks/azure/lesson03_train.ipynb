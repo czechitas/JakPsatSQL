{
    "metadata": {
        "kernelspec": {
            "name": "SQL",
            "display_name": "SQL",
            "language": "sql"
        },
        "language_info": {
            "name": "sql",
            "version": ""
        }
    },
    "nbformat_minor": 2,
    "nbformat": 4,
    "cells": [
        {
            "cell_type": "markdown",
            "source": [
                "Vypiš eventdate, gname, nkill, nwound z tabulky teror2 (!) a přes sloupeček country připoj zemi z tabulky country"
            ],
            "metadata": {
                "azdata_cell_guid": "c369bf25-cd35-4f31-9cf9-e76b530424ba"
            }
        },
        {
            "cell_type": "code",
            "source": [
                "SELECT t2.eventdate, t2.gname, t2.nkill, t2.nwound, c.name AS country_name\n",
                "FROM czechitas.teror2 AS t2\n",
                "LEFT JOIN czechitas.country AS c \n",
                "ON t2.country = c.id;"
            ],
            "metadata": {
                "azdata_cell_guid": "6db6a188-5542-41b8-8a54-e238533512b2",
                "tags": []
            },
            "outputs": [],
            "execution_count": null
        },
        {
            "cell_type": "markdown",
            "source": [
                "Vypiš eventdate, gname, nkill, nwound z tabulky teror2 (!) a\n",
                "- přes sloupec country připoj zemi z tabulky country\n",
                "- přes sloupec weaptype1 připoj název zbraně z tabulky weaptype\n",
                "- přes sloupec weaptype2 připoj název zbraně z tabulky weaptype"
            ],
            "metadata": {
                "azdata_cell_guid": "339194c3-e1f2-456d-a381-2ee41126031a"
            }
        },
        {
            "cell_type": "code",
            "source": [
                "SELECT t2.eventdate, t2.gname, t2.nkill, t2.nwound, c.name AS country_name, wt1.name AS weapon_type1, wt2.name AS weapon_type2\n",
                "FROM czechitas.teror2 AS t2\n",
                "LEFT JOIN czechitas.country   AS c ON t2.country = c.id\n",
                "LEFT JOIN czechitas.weaptype  AS wt1 ON t2.weaptype1 = wt1.id\n",
                "LEFT JOIN czechitas.weaptype  AS wt2 ON t2.weaptype2 = wt2.id;"
            ],
            "metadata": {
                "azdata_cell_guid": "66bbc8df-c63e-4949-a871-21d6e88fc933",
                "tags": []
            },
            "outputs": [],
            "execution_count": null
        },
        {
            "cell_type": "markdown",
            "source": [
                "Vypiš eventdate, gname, nkill, nwound z tabulky teror2 (!) a\n",
                "- přes sloupec country připoj zemi z tabulky country\n",
                "- přes sloupec weaptype1 připoj název zbraně z tabulky weaptype\n",
                "- přes sloupec weaptype2 připoj název zbraně z tabulky weaptype\n",
                "- vypiš jen útoky jejichž sekundarní zbraň byla zápalna ('Incendiary')"
            ],
            "metadata": {
                "azdata_cell_guid": "1af31c4a-759e-4b57-a9d6-f2dd5bc4a312"
            }
        },
        {
            "cell_type": "code",
            "source": [
                "SELECT t2.eventdate, t2.gname, t2.nkill, t2.nwound, c.name AS country_name, wt1.name AS weapon_type1, wt2.name AS weapon_type2\n",
                "FROM czechitas.teror2 AS t2\n",
                "LEFT JOIN czechitas.country AS c ON t2.country = c.id\n",
                "LEFT JOIN czechitas.weaptype AS wt1 ON t2.weaptype1 = wt1.id\n",
                "LEFT JOIN czechitas.weaptype AS wt2 ON t2.weaptype2 = wt2.id\n",
                "WHERE wt2.name = 'Incendiary';"
            ],
            "metadata": {
                "azdata_cell_guid": "f736b4e4-b52d-4d3d-a0c0-321ce039da4c",
                "tags": []
            },
            "outputs": [],
            "execution_count": null
        },
        {
            "cell_type": "markdown",
            "source": [
                "Z tabulky teror2 vypiš počet útoků, počty mrtvých a raněných v roce 2016 -- podle použitých zbraní (WEAPTYPE1)"
            ],
            "metadata": {
                "azdata_cell_guid": "f3e2f8da-3a7e-4e17-ac01-685164b225d5"
            }
        },
        {
            "cell_type": "code",
            "source": [
                "SELECT wt1.name AS weapon_type1, count(*) AS attacks, sum(t2.nkill) AS nkill_sum, sum(t2.nwound) AS nwound_sum \n",
                "FROM czechitas.teror2 as t2\n",
                "LEFT JOIN czechitas.weaptype as wt1 ON t2.weaptype1 = wt1.id\n",
                "WHERE iyear = 2016\n",
                "GROUP BY wt1.name;"
            ],
            "metadata": {
                "azdata_cell_guid": "2ad64f22-d62c-4cb2-9fb5-236f94f5e083"
            },
            "outputs": [],
            "execution_count": null
        },
        {
            "cell_type": "markdown",
            "source": [
                "Vypište počet unesených lidí (kdy byl typ útoku \"únos rukojmích\") a počet událostí podle regionu a roku. Výsledek seřaďte podle počtu unesených lidí sestupně. Sloupce pojmenujte region, rok, pocet_unesenych, pocet_udalosti"
            ],
            "metadata": {
                "azdata_cell_guid": "69865b04-c822-47bf-b03d-86e09072b3df"
            }
        },
        {
            "cell_type": "code",
            "source": [
                "SELECT reg.name AS region, t2.iyear AS rok, SUM(t2.nhostkid) AS pocet_unesenych, COUNT(*) AS pocet_udalosti\n",
                "FROM czechitas.teror2 AS t2\n",
                "JOIN czechitas.attacktype AS at1 ON t2.attacktype1 = at1.id\n",
                "JOIN czechitas.region AS reg ON t2.region = reg.id\n",
                "WHERE at1.name LIKE '%Hostage Taking%' AND t2.nhostkid > 0\n",
                "GROUP BY reg.name, t2.iyear\n",
                "ORDER BY SUM(t2.nhostkid) DESC;"
            ],
            "metadata": {
                "azdata_cell_guid": "4352da89-b38b-491f-a1e5-ef660d0e13d8"
            },
            "outputs": [],
            "execution_count": null
        },
        {
            "cell_type": "markdown",
            "source": [
                "Zjisti počty útoků z tabulky teror2 po letech a kontinentech. Tj. napoj sloupec region z tabulky teror2 na tabulku region a vytvoř sloupec kontinent z názvu regionu a podle něj a podle roku tabulku \"zgrupuj\" (zagreguj)."
            ],
            "metadata": {
                "azdata_cell_guid": "a5068b32-0885-4ac3-a8f0-a575ef202cac"
            }
        },
        {
            "cell_type": "code",
            "source": [
                "SELECT CASE \n",
                "         WHEN reg.name LIKE '%Europe%'  THEN 'Europe'\n",
                "         WHEN reg.name LIKE '%Africa%'  THEN 'Africa'\n",
                "         WHEN reg.name LIKE '%Asia%'    THEN 'Asia'\n",
                "         WHEN reg.name LIKE '%America%' THEN 'America'\n",
                "         WHEN reg.name LIKE 'Austral%'  THEN 'Australia'\n",
                "         ELSE reg.name\n",
                "       END AS kontinent, \n",
                "       t2.iyear           AS rok,\n",
                "       count(*)           AS utoku_celkem\n",
                " FROM czechitas.teror2 AS t2\n",
                " LEFT JOIN czechitas.region AS reg\n",
                " ON t2.region = reg.id\n",
                " GROUP BY CASE \n",
                "            WHEN reg.name LIKE '%Europe%'  THEN 'Europe'\n",
                "            WHEN reg.name LIKE '%Africa%'  THEN 'Africa'\n",
                "            WHEN reg.name LIKE '%Asia%'    THEN 'Asia'\n",
                "            WHEN reg.name LIKE '%America%' THEN 'America'\n",
                "            WHEN reg.name LIKE 'Austral%'  THEN 'Australia'\n",
                "            ELSE reg.name\n",
                "          END,\n",
                "          t2.iyear\n",
                ";"
            ],
            "metadata": {
                "azdata_cell_guid": "f9cdb86c-aca5-40c7-a4a9-2356edf59562",
                "tags": []
            },
            "outputs": [],
            "execution_count": null
        }
    ]
}