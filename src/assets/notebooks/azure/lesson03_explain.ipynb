{
    "metadata": {
        "kernelspec": {
            "name": "SQL",
            "display_name": "SQL",
            "language": "sql"
        },
        "language_info": {
            "name": "sql",
            "version": ""
        }
    },
    "nbformat_minor": 2,
    "nbformat": 4,
    "cells": [
        {
            "cell_type": "markdown",
            "source": [
                "## ZÁKLADNÍ JOIN\n",
                "\n",
                "(podle numeric)"
            ],
            "metadata": {
                "azdata_cell_guid": "3bd66618-8fab-452b-8069-af6eeade228d"
            }
        },
        {
            "cell_type": "code",
            "source": [
                "SELECT country.name \n",
                "FROM czechitas.teror2\n",
                "LEFT JOIN czechitas.country ON teror2.country = country.id;\n",
                "\n",
                "SELECT c.name, t2.nkill, t2.nkillter, t2.gname, t2.latitude, t2.longitude\n",
                "FROM czechitas.teror2 AS t2\n",
                "LEFT JOIN czechitas.country AS c \n",
                "ON t2.country = c.id; -- pro líné\n",
                "\n",
                "SELECT c.name, t2.nkill, t2.nkillter, t2.gname, t2.latitude, t2.longitude\n",
                "FROM czechitas.teror2 t2\n",
                "LEFT JOIN czechitas.country c \n",
                "ON t2.country = c.id; -- pro línější\n",
                "\n",
                "SELECT b.name, a.nkill, a.nkillter, a.gname, a.latitude, a.longitude\n",
                "FROM czechitas.teror2 a\n",
                "LEFT JOIN czechitas.country b ON a.country = b.id; -- pro bordeláře"
            ],
            "metadata": {
                "azdata_cell_guid": "ebad57ed-d2d4-4e60-bf83-7d9c3890a309",
                "tags": []
            },
            "outputs": [],
            "execution_count": null
        },
        {
            "cell_type": "markdown",
            "source": [
                "## ZÁKLADNÍ JOIN\n",
                "\n",
                "(pozor na sloupce)\n",
                "\n",
                "- takto se to nedělá !!!"
            ],
            "metadata": {
                "azdata_cell_guid": "e33c91ee-6a44-4473-84af-99a4e62aa01d"
            }
        },
        {
            "cell_type": "code",
            "source": [
                "SELECT c.name\n",
                "FROM czechitas.teror2 as t2\n",
                "LEFT JOIN czechitas.country as c \n",
                "ON t2.attacktype1 = c.id;"
            ],
            "metadata": {
                "azdata_cell_guid": "7af01d21-146a-46b2-b954-83e5f3d4aa78",
                "tags": []
            },
            "outputs": [],
            "execution_count": null
        },
        {
            "cell_type": "markdown",
            "source": [
                "## ZÁKLADNÍ JOIN\n",
                "\n",
                "(jde to i přes stringy)"
            ],
            "metadata": {
                "azdata_cell_guid": "87a82a44-1f8d-4e85-bbd5-18d96a0225ba"
            }
        },
        {
            "cell_type": "code",
            "source": [
                "SELECT c.name AS country_name\n",
                "FROM teror AS t\n",
                "LEFT JOIN czechitas.country AS c\n",
                "ON t.country_txt = c.name;"
            ],
            "metadata": {
                "azdata_cell_guid": "e5f1f5f9-936e-4cab-b3b0-d0b1d36997da"
            },
            "outputs": [],
            "execution_count": null
        },
        {
            "cell_type": "markdown",
            "source": [
                "## ZÁKLADNÍ JOIN\n",
                "\n",
                "(více tabulek)"
            ],
            "metadata": {
                "azdata_cell_guid": "fb0d2531-5714-4fc3-8768-a3afc3ba25b3"
            }
        },
        {
            "cell_type": "code",
            "source": [
                "SELECT c.name, atyp.name\n",
                "FROM czechitas.teror2 as t2\n",
                "LEFT JOIN czechitas.country AS c\n",
                "ON t2.country = c.id\n",
                "LEFT JOIN czechitas.attacktype AS atyp\n",
                "ON t2.attacktype1 = atyp.id;"
            ],
            "metadata": {
                "azdata_cell_guid": "67ade728-e81e-4270-b749-f32eadbe18b7"
            },
            "outputs": [],
            "execution_count": null
        },
        {
            "cell_type": "markdown",
            "source": [
                "## JOIN (více sloupců)\n",
                "\n",
                "- můžeme dostat i více řádků než je v původní tabulce"
            ],
            "metadata": {
                "azdata_cell_guid": "28e26047-a28f-4da3-a5fb-f1f5f7391a41"
            }
        },
        {
            "cell_type": "code",
            "source": [
                "SELECT dd.name, t2.nkill\n",
                "FROM czechitas.teror2 AS t2\n",
                "JOIN country_dirtydata AS dd\n",
                "ON t2.country = dd.id;"
            ],
            "metadata": {
                "azdata_cell_guid": "c0578312-b225-45b9-8b6a-625422ece380"
            },
            "outputs": [],
            "execution_count": null
        },
        {
            "cell_type": "markdown",
            "source": [
                "## JOIN (LEFT a RIGHT)"
            ],
            "metadata": {
                "azdata_cell_guid": "273bf8e1-7565-4ca3-a972-c84b2bd866e7"
            }
        },
        {
            "cell_type": "code",
            "source": [
                "SELECT t2.gname, \n",
                "       c.name       as country, \n",
                "       atyp1.name   as attack_type1, \n",
                "       atyp2.name   as attack_type2, \n",
                "       atyp3.name   as attack_type3\n",
                " FROM czechitas.teror2        as t2\n",
                " LEFT JOIN czechitas.country  as c \n",
                " ON t2.country = c.id\n",
                " LEFT JOIN czechitas.attacktype as atyp1 \n",
                " ON t2.attacktype1 = atyp1.id\n",
                " LEFT JOIN czechitas.attacktype as atyp2\n",
                " ON t2.attacktype2 = atyp2.id\n",
                " LEFT JOIN czechitas.attacktype as atyp3 \n",
                " ON t2.attacktype3 = atyp3.id;"
            ],
            "metadata": {
                "azdata_cell_guid": "25d4dab2-cb79-4388-a047-8e93c59b7921"
            },
            "outputs": [],
            "execution_count": null
        },
        {
            "cell_type": "markdown",
            "source": [
                "## JOIN (INNER vs LEFT)"
            ],
            "metadata": {
                "azdata_cell_guid": "8fae856e-f0d1-4f66-8ac2-659d120482cd"
            }
        },
        {
            "cell_type": "markdown",
            "source": [
                "Default pro JOIN je INNER JOIN (není třeba ve skriptu specifikovat) =\\> vrátí pouze záznamy, pro které najde v obou tabulkách shodu"
            ],
            "metadata": {
                "azdata_cell_guid": "98e8a05c-e329-491a-ad44-1964e1b2d399"
            }
        },
        {
            "cell_type": "code",
            "source": [
                "SELECT c.name       AS country, \n",
                "       atyp1.name   AS attack_type1, \n",
                "       atyp2.name   AS attack_type2, \n",
                "       atyp3.name   AS attack_type3\n",
                "FROM czechitas.teror2         AS t2\n",
                "LEFT JOIN czechitas.country   AS c \n",
                "ON t2.country = c.id\n",
                "JOIN czechitas.attacktype AS atyp1 \n",
                "ON t2.attacktype1 = atyp1.id\n",
                "JOIN czechitas.attacktype AS atyp2\n",
                "ON t2.attacktype2 = atyp2.id\n",
                "JOIN czechitas.attacktype AS atyp3 \n",
                "ON t2.attacktype3 = atyp3.id;"
            ],
            "metadata": {
                "azdata_cell_guid": "9cf38486-7070-4f4d-a44b-b259b1f0c375",
                "tags": []
            },
            "outputs": [],
            "execution_count": null
        },
        {
            "cell_type": "markdown",
            "source": [
                "LEFT JOIN vrátí všechny záznamy z tabulky _teror2_ a snaží se k nim dopárovat _attacktype_"
            ],
            "metadata": {
                "azdata_cell_guid": "a9e70006-033f-4c3f-a5fd-2c18fe78583b"
            }
        },
        {
            "cell_type": "code",
            "source": [
                "SELECT c.name AS country, \n",
                "       atyp1.name AS attack_type1, \n",
                "       atyp2.name AS attack_type2, \n",
                "       atyp3.name AS attack_type3\n",
                "FROM czechitas.teror2 AS t2\n",
                "LEFT JOIN czechitas.country AS c \n",
                "ON t2.country = c.id\n",
                "LEFT JOIN czechitas.attacktype AS atyp1 \n",
                "ON t2.attacktype1 = atyp1.id\n",
                "LEFT JOIN czechitas.attacktype AS atyp2\n",
                "ON t2.attacktype2 = atyp2.id\n",
                "LEFT JOIN czechitas.attacktype AS atyp3 \n",
                "ON t2.attacktype3 = atyp3.id;"
            ],
            "metadata": {
                "azdata_cell_guid": "9c39e77a-0297-4afe-b6a8-39b175e17efb"
            },
            "outputs": [],
            "execution_count": null
        },
        {
            "cell_type": "markdown",
            "source": [
                "## FULL OUTER JOIN"
            ],
            "metadata": {
                "azdata_cell_guid": "7c6efee3-42b6-410f-8029-7ee15304869d"
            }
        },
        {
            "cell_type": "code",
            "source": [
                "-- vrátí záznamy, pro které najde shodu plus zbylé záznamy z obou tabulek, používá se zřídka"
            ],
            "metadata": {
                "azdata_cell_guid": "d13cca64-9cf7-4be5-aff5-288fbeaddf96"
            },
            "outputs": [],
            "execution_count": null
        },
        {
            "cell_type": "markdown",
            "source": [
                "## JOIN a WHERE"
            ],
            "metadata": {
                "azdata_cell_guid": "152359b0-e585-4c67-b823-8a9bd68ec566"
            }
        },
        {
            "cell_type": "code",
            "source": [
                "SELECT gname, city, nwound FROM teror2 AS t2 \n",
                "JOIN country AS c ON t2.country = c.id \n",
                "WHERE c.name = 'Slovak Republic' AND YEAR(t2.eventdate) = 2016;"
            ],
            "metadata": {
                "azdata_cell_guid": "3a673f59-c1da-4494-87ad-0f2a0f153eb1"
            },
            "outputs": [],
            "execution_count": null
        }
    ]
}