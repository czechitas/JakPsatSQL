{
    "metadata": {
        "kernelspec": {
            "name": "SQL",
            "display_name": "SQL",
            "language": "sql"
        },
        "language_info": {
            "name": "sql",
            "version": ""
        }
    },
    "nbformat_minor": 2,
    "nbformat": 4,
    "cells": [
        {
            "cell_type": "markdown",
            "source": [
                "## UNION vs UNION ALL\n",
                "\n",
                "- spojuje tabulky vertikálně\n",
                "- UNION =\\> vyřazuje duplicitní řádky\n",
                "- UNION ALL =\\> spojí oba dotazy, aniž by duplicity vyřadil"
            ],
            "metadata": {
                "azdata_cell_guid": "c369bf25-cd35-4f31-9cf9-e76b530424ba",
                "ondruv_element": "schovavaci_ocko"
            }
        },
        {
            "cell_type": "markdown",
            "source": [
                "Ukázka 1"
            ],
            "metadata": {
                "azdata_cell_guid": "55010940-5355-4a25-b281-70b396751596"
            }
        },
        {
            "cell_type": "code",
            "source": [
                "SELECT  w.name,\n",
                "        SUM(t.nkill) AS mrtvi,\n",
                "        SUM(IIF(t.nhostkid = -99,NULL,nhostkid)) AS rukojmi, \n",
                "        SUM(t.nwound) AS raneni \n",
                "FROM czechitas.teror2 t\n",
                "JOIN czechitas.weaptype1 w\n",
                "ON t.weaptype1=w.id\n",
                "GROUP BY w.name\n",
                "UNION ALL\n",
                "SELECT  w.name,\n",
                "        SUM(nkill) AS mrtvi,\n",
                "        SUM(IIF(t.nhostkid = -99,NULL,nhostkid)) AS rukojmi, \n",
                "        SUM(t.nwound) AS raneni \n",
                "FROM czechitas.teror2 t\n",
                "JOIN czechitas.weaptype2 w\n",
                "ON t.weaptype2=w.id\n",
                "GROUP BY w.name\n",
                ";"
            ],
            "metadata": {
                "azdata_cell_guid": "6db6a188-5542-41b8-8a54-e238533512b2"
            },
            "outputs": [],
            "execution_count": null
        },
        {
            "cell_type": "markdown",
            "source": [
                "Ukázka 2"
            ],
            "metadata": {
                "azdata_cell_guid": "161718f1-39a1-40ad-ba2a-a6745870be99"
            }
        },
        {
            "cell_type": "code",
            "source": [
                "SELECT w.name \n",
                "FROM czechitas.teror2 t\n",
                "JOIN czechitas.weaptype1 w\n",
                "ON t.weaptype1=w.id\n",
                "UNION ALL \n",
                "SELECT w.name\n",
                "FROM czechitas.teror2 t\n",
                "JOIN czechitas.weaptype2 w\n",
                "ON t.weaptype2=w.id\n",
                ";"
            ],
            "metadata": {
                "azdata_cell_guid": "0f98fa6e-2902-46e1-9743-73817ce7f993",
                "tags": [
                    "hide_input"
                ]
            },
            "outputs": [],
            "execution_count": null
        },
        {
            "cell_type": "markdown",
            "source": [
                "UKázka 3"
            ],
            "metadata": {
                "azdata_cell_guid": "87a82a44-1f8d-4e85-bbd5-18d96a0225ba"
            }
        },
        {
            "cell_type": "code",
            "source": [
                "SELECT w.name \n",
                "FROM czechitas.teror2 t\n",
                "JOIN czechitas.weaptype1 w\n",
                "ON t.weaptype1=w.id\n",
                "UNION ---- pozor odstraní duplicity \n",
                "SELECT w.name\n",
                "FROM czechitas.teror2 t\n",
                "JOIN czechitas.weaptype2 w\n",
                "ON t.weaptype2=w.id;"
            ],
            "metadata": {
                "azdata_cell_guid": "e5f1f5f9-936e-4cab-b3b0-d0b1d36997da"
            },
            "outputs": [],
            "execution_count": null
        },
        {
            "cell_type": "markdown",
            "source": [
                "## WINDOW FUNKCE\n",
                "\n",
                "- OKNO = vytvoříme další sloupec a do řádku se doplní hodnota společná pro nějakou skupinu (př. zemi)\n",
                "- lze tim zajistit kumulativní součet, přiřazené pořadí, číslo řádku a další..."
            ],
            "metadata": {
                "azdata_cell_guid": "fb0d2531-5714-4fc3-8768-a3afc3ba25b3"
            }
        },
        {
            "cell_type": "markdown",
            "source": [
                "Vybere seřazené organizace podle počtu obětí sestupně a přiřadí jim pořadí (rank)"
            ],
            "metadata": {
                "azdata_cell_guid": "39c566c8-c3b1-4059-a18d-f0f2984b5e32"
            }
        },
        {
            "cell_type": "code",
            "source": [
                "SELECT  gname, \n",
                "        SUM(nkill), \n",
                "        RANK() OVER (ORDER BY SUM(nkill) DESC) AS rank\n",
                "FROM teror\n",
                "WHERE nkill IS NOT NULL\n",
                "GROUP BY gname\n",
                "ORDER BY SUM(nkill) DESC;"
            ],
            "metadata": {
                "azdata_cell_guid": "67ade728-e81e-4270-b749-f32eadbe18b7"
            },
            "outputs": [],
            "execution_count": null
        },
        {
            "cell_type": "markdown",
            "source": [
                "Vybere seřazené organizace podle počtu obětí sestupně a přiřadí jim pořadí (rank) v rámci roku."
            ],
            "metadata": {
                "azdata_cell_guid": "832c38d6-46e8-4b1e-8e9e-d956068d5fdb"
            }
        },
        {
            "cell_type": "code",
            "source": [
                "SELECT  gname \n",
                "        ,iyear \n",
                "        ,SUM(nkill)\n",
                "        ,ROW_NUMBER() OVER (ORDER BY SUM(nkill) DESC) AS rn\n",
                "        ,RANK() OVER (PARTITION BY iyear ORDER BY SUM(nkill) DESC) AS rank\n",
                "FROM teror\n",
                "WHERE nkill IS NOT NULL\n",
                "GROUP BY gname, iyear\n",
                "ORDER BY sum(nkill) DESC;"
            ],
            "metadata": {
                "azdata_cell_guid": "e2daae89-6b06-419d-8ef5-d9dc1f535b50"
            },
            "outputs": [],
            "execution_count": null
        },
        {
            "cell_type": "markdown",
            "source": [
                "Vybere seřazené organizace podle počtu obětí sestupně a přiřadí jim pořadí (rank) v rámci roku. Nakonec vybereme jen první tři z každého roku."
            ],
            "metadata": {
                "azdata_cell_guid": "3db5f539-2e8e-4229-bef7-be60a3827f93"
            }
        },
        {
            "cell_type": "code",
            "source": [
                "SELECT vyber.*\n",
                "FROM (\n",
                "        SELECT  gname\n",
                "                ,iyear\n",
                "                ,SUM(nkill) AS pocet_mrtvych\n",
                "                ,ROW_NUMBER() OVER (ORDER BY SUM(nkill) DESC) AS rn\n",
                "                ,RANK() OVER (PARTITION BY iyear ORDER BY SUM(nkill) DESC) AS rank\n",
                "        FROM teror\n",
                "        WHERE nkill IS NOT NULL\n",
                "        GROUP BY gname, iyear\n",
                "        ) AS vyber\n",
                "WHERE rank <= 3;"
            ],
            "metadata": {
                "azdata_cell_guid": "d426771c-a675-40e8-a948-e664cd803309",
                "tags": []
            },
            "outputs": [],
            "execution_count": null
        }
    ]
}